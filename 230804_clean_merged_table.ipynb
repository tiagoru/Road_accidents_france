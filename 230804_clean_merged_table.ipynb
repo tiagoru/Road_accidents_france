{
 "cells": [
  {
   "cell_type": "code",
   "execution_count": 11,
   "id": "714ee55f-d623-4cbd-9e04-e706d92bd463",
   "metadata": {},
   "outputs": [],
   "source": [
    "import pandas as pd\n",
    "import numpy as np"
   ]
  },
  {
   "cell_type": "markdown",
   "id": "59fc5017-5831-45f4-af27-0f23257b862e",
   "metadata": {},
   "source": [
    "# Final processing of the geolocation\n",
    "The geolocations were processed during import and merging of the files. We did:\n",
    "\n",
    "- removal of all non-metropolitan departments\n",
    "- changed the Corse departments 2a and 2b to one department 2\n",
    "- imputed the geolocation from address, if possible\n",
    "- replaced the weired (0, 40) geolocation by NA\n",
    "- added NA to all missing relocation (e.g. (0, 0) which is not in France)\n",
    "\n",
    "In this notebook, we remove datasets with still missing geolocations and set the `gps` position to `M`."
   ]
  },
  {
   "cell_type": "code",
   "execution_count": 8,
   "id": "e86b4b6d-8164-4058-b4c7-9dd7f9503d79",
   "metadata": {},
   "outputs": [],
   "source": [
    "merged_table = pd.read_csv('./data/230819_merged_tables_basic_data.csv', low_memory=False, header = 0, index_col=0, na_values='n/a')"
   ]
  },
  {
   "cell_type": "markdown",
   "id": "f5d751aa-3b8e-4c75-8729-378f139ce715",
   "metadata": {},
   "source": [
    "The variables of interest for us are `lat` and `long`. The variables should either have a float value if a geolocation exists or are NA if no geolocation exists.\n",
    "\n",
    "We can remove all datasets with NA"
   ]
  },
  {
   "cell_type": "raw",
   "id": "f713c7ca-48f4-4aa5-9519-8bd25236d50d",
   "metadata": {},
   "source": [
    "merged_table.dropna(subset = ['lat', 'long'], inplace=True)"
   ]
  },
  {
   "cell_type": "markdown",
   "id": "2d69c3b1-7b8c-4c5a-bf13-dc72e6194e26",
   "metadata": {},
   "source": [
    "**Note:** It was decided to skip the removal of datasets with NAs in lat and long because too many cases were remove in years <2019"
   ]
  },
  {
   "cell_type": "markdown",
   "id": "a936d280-5e31-4da3-b590-7fbf9b660bf3",
   "metadata": {},
   "source": [
    "## Change values in `gps'\n",
    "First, check and replace values in `gps`."
   ]
  },
  {
   "cell_type": "raw",
   "id": "fa58a2f8-8136-43dd-9f9e-9f7f6b2daded",
   "metadata": {},
   "source": [
    "merged_table['gps'].unique()"
   ]
  },
  {
   "cell_type": "markdown",
   "id": "7dcc2396-6fce-49e0-8493-174896ad4b1b",
   "metadata": {},
   "source": [
    "Still datasets of the Antilles in the dataset..."
   ]
  },
  {
   "cell_type": "raw",
   "id": "d9ea3e8d-d5ce-44b6-b684-457df95708d0",
   "metadata": {},
   "source": [
    "merged_table.drop(merged_table[merged_table['gps'] == 'A'].index, inplace = True)\n",
    "merged_table['gps'].unique()"
   ]
  },
  {
   "cell_type": "markdown",
   "id": "9bacdee3-a01a-45a8-81a6-1616d70cba82",
   "metadata": {},
   "source": [
    "Now, fill gaps in `gps`"
   ]
  },
  {
   "cell_type": "raw",
   "id": "3010abae-8678-48b4-b732-e8295446eec1",
   "metadata": {},
   "source": [
    "merged_table['gps'] = merged_table['gps'].fillna('M')\n",
    "merged_table['gps'].unique()"
   ]
  },
  {
   "cell_type": "markdown",
   "id": "7fcb0c23-25f4-412e-9400-5504feaaf2bf",
   "metadata": {},
   "source": [
    "We keep the NAs in the gps variable, because we cannot fill gaps with confidence."
   ]
  },
  {
   "cell_type": "code",
   "execution_count": 6,
   "id": "681557e3-eab5-475c-90c6-332c5e1ba30c",
   "metadata": {},
   "outputs": [
    {
     "name": "stdout",
     "output_type": "stream",
     "text": [
      "<class 'pandas.core.frame.DataFrame'>\n",
      "Index: 2509598 entries, 201900000001 to 201800057783\n",
      "Data columns (total 57 columns):\n",
      " #   Column        Dtype  \n",
      "---  ------        -----  \n",
      " 0   id_vehicule   float64\n",
      " 1   num_veh       object \n",
      " 2   place         float64\n",
      " 3   catu          int64  \n",
      " 4   grav          int64  \n",
      " 5   sexe          int64  \n",
      " 6   an_nais       float64\n",
      " 7   trajet        float64\n",
      " 8   secu1         float64\n",
      " 9   secu2         float64\n",
      " 10  secu3         float64\n",
      " 11  locp          float64\n",
      " 12  actp          object \n",
      " 13  etatp         float64\n",
      " 14  secu          float64\n",
      " 15  an            int64  \n",
      " 16  mois          int64  \n",
      " 17  jour          int64  \n",
      " 18  hrmn          object \n",
      " 19  lum           int64  \n",
      " 20  agg           int64  \n",
      " 21  int           int64  \n",
      " 22  atm           float64\n",
      " 23  col           float64\n",
      " 24  com           object \n",
      " 25  adr           object \n",
      " 26  gps           object \n",
      " 27  lat           float64\n",
      " 28  long          float64\n",
      " 29  dep           int64  \n",
      " 30  metropolitan  float64\n",
      " 31  catr          float64\n",
      " 32  voie          object \n",
      " 33  v1            float64\n",
      " 34  v2            object \n",
      " 35  circ          float64\n",
      " 36  nbv           float64\n",
      " 37  vosp          float64\n",
      " 38  prof          float64\n",
      " 39  pr            object \n",
      " 40  pr1           object \n",
      " 41  plan          float64\n",
      " 42  lartpc        object \n",
      " 43  larrout       object \n",
      " 44  surf          float64\n",
      " 45  infra         float64\n",
      " 46  situ          float64\n",
      " 47  vma           float64\n",
      " 48  env1          float64\n",
      " 49  senc          float64\n",
      " 50  catv          int64  \n",
      " 51  occutc        float64\n",
      " 52  obs           float64\n",
      " 53  obsm          float64\n",
      " 54  choc          float64\n",
      " 55  manv          float64\n",
      " 56  motor         float64\n",
      "dtypes: float64(34), int64(11), object(12)\n",
      "memory usage: 1.1+ GB\n"
     ]
    }
   ],
   "source": [
    "merged_table.info()"
   ]
  },
  {
   "cell_type": "code",
   "execution_count": 9,
   "id": "7057e710-219a-4bad-9881-1898a779e9ab",
   "metadata": {},
   "outputs": [],
   "source": [
    "merged_table.to_csv(\"./data/230819_input_table.csv\", sep = ',', header = True, na_rep = 'n/a', index=True)"
   ]
  }
 ],
 "metadata": {
  "kernelspec": {
   "display_name": "Python 3 (ipykernel)",
   "language": "python",
   "name": "python3"
  },
  "language_info": {
   "codemirror_mode": {
    "name": "ipython",
    "version": 3
   },
   "file_extension": ".py",
   "mimetype": "text/x-python",
   "name": "python",
   "nbconvert_exporter": "python",
   "pygments_lexer": "ipython3",
   "version": "3.11.4"
  }
 },
 "nbformat": 4,
 "nbformat_minor": 5
}
