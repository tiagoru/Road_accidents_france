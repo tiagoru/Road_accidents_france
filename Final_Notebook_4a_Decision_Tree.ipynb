{
 "cells": [
  {
   "cell_type": "markdown",
   "metadata": {},
   "source": [
    "Decison Tree Model using cross validation\n",
    "Target variables is Severity ( non- severe == 0 and severe == 1) \n",
    "Target created from 'grav'\n",
    "\n",
    "data for trainning from 2005 to 2018\n",
    "test from 2019 to 2021"
   ]
  },
  {
   "cell_type": "code",
   "execution_count": 1,
   "metadata": {},
   "outputs": [],
   "source": [
    "import pandas as pd\n",
    "import seaborn as sns\n",
    "from sklearn.metrics import classification_report\n",
    "from sklearn.model_selection import train_test_split\n",
    "from sklearn.preprocessing import StandardScaler\n",
    "\n",
    "\n",
    "#Following the observations made in the previous step, you will have to clean your dataset and perform the pre-processing steps.\n",
    "#If necessary, you will have to transform and/or add features and enrich your dataset.\n",
    "#The objective at the end of this step is to have a dataset ready to perform in-depth analysis and/or modeling using Randon Forest Classifier "
   ]
  },
  {
   "cell_type": "code",
   "execution_count": 2,
   "metadata": {},
   "outputs": [],
   "source": [
    "#new data cleaned file to load\n",
    "df = pd.read_csv(\"./data/231018_clean_table_for_analysis.csv\", index_col=0, low_memory=False)"
   ]
  },
  {
   "cell_type": "code",
   "execution_count": 3,
   "metadata": {},
   "outputs": [
    {
     "data": {
      "text/html": [
       "<div>\n",
       "<style scoped>\n",
       "    .dataframe tbody tr th:only-of-type {\n",
       "        vertical-align: middle;\n",
       "    }\n",
       "\n",
       "    .dataframe tbody tr th {\n",
       "        vertical-align: top;\n",
       "    }\n",
       "\n",
       "    .dataframe thead th {\n",
       "        text-align: right;\n",
       "    }\n",
       "</style>\n",
       "<table border=\"1\" class=\"dataframe\">\n",
       "  <thead>\n",
       "    <tr style=\"text-align: right;\">\n",
       "      <th></th>\n",
       "      <th>place</th>\n",
       "      <th>catu</th>\n",
       "      <th>sexe</th>\n",
       "      <th>an_nais</th>\n",
       "      <th>trajet</th>\n",
       "      <th>locp</th>\n",
       "      <th>an</th>\n",
       "      <th>mois</th>\n",
       "      <th>jour</th>\n",
       "      <th>lum</th>\n",
       "      <th>...</th>\n",
       "      <th>choc</th>\n",
       "      <th>manv</th>\n",
       "      <th>date</th>\n",
       "      <th>is_holiday</th>\n",
       "      <th>holiday</th>\n",
       "      <th>actp</th>\n",
       "      <th>num_veh</th>\n",
       "      <th>hrmn</th>\n",
       "      <th>grav</th>\n",
       "      <th>etatp</th>\n",
       "    </tr>\n",
       "    <tr>\n",
       "      <th>Num_Acc</th>\n",
       "      <th></th>\n",
       "      <th></th>\n",
       "      <th></th>\n",
       "      <th></th>\n",
       "      <th></th>\n",
       "      <th></th>\n",
       "      <th></th>\n",
       "      <th></th>\n",
       "      <th></th>\n",
       "      <th></th>\n",
       "      <th></th>\n",
       "      <th></th>\n",
       "      <th></th>\n",
       "      <th></th>\n",
       "      <th></th>\n",
       "      <th></th>\n",
       "      <th></th>\n",
       "      <th></th>\n",
       "      <th></th>\n",
       "      <th></th>\n",
       "      <th></th>\n",
       "    </tr>\n",
       "  </thead>\n",
       "  <tbody>\n",
       "    <tr>\n",
       "      <th>201900000001</th>\n",
       "      <td>2.0</td>\n",
       "      <td>2</td>\n",
       "      <td>2</td>\n",
       "      <td>2002</td>\n",
       "      <td>0.0</td>\n",
       "      <td>-1.0</td>\n",
       "      <td>2019</td>\n",
       "      <td>11</td>\n",
       "      <td>30</td>\n",
       "      <td>4</td>\n",
       "      <td>...</td>\n",
       "      <td>5.0</td>\n",
       "      <td>23.0</td>\n",
       "      <td>2019-11-30</td>\n",
       "      <td>False</td>\n",
       "      <td>NaN</td>\n",
       "      <td>0</td>\n",
       "      <td>14</td>\n",
       "      <td>90</td>\n",
       "      <td>3</td>\n",
       "      <td>0</td>\n",
       "    </tr>\n",
       "    <tr>\n",
       "      <th>201900000001</th>\n",
       "      <td>1.0</td>\n",
       "      <td>1</td>\n",
       "      <td>2</td>\n",
       "      <td>1993</td>\n",
       "      <td>5.0</td>\n",
       "      <td>-1.0</td>\n",
       "      <td>2019</td>\n",
       "      <td>11</td>\n",
       "      <td>30</td>\n",
       "      <td>4</td>\n",
       "      <td>...</td>\n",
       "      <td>5.0</td>\n",
       "      <td>23.0</td>\n",
       "      <td>2019-11-30</td>\n",
       "      <td>False</td>\n",
       "      <td>NaN</td>\n",
       "      <td>0</td>\n",
       "      <td>14</td>\n",
       "      <td>90</td>\n",
       "      <td>3</td>\n",
       "      <td>0</td>\n",
       "    </tr>\n",
       "    <tr>\n",
       "      <th>201900000001</th>\n",
       "      <td>1.0</td>\n",
       "      <td>1</td>\n",
       "      <td>1</td>\n",
       "      <td>1959</td>\n",
       "      <td>0.0</td>\n",
       "      <td>-1.0</td>\n",
       "      <td>2019</td>\n",
       "      <td>11</td>\n",
       "      <td>30</td>\n",
       "      <td>4</td>\n",
       "      <td>...</td>\n",
       "      <td>3.0</td>\n",
       "      <td>11.0</td>\n",
       "      <td>2019-11-30</td>\n",
       "      <td>False</td>\n",
       "      <td>NaN</td>\n",
       "      <td>0</td>\n",
       "      <td>0</td>\n",
       "      <td>90</td>\n",
       "      <td>0</td>\n",
       "      <td>0</td>\n",
       "    </tr>\n",
       "    <tr>\n",
       "      <th>201900000002</th>\n",
       "      <td>1.0</td>\n",
       "      <td>1</td>\n",
       "      <td>2</td>\n",
       "      <td>1994</td>\n",
       "      <td>0.0</td>\n",
       "      <td>-1.0</td>\n",
       "      <td>2019</td>\n",
       "      <td>11</td>\n",
       "      <td>30</td>\n",
       "      <td>3</td>\n",
       "      <td>...</td>\n",
       "      <td>1.0</td>\n",
       "      <td>0.0</td>\n",
       "      <td>2019-11-30</td>\n",
       "      <td>False</td>\n",
       "      <td>NaN</td>\n",
       "      <td>0</td>\n",
       "      <td>0</td>\n",
       "      <td>170</td>\n",
       "      <td>3</td>\n",
       "      <td>0</td>\n",
       "    </tr>\n",
       "    <tr>\n",
       "      <th>201900000003</th>\n",
       "      <td>1.0</td>\n",
       "      <td>1</td>\n",
       "      <td>1</td>\n",
       "      <td>1996</td>\n",
       "      <td>0.0</td>\n",
       "      <td>-1.0</td>\n",
       "      <td>2019</td>\n",
       "      <td>11</td>\n",
       "      <td>28</td>\n",
       "      <td>1</td>\n",
       "      <td>...</td>\n",
       "      <td>1.0</td>\n",
       "      <td>2.0</td>\n",
       "      <td>2019-11-28</td>\n",
       "      <td>False</td>\n",
       "      <td>NaN</td>\n",
       "      <td>1</td>\n",
       "      <td>0</td>\n",
       "      <td>915</td>\n",
       "      <td>0</td>\n",
       "      <td>0</td>\n",
       "    </tr>\n",
       "  </tbody>\n",
       "</table>\n",
       "<p>5 rows × 39 columns</p>\n",
       "</div>"
      ],
      "text/plain": [
       "              place  catu  sexe  an_nais  trajet  locp    an  mois  jour  lum  \\\n",
       "Num_Acc                                                                         \n",
       "201900000001    2.0     2     2     2002     0.0  -1.0  2019    11    30    4   \n",
       "201900000001    1.0     1     2     1993     5.0  -1.0  2019    11    30    4   \n",
       "201900000001    1.0     1     1     1959     0.0  -1.0  2019    11    30    4   \n",
       "201900000002    1.0     1     2     1994     0.0  -1.0  2019    11    30    3   \n",
       "201900000003    1.0     1     1     1996     0.0  -1.0  2019    11    28    1   \n",
       "\n",
       "              ...  choc  manv        date  is_holiday  holiday  actp  num_veh  \\\n",
       "Num_Acc       ...                                                               \n",
       "201900000001  ...   5.0  23.0  2019-11-30       False      NaN     0       14   \n",
       "201900000001  ...   5.0  23.0  2019-11-30       False      NaN     0       14   \n",
       "201900000001  ...   3.0  11.0  2019-11-30       False      NaN     0        0   \n",
       "201900000002  ...   1.0   0.0  2019-11-30       False      NaN     0        0   \n",
       "201900000003  ...   1.0   2.0  2019-11-28       False      NaN     1        0   \n",
       "\n",
       "              hrmn  grav  etatp  \n",
       "Num_Acc                          \n",
       "201900000001    90     3      0  \n",
       "201900000001    90     3      0  \n",
       "201900000001    90     0      0  \n",
       "201900000002   170     3      0  \n",
       "201900000003   915     0      0  \n",
       "\n",
       "[5 rows x 39 columns]"
      ]
     },
     "execution_count": 3,
     "metadata": {},
     "output_type": "execute_result"
    }
   ],
   "source": [
    "df.head()"
   ]
  },
  {
   "cell_type": "code",
   "execution_count": 4,
   "metadata": {},
   "outputs": [
    {
     "data": {
      "text/plain": [
       "place               0\n",
       "catu                0\n",
       "sexe                0\n",
       "an_nais             0\n",
       "trajet              0\n",
       "locp                0\n",
       "an                  0\n",
       "mois                0\n",
       "jour                0\n",
       "lum                 0\n",
       "agg                 0\n",
       "int                 0\n",
       "atm                 0\n",
       "col                 0\n",
       "dep                 0\n",
       "catr                0\n",
       "circ                0\n",
       "nbv                 0\n",
       "vosp                0\n",
       "prof                0\n",
       "plan                0\n",
       "surf                0\n",
       "infra               0\n",
       "situ                0\n",
       "senc                0\n",
       "catv                0\n",
       "occutc              0\n",
       "obs                 0\n",
       "obsm                0\n",
       "choc                0\n",
       "manv                0\n",
       "date                0\n",
       "is_holiday          0\n",
       "holiday       2367768\n",
       "actp                0\n",
       "num_veh             0\n",
       "hrmn                0\n",
       "grav                0\n",
       "etatp               0\n",
       "dtype: int64"
      ]
     },
     "execution_count": 4,
     "metadata": {},
     "output_type": "execute_result"
    }
   ],
   "source": [
    "df.isna().sum()\n"
   ]
  },
  {
   "cell_type": "code",
   "execution_count": 5,
   "metadata": {},
   "outputs": [
    {
     "data": {
      "text/plain": [
       "(2421684, 39)"
      ]
     },
     "execution_count": 5,
     "metadata": {},
     "output_type": "execute_result"
    }
   ],
   "source": [
    "df.shape"
   ]
  },
  {
   "cell_type": "code",
   "execution_count": 6,
   "metadata": {},
   "outputs": [
    {
     "name": "stdout",
     "output_type": "stream",
     "text": [
      "<class 'pandas.core.frame.DataFrame'>\n",
      "Int64Index: 2421684 entries, 201900000001 to 201800055766\n",
      "Data columns (total 39 columns):\n",
      " #   Column      Dtype  \n",
      "---  ------      -----  \n",
      " 0   place       float64\n",
      " 1   catu        int64  \n",
      " 2   sexe        int64  \n",
      " 3   an_nais     int64  \n",
      " 4   trajet      float64\n",
      " 5   locp        float64\n",
      " 6   an          int64  \n",
      " 7   mois        int64  \n",
      " 8   jour        int64  \n",
      " 9   lum         int64  \n",
      " 10  agg         int64  \n",
      " 11  int         int64  \n",
      " 12  atm         float64\n",
      " 13  col         float64\n",
      " 14  dep         int64  \n",
      " 15  catr        float64\n",
      " 16  circ        float64\n",
      " 17  nbv         float64\n",
      " 18  vosp        float64\n",
      " 19  prof        float64\n",
      " 20  plan        float64\n",
      " 21  surf        float64\n",
      " 22  infra       float64\n",
      " 23  situ        float64\n",
      " 24  senc        float64\n",
      " 25  catv        int64  \n",
      " 26  occutc      float64\n",
      " 27  obs         float64\n",
      " 28  obsm        float64\n",
      " 29  choc        float64\n",
      " 30  manv        float64\n",
      " 31  date        object \n",
      " 32  is_holiday  bool   \n",
      " 33  holiday     object \n",
      " 34  actp        int64  \n",
      " 35  num_veh     int64  \n",
      " 36  hrmn        int64  \n",
      " 37  grav        int64  \n",
      " 38  etatp       int64  \n",
      "dtypes: bool(1), float64(20), int64(16), object(2)\n",
      "memory usage: 722.9+ MB\n"
     ]
    }
   ],
   "source": [
    "df.info()"
   ]
  },
  {
   "cell_type": "code",
   "execution_count": 7,
   "metadata": {},
   "outputs": [],
   "source": [
    "import numpy as np\n",
    "# create target variable\n",
    "# create a new variable for the severity ['Grav'] of accidents ( Sereve, non-severe) as a possible target variable\n",
    "#### zero = non severe and one equal to severe\n",
    "df['Severe'] = np.where(df['grav'].isin([1, 2]), 0, 1)\n",
    "\n",
    "### this should be the righ one  to run\n",
    "df['Severe'] = np.where(df['grav'].isin([0, 1]), 0, 1)"
   ]
  },
  {
   "cell_type": "code",
   "execution_count": 9,
   "metadata": {},
   "outputs": [
    {
     "data": {
      "image/png": "[encoded data removed]",
      "text/plain": [
       "<Figure size 640x480 with 1 Axes>"
      ]
     },
     "metadata": {},
     "output_type": "display_data"
    }
   ],
   "source": [
    "# test with target vaibale is balanced \n",
    "import matplotlib.pyplot as plt\n",
    "# exploring severe cases in % \n",
    "event_counts = df['Severe'].value_counts()\n",
    "event_percentages = (event_counts / event_counts.sum()) * 100\n",
    "plt.subplot(2,1,1)\n",
    "event_percentages.plot.bar()\n",
    "labels = ['severe','non-severe']\n",
    "# Add labels and title to the plot\n",
    "plt.xticks(range(len(event_percentages)), labels)\n",
    "plt.xlabel('Events')\n",
    "plt.ylabel('Count %')\n",
    "plt.title('Severity France')\n",
    "# Display the plot\n",
    "plt.show()"
   ]
  },
  {
   "cell_type": "code",
   "execution_count": 10,
   "metadata": {},
   "outputs": [
    {
     "name": "stdout",
     "output_type": "stream",
     "text": [
      "Number of severe accidents in category 1 of 'catr': 4612\n"
     ]
    }
   ],
   "source": [
    "severe_accidents_catr_1 = df[df['catr'] == 1]['grav'].value_counts().get(1, 0)\n",
    "print(\"Number of severe accidents in category 1 of 'catr':\", severe_accidents_catr_1)"
   ]
  },
  {
   "cell_type": "code",
   "execution_count": 11,
   "metadata": {},
   "outputs": [],
   "source": [
    "# cleanning variables that might not be used in the model\n",
    "df['date']= pd.to_datetime(df.date,format='%Y-%m-%d')\n",
    "df['year'] = df['date'].dt.year.astype(int)\n",
    "\n"
   ]
  },
  {
   "cell_type": "code",
   "execution_count": 19,
   "metadata": {},
   "outputs": [],
   "source": [
    "from sklearn.preprocessing import LabelEncoder\n",
    "le = LabelEncoder()\n",
    "\n",
    "df['actp'] = le.fit_transform(df['actp'].astype(str))\n",
    "df['hrmn'] = le.fit_transform(df['hrmn'].astype(str))\n",
    "df['date'] = le.fit_transform(df['date'].astype(str))"
   ]
  },
  {
   "cell_type": "code",
   "execution_count": 20,
   "metadata": {},
   "outputs": [],
   "source": [
    "#cleanning variables that might not be used in the model\n",
    "# grav removed because is similat to target \n",
    "df_dt = df.drop(['holiday'], axis=1)"
   ]
  },
  {
   "cell_type": "code",
   "execution_count": 21,
   "metadata": {},
   "outputs": [],
   "source": [
    "#split the data for modeling\n",
    "# 2005 to 2019 for trainning  and 2020 to 2021 to test\n",
    "\n",
    "# Filter data for the training period (2005-2018)\n",
    "train_data = df_dt[(df_dt['an'] >= 2005) & (df_dt['an'] <= 2018)]\n",
    "\n",
    "# Filter data for the testing period (2019-2021)\n",
    "test_data = df_dt[(df_dt['an'] >= 2019) & (df_dt['an'] <= 2021)]\n",
    " #Separate features and target variable9\n",
    "X_train = train_data.drop('Severe', axis=1)  # Features for training\n",
    "y_train = train_data['Severe']  # Target variable for training\n",
    "\n",
    "# Separate features and target variable\n",
    "X_test = test_data.drop('Severe', axis=1)  # Features for training\n",
    "y_test = test_data['Severe']  # Target variable for training\n"
   ]
  },
  {
   "cell_type": "code",
   "execution_count": 22,
   "metadata": {},
   "outputs": [
    {
     "name": "stdout",
     "output_type": "stream",
     "text": [
      "<class 'pandas.core.frame.DataFrame'>\n",
      "Index: 2421684 entries, 201900000001 to 201800055766\n",
      "Data columns (total 40 columns):\n",
      " #   Column      Dtype  \n",
      "---  ------      -----  \n",
      " 0   place       float64\n",
      " 1   catu        int64  \n",
      " 2   sexe        int64  \n",
      " 3   an_nais     int64  \n",
      " 4   trajet      float64\n",
      " 5   locp        float64\n",
      " 6   an          int64  \n",
      " 7   mois        int64  \n",
      " 8   jour        int64  \n",
      " 9   lum         int64  \n",
      " 10  agg         int64  \n",
      " 11  int         int64  \n",
      " 12  atm         float64\n",
      " 13  col         float64\n",
      " 14  dep         int64  \n",
      " 15  catr        float64\n",
      " 16  circ        float64\n",
      " 17  nbv         float64\n",
      " 18  vosp        float64\n",
      " 19  prof        float64\n",
      " 20  plan        float64\n",
      " 21  surf        float64\n",
      " 22  infra       float64\n",
      " 23  situ        float64\n",
      " 24  senc        float64\n",
      " 25  catv        int64  \n",
      " 26  occutc      float64\n",
      " 27  obs         float64\n",
      " 28  obsm        float64\n",
      " 29  choc        float64\n",
      " 30  manv        float64\n",
      " 31  date        int64  \n",
      " 32  is_holiday  bool   \n",
      " 33  actp        int64  \n",
      " 34  num_veh     int64  \n",
      " 35  hrmn        int64  \n",
      " 36  grav        int64  \n",
      " 37  etatp       int64  \n",
      " 38  Severe      int64  \n",
      " 39  year        int64  \n",
      "dtypes: bool(1), float64(20), int64(19)\n",
      "memory usage: 741.3 MB\n"
     ]
    }
   ],
   "source": [
    "df_dt.info()"
   ]
  },
  {
   "cell_type": "code",
   "execution_count": 24,
   "metadata": {},
   "outputs": [
    {
     "name": "stdout",
     "output_type": "stream",
     "text": [
      "Best Parameters using grid search: \n",
      " {'ccp_alpha': 0.1, 'criterion': 'gini', 'max_depth': 2, 'min_samples_leaf': 1, 'min_samples_split': 2}\n"
     ]
    }
   ],
   "source": [
    "#DecisionTree Classifier\n",
    "from sklearn.tree import DecisionTreeClassifier\n",
    "from sklearn.metrics import precision_score, recall_score, f1_score, roc_auc_score, accuracy_score, classification_report\n",
    "from sklearn.model_selection import GridSearchCV\n",
    "\n",
    "\n",
    "# Tuning the parameters to find the best decision tree model - start params chosen randomly\n",
    "model = DecisionTreeClassifier(criterion = 'gini', random_state=50)\n",
    "\n",
    "param_dist = {'criterion': ['gini', 'entropy'],\n",
    "              'max_depth': [2, 4, 6], \n",
    "              'min_samples_leaf' : [1, 2, 3], \n",
    "              'min_samples_split' : [2, 3, 4], \n",
    "              'ccp_alpha': [0.1, 0.01]}\n",
    "            \n",
    "\n",
    "cv_dt = GridSearchCV(model, param_grid=param_dist, n_jobs=-1)\n",
    "\n",
    "cv_dt.fit(X_train, y_train)\n",
    "print('Best Parameters using grid search: \\n', cv_dt.best_params_)"
   ]
  },
  {
   "cell_type": "code",
   "execution_count": 26,
   "metadata": {},
   "outputs": [
    {
     "name": "stdout",
     "output_type": "stream",
     "text": [
      "Accuracy Score:  1.0\n"
     ]
    }
   ],
   "source": [
    "# Training with the best parameters\n",
    "\n",
    "tree = DecisionTreeClassifier(criterion='gini', random_state = 50, max_depth=2, min_samples_leaf=1, min_samples_split=2, ccp_alpha=0.1)\n",
    "tree.fit(X_train, y_train)\n",
    "y_pred_gini  = tree.predict(X_test)\n",
    "\n",
    "print('Accuracy Score: ',accuracy_score(y_test, y_pred_gini))\n"
   ]
  },
  {
   "cell_type": "code",
   "execution_count": 27,
   "metadata": {},
   "outputs": [
    {
     "data": {
      "text/html": [
       "<div>\n",
       "<style scoped>\n",
       "    .dataframe tbody tr th:only-of-type {\n",
       "        vertical-align: middle;\n",
       "    }\n",
       "\n",
       "    .dataframe tbody tr th {\n",
       "        vertical-align: top;\n",
       "    }\n",
       "\n",
       "    .dataframe thead th {\n",
       "        text-align: right;\n",
       "    }\n",
       "</style>\n",
       "<table border=\"1\" class=\"dataframe\">\n",
       "  <thead>\n",
       "    <tr style=\"text-align: right;\">\n",
       "      <th>Prediction</th>\n",
       "      <th>0</th>\n",
       "      <th>1</th>\n",
       "    </tr>\n",
       "    <tr>\n",
       "      <th>Reality</th>\n",
       "      <th></th>\n",
       "      <th></th>\n",
       "    </tr>\n",
       "  </thead>\n",
       "  <tbody>\n",
       "    <tr>\n",
       "      <th>0</th>\n",
       "      <td>61783</td>\n",
       "      <td>0</td>\n",
       "    </tr>\n",
       "    <tr>\n",
       "      <th>1</th>\n",
       "      <td>0</td>\n",
       "      <td>285780</td>\n",
       "    </tr>\n",
       "  </tbody>\n",
       "</table>\n",
       "</div>"
      ],
      "text/plain": [
       "Prediction      0       1\n",
       "Reality                  \n",
       "0           61783       0\n",
       "1               0  285780"
      ]
     },
     "execution_count": 27,
     "metadata": {},
     "output_type": "execute_result"
    }
   ],
   "source": [
    "pd.crosstab(y_test, y_pred_gini, rownames=['Reality'], colnames=['Prediction'])\n",
    "\n"
   ]
  },
  {
   "cell_type": "code",
   "execution_count": 19,
   "metadata": {},
   "outputs": [
    {
     "name": "stdout",
     "output_type": "stream",
     "text": [
      "Classification Report\n",
      "              precision    recall  f1-score   support\n",
      "\n",
      "           0       0.71      0.71      0.71    154238\n",
      "           1       0.77      0.77      0.77    193325\n",
      "\n",
      "    accuracy                           0.74    347563\n",
      "   macro avg       0.74      0.74      0.74    347563\n",
      "weighted avg       0.74      0.74      0.74    347563\n",
      "\n"
     ]
    }
   ],
   "source": [
    "# classification_report\n",
    "\n",
    "print('Classification Report')\n",
    "print(classification_report(y_test, y_pred_gini))\n",
    "\n"
   ]
  },
  {
   "cell_type": "code",
   "execution_count": 28,
   "metadata": {},
   "outputs": [
    {
     "name": "stdout",
     "output_type": "stream",
     "text": [
      "Training-set accuracy score: 1.0000\n"
     ]
    }
   ],
   "source": [
    "#Training set accuracy\n",
    "\n",
    "y_pred_train_gini = tree.predict(X_train)\n",
    "\n",
    "y_pred_train_gini\n",
    "\n",
    "print('Training-set accuracy score: {0:0.4f}'. format(accuracy_score(y_train, y_pred_train_gini)))"
   ]
  },
  {
   "cell_type": "code",
   "execution_count": 29,
   "metadata": {},
   "outputs": [
    {
     "name": "stdout",
     "output_type": "stream",
     "text": [
      "Training set score: 1.0000\n",
      "Test set score: 1.0000\n"
     ]
    }
   ],
   "source": [
    "# print the scores on training and test set\n",
    "\n",
    "print('Training set score: {:.4f}'.format(tree.score(X_train, y_train)))\n",
    "\n",
    "print('Test set score: {:.4f}'.format(tree.score(X_test, y_test)))"
   ]
  },
  {
   "cell_type": "markdown",
   "metadata": {},
   "source": [
    "Here, the training-set accuracy score is 0.7655 while the test-set accuracy to be 0.7408. These two values are quite comparable. So, there is no sign of overfitting."
   ]
  },
  {
   "cell_type": "code",
   "execution_count": 30,
   "metadata": {},
   "outputs": [
    {
     "name": "stdout",
     "output_type": "stream",
     "text": [
      "Confusion Matrix:\n",
      "           non-fatal   fatal\n",
      "non-fatal      61783       0\n",
      "fatal              0  285780\n"
     ]
    }
   ],
   "source": [
    "from sklearn import metrics\n",
    "#  confusion matrix\n",
    "matrix = metrics.confusion_matrix(y_test, y_pred_gini)  #y_test_preds\n",
    "\n",
    "# Create a DataFrame from the confusion matrix\n",
    "class_names = df_dt.Severe.values\n",
    "dataframe = pd.DataFrame(matrix, index=['non-fatal', 'fatal'], \n",
    "                         columns=['non-fatal', 'fatal'])\n",
    "\n",
    "# Display the confusion matrix as text\n",
    "print(\"Confusion Matrix:\")\n",
    "print(dataframe)"
   ]
  },
  {
   "cell_type": "code",
   "execution_count": 31,
   "metadata": {},
   "outputs": [
    {
     "name": "stdout",
     "output_type": "stream",
     "text": [
      "Confusion Matrix (Percentages):\n",
      "           non-fatal      fatal\n",
      "non-fatal  17.776058   0.000000\n",
      "fatal       0.000000  82.223942\n"
     ]
    }
   ],
   "source": [
    "total_samples = matrix.sum()\n",
    "\n",
    "# Calculate the percentages\n",
    "percentages = (matrix / total_samples) * 100\n",
    "\n",
    "# Create a DataFrame from the percentages\n",
    "class_names = df_dt.Severe.values\n",
    "dataframe = pd.DataFrame(percentages, index=['non-fatal', 'fatal'], columns=['non-fatal', 'fatal'])\n",
    "\n",
    "# Display the confusion matrix as percentages\n",
    "print(\"Confusion Matrix (Percentages):\")\n",
    "print(dataframe)"
   ]
  },
  {
   "cell_type": "code",
   "execution_count": 32,
   "metadata": {},
   "outputs": [
    {
     "name": "stdout",
     "output_type": "stream",
     "text": [
      "True Negatives: the model correctly predicted 17.78  % as non-fatal\n",
      "False Positives: the model incorrectly predicted 0.0  %  as *fatal\n",
      "False Negatives:the model incorrectly predicted 0.0  %  as *non-fatal\n",
      "True Positives:the model correctly predicted 82.22  %  as fatal\n"
     ]
    }
   ],
   "source": [
    "# etract thh values from DataFrame\n",
    "\n",
    "true_negative = dataframe.loc['non-fatal', 'non-fatal']\n",
    "false_positive = dataframe.loc['non-fatal', 'fatal']\n",
    "false_negative = dataframe.loc['fatal', 'non-fatal']\n",
    "true_positive = dataframe.loc['fatal', 'fatal']\n",
    "\n",
    "# Print the values\n",
    "print(\"True Negatives: the model correctly predicted\", round(true_negative,2), \" % as non-fatal\")\n",
    "print(\"False Positives: the model incorrectly predicted\", round(false_positive,2), \" %  as *fatal\")\n",
    "print(\"False Negatives:the model incorrectly predicted\", round(false_negative,2),\" %  as *non-fatal\")\n",
    "print(\"True Positives:the model correctly predicted\", round(true_positive,2),\" %  as fatal\")\n",
    "\n"
   ]
  },
  {
   "cell_type": "code",
   "execution_count": 33,
   "metadata": {},
   "outputs": [
    {
     "name": "stdout",
     "output_type": "stream",
     "text": [
      "Length of feature_names: 39\n",
      "Length of importances: 39\n"
     ]
    },
    {
     "data": {
      "image/png": "[encoded data removed]",
      "text/plain": [
       "<Figure size 1200x800 with 1 Axes>"
      ]
     },
     "metadata": {},
     "output_type": "display_data"
    }
   ],
   "source": [
    "# estimate the feature impotance for thi model\n",
    "import numpy as np\n",
    "\n",
    "# Access feature importances from the trained model\n",
    "importances = tree.feature_importances_\n",
    "\n",
    "feature_names = df_dt.drop(columns=['Severe']).columns.tolist()\n",
    "\n",
    "# Check the lengths of feature_names and importances\n",
    "print(\"Length of feature_names:\", len(feature_names))\n",
    "print(\"Length of importances:\", len(importances))\n",
    "\n",
    "# Create a DataFrame to hold feature names and their importances\n",
    "feature_importance_df = pd.DataFrame({'Feature': feature_names, 'Importance': importances})\n",
    "\n",
    "# Sort the features by importance in descending order\n",
    "feature_importance_df = feature_importance_df.sort_values(by='Importance', ascending=False)\n",
    "\n",
    "# Create a bar plot to visualize feature importances\n",
    "plt.figure(figsize=(12, 8))\n",
    "sns.barplot(x='Importance', y='Feature', data=feature_importance_df)\n",
    "plt.xlabel('Feature Importance')\n",
    "plt.ylabel('Feature Name')\n",
    "plt.title('Feature Importance for Random Forest Classifier')\n",
    "plt.show()\n",
    "\n",
    "\n",
    "\n"
   ]
  }
 ],
 "metadata": {
  "kernelspec": {
   "display_name": "Python 3 (ipykernel)",
   "language": "python",
   "name": "python3"
  },
  "language_info": {
   "codemirror_mode": {
    "name": "ipython",
    "version": 3
   },
   "file_extension": ".py",
   "mimetype": "text/x-python",
   "name": "python",
   "nbconvert_exporter": "python",
   "pygments_lexer": "ipython3",
   "version": "3.9.13"
  }
 },
 "nbformat": 4,
 "nbformat_minor": 4
}
