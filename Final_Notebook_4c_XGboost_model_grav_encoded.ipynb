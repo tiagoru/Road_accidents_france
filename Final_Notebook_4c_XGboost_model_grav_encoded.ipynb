{
 "cells": [
  {
   "cell_type": "markdown",
   "id": "712d9d1c-1eeb-447d-bcfa-f5c3198b7713",
   "metadata": {},
   "source": [
    "# Modelling of France Accidents\n",
    "\n",
    "**Cohort:** mar23_accidents\n",
    "\n",
    "**Author:** Tobias Schulze\n",
    "\n",
    "**Date:** 22 Oktober 2023\n",
    "\n"
   ]
  },
  {
   "cell_type": "markdown",
   "id": "6b6df835-aa14-4775-90df-de5512f881c4",
   "metadata": {},
   "source": [
    "## Loading of required libraries"
   ]
  },
  {
   "cell_type": "code",
   "execution_count": 1,
   "id": "22cfc8cd-2dd7-45e2-bd75-df68ef38c5a3",
   "metadata": {},
   "outputs": [],
   "source": [
    "import pandas as pd\n",
    "import numpy as np\n",
    "import matplotlib.pyplot as plt\n",
    "import seaborn as sns\n",
    "import xgboost as xgb\n",
    "import re\n",
    "import pickle\n",
    "import warnings\n",
    "import time\n",
    "import shap\n",
    "from hyperopt import STATUS_OK, Trials, fmin, hp, tpe\n",
    "from datetime import datetime, timedelta\n",
    "from sklearn.preprocessing import LabelEncoder, MinMaxScaler, StandardScaler\n",
    "from sklearn.metrics import accuracy_score, confusion_matrix, classification_report\n",
    "from sklearn.model_selection import train_test_split\n",
    "from sklearn.feature_selection import SelectFromModel\n",
    "from matplotlib import pyplot"
   ]
  },
  {
   "cell_type": "markdown",
   "id": "7d12d86a-94ac-4349-b68f-2b8a40e21ebe",
   "metadata": {},
   "source": [
    "## Importing the data"
   ]
  },
  {
   "cell_type": "code",
   "execution_count": 2,
   "id": "3aaa9044-2e16-4821-a259-0e2b8fd2b259",
   "metadata": {},
   "outputs": [],
   "source": [
    "df = pd.read_csv('./data/231018_clean_table_for_analysis.csv', low_memory = False, index_col = 0)"
   ]
  },
  {
   "cell_type": "markdown",
   "id": "2552176c-9a85-4ead-ad23-1edfb5c1d448",
   "metadata": {},
   "source": [
    "## Data description\n",
    "### Data"
   ]
  },
  {
   "cell_type": "code",
   "execution_count": 3,
   "id": "9e361f45-f63c-48a3-bc60-777a1d287f7a",
   "metadata": {},
   "outputs": [
    {
     "data": {
      "text/html": [
       "<div>\n",
       "<style scoped>\n",
       "    .dataframe tbody tr th:only-of-type {\n",
       "        vertical-align: middle;\n",
       "    }\n",
       "\n",
       "    .dataframe tbody tr th {\n",
       "        vertical-align: top;\n",
       "    }\n",
       "\n",
       "    .dataframe thead th {\n",
       "        text-align: right;\n",
       "    }\n",
       "</style>\n",
       "<table border=\"1\" class=\"dataframe\">\n",
       "  <thead>\n",
       "    <tr style=\"text-align: right;\">\n",
       "      <th></th>\n",
       "      <th>place</th>\n",
       "      <th>catu</th>\n",
       "      <th>sexe</th>\n",
       "      <th>an_nais</th>\n",
       "      <th>trajet</th>\n",
       "      <th>locp</th>\n",
       "      <th>an</th>\n",
       "      <th>mois</th>\n",
       "      <th>jour</th>\n",
       "      <th>lum</th>\n",
       "      <th>...</th>\n",
       "      <th>holiday</th>\n",
       "      <th>datetime</th>\n",
       "      <th>timestamp</th>\n",
       "      <th>actp</th>\n",
       "      <th>num_veh</th>\n",
       "      <th>hrmn</th>\n",
       "      <th>grav</th>\n",
       "      <th>etatp</th>\n",
       "      <th>hour_of_day</th>\n",
       "      <th>day_of_week</th>\n",
       "    </tr>\n",
       "    <tr>\n",
       "      <th>Num_Acc</th>\n",
       "      <th></th>\n",
       "      <th></th>\n",
       "      <th></th>\n",
       "      <th></th>\n",
       "      <th></th>\n",
       "      <th></th>\n",
       "      <th></th>\n",
       "      <th></th>\n",
       "      <th></th>\n",
       "      <th></th>\n",
       "      <th></th>\n",
       "      <th></th>\n",
       "      <th></th>\n",
       "      <th></th>\n",
       "      <th></th>\n",
       "      <th></th>\n",
       "      <th></th>\n",
       "      <th></th>\n",
       "      <th></th>\n",
       "      <th></th>\n",
       "      <th></th>\n",
       "    </tr>\n",
       "  </thead>\n",
       "  <tbody>\n",
       "    <tr>\n",
       "      <th>201900000001</th>\n",
       "      <td>2.0</td>\n",
       "      <td>2</td>\n",
       "      <td>2</td>\n",
       "      <td>2002</td>\n",
       "      <td>0.0</td>\n",
       "      <td>-1.0</td>\n",
       "      <td>2019</td>\n",
       "      <td>11</td>\n",
       "      <td>30</td>\n",
       "      <td>4</td>\n",
       "      <td>...</td>\n",
       "      <td>NaN</td>\n",
       "      <td>2019-11-30 01:30:00</td>\n",
       "      <td>1.575074e+09</td>\n",
       "      <td>0</td>\n",
       "      <td>14</td>\n",
       "      <td>90</td>\n",
       "      <td>3</td>\n",
       "      <td>0</td>\n",
       "      <td>1</td>\n",
       "      <td>Saturday</td>\n",
       "    </tr>\n",
       "    <tr>\n",
       "      <th>201900000001</th>\n",
       "      <td>1.0</td>\n",
       "      <td>1</td>\n",
       "      <td>2</td>\n",
       "      <td>1993</td>\n",
       "      <td>5.0</td>\n",
       "      <td>-1.0</td>\n",
       "      <td>2019</td>\n",
       "      <td>11</td>\n",
       "      <td>30</td>\n",
       "      <td>4</td>\n",
       "      <td>...</td>\n",
       "      <td>NaN</td>\n",
       "      <td>2019-11-30 01:30:00</td>\n",
       "      <td>1.575074e+09</td>\n",
       "      <td>0</td>\n",
       "      <td>14</td>\n",
       "      <td>90</td>\n",
       "      <td>3</td>\n",
       "      <td>0</td>\n",
       "      <td>1</td>\n",
       "      <td>Saturday</td>\n",
       "    </tr>\n",
       "    <tr>\n",
       "      <th>201900000001</th>\n",
       "      <td>1.0</td>\n",
       "      <td>1</td>\n",
       "      <td>1</td>\n",
       "      <td>1959</td>\n",
       "      <td>0.0</td>\n",
       "      <td>-1.0</td>\n",
       "      <td>2019</td>\n",
       "      <td>11</td>\n",
       "      <td>30</td>\n",
       "      <td>4</td>\n",
       "      <td>...</td>\n",
       "      <td>NaN</td>\n",
       "      <td>2019-11-30 01:30:00</td>\n",
       "      <td>1.575074e+09</td>\n",
       "      <td>0</td>\n",
       "      <td>0</td>\n",
       "      <td>90</td>\n",
       "      <td>0</td>\n",
       "      <td>0</td>\n",
       "      <td>1</td>\n",
       "      <td>Saturday</td>\n",
       "    </tr>\n",
       "    <tr>\n",
       "      <th>201900000002</th>\n",
       "      <td>1.0</td>\n",
       "      <td>1</td>\n",
       "      <td>2</td>\n",
       "      <td>1994</td>\n",
       "      <td>0.0</td>\n",
       "      <td>-1.0</td>\n",
       "      <td>2019</td>\n",
       "      <td>11</td>\n",
       "      <td>30</td>\n",
       "      <td>3</td>\n",
       "      <td>...</td>\n",
       "      <td>NaN</td>\n",
       "      <td>2019-11-30 02:50:00</td>\n",
       "      <td>1.575079e+09</td>\n",
       "      <td>0</td>\n",
       "      <td>0</td>\n",
       "      <td>170</td>\n",
       "      <td>3</td>\n",
       "      <td>0</td>\n",
       "      <td>2</td>\n",
       "      <td>Saturday</td>\n",
       "    </tr>\n",
       "    <tr>\n",
       "      <th>201900000003</th>\n",
       "      <td>1.0</td>\n",
       "      <td>1</td>\n",
       "      <td>1</td>\n",
       "      <td>1996</td>\n",
       "      <td>0.0</td>\n",
       "      <td>-1.0</td>\n",
       "      <td>2019</td>\n",
       "      <td>11</td>\n",
       "      <td>28</td>\n",
       "      <td>1</td>\n",
       "      <td>...</td>\n",
       "      <td>NaN</td>\n",
       "      <td>2019-11-28 15:15:00</td>\n",
       "      <td>1.574950e+09</td>\n",
       "      <td>1</td>\n",
       "      <td>0</td>\n",
       "      <td>915</td>\n",
       "      <td>0</td>\n",
       "      <td>0</td>\n",
       "      <td>15</td>\n",
       "      <td>Thursday</td>\n",
       "    </tr>\n",
       "  </tbody>\n",
       "</table>\n",
       "<p>5 rows × 43 columns</p>\n",
       "</div>"
      ],
      "text/plain": [
       "              place  catu  sexe  an_nais  trajet  locp    an  mois  jour  lum  \\\n",
       "Num_Acc                                                                         \n",
       "201900000001    2.0     2     2     2002     0.0  -1.0  2019    11    30    4   \n",
       "201900000001    1.0     1     2     1993     5.0  -1.0  2019    11    30    4   \n",
       "201900000001    1.0     1     1     1959     0.0  -1.0  2019    11    30    4   \n",
       "201900000002    1.0     1     2     1994     0.0  -1.0  2019    11    30    3   \n",
       "201900000003    1.0     1     1     1996     0.0  -1.0  2019    11    28    1   \n",
       "\n",
       "              ...  holiday             datetime     timestamp  actp  num_veh  \\\n",
       "Num_Acc       ...                                                              \n",
       "201900000001  ...      NaN  2019-11-30 01:30:00  1.575074e+09     0       14   \n",
       "201900000001  ...      NaN  2019-11-30 01:30:00  1.575074e+09     0       14   \n",
       "201900000001  ...      NaN  2019-11-30 01:30:00  1.575074e+09     0        0   \n",
       "201900000002  ...      NaN  2019-11-30 02:50:00  1.575079e+09     0        0   \n",
       "201900000003  ...      NaN  2019-11-28 15:15:00  1.574950e+09     1        0   \n",
       "\n",
       "              hrmn  grav  etatp  hour_of_day  day_of_week  \n",
       "Num_Acc                                                    \n",
       "201900000001    90     3      0            1     Saturday  \n",
       "201900000001    90     3      0            1     Saturday  \n",
       "201900000001    90     0      0            1     Saturday  \n",
       "201900000002   170     3      0            2     Saturday  \n",
       "201900000003   915     0      0           15     Thursday  \n",
       "\n",
       "[5 rows x 43 columns]"
      ]
     },
     "execution_count": 3,
     "metadata": {},
     "output_type": "execute_result"
    }
   ],
   "source": [
    "df.head()"
   ]
  },
  {
   "cell_type": "markdown",
   "id": "c3fbf44b-f1ca-4d02-9b27-78827b41985d",
   "metadata": {},
   "source": [
    "### Data types"
   ]
  },
  {
   "cell_type": "code",
   "execution_count": 4,
   "id": "19bb68a0-55d1-461b-87e2-72833557b4fd",
   "metadata": {},
   "outputs": [
    {
     "name": "stdout",
     "output_type": "stream",
     "text": [
      "<class 'pandas.core.frame.DataFrame'>\n",
      "Index: 2421684 entries, 201900000001 to 201800055766\n",
      "Data columns (total 43 columns):\n",
      " #   Column       Dtype  \n",
      "---  ------       -----  \n",
      " 0   place        float64\n",
      " 1   catu         int64  \n",
      " 2   sexe         int64  \n",
      " 3   an_nais      int64  \n",
      " 4   trajet       float64\n",
      " 5   locp         float64\n",
      " 6   an           int64  \n",
      " 7   mois         int64  \n",
      " 8   jour         int64  \n",
      " 9   lum          int64  \n",
      " 10  agg          int64  \n",
      " 11  int          int64  \n",
      " 12  atm          float64\n",
      " 13  col          float64\n",
      " 14  dep          int64  \n",
      " 15  catr         float64\n",
      " 16  circ         float64\n",
      " 17  nbv          float64\n",
      " 18  vosp         float64\n",
      " 19  prof         float64\n",
      " 20  plan         float64\n",
      " 21  surf         float64\n",
      " 22  infra        float64\n",
      " 23  situ         float64\n",
      " 24  senc         float64\n",
      " 25  catv         int64  \n",
      " 26  occutc       float64\n",
      " 27  obs          float64\n",
      " 28  obsm         float64\n",
      " 29  choc         float64\n",
      " 30  manv         float64\n",
      " 31  date         object \n",
      " 32  is_holiday   bool   \n",
      " 33  holiday      object \n",
      " 34  datetime     object \n",
      " 35  timestamp    float64\n",
      " 36  actp         int64  \n",
      " 37  num_veh      int64  \n",
      " 38  hrmn         int64  \n",
      " 39  grav         int64  \n",
      " 40  etatp        int64  \n",
      " 41  hour_of_day  int64  \n",
      " 42  day_of_week  object \n",
      "dtypes: bool(1), float64(21), int64(17), object(4)\n",
      "memory usage: 796.8+ MB\n"
     ]
    }
   ],
   "source": [
    "df.info()"
   ]
  },
  {
   "cell_type": "markdown",
   "id": "d258ad30-b0f4-4b86-9322-808ff955593e",
   "metadata": {},
   "source": [
    "### Missing data"
   ]
  },
  {
   "cell_type": "code",
   "execution_count": 5,
   "id": "24315f42-0b75-439c-92a1-ed41d3b2c33a",
   "metadata": {},
   "outputs": [
    {
     "data": {
      "text/plain": [
       "place                0\n",
       "catu                 0\n",
       "sexe                 0\n",
       "an_nais              0\n",
       "trajet               0\n",
       "locp                 0\n",
       "an                   0\n",
       "mois                 0\n",
       "jour                 0\n",
       "lum                  0\n",
       "agg                  0\n",
       "int                  0\n",
       "atm                  0\n",
       "col                  0\n",
       "dep                  0\n",
       "catr                 0\n",
       "circ                 0\n",
       "nbv                  0\n",
       "vosp                 0\n",
       "prof                 0\n",
       "plan                 0\n",
       "surf                 0\n",
       "infra                0\n",
       "situ                 0\n",
       "senc                 0\n",
       "catv                 0\n",
       "occutc               0\n",
       "obs                  0\n",
       "obsm                 0\n",
       "choc                 0\n",
       "manv                 0\n",
       "date                 0\n",
       "is_holiday           0\n",
       "holiday        2367768\n",
       "datetime             0\n",
       "timestamp            0\n",
       "actp                 0\n",
       "num_veh              0\n",
       "hrmn                 0\n",
       "grav                 0\n",
       "etatp                0\n",
       "hour_of_day          0\n",
       "day_of_week          0\n",
       "dtype: int64"
      ]
     },
     "execution_count": 5,
     "metadata": {},
     "output_type": "execute_result"
    }
   ],
   "source": [
    "df.isna().sum()"
   ]
  },
  {
   "cell_type": "markdown",
   "id": "2f54ae8d-7ed1-413e-81cf-04079aa3cec0",
   "metadata": {},
   "source": [
    "This data has no missing values, accept the `holiday` variable which contains the name of the holiday or NaN."
   ]
  },
  {
   "cell_type": "markdown",
   "id": "c6ee2b4b-2bca-4686-b48f-b0f0d43b4bed",
   "metadata": {},
   "source": [
    "### Drop variables\n",
    "The dataset contains still some variables that represent information represented by other variables or are a finer granulation. The latter might be added later, if the primary variable is relevant.\n",
    "\n",
    "- `holiday`: classifies the holiday, but will be used only, if `is_holiday` is relevant"
   ]
  },
  {
   "cell_type": "code",
   "execution_count": 6,
   "id": "967aff4c-b3a7-4ea6-8e48-80a148b62871",
   "metadata": {},
   "outputs": [],
   "source": [
    "columns_drop = ['holiday']\n",
    "\n",
    "df.drop(columns = columns_drop, inplace = True)"
   ]
  },
  {
   "cell_type": "code",
   "execution_count": 7,
   "id": "d50abfde-c053-45b5-a270-ae9adc390856",
   "metadata": {},
   "outputs": [
    {
     "name": "stdout",
     "output_type": "stream",
     "text": [
      "<class 'pandas.core.frame.DataFrame'>\n",
      "Index: 2421684 entries, 201900000001 to 201800055766\n",
      "Data columns (total 42 columns):\n",
      " #   Column       Dtype  \n",
      "---  ------       -----  \n",
      " 0   place        float64\n",
      " 1   catu         int64  \n",
      " 2   sexe         int64  \n",
      " 3   an_nais      int64  \n",
      " 4   trajet       float64\n",
      " 5   locp         float64\n",
      " 6   an           int64  \n",
      " 7   mois         int64  \n",
      " 8   jour         int64  \n",
      " 9   lum          int64  \n",
      " 10  agg          int64  \n",
      " 11  int          int64  \n",
      " 12  atm          float64\n",
      " 13  col          float64\n",
      " 14  dep          int64  \n",
      " 15  catr         float64\n",
      " 16  circ         float64\n",
      " 17  nbv          float64\n",
      " 18  vosp         float64\n",
      " 19  prof         float64\n",
      " 20  plan         float64\n",
      " 21  surf         float64\n",
      " 22  infra        float64\n",
      " 23  situ         float64\n",
      " 24  senc         float64\n",
      " 25  catv         int64  \n",
      " 26  occutc       float64\n",
      " 27  obs          float64\n",
      " 28  obsm         float64\n",
      " 29  choc         float64\n",
      " 30  manv         float64\n",
      " 31  date         object \n",
      " 32  is_holiday   bool   \n",
      " 33  datetime     object \n",
      " 34  timestamp    float64\n",
      " 35  actp         int64  \n",
      " 36  num_veh      int64  \n",
      " 37  hrmn         int64  \n",
      " 38  grav         int64  \n",
      " 39  etatp        int64  \n",
      " 40  hour_of_day  int64  \n",
      " 41  day_of_week  object \n",
      "dtypes: bool(1), float64(21), int64(17), object(3)\n",
      "memory usage: 778.3+ MB\n"
     ]
    }
   ],
   "source": [
    "df.info()"
   ]
  },
  {
   "cell_type": "markdown",
   "id": "1e466b8d-e6d7-432a-bcd8-da9e0d60c3c5",
   "metadata": {},
   "source": [
    "## Data preparation\n",
    "### Transform data types\n",
    "#### Date and time variables\n",
    "The date and time variables are maybe important as grouping variables or as contrains for time dependent severity of accidents.\n",
    "\n",
    "_Problem_:\n",
    "\n",
    "Due to the export to `csv`, the `datatime` data time is lost and thus, it is required to assign it again.\n",
    "\n",
    "**Steps:**\n",
    "1. Transform `date` and `hrmn` to `datetime` type.nais` to integer and `date` to `date`."
   ]
  },
  {
   "cell_type": "code",
   "execution_count": 8,
   "id": "c175109c-ec79-4bf1-970a-7c6203b99538",
   "metadata": {},
   "outputs": [],
   "source": [
    "# Fixing the hrmn issue:\n",
    "# Transform `date`\n",
    "df = df.assign(date = pd.to_datetime(df['date']))\n",
    "df = df.assign(hrmn = pd.to_datetime(df['hrmn']))"
   ]
  },
  {
   "cell_type": "code",
   "execution_count": 9,
   "id": "2e2ce0e6-281d-4d3e-86e7-b8b7f7b768f4",
   "metadata": {},
   "outputs": [],
   "source": [
    "df['date'] = df.apply(lambda x: int(x['date'].timestamp()), axis = 1)\n",
    "df['hrmn'] = df.apply(lambda x: int(x['hrmn'].timestamp()), axis = 1)\n",
    "le = LabelEncoder()\n",
    "df['day_of_week'] = le.fit_transform(df['day_of_week'])"
   ]
  },
  {
   "cell_type": "code",
   "execution_count": 10,
   "id": "2ab4df31-4a36-442f-a1d7-ed33b603dc96",
   "metadata": {},
   "outputs": [
    {
     "name": "stdout",
     "output_type": "stream",
     "text": [
      "<class 'pandas.core.frame.DataFrame'>\n",
      "Index: 2421684 entries, 201900000001 to 201800055766\n",
      "Data columns (total 42 columns):\n",
      " #   Column       Dtype  \n",
      "---  ------       -----  \n",
      " 0   place        float64\n",
      " 1   catu         int64  \n",
      " 2   sexe         int64  \n",
      " 3   an_nais      int64  \n",
      " 4   trajet       float64\n",
      " 5   locp         float64\n",
      " 6   an           int64  \n",
      " 7   mois         int64  \n",
      " 8   jour         int64  \n",
      " 9   lum          int64  \n",
      " 10  agg          int64  \n",
      " 11  int          int64  \n",
      " 12  atm          float64\n",
      " 13  col          float64\n",
      " 14  dep          int64  \n",
      " 15  catr         float64\n",
      " 16  circ         float64\n",
      " 17  nbv          float64\n",
      " 18  vosp         float64\n",
      " 19  prof         float64\n",
      " 20  plan         float64\n",
      " 21  surf         float64\n",
      " 22  infra        float64\n",
      " 23  situ         float64\n",
      " 24  senc         float64\n",
      " 25  catv         int64  \n",
      " 26  occutc       float64\n",
      " 27  obs          float64\n",
      " 28  obsm         float64\n",
      " 29  choc         float64\n",
      " 30  manv         float64\n",
      " 31  date         int64  \n",
      " 32  is_holiday   bool   \n",
      " 33  datetime     object \n",
      " 34  timestamp    float64\n",
      " 35  actp         int64  \n",
      " 36  num_veh      int64  \n",
      " 37  hrmn         int64  \n",
      " 38  grav         int64  \n",
      " 39  etatp        int64  \n",
      " 40  hour_of_day  int64  \n",
      " 41  day_of_week  int64  \n",
      "dtypes: bool(1), float64(21), int64(19), object(1)\n",
      "memory usage: 778.3+ MB\n"
     ]
    }
   ],
   "source": [
    "df.info()"
   ]
  },
  {
   "cell_type": "markdown",
   "id": "2712a786-07c6-4f26-94b5-640f756e2433",
   "metadata": {},
   "source": [
    "The correlation matrix shows some intervariable correlations, but no real importance of variables to predict the target `fatal`. "
   ]
  },
  {
   "cell_type": "markdown",
   "id": "370fbf79-9a9a-40f3-844d-ebeb2bcb391d",
   "metadata": {},
   "source": [
    "#### Aggregation and encoding of the target variable\n",
    "In the previous notebook, we used the `grav` variable as is without any further processing. The modelling result was not satisfying. Therefore, it was decided to aggregate the four classes into two classes \"severe\" and \"non-severe\" encoded in `[1,0]`."
   ]
  },
  {
   "cell_type": "code",
   "execution_count": 11,
   "id": "03c6a14a-a0b6-48c8-96fc-8af9cb1c4fa7",
   "metadata": {},
   "outputs": [],
   "source": [
    "drop_cols = ['timestamp', 'datetime']\n",
    "df.drop(drop_cols, axis = 1, inplace = True)"
   ]
  },
  {
   "cell_type": "code",
   "execution_count": 12,
   "id": "972d0876-3174-4436-934d-67ee90d0ecce",
   "metadata": {},
   "outputs": [],
   "source": [
    "# Encoding\n",
    "# grav encodes in 1=unscated, 2=killed, 3=hospitalized, 4=light injured.\n",
    "# After first encoding in notebook 2, we created new classes as 0=unscated, 1=killed, 2=hospitalized, 3=light injured\n",
    "# Thus [0,3] = 0, [2,3] = 1\n",
    "\n",
    "df['severe'] = np.where(df['grav'].isin([1, 2]), 0, 1)"
   ]
  },
  {
   "cell_type": "code",
   "execution_count": 13,
   "id": "75398e99-75d5-4188-b8e8-e2c7a28830a8",
   "metadata": {},
   "outputs": [
    {
     "data": {
      "text/plain": [
       "array([1, 0])"
      ]
     },
     "execution_count": 13,
     "metadata": {},
     "output_type": "execute_result"
    }
   ],
   "source": [
    "df.severe.unique()"
   ]
  },
  {
   "cell_type": "markdown",
   "id": "eb6e8e7f-5fd1-4759-ba8f-49d0151662fd",
   "metadata": {},
   "source": [
    "The following visualisation shows the balance between the two classes. The dataset is much more balanced now compared to the four classes `grav`."
   ]
  },
  {
   "cell_type": "code",
   "execution_count": 14,
   "id": "a7474412-4426-428f-99f9-d7487ad299d7",
   "metadata": {},
   "outputs": [
    {
     "data": {
      "image/png": "[encoded data removed]",
      "text/plain": [
       "<Figure size 640x480 with 1 Axes>"
      ]
     },
     "metadata": {},
     "output_type": "display_data"
    }
   ],
   "source": [
    "# test if the \n",
    "import matplotlib.pyplot as plt\n",
    "# exploring severe cases in % \n",
    "event_counts = df['severe'].value_counts()\n",
    "event_percentages = (event_counts / event_counts.sum()) * 100\n",
    "plt.subplot(2,1,1)\n",
    "event_percentages.plot.bar()\n",
    "labels = ['severe','non-severe']\n",
    "# Add labels and title to the plot\n",
    "plt.xticks(range(len(event_counts)), labels)\n",
    "plt.xlabel('Events')\n",
    "plt.ylabel('Count %')\n",
    "plt.title('Severity France')\n",
    "# Display the plot\n",
    "plt.show()"
   ]
  },
  {
   "cell_type": "markdown",
   "id": "df19180e-4918-4d1f-922a-14525d1a1c29",
   "metadata": {},
   "source": [
    "### Preparation of the training and test datasets\n",
    "#### Split data\n",
    "The dataset is split by year slides. We decided to drop the Covid-19 years 2020-21. The years 2005 to 2017 are selected for the train dataset and the years 2018 and 2019 for the test dataset. Furthermore, the `grav` variable is dropped because it is encoded in `severe`.\n"
   ]
  },
  {
   "cell_type": "code",
   "execution_count": 15,
   "id": "91c8d87f-d44e-4eff-8c4d-26745cc8dbfe",
   "metadata": {},
   "outputs": [],
   "source": [
    "df.drop('grav', axis = 1, inplace = True)"
   ]
  },
  {
   "cell_type": "code",
   "execution_count": 16,
   "id": "ac2bc919-2233-4813-840b-b7b0bd7b582f",
   "metadata": {},
   "outputs": [],
   "source": [
    "# split the dataset to train and test data\n",
    "X_train = df.loc[df['an'] < 2018]\n",
    "X_train = X_train.drop('severe', axis = 1)\n",
    "\n",
    "X_test = df[(df['an'] >= 2018) & (df['an'] < 2020)]\n",
    "X_test = X_test.drop('severe', axis = 1)\n",
    "\n",
    "y_train = df['severe'].loc[df['an'] < 2018]\n",
    "y_test = df['severe'][(df['an'] >= 2018) & (df['an'] < 2020)]\n"
   ]
  },
  {
   "cell_type": "markdown",
   "id": "26625aa3-4aa4-407e-af35-fc4f79e5d944",
   "metadata": {},
   "source": [
    "#### Data scaling\n",
    "Decision trees are not sensitive to different scales and thus scaling is not required."
   ]
  },
  {
   "cell_type": "markdown",
   "id": "935884d9-2884-4e18-a40e-2f6d6d4c6a93",
   "metadata": {},
   "source": [
    "### Modelling the data using a XGBoost Classification Model with Tree-based Parzen Estimators optimisation\n",
    "The Tree-based Parzen Estimator (TPE) [1] optimisation combines a Bayesian Sequential Model Based Optimisation (SMBO) and a random search on the hyperparemeter grid[2]. While the random search is a static approach, the SMBO optimises the model using prior runs to determine future points of exploration.\n",
    "\n",
    "The package `hyperopt` [4] is used for optimisation. The hyperparameter optimisation code is written based on ideas in [5]."
   ]
  },
  {
   "cell_type": "markdown",
   "id": "0899c3a5-71a0-4cc1-8b15-b8f860f89a90",
   "metadata": {},
   "source": [
    "#### The tuning space\n",
    "`hyperopt` uses a specific format of parameters expressions [7]. Hints on the parameter ranges are given in [1,5,7].\n",
    "\n",
    "The `booster` in this first model is `gbtree`. The evaluation metric is `logloss` or `auc`[8].\n",
    "\n",
    "Another classification method is Dropout with Multiple Additive Regression Trees (`dart`)[9], which is not used here.\n",
    "\n",
    "The metric used is `mlogloss` (as a special case of `logloss`). The reason is that `logloss` is an absolute measure of the quality of the classification, while `auc` is a simple ranking function [10]. `logloss` is discussed as better performing with imbalanced datasets [11].\n"
   ]
  },
  {
   "cell_type": "code",
   "execution_count": 17,
   "id": "85c2c349-31d2-4b9e-9573-1e69ce36b4c6",
   "metadata": {},
   "outputs": [],
   "source": [
    "# Create the tuning space\n",
    "booster = 'gbtree'\n",
    "eval_metric = 'logloss'\n",
    "\n",
    "tuning_space={\n",
    "    'eta': hp.uniform('eta', 0, 1),\n",
    "    'max_depth': hp.quniform('max_depth', 3, 10, 1),\n",
    "    'gamma': hp.uniform ('gamma', 0, 10),\n",
    "    'reg_alpha' : hp.uniform('reg_alpha', 0, 100),\n",
    "    'reg_lambda' : hp.uniform('reg_lambda', 0, 10),\n",
    "    'colsample_bytree' : hp.uniform('colsample_bytree', 0, 1),\n",
    "    'colsample_bylevel' : hp.uniform('colsample_bylevel', 0, 1),\n",
    "    'colsample_bynode' : hp.uniform('colsample_bynode', 0, 1),\n",
    "    'min_child_weight' : hp.quniform('min_child_weight', 0, 10, 1),\n",
    "    'n_estimators': hp.quniform('n_estimators', 10, 1000, 1), # default is 100, so we try to check in the one magnitude space\n",
    "    'seed': 123,\n",
    "    'early_stopping_rounds': 10, # stop tuning early to avoid overfitting\n",
    "    'objective': 'binary:logistic',\n",
    "    'subsample': hp.uniform('subsample', 0, 1)\n",
    "    }\n",
    "\n",
    "tuning_space.update({'scale_pos_weight': hp.uniform('scale_pos_weight', 0, 2)}) # helps in auc\n",
    "tuning_space.update({'max_delta_step': hp.uniform('max_delta_step', 0, 2)}) # helps in auc\n",
    "tuning_space.update({'eval_metric': eval_metric})\n",
    "tuning_space.update({'booster': booster})\n"
   ]
  },
  {
   "cell_type": "markdown",
   "id": "050b7c6d-e438-43cc-8ec7-2adb7f2e57aa",
   "metadata": {},
   "source": [
    "#### The tuning function\n",
    "The following function integrates all steps required for the hyperoptimization tuning. The results are stored in the model and the tuning score is printed per step."
   ]
  },
  {
   "cell_type": "code",
   "execution_count": 18,
   "id": "144da29f-81b6-4bb8-861c-b990c9c87a27",
   "metadata": {},
   "outputs": [],
   "source": [
    "# Function for the classification\n",
    "def hp_xgbclass(space, X_train = X_train, y_train = y_train, X_test = X_test, y_test = y_test):\n",
    "    \"\"\" Function for Bayesian hyperparameter optimisation of XGboost classification model.\n",
    "    Accepts a parameter `space` and the training and testing data set.\n",
    "        :param tuning_space: a catalog containing the parameters used for hyperparameter tuning, ranges given in hp objects\n",
    "        :param X_train: accepts the train data\n",
    "        :param X_test: accepts the test data\n",
    "        :param X_eval: accepts the eval data used for optimisation\n",
    "        :param y_train: accepts the train target\n",
    "        :param y_test: accepts the test target\n",
    "        :param y_eval: accepts the eval data used for optimisation\n",
    "    \"\"\"\n",
    "\n",
    "    clf=xgb.XGBClassifier(\n",
    "        eta = space['eta'],\n",
    "        eval_metric = space['eval_metric'],\n",
    "        booster = space['booster'],\n",
    "        n_estimators = np.int64(space['n_estimators']),\n",
    "        max_depth = np.int64(space['max_depth']),\n",
    "        gamma = space['gamma'],\n",
    "        reg_alpha = space['reg_alpha'],\n",
    "        min_child_weight=np.int64(space['min_child_weight']),\n",
    "        colsample_bytree=space['colsample_bytree'],\n",
    "        colsample_bylevel=space['colsample_bylevel'],\n",
    "        colsample_bynode=space['colsample_bynode'],\n",
    "        early_stopping_rounds = space['early_stopping_rounds'],\n",
    "        objective = space['objective'],\n",
    "        max_delta_step = space['max_delta_step'],\n",
    "        subsample = space['subsample']\n",
    "    )\n",
    "          \n",
    "    clf.fit(X_train,\n",
    "            y_train,\n",
    "            eval_set = [(X_test, y_test)],\n",
    "            verbose=False)\n",
    "        \n",
    "    pred = clf.predict(X_test)\n",
    "    accuracy = accuracy_score(y_test, pred > 0.5)\n",
    "    print (\"SCORE:\", accuracy)\n",
    "    return {'loss': -accuracy, 'status': STATUS_OK}"
   ]
  },
  {
   "cell_type": "markdown",
   "id": "89fbd217-11b2-477c-a7b3-0cd138977ef5",
   "metadata": {},
   "source": [
    "#### The tuning\n",
    "In this section, the hyperparameter tuning is performed. The results are stored in the trial db and the hyperparameter file for later re-use. In case, the downstream analysis is changed, the model could be loaded in this section."
   ]
  },
  {
   "cell_type": "code",
   "execution_count": 19,
   "id": "36c54e61-8338-450f-9d02-8e932ed27244",
   "metadata": {},
   "outputs": [
    {
     "name": "stdout",
     "output_type": "stream",
     "text": [
      "SCORE: 0.840157570992324\n",
      "SCORE: 0.8257903368635907\n",
      "SCORE: 0.8294278123920372\n",
      "SCORE: 0.8372348832314761\n",
      "SCORE: 0.8394824936562586\n",
      "SCORE: 0.8423098763814266\n",
      "SCORE: 0.8337403652565493\n",
      "SCORE: 0.8430286351921786\n",
      "SCORE: 0.8361190201053915\n",
      "SCORE: 0.8389742001326328\n",
      "SCORE: 0.8297256406285367\n",
      "SCORE: 0.838890808226413\n",
      "SCORE: 0.8339428884573689\n",
      "SCORE: 0.8350905199286801\n",
      "SCORE: 0.830642951596955\n",
      "SCORE: 0.8427427200851392\n",
      "SCORE: 0.8425759362726994\n",
      "SCORE: 0.832592733785238\n",
      "SCORE: 0.8350865488855267\n",
      "SCORE: 0.8430048089332587\n",
      "SCORE: 0.8398637137989778\n",
      "SCORE: 0.8390655341251594\n",
      "SCORE: 0.815572842830083\n",
      "SCORE: 0.8323624132823452\n",
      "SCORE: 0.8377590609277151\n",
      "SCORE: 0.8379576130853814\n",
      "SCORE: 0.812014788164703\n",
      "SCORE: 0.8387518217160466\n",
      "SCORE: 0.8443787898643095\n",
      "SCORE: 0.8449029675605485\n",
      "SCORE: 0.841924685195554\n",
      "SCORE: 0.8418532064187941\n",
      "SCORE: 0.8432589556950716\n",
      "SCORE: 0.8292570575364443\n",
      "SCORE: 0.8417618724262677\n",
      "SCORE: 0.8374453485186023\n",
      "SCORE: 0.8396611905981582\n",
      "SCORE: 0.8435011893274245\n",
      "SCORE: 0.8434019132485913\n",
      "SCORE: 0.8349594755046204\n",
      "SCORE: 0.843008779976412\n",
      "SCORE: 0.8333670872001366\n",
      "SCORE: 0.8463841666567391\n",
      "SCORE: 0.8457845391405868\n",
      "SCORE: 0.8334425370200498\n",
      "SCORE: 0.8434455947232778\n",
      "SCORE: 0.8433542607307514\n",
      "SCORE: 0.8416467121748212\n",
      "SCORE: 0.8395738276487851\n",
      "SCORE: 0.8402330208122372\n",
      "SCORE: 0.8438466700817637\n",
      "SCORE: 0.8378940763949282\n",
      "SCORE: 0.8397207562454582\n",
      "SCORE: 0.8410709109175889\n",
      "SCORE: 0.8395460303467118\n",
      "SCORE: 0.826707647832009\n",
      "SCORE: 0.8303689496193755\n",
      "SCORE: 0.8411503317806555\n",
      "SCORE: 0.8444065871663827\n",
      "SCORE: 0.8422939922088133\n",
      "SCORE: 0.8150288099180774\n",
      "SCORE: 0.8387359375434332\n",
      "SCORE: 0.8377233215393352\n",
      "SCORE: 0.8288003875738118\n",
      "SCORE: 0.8378225976181684\n",
      "SCORE: 0.8463722535272791\n",
      "SCORE: 0.8462809195347526\n",
      "SCORE: 0.8461856144990728\n",
      "SCORE: 0.8468606918351381\n",
      "SCORE: 0.8447242706186489\n",
      "SCORE: 0.8457090893206737\n",
      "SCORE: 0.8459195546077999\n",
      "SCORE: 0.8432113031772316\n",
      "SCORE: 0.8457448287090535\n",
      "SCORE: 0.8466541975911652\n",
      "SCORE: 0.8457964522700469\n",
      "SCORE: 0.8440889037141167\n",
      "SCORE: 0.842425036632873\n",
      "SCORE: 0.8429770116311854\n",
      "SCORE: 0.8436123785357176\n",
      "SCORE: 0.8457607128816669\n",
      "SCORE: 0.8456812920186003\n",
      "SCORE: 0.8469083443529781\n",
      "SCORE: 0.8424051814171064\n",
      "SCORE: 0.8409398664935291\n",
      "SCORE: 0.8452921297895745\n",
      "SCORE: 0.8442040639655631\n",
      "SCORE: 0.8454589136020141\n",
      "SCORE: 0.8299480190451229\n",
      "SCORE: 0.841583175484368\n",
      "SCORE: 0.8462332670169127\n",
      "SCORE: 0.8461459040675395\n",
      "SCORE: 0.8433502896875981\n",
      "SCORE: 0.8401377157765574\n",
      "SCORE: 0.8380449760347546\n",
      "SCORE: 0.812014788164703\n",
      "SCORE: 0.8451332880634413\n",
      "SCORE: 0.8470036493886579\n",
      "SCORE: 0.8464953558650322\n",
      "SCORE: 0.8458202785289668\n",
      "3:31:51.982364\n"
     ]
    }
   ],
   "source": [
    "# Running the crossvalidation or load stored parameters\n",
    "\n",
    "# lets check the run time\n",
    "start_time = time.monotonic()\n",
    "\n",
    "# Suppress warnings because of deprecated functions or parameters, we cannot influence\n",
    "warnings.filterwarnings('ignore')\n",
    "\n",
    "# Rerun (True) or get stored parameters (False)\n",
    "cv_rerun = True\n",
    "\n",
    "# define the stored files\n",
    "out_file_trial = './data/XGboost_model/231027_XGboost_gbtree_logloss_trial_db_severe_raw'\n",
    "out_file_params = './data/XGboost_model/231027_XGboost_gbtree_logloss_hyperparameters_severe_raw'\n",
    "\n",
    "\n",
    "# rerun the crossvalidation\n",
    "if (cv_rerun == True):\n",
    "    trials = Trials()\n",
    "    best_hyperparams = fmin(fn = hp_xgbclass,\n",
    "                            space = tuning_space,\n",
    "                            algo = tpe.suggest,\n",
    "                            max_evals = 100,\n",
    "                            trials = trials,\n",
    "                            verbose=0\n",
    "                           )\n",
    "    # save the best parameters and the trials database\n",
    "    with open(out_file_trial, 'wb') as f:\n",
    "        pickle.dump(trials, f)\n",
    "\n",
    "    with open(out_file_params, 'wb') as f:\n",
    "        pickle.dump(best_hyperparams, f)\n",
    "\n",
    "# get the stored hyperparameters\n",
    "else:\n",
    "    with open('./data/XGboost_model/231022_XGboost_gbtree_logloss_hyperparameters_severe_raw', 'rb') as f:\n",
    "        best_hyperparams = pickle.load(f)\n",
    "\n",
    "# Track the end of the tuning\n",
    "end_time = time.monotonic()\n",
    "print(timedelta(seconds=end_time - start_time))"
   ]
  },
  {
   "cell_type": "code",
   "execution_count": 20,
   "id": "b8684917-11ae-4664-819c-2d87f36c34d8",
   "metadata": {},
   "outputs": [
    {
     "name": "stdout",
     "output_type": "stream",
     "text": [
      "The best hyperparameters are :  \n",
      "\n",
      "{'colsample_bylevel': 0.664455417077943, 'colsample_bynode': 0.7228243411782372, 'colsample_bytree': 0.5878014898100365, 'eta': 0.04491117791772439, 'gamma': 0.9626144829798879, 'max_delta_step': 0.297975875101572, 'max_depth': 10.0, 'min_child_weight': 4.0, 'n_estimators': 799.0, 'reg_alpha': 3.031779470616897, 'reg_lambda': 2.4582705678721024, 'scale_pos_weight': 0.6986869980145106, 'subsample': 0.6583957047074847}\n"
     ]
    }
   ],
   "source": [
    "print(\"The best hyperparameters are : \",\"\\n\")\n",
    "print(best_hyperparams)"
   ]
  },
  {
   "cell_type": "code",
   "execution_count": 21,
   "id": "05242bdd-d2ca-4447-bf23-ec396d4b99c2",
   "metadata": {},
   "outputs": [
    {
     "name": "stdout",
     "output_type": "stream",
     "text": [
      "3:39:35.635106\n"
     ]
    }
   ],
   "source": [
    "xgb_2 = xgb.XGBClassifier(\n",
    "    booster = tuning_space['booster'],\n",
    "    eta = best_hyperparams['eta'],\n",
    "    gamma = best_hyperparams['gamma'],\n",
    "    max_depth = np.int64(best_hyperparams['max_depth']),\n",
    "    min_child_weight = np.int64(best_hyperparams['min_child_weight']),\n",
    "    reg_alpha = best_hyperparams['reg_alpha'],\n",
    "    reg_lambda = best_hyperparams['reg_lambda'],\n",
    "    eval_metric = tuning_space['eval_metric'],\n",
    "    objective = tuning_space['objective'],\n",
    "    seed = tuning_space['seed'],\n",
    "    early_stopping_rounds = tuning_space['early_stopping_rounds'],\n",
    "    n_estimators = np.int64(best_hyperparams['n_estimators']),\n",
    "    subsample = best_hyperparams['subsample'],\n",
    "    # scale_pos_weight = best_hyperparams['scale_pos_weight'],\n",
    "    max_delta_step = best_hyperparams['max_delta_step'],\n",
    "    colsample_bylevel = best_hyperparams['colsample_bylevel'],\n",
    "    colsample_bynode = best_hyperparams['colsample_bynode'],\n",
    "    colsample_bytree = best_hyperparams['colsample_bytree']\n",
    ")\n",
    "  \n",
    "xgb_1 = xgb_1.fit(X_train,\n",
    "          y_train,\n",
    "          eval_set = [(X_test, y_test)], \n",
    "          verbose = False)\n",
    "\n",
    "# Track the end of the modelling\n",
    "end_time = time.monotonic()\n",
    "print(timedelta(seconds=end_time - start_time))"
   ]
  },
  {
   "cell_type": "code",
   "execution_count": 22,
   "id": "e4e9b563-5fcd-4744-adca-129cbf69342a",
   "metadata": {},
   "outputs": [
    {
     "name": "stdout",
     "output_type": "stream",
     "text": [
      "              precision    recall  f1-score   support\n",
      "\n",
      "           0       0.50      0.62      0.55     38274\n",
      "           1       0.93      0.89      0.91    213549\n",
      "\n",
      "    accuracy                           0.85    251823\n",
      "   macro avg       0.71      0.75      0.73    251823\n",
      "weighted avg       0.86      0.85      0.85    251823\n",
      "\n",
      "severe      0       1\n",
      "row_0                \n",
      "0       23551   14723\n",
      "1       23788  189761\n"
     ]
    }
   ],
   "source": [
    "y_pred = xgb_2.predict(X_test)\n",
    "y_pred = [round(value) for value in y_pred]\n",
    "\n",
    "print(classification_report(y_pred, y_test))\n",
    "\n",
    "print(pd.crosstab(y_pred, y_test))"
   ]
  },
  {
   "cell_type": "code",
   "execution_count": 23,
   "id": "aee44902-9a6d-495b-a3cf-74eb43dc3aff",
   "metadata": {},
   "outputs": [
    {
     "data": {
      "image/png": "[encoded data removed]",
      "text/plain": [
       "<Figure size 500x400 with 2 Axes>"
      ]
     },
     "metadata": {},
     "output_type": "display_data"
    }
   ],
   "source": [
    "cm = confusion_matrix(y_test, y_pred)\n",
    "\n",
    "plt.figure(figsize = (5, 4))\n",
    "sns.set(font_scale=1)\n",
    "sns.heatmap(cm, annot=True);"
   ]
  },
  {
   "cell_type": "markdown",
   "id": "bdab1452-5565-44b2-9052-a3a15b8b15a6",
   "metadata": {},
   "source": [
    "#### Variable importance and interpretation\n",
    "\n"
   ]
  },
  {
   "cell_type": "code",
   "execution_count": 24,
   "id": "57abeed0-baf2-452e-a69f-7ca3cd3a5def",
   "metadata": {},
   "outputs": [
    {
     "data": {
      "text/plain": [
       "<Axes: title={'center': 'Feature importance'}, xlabel='F score', ylabel='Features'>"
      ]
     },
     "execution_count": 24,
     "metadata": {},
     "output_type": "execute_result"
    },
    {
     "data": {
      "image/png": "[encoded data removed]",
      "text/plain": [
       "<Figure size 640x480 with 1 Axes>"
      ]
     },
     "metadata": {},
     "output_type": "display_data"
    }
   ],
   "source": [
    "xgb.plot_importance(xgb_2, max_num_features=25)"
   ]
  },
  {
   "cell_type": "code",
   "execution_count": 26,
   "id": "9be1bb75-aab4-490e-bf01-651fea18c79b",
   "metadata": {},
   "outputs": [
    {
     "name": "stdout",
     "output_type": "stream",
     "text": [
      "Thresh=0.000, n=39, Accuracy: 84.46%\n",
      "Thresh=0.003, n=38, Accuracy: 84.46%\n",
      "Thresh=0.003, n=37, Accuracy: 83.93%\n",
      "Thresh=0.003, n=36, Accuracy: 83.95%\n",
      "Thresh=0.003, n=35, Accuracy: 84.11%\n",
      "Thresh=0.004, n=34, Accuracy: 84.25%\n"
     ]
    },
    {
     "ename": "KeyboardInterrupt",
     "evalue": "",
     "output_type": "error",
     "traceback": [
      "\u001b[0;31m---------------------------------------------------------------------------\u001b[0m",
      "\u001b[0;31mKeyboardInterrupt\u001b[0m                         Traceback (most recent call last)",
      "Cell \u001b[0;32mIn[26], line 11\u001b[0m\n\u001b[1;32m      9\u001b[0m \u001b[38;5;66;03m# train model\u001b[39;00m\n\u001b[1;32m     10\u001b[0m selection_model \u001b[38;5;241m=\u001b[39m xgb\u001b[38;5;241m.\u001b[39mXGBClassifier()\n\u001b[0;32m---> 11\u001b[0m \u001b[43mselection_model\u001b[49m\u001b[38;5;241;43m.\u001b[39;49m\u001b[43mfit\u001b[49m\u001b[43m(\u001b[49m\u001b[43mselect_X_train\u001b[49m\u001b[43m,\u001b[49m\u001b[43m \u001b[49m\u001b[43my_train\u001b[49m\u001b[43m)\u001b[49m\n\u001b[1;32m     12\u001b[0m \u001b[38;5;66;03m# eval model\u001b[39;00m\n\u001b[1;32m     13\u001b[0m select_X_test \u001b[38;5;241m=\u001b[39m selection\u001b[38;5;241m.\u001b[39mtransform(X_test)\n",
      "File \u001b[0;32m~/miniforge3/envs/mli-project/lib/python3.11/site-packages/xgboost/core.py:620\u001b[0m, in \u001b[0;36mrequire_keyword_args.<locals>.throw_if.<locals>.inner_f\u001b[0;34m(*args, **kwargs)\u001b[0m\n\u001b[1;32m    618\u001b[0m \u001b[38;5;28;01mfor\u001b[39;00m k, arg \u001b[38;5;129;01min\u001b[39;00m \u001b[38;5;28mzip\u001b[39m(sig\u001b[38;5;241m.\u001b[39mparameters, args):\n\u001b[1;32m    619\u001b[0m     kwargs[k] \u001b[38;5;241m=\u001b[39m arg\n\u001b[0;32m--> 620\u001b[0m \u001b[38;5;28;01mreturn\u001b[39;00m \u001b[43mfunc\u001b[49m\u001b[43m(\u001b[49m\u001b[38;5;241;43m*\u001b[39;49m\u001b[38;5;241;43m*\u001b[39;49m\u001b[43mkwargs\u001b[49m\u001b[43m)\u001b[49m\n",
      "File \u001b[0;32m~/miniforge3/envs/mli-project/lib/python3.11/site-packages/xgboost/sklearn.py:1490\u001b[0m, in \u001b[0;36mXGBClassifier.fit\u001b[0;34m(self, X, y, sample_weight, base_margin, eval_set, eval_metric, early_stopping_rounds, verbose, xgb_model, sample_weight_eval_set, base_margin_eval_set, feature_weights, callbacks)\u001b[0m\n\u001b[1;32m   1462\u001b[0m (\n\u001b[1;32m   1463\u001b[0m     model,\n\u001b[1;32m   1464\u001b[0m     metric,\n\u001b[0;32m   (...)\u001b[0m\n\u001b[1;32m   1469\u001b[0m     xgb_model, eval_metric, params, early_stopping_rounds, callbacks\n\u001b[1;32m   1470\u001b[0m )\n\u001b[1;32m   1471\u001b[0m train_dmatrix, evals \u001b[38;5;241m=\u001b[39m _wrap_evaluation_matrices(\n\u001b[1;32m   1472\u001b[0m     missing\u001b[38;5;241m=\u001b[39m\u001b[38;5;28mself\u001b[39m\u001b[38;5;241m.\u001b[39mmissing,\n\u001b[1;32m   1473\u001b[0m     X\u001b[38;5;241m=\u001b[39mX,\n\u001b[0;32m   (...)\u001b[0m\n\u001b[1;32m   1487\u001b[0m     feature_types\u001b[38;5;241m=\u001b[39m\u001b[38;5;28mself\u001b[39m\u001b[38;5;241m.\u001b[39mfeature_types,\n\u001b[1;32m   1488\u001b[0m )\n\u001b[0;32m-> 1490\u001b[0m \u001b[38;5;28mself\u001b[39m\u001b[38;5;241m.\u001b[39m_Booster \u001b[38;5;241m=\u001b[39m \u001b[43mtrain\u001b[49m\u001b[43m(\u001b[49m\n\u001b[1;32m   1491\u001b[0m \u001b[43m    \u001b[49m\u001b[43mparams\u001b[49m\u001b[43m,\u001b[49m\n\u001b[1;32m   1492\u001b[0m \u001b[43m    \u001b[49m\u001b[43mtrain_dmatrix\u001b[49m\u001b[43m,\u001b[49m\n\u001b[1;32m   1493\u001b[0m \u001b[43m    \u001b[49m\u001b[38;5;28;43mself\u001b[39;49m\u001b[38;5;241;43m.\u001b[39;49m\u001b[43mget_num_boosting_rounds\u001b[49m\u001b[43m(\u001b[49m\u001b[43m)\u001b[49m\u001b[43m,\u001b[49m\n\u001b[1;32m   1494\u001b[0m \u001b[43m    \u001b[49m\u001b[43mevals\u001b[49m\u001b[38;5;241;43m=\u001b[39;49m\u001b[43mevals\u001b[49m\u001b[43m,\u001b[49m\n\u001b[1;32m   1495\u001b[0m \u001b[43m    \u001b[49m\u001b[43mearly_stopping_rounds\u001b[49m\u001b[38;5;241;43m=\u001b[39;49m\u001b[43mearly_stopping_rounds\u001b[49m\u001b[43m,\u001b[49m\n\u001b[1;32m   1496\u001b[0m \u001b[43m    \u001b[49m\u001b[43mevals_result\u001b[49m\u001b[38;5;241;43m=\u001b[39;49m\u001b[43mevals_result\u001b[49m\u001b[43m,\u001b[49m\n\u001b[1;32m   1497\u001b[0m \u001b[43m    \u001b[49m\u001b[43mobj\u001b[49m\u001b[38;5;241;43m=\u001b[39;49m\u001b[43mobj\u001b[49m\u001b[43m,\u001b[49m\n\u001b[1;32m   1498\u001b[0m \u001b[43m    \u001b[49m\u001b[43mcustom_metric\u001b[49m\u001b[38;5;241;43m=\u001b[39;49m\u001b[43mmetric\u001b[49m\u001b[43m,\u001b[49m\n\u001b[1;32m   1499\u001b[0m \u001b[43m    \u001b[49m\u001b[43mverbose_eval\u001b[49m\u001b[38;5;241;43m=\u001b[39;49m\u001b[43mverbose\u001b[49m\u001b[43m,\u001b[49m\n\u001b[1;32m   1500\u001b[0m \u001b[43m    \u001b[49m\u001b[43mxgb_model\u001b[49m\u001b[38;5;241;43m=\u001b[39;49m\u001b[43mmodel\u001b[49m\u001b[43m,\u001b[49m\n\u001b[1;32m   1501\u001b[0m \u001b[43m    \u001b[49m\u001b[43mcallbacks\u001b[49m\u001b[38;5;241;43m=\u001b[39;49m\u001b[43mcallbacks\u001b[49m\u001b[43m,\u001b[49m\n\u001b[1;32m   1502\u001b[0m \u001b[43m\u001b[49m\u001b[43m)\u001b[49m\n\u001b[1;32m   1504\u001b[0m \u001b[38;5;28;01mif\u001b[39;00m \u001b[38;5;129;01mnot\u001b[39;00m \u001b[38;5;28mcallable\u001b[39m(\u001b[38;5;28mself\u001b[39m\u001b[38;5;241m.\u001b[39mobjective):\n\u001b[1;32m   1505\u001b[0m     \u001b[38;5;28mself\u001b[39m\u001b[38;5;241m.\u001b[39mobjective \u001b[38;5;241m=\u001b[39m params[\u001b[38;5;124m\"\u001b[39m\u001b[38;5;124mobjective\u001b[39m\u001b[38;5;124m\"\u001b[39m]\n",
      "File \u001b[0;32m~/miniforge3/envs/mli-project/lib/python3.11/site-packages/xgboost/core.py:620\u001b[0m, in \u001b[0;36mrequire_keyword_args.<locals>.throw_if.<locals>.inner_f\u001b[0;34m(*args, **kwargs)\u001b[0m\n\u001b[1;32m    618\u001b[0m \u001b[38;5;28;01mfor\u001b[39;00m k, arg \u001b[38;5;129;01min\u001b[39;00m \u001b[38;5;28mzip\u001b[39m(sig\u001b[38;5;241m.\u001b[39mparameters, args):\n\u001b[1;32m    619\u001b[0m     kwargs[k] \u001b[38;5;241m=\u001b[39m arg\n\u001b[0;32m--> 620\u001b[0m \u001b[38;5;28;01mreturn\u001b[39;00m \u001b[43mfunc\u001b[49m\u001b[43m(\u001b[49m\u001b[38;5;241;43m*\u001b[39;49m\u001b[38;5;241;43m*\u001b[39;49m\u001b[43mkwargs\u001b[49m\u001b[43m)\u001b[49m\n",
      "File \u001b[0;32m~/miniforge3/envs/mli-project/lib/python3.11/site-packages/xgboost/training.py:185\u001b[0m, in \u001b[0;36mtrain\u001b[0;34m(params, dtrain, num_boost_round, evals, obj, feval, maximize, early_stopping_rounds, evals_result, verbose_eval, xgb_model, callbacks, custom_metric)\u001b[0m\n\u001b[1;32m    183\u001b[0m \u001b[38;5;28;01mif\u001b[39;00m cb_container\u001b[38;5;241m.\u001b[39mbefore_iteration(bst, i, dtrain, evals):\n\u001b[1;32m    184\u001b[0m     \u001b[38;5;28;01mbreak\u001b[39;00m\n\u001b[0;32m--> 185\u001b[0m \u001b[43mbst\u001b[49m\u001b[38;5;241;43m.\u001b[39;49m\u001b[43mupdate\u001b[49m\u001b[43m(\u001b[49m\u001b[43mdtrain\u001b[49m\u001b[43m,\u001b[49m\u001b[43m \u001b[49m\u001b[43mi\u001b[49m\u001b[43m,\u001b[49m\u001b[43m \u001b[49m\u001b[43mobj\u001b[49m\u001b[43m)\u001b[49m\n\u001b[1;32m    186\u001b[0m \u001b[38;5;28;01mif\u001b[39;00m cb_container\u001b[38;5;241m.\u001b[39mafter_iteration(bst, i, dtrain, evals):\n\u001b[1;32m    187\u001b[0m     \u001b[38;5;28;01mbreak\u001b[39;00m\n",
      "File \u001b[0;32m~/miniforge3/envs/mli-project/lib/python3.11/site-packages/xgboost/core.py:1918\u001b[0m, in \u001b[0;36mBooster.update\u001b[0;34m(self, dtrain, iteration, fobj)\u001b[0m\n\u001b[1;32m   1915\u001b[0m \u001b[38;5;28mself\u001b[39m\u001b[38;5;241m.\u001b[39m_validate_dmatrix_features(dtrain)\n\u001b[1;32m   1917\u001b[0m \u001b[38;5;28;01mif\u001b[39;00m fobj \u001b[38;5;129;01mis\u001b[39;00m \u001b[38;5;28;01mNone\u001b[39;00m:\n\u001b[0;32m-> 1918\u001b[0m     _check_call(\u001b[43m_LIB\u001b[49m\u001b[38;5;241;43m.\u001b[39;49m\u001b[43mXGBoosterUpdateOneIter\u001b[49m\u001b[43m(\u001b[49m\u001b[38;5;28;43mself\u001b[39;49m\u001b[38;5;241;43m.\u001b[39;49m\u001b[43mhandle\u001b[49m\u001b[43m,\u001b[49m\n\u001b[1;32m   1919\u001b[0m \u001b[43m                                            \u001b[49m\u001b[43mctypes\u001b[49m\u001b[38;5;241;43m.\u001b[39;49m\u001b[43mc_int\u001b[49m\u001b[43m(\u001b[49m\u001b[43miteration\u001b[49m\u001b[43m)\u001b[49m\u001b[43m,\u001b[49m\n\u001b[1;32m   1920\u001b[0m \u001b[43m                                            \u001b[49m\u001b[43mdtrain\u001b[49m\u001b[38;5;241;43m.\u001b[39;49m\u001b[43mhandle\u001b[49m\u001b[43m)\u001b[49m)\n\u001b[1;32m   1921\u001b[0m \u001b[38;5;28;01melse\u001b[39;00m:\n\u001b[1;32m   1922\u001b[0m     pred \u001b[38;5;241m=\u001b[39m \u001b[38;5;28mself\u001b[39m\u001b[38;5;241m.\u001b[39mpredict(dtrain, output_margin\u001b[38;5;241m=\u001b[39m\u001b[38;5;28;01mTrue\u001b[39;00m, training\u001b[38;5;241m=\u001b[39m\u001b[38;5;28;01mTrue\u001b[39;00m)\n",
      "\u001b[0;31mKeyboardInterrupt\u001b[0m: "
     ]
    }
   ],
   "source": [
    "# lets check the run time\n",
    "start_time = time.monotonic()\n",
    "\n",
    "thresholds = np.sort(xgb_2.feature_importances_)\n",
    "for thresh in thresholds:\n",
    " # select features using threshold\n",
    " selection = SelectFromModel(xgb_2, threshold=thresh, prefit=True)\n",
    " select_X_train = selection.transform(X_train)\n",
    " # train model\n",
    " selection_model = xgb.XGBClassifier()\n",
    " selection_model.fit(select_X_train, y_train)\n",
    " # eval model\n",
    " select_X_test = selection.transform(X_test)\n",
    " y_pred = selection_model.predict(select_X_test)\n",
    " predictions = [round(value) for value in y_pred]\n",
    " accuracy = accuracy_score(y_test, predictions)\n",
    " print(\"Thresh=%.3f, n=%d, Accuracy: %.2f%%\" % (thresh, select_X_train.shape[1], accuracy*100.0))\n",
    "# Track the end of the modelling\n",
    "end_time = time.monotonic()\n",
    "print(timedelta(seconds=end_time - start_time))"
   ]
  },
  {
   "cell_type": "code",
   "execution_count": null,
   "id": "350f5ede-f3e8-4a59-a32e-c0edd3c5e239",
   "metadata": {},
   "outputs": [],
   "source": [
    "# lets check the run time\n",
    "start_time = time.monotonic()\n",
    "\n",
    "# compute the SHAP values for the linear model\n",
    "explainer = shap.Explainer(xgb_2)\n",
    "shap_values = explainer(X_train)\n",
    "\n",
    "# Track the end of the shap modelling\n",
    "end_time = time.monotonic()\n",
    "print(timedelta(seconds=end_time - start_time))"
   ]
  },
  {
   "cell_type": "code",
   "execution_count": null,
   "id": "3e1ad9e9-0ba3-474f-887d-8a73751fb60d",
   "metadata": {},
   "outputs": [],
   "source": [
    "#Summarize the effects of features\n",
    "shap.summary_plot(shap_values, X_train)"
   ]
  },
  {
   "cell_type": "code",
   "execution_count": null,
   "id": "ef27dd7a-5f70-4b36-a89a-7f4df03305e1",
   "metadata": {},
   "outputs": [],
   "source": [
    "#shap.force_plot(explainer.expected_value, shap_values[0], feature_names = explainer.feature_names)\n",
    "shap.force_plot(explainer.expected_value, shap_values.values[0, :], X_train.iloc[0, :], matplotlib = True)"
   ]
  },
  {
   "cell_type": "code",
   "execution_count": null,
   "id": "8edbbc29-ac38-44b6-ac91-1a5ef991afb3",
   "metadata": {},
   "outputs": [],
   "source": [
    "#shap.force_plot(explainer.expected_value, shap_values[0], feature_names = explainer.feature_names)\n",
    "shap.force_plot(explainer.expected_value, shap_values.values[1, :], X_train.iloc[0, :], matplotlib = True)"
   ]
  },
  {
   "cell_type": "raw",
   "id": "79fcfa86-14d9-4351-a598-18d1563f3c7c",
   "metadata": {},
   "source": [
    "\n",
    "\n",
    "format = 'svg' #You should try the 'svg'\n",
    "\n",
    "image = xgb.to_graphviz(xgb_1, num_trees=0, rankdir='TB')\n",
    "\n",
    "#Set a different dpi (work only if format == 'png')\n",
    "image.graph_attr = {'dpi':'400'}\n",
    "\n",
    "image.render('231022_XGBoost_Tree_severity', format = format)\n",
    "image"
   ]
  },
  {
   "cell_type": "markdown",
   "id": "03aef1fc-ee62-4552-92ab-7710fe24b9f1",
   "metadata": {},
   "source": [
    "## References\n",
    "[1] [Bergstra, J., Yamins, D., Cox, D. D. (2013) Making a Science of Model Search: Hyperparameter Optimization in Hundreds of Dimensions for Vision Architectures. TProc. of the 30th International Conference on Machine Learning (ICML 2013), June 2013, pp. I-115 to I-23.](https://proceedings.neurips.cc/paper_files/paper/2011/file/86e8f7ab32cfd12577bc2619bc635690-Paper.pdf)\n",
    "\n",
    "[2] https://towardsdatascience.com/hyperopt-demystified-3e14006eb6fa\n",
    "\n",
    "[3] https://xgboost.readthedocs.io/en/stable/tutorials/categorical.html\n",
    "\n",
    "[4] https://github.com/hyperopt/hyperopt\n",
    "\n",
    "[5] https://www.kaggle.com/code/prashant111/a-guide-on-xgboost-hyperparameters-tuning\n",
    "\n",
    "[6] https://github.com/hyperopt/hyperopt/wiki/FMin\n",
    "\n",
    "[7] https://xgboost.readthedocs.io/en/stable/tutorials/param_tuning.html\n",
    "\n",
    "[8] https://www.datamachines.io/blog/auc-vs-log-loss\n",
    "\n",
    "[9] [Rashmi, K.V., Gilad-Bachrach (2015) DART: Dropouts meet Multiple Additive Regression Trees. arXiv:1505.01866v](https://doi.org/10.48550/arXiv.1505.01866)\n",
    "\n",
    "[10] https://datamachines.com/blog/auc-vs-log-loss\n",
    "\n",
    "[11] https://stats.stackexchange.com/questions/322408/logloss-vs-gini-auc\n",
    "\n",
    "[12] https://machinelearningmastery.com/feature-importance-and-feature-selection-with-xgboost-in-python/"
   ]
  }
 ],
 "metadata": {
  "kernelspec": {
   "display_name": "Python 3 (ipykernel)",
   "language": "python",
   "name": "python3"
  },
  "language_info": {
   "codemirror_mode": {
    "name": "ipython",
    "version": 3
   },
   "file_extension": ".py",
   "mimetype": "text/x-python",
   "name": "python",
   "nbconvert_exporter": "python",
   "pygments_lexer": "ipython3",
   "version": "3.11.6"
  }
 },
 "nbformat": 4,
 "nbformat_minor": 5
}
