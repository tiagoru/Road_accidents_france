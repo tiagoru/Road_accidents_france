{
 "cells": [
  {
   "cell_type": "code",
   "execution_count": 2,
   "metadata": {},
   "outputs": [
    {
     "name": "stderr",
     "output_type": "stream",
     "text": [
      "/Users/johannastarkl/opt/anaconda3/lib/python3.8/site-packages/IPython/core/interactiveshell.py:3165: DtypeWarning: Columns (4,10,12,15) have mixed types.Specify dtype option on import or set low_memory=False.\n",
      "  has_raised = await self.run_ast_nodes(code_ast.body, cell_name,\n",
      "/Users/johannastarkl/opt/anaconda3/lib/python3.8/site-packages/IPython/core/interactiveshell.py:3165: DtypeWarning: Columns (2,9,10,12,13) have mixed types.Specify dtype option on import or set low_memory=False.\n",
      "  has_raised = await self.run_ast_nodes(code_ast.body, cell_name,\n",
      "/Users/johannastarkl/opt/anaconda3/lib/python3.8/site-packages/IPython/core/interactiveshell.py:3165: DtypeWarning: Columns (13) have mixed types.Specify dtype option on import or set low_memory=False.\n",
      "  has_raised = await self.run_ast_nodes(code_ast.body, cell_name,\n",
      "/Users/johannastarkl/opt/anaconda3/lib/python3.8/site-packages/IPython/core/interactiveshell.py:3165: DtypeWarning: Columns (4,8) have mixed types.Specify dtype option on import or set low_memory=False.\n",
      "  has_raised = await self.run_ast_nodes(code_ast.body, cell_name,\n"
     ]
    }
   ],
   "source": [
    "import pandas as pd\n",
    "import numpy as np\n",
    "import matplotlib.pyplot as plt\n",
    "import seaborn as sns\n",
    "\n",
    "vehicles=pd.read_csv(\"./data/vehicles.csv\")\n",
    "features=pd.read_csv(\"./data/features.csv\")\n",
    "places=pd.read_csv(\"./data/places.csv\")\n",
    "users=pd.read_csv(\"./data/users.csv\")\n",
    "registered_vehicles=pd.read_csv(\"./data/registered_vehicles.csv\")\n",
    "\n"
   ]
  },
  {
   "cell_type": "code",
   "execution_count": 3,
   "metadata": {},
   "outputs": [
    {
     "name": "stdout",
     "output_type": "stream",
     "text": [
      "<class 'pandas.core.frame.DataFrame'>\n",
      "RangeIndex: 1121571 entries, 0 to 1121570\n",
      "Data columns (total 16 columns):\n",
      " #   Column   Non-Null Count    Dtype  \n",
      "---  ------   --------------    -----  \n",
      " 0   Num_Acc  1121571 non-null  int64  \n",
      " 1   an       1121571 non-null  int64  \n",
      " 2   mois     1121571 non-null  int64  \n",
      " 3   jour     1121571 non-null  int64  \n",
      " 4   hrmn     1121571 non-null  object \n",
      " 5   lum      1121571 non-null  int64  \n",
      " 6   agg      1121571 non-null  int64  \n",
      " 7   int      1121571 non-null  int64  \n",
      " 8   atm      1121498 non-null  float64\n",
      " 9   col      1121552 non-null  float64\n",
      " 10  com      1121569 non-null  object \n",
      " 11  adr      978295 non-null   object \n",
      " 12  gps      480052 non-null   object \n",
      " 13  lat      634503 non-null   float64\n",
      " 14  long     631290 non-null   float64\n",
      " 15  dep      1121571 non-null  object \n",
      "dtypes: float64(4), int64(7), object(5)\n",
      "memory usage: 136.9+ MB\n"
     ]
    }
   ],
   "source": [
    "# exploring features\n",
    "features.info()"
   ]
  },
  {
   "cell_type": "code",
   "execution_count": 5,
   "metadata": {},
   "outputs": [
    {
     "name": "stdout",
     "output_type": "stream",
     "text": [
      "117839\n",
      "137657\n"
     ]
    }
   ],
   "source": [
    "#find out how much of long and lat have value 0\n",
    "\n",
    "print((features['lat'] == 0).astype(int).sum(axis=0))\n",
    "\n",
    "print((features['long'] == 0).astype(int).sum(axis=0))"
   ]
  },
  {
   "cell_type": "code",
   "execution_count": 7,
   "metadata": {},
   "outputs": [
    {
     "data": {
      "text/plain": [
       "False"
      ]
     },
     "execution_count": 7,
     "metadata": {},
     "output_type": "execute_result"
    }
   ],
   "source": [
    "#are there any duplicate values in Num_Acc\n",
    "any(features.duplicated(subset=['Num_Acc']))"
   ]
  },
  {
   "cell_type": "code",
   "execution_count": 8,
   "metadata": {},
   "outputs": [
    {
     "data": {
      "text/plain": [
       "Num_Acc     0.000000\n",
       "an          0.000000\n",
       "mois        0.000000\n",
       "jour        0.000000\n",
       "hrmn        0.000000\n",
       "lum         0.000000\n",
       "agg         0.000000\n",
       "int         0.000000\n",
       "atm         0.006509\n",
       "col         0.001694\n",
       "com         0.000178\n",
       "adr        12.774581\n",
       "gps        57.198251\n",
       "lat        43.427300\n",
       "long       43.713773\n",
       "dep         0.000000\n",
       "dtype: float64"
      ]
     },
     "execution_count": 8,
     "metadata": {},
     "output_type": "execute_result"
    }
   ],
   "source": [
    "# percentage of missing values\n",
    "percent_missing_char = features.isnull().sum() * 100 / len(features)\n",
    "\n",
    "percent_missing_char"
   ]
  },
  {
   "cell_type": "code",
   "execution_count": 9,
   "metadata": {},
   "outputs": [
    {
     "name": "stdout",
     "output_type": "stream",
     "text": [
      "<class 'pandas.core.frame.DataFrame'>\n",
      "RangeIndex: 1121571 entries, 0 to 1121570\n",
      "Data columns (total 19 columns):\n",
      " #   Column   Non-Null Count    Dtype  \n",
      "---  ------   --------------    -----  \n",
      " 0   Num_Acc  1121571 non-null  int64  \n",
      " 1   catr     1121570 non-null  float64\n",
      " 2   voie     1014391 non-null  object \n",
      " 3   v1       485747 non-null   float64\n",
      " 4   v2       51369 non-null    object \n",
      " 5   circ     1119997 non-null  float64\n",
      " 6   nbv      1118840 non-null  float64\n",
      " 7   vosp     1118810 non-null  float64\n",
      " 8   prof     1119622 non-null  float64\n",
      " 9   pr       646087 non-null   object \n",
      " 10  pr1      644268 non-null   object \n",
      " 11  plan     1119290 non-null  float64\n",
      " 12  lartpc   902739 non-null   object \n",
      " 13  larrout  1008730 non-null  object \n",
      " 14  surf     1119647 non-null  float64\n",
      " 15  infra    1116163 non-null  float64\n",
      " 16  situ     1116601 non-null  float64\n",
      " 17  vma      163102 non-null   float64\n",
      " 18  env1     953029 non-null   float64\n",
      "dtypes: float64(12), int64(1), object(6)\n",
      "memory usage: 162.6+ MB\n"
     ]
    }
   ],
   "source": [
    "#exploring places\n",
    "places.info()"
   ]
  },
  {
   "cell_type": "code",
   "execution_count": 10,
   "metadata": {},
   "outputs": [
    {
     "data": {
      "text/plain": [
       "False"
      ]
     },
     "execution_count": 10,
     "metadata": {},
     "output_type": "execute_result"
    }
   ],
   "source": [
    "#are there any duplicate values in Num_Acc\n",
    "any(places.duplicated(subset=['Num_Acc']))"
   ]
  },
  {
   "cell_type": "code",
   "execution_count": 11,
   "metadata": {},
   "outputs": [
    {
     "data": {
      "text/plain": [
       "Num_Acc     0.000000\n",
       "catr        0.000089\n",
       "voie        9.556239\n",
       "v1         56.690481\n",
       "v2         95.419907\n",
       "circ        0.140339\n",
       "nbv         0.243498\n",
       "vosp        0.246173\n",
       "prof        0.173774\n",
       "pr         42.394463\n",
       "pr1        42.556646\n",
       "plan        0.203375\n",
       "lartpc     19.511203\n",
       "larrout    10.060977\n",
       "surf        0.171545\n",
       "infra       0.482181\n",
       "situ        0.443128\n",
       "vma        85.457720\n",
       "env1       15.027314\n",
       "dtype: float64"
      ]
     },
     "execution_count": 11,
     "metadata": {},
     "output_type": "execute_result"
    }
   ],
   "source": [
    "# percentage of missing values\n",
    "percent_missing_places = places.isnull().sum() * 100 / len(places)\n",
    "\n",
    "percent_missing_places"
   ]
  },
  {
   "cell_type": "code",
   "execution_count": 12,
   "metadata": {},
   "outputs": [
    {
     "name": "stdout",
     "output_type": "stream",
     "text": [
      "<class 'pandas.core.frame.DataFrame'>\n",
      "RangeIndex: 1914902 entries, 0 to 1914901\n",
      "Data columns (total 11 columns):\n",
      " #   Column       Dtype  \n",
      "---  ------       -----  \n",
      " 0   Num_Acc      int64  \n",
      " 1   senc         float64\n",
      " 2   catv         int64  \n",
      " 3   occutc       float64\n",
      " 4   obs          float64\n",
      " 5   obsm         float64\n",
      " 6   choc         float64\n",
      " 7   manv         float64\n",
      " 8   num_veh      object \n",
      " 9   id_vehicule  float64\n",
      " 10  motor        float64\n",
      "dtypes: float64(8), int64(2), object(1)\n",
      "memory usage: 160.7+ MB\n"
     ]
    }
   ],
   "source": [
    "#exploring vehicles\n",
    "vehicles.info()"
   ]
  },
  {
   "cell_type": "code",
   "execution_count": 13,
   "metadata": {},
   "outputs": [
    {
     "data": {
      "text/plain": [
       "Num_Acc         0.000000\n",
       "senc            0.014204\n",
       "catv            0.000000\n",
       "occutc         14.456823\n",
       "obs             0.052535\n",
       "obsm            0.040629\n",
       "choc            0.020732\n",
       "manv            0.024440\n",
       "num_veh         0.000000\n",
       "id_vehicule    85.425312\n",
       "motor          85.425312\n",
       "dtype: float64"
      ]
     },
     "execution_count": 13,
     "metadata": {},
     "output_type": "execute_result"
    }
   ],
   "source": [
    "# percentage of missing values\n",
    "percent_missing_vehicles = vehicles.isnull().sum() * 100 / len(vehicles)\n",
    "\n",
    "percent_missing_vehicles"
   ]
  },
  {
   "cell_type": "code",
   "execution_count": 14,
   "metadata": {},
   "outputs": [
    {
     "data": {
      "text/plain": [
       "True"
      ]
     },
     "execution_count": 14,
     "metadata": {},
     "output_type": "execute_result"
    }
   ],
   "source": [
    "#are there any duplicate values in Num_Acc\n",
    "any(vehicles.duplicated(subset=['Num_Acc']))"
   ]
  },
  {
   "cell_type": "code",
   "execution_count": 15,
   "metadata": {},
   "outputs": [
    {
     "data": {
      "text/plain": [
       "True"
      ]
     },
     "execution_count": 15,
     "metadata": {},
     "output_type": "execute_result"
    }
   ],
   "source": [
    "#are there any duplicate values in num_veh\n",
    "any(vehicles.duplicated(subset=['num_veh']))"
   ]
  },
  {
   "cell_type": "code",
   "execution_count": 16,
   "metadata": {},
   "outputs": [
    {
     "name": "stdout",
     "output_type": "stream",
     "text": [
      "<class 'pandas.core.frame.DataFrame'>\n",
      "RangeIndex: 2509620 entries, 0 to 2509619\n",
      "Data columns (total 16 columns):\n",
      " #   Column       Dtype  \n",
      "---  ------       -----  \n",
      " 0   Num_Acc      int64  \n",
      " 1   id_vehicule  float64\n",
      " 2   num_veh      object \n",
      " 3   place        float64\n",
      " 4   catu         int64  \n",
      " 5   grav         int64  \n",
      " 6   sexe         int64  \n",
      " 7   an_nais      float64\n",
      " 8   trajet       float64\n",
      " 9   secu1        float64\n",
      " 10  secu2        float64\n",
      " 11  secu3        float64\n",
      " 12  locp         float64\n",
      " 13  actp         object \n",
      " 14  etatp        float64\n",
      " 15  secu         float64\n",
      "dtypes: float64(10), int64(4), object(2)\n",
      "memory usage: 306.4+ MB\n"
     ]
    }
   ],
   "source": [
    "#exploring users\n",
    "\n",
    "users.info()\n"
   ]
  },
  {
   "cell_type": "code",
   "execution_count": 17,
   "metadata": {},
   "outputs": [
    {
     "data": {
      "text/plain": [
       "Num_Acc         0.000000\n",
       "id_vehicule    85.359337\n",
       "num_veh         0.000000\n",
       "place           4.906241\n",
       "catu            0.000000\n",
       "grav            0.000000\n",
       "sexe            0.000000\n",
       "an_nais         0.218559\n",
       "trajet          0.019684\n",
       "secu1          85.359337\n",
       "secu2          85.359337\n",
       "secu3          85.359337\n",
       "locp            2.245798\n",
       "actp            2.249823\n",
       "etatp           2.248069\n",
       "secu           16.893474\n",
       "dtype: float64"
      ]
     },
     "execution_count": 17,
     "metadata": {},
     "output_type": "execute_result"
    }
   ],
   "source": [
    "# percentage of missing values\n",
    "percent_missing_users = users.isnull().sum() * 100 / len(users)\n",
    "\n",
    "percent_missing_users"
   ]
  },
  {
   "cell_type": "code",
   "execution_count": 18,
   "metadata": {},
   "outputs": [
    {
     "name": "stdout",
     "output_type": "stream",
     "text": [
      "<class 'pandas.core.frame.DataFrame'>\n",
      "RangeIndex: 1200791 entries, 0 to 1200790\n",
      "Data columns (total 9 columns):\n",
      " #   Column                              Non-Null Count    Dtype  \n",
      "---  ------                              --------------    -----  \n",
      " 0   Id_accident                         1200791 non-null  float64\n",
      " 1   Lettre Conventionnelle Véhicule     1200790 non-null  object \n",
      " 2   Année                               1200791 non-null  int64  \n",
      " 3   Lieu Admin Actuel - Territoire Nom  1200791 non-null  object \n",
      " 4   Type Accident - Libellé             1078193 non-null  object \n",
      " 5   CNIT                                776011 non-null   object \n",
      " 6   Catégorie véhicule                  1200791 non-null  object \n",
      " 7   Age véhicule                        1096600 non-null  float64\n",
      " 8   Type Accident - Libellé (old)       122598 non-null   object \n",
      "dtypes: float64(2), int64(1), object(6)\n",
      "memory usage: 82.5+ MB\n"
     ]
    }
   ],
   "source": [
    "#exploring registered_vehicles\n",
    "\n",
    "registered_vehicles.info()"
   ]
  },
  {
   "cell_type": "code",
   "execution_count": 19,
   "metadata": {},
   "outputs": [
    {
     "data": {
      "text/plain": [
       "Id_accident                            0.000000\n",
       "Lettre Conventionnelle Véhicule        0.000083\n",
       "Année                                  0.000000\n",
       "Lieu Admin Actuel - Territoire Nom     0.000000\n",
       "Type Accident - Libellé               10.209770\n",
       "CNIT                                  35.375015\n",
       "Catégorie véhicule                     0.000000\n",
       "Age véhicule                           8.676864\n",
       "Type Accident - Libellé (old)         89.790230\n",
       "dtype: float64"
      ]
     },
     "execution_count": 19,
     "metadata": {},
     "output_type": "execute_result"
    }
   ],
   "source": [
    "# percentage of missing values\n",
    "percent_missing_registered_vehicles = registered_vehicles.isnull().sum() * 100 / len(registered_vehicles)\n",
    "\n",
    "percent_missing_registered_vehicles"
   ]
  }
 ],
 "metadata": {
  "kernelspec": {
   "display_name": "base",
   "language": "python",
   "name": "python3"
  },
  "language_info": {
   "codemirror_mode": {
    "name": "ipython",
    "version": 3
   },
   "file_extension": ".py",
   "mimetype": "text/x-python",
   "name": "python",
   "nbconvert_exporter": "python",
   "pygments_lexer": "ipython3",
   "version": "3.8.8"
  },
  "orig_nbformat": 4
 },
 "nbformat": 4,
 "nbformat_minor": 2
}
