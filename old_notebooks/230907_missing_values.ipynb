{
 "cells": [
  {
   "cell_type": "code",
   "execution_count": 1,
   "id": "8f0eeed9",
   "metadata": {},
   "outputs": [
    {
     "data": {
      "text/plain": [
       "(2509598, 63)"
      ]
     },
     "execution_count": 1,
     "metadata": {},
     "output_type": "execute_result"
    }
   ],
   "source": [
    "import pandas as pd\n",
    "import numpy as np\n",
    "import re\n",
    "from datetime import datetime\n",
    "\n",
    "df=pd.read_csv(\"./data/230901_basic_table_for_analysis.csv\", index_col=0, low_memory=False)\n",
    "\n",
    "df.head()\n",
    "\n",
    "df.shape"
   ]
  },
  {
   "cell_type": "code",
   "execution_count": 2,
   "id": "d7326ff8",
   "metadata": {},
   "outputs": [
    {
     "ename": "NameError",
     "evalue": "name 'df' is not defined",
     "output_type": "error",
     "traceback": [
      "\u001b[0;31m---------------------------------------------------------------------------\u001b[0m",
      "\u001b[0;31mNameError\u001b[0m                                 Traceback (most recent call last)",
      "Cell \u001b[0;32mIn[2], line 2\u001b[0m\n\u001b[1;32m      1\u001b[0m \u001b[38;5;66;03m#calculate missing values of each colum\u001b[39;00m\n\u001b[0;32m----> 2\u001b[0m percent_missing \u001b[38;5;241m=\u001b[39m \u001b[43mdf\u001b[49m\u001b[38;5;241m.\u001b[39misnull()\u001b[38;5;241m.\u001b[39msum() \u001b[38;5;241m*\u001b[39m \u001b[38;5;241m100\u001b[39m \u001b[38;5;241m/\u001b[39m \u001b[38;5;28mlen\u001b[39m(df)\n\u001b[1;32m      3\u001b[0m missing_value_df \u001b[38;5;241m=\u001b[39m pd\u001b[38;5;241m.\u001b[39mDataFrame({\u001b[38;5;124m'\u001b[39m\u001b[38;5;124mcolumn_name\u001b[39m\u001b[38;5;124m'\u001b[39m: df\u001b[38;5;241m.\u001b[39mcolumns,\n\u001b[1;32m      4\u001b[0m                                  \u001b[38;5;124m'\u001b[39m\u001b[38;5;124mpercent_missing\u001b[39m\u001b[38;5;124m'\u001b[39m: percent_missing})\n\u001b[1;32m      5\u001b[0m percent_missing\n",
      "\u001b[0;31mNameError\u001b[0m: name 'df' is not defined"
     ]
    }
   ],
   "source": [
    "#calculate missing values of each colum\n",
    "percent_missing = df.isnull().sum() * 100 / len(df)\n",
    "missing_value_df = pd.DataFrame({'column_name': df.columns,\n",
    "                                 'percent_missing': percent_missing})\n",
    "percent_missing"
   ]
  },
  {
   "cell_type": "code",
   "execution_count": 1,
   "id": "8889a8c8",
   "metadata": {},
   "outputs": [
    {
     "ename": "NameError",
     "evalue": "name 'df' is not defined",
     "output_type": "error",
     "traceback": [
      "\u001b[0;31m---------------------------------------------------------------------------\u001b[0m",
      "\u001b[0;31mNameError\u001b[0m                                 Traceback (most recent call last)",
      "Cell \u001b[0;32mIn[1], line 6\u001b[0m\n\u001b[1;32m      1\u001b[0m \u001b[38;5;66;03m#cleaning of the dataset regarding missing values\u001b[39;00m\n\u001b[1;32m      2\u001b[0m \n\u001b[1;32m      3\u001b[0m \u001b[38;5;66;03m#delete columns id_vehicule, com, gps, voie, v1, v2, pr, pr1, lartpc, larrout, vma, env1, motor, secu1, \u001b[39;00m\n\u001b[1;32m      4\u001b[0m \u001b[38;5;66;03m#secu2, secu3, secu\u001b[39;00m\n\u001b[0;32m----> 6\u001b[0m \u001b[43mdf\u001b[49m\u001b[38;5;241m.\u001b[39mdrop([\u001b[38;5;124m'\u001b[39m\u001b[38;5;124mid_vehicule\u001b[39m\u001b[38;5;124m'\u001b[39m, \u001b[38;5;124m'\u001b[39m\u001b[38;5;124mcom\u001b[39m\u001b[38;5;124m'\u001b[39m, \u001b[38;5;124m'\u001b[39m\u001b[38;5;124mgps\u001b[39m\u001b[38;5;124m'\u001b[39m, \u001b[38;5;124m'\u001b[39m\u001b[38;5;124mvoie\u001b[39m\u001b[38;5;124m'\u001b[39m, \u001b[38;5;124m'\u001b[39m\u001b[38;5;124mv1\u001b[39m\u001b[38;5;124m'\u001b[39m, \u001b[38;5;124m'\u001b[39m\u001b[38;5;124mv2\u001b[39m\u001b[38;5;124m'\u001b[39m,\n\u001b[1;32m      7\u001b[0m          \u001b[38;5;124m'\u001b[39m\u001b[38;5;124mpr\u001b[39m\u001b[38;5;124m'\u001b[39m, \u001b[38;5;124m'\u001b[39m\u001b[38;5;124mpr1\u001b[39m\u001b[38;5;124m'\u001b[39m, \u001b[38;5;124m'\u001b[39m\u001b[38;5;124mlartpc\u001b[39m\u001b[38;5;124m'\u001b[39m, \u001b[38;5;124m'\u001b[39m\u001b[38;5;124mlarrout\u001b[39m\u001b[38;5;124m'\u001b[39m, \u001b[38;5;124m'\u001b[39m\u001b[38;5;124mvma\u001b[39m\u001b[38;5;124m'\u001b[39m, \u001b[38;5;124m'\u001b[39m\u001b[38;5;124menv1\u001b[39m\u001b[38;5;124m'\u001b[39m, \u001b[38;5;124m'\u001b[39m\u001b[38;5;124mmotor\u001b[39m\u001b[38;5;124m'\u001b[39m, \n\u001b[1;32m      8\u001b[0m          \u001b[38;5;124m'\u001b[39m\u001b[38;5;124msecu\u001b[39m\u001b[38;5;124m'\u001b[39m, \u001b[38;5;124m'\u001b[39m\u001b[38;5;124msecu1\u001b[39m\u001b[38;5;124m'\u001b[39m, \u001b[38;5;124m'\u001b[39m\u001b[38;5;124msecu2\u001b[39m\u001b[38;5;124m'\u001b[39m, \u001b[38;5;124m'\u001b[39m\u001b[38;5;124msecu3\u001b[39m\u001b[38;5;124m'\u001b[39m], axis\u001b[38;5;241m=\u001b[39m\u001b[38;5;241m1\u001b[39m, inplace\u001b[38;5;241m=\u001b[39m\u001b[38;5;28;01mTrue\u001b[39;00m)\n",
      "\u001b[0;31mNameError\u001b[0m: name 'df' is not defined"
     ]
    }
   ],
   "source": [
    "#cleaning of the dataset regarding missing values\n",
    "\n",
    "#delete columns id_vehicule, com, gps, voie, v1, v2, pr, pr1, lartpc, larrout, vma, env1, motor, secu1, \n",
    "#secu2, secu3, secu\n",
    "\n",
    "df.drop(['id_vehicule', 'com', 'gps', 'voie', 'v1', 'v2',\n",
    "         'pr', 'pr1', 'lartpc', 'larrout', 'vma', 'env1', 'motor', \n",
    "         'secu', 'secu1', 'secu2', 'secu3'], axis=1, inplace=True)\n",
    "\n",
    "\n"
   ]
  },
  {
   "cell_type": "code",
   "execution_count": 4,
   "id": "20759162",
   "metadata": {},
   "outputs": [],
   "source": [
    "#replace NaN with -1 (coded as no information) in columns\n",
    "#place, an_nais, trajet, locp, actp, etatp ,atm, col, circ, nbv, vosp, prof, plan, surf, infra\n",
    "#situ, senc, occutc, obs, obsm, choc, manv\n",
    "\n",
    "df.fillna({'place':'-1', 'an_nais':'-1', 'trajet':'-1', 'locp':'-1', 'actp':'-1', \n",
    "           'etatp':'-1', 'atm':'-1', 'col':'-1', 'circ':'-1', \n",
    "           'nbv':'-1', 'vosp':'-1', 'prof':'-1', 'plan':'-1', \n",
    "           'surf':'-1', 'infra':'-1', 'situ':'-1', 'senc':'-1', 'occutc':'-1', \n",
    "           'obs':'-1', 'obsm':'-1', 'choc':'-1', 'manv':'-1'}, inplace=True)"
   ]
  },
  {
   "cell_type": "code",
   "execution_count": 5,
   "id": "4550030a",
   "metadata": {},
   "outputs": [],
   "source": [
    "#remove lines with NaN in column catr\n",
    "\n",
    "df.dropna(subset=['catr'], inplace=True)\n"
   ]
  },
  {
   "cell_type": "code",
   "execution_count": 6,
   "id": "b8e13b4d",
   "metadata": {},
   "outputs": [
    {
     "data": {
      "text/plain": [
       "count        2509596\n",
       "unique          6209\n",
       "top       2005-12-16\n",
       "freq             832\n",
       "Name: date, dtype: object"
      ]
     },
     "execution_count": 6,
     "metadata": {},
     "output_type": "execute_result"
    }
   ],
   "source": [
    "#transform date to datetime\n",
    "df['date'] =  pd.to_datetime(df['date'], format=\"%Y-%m-%d\")\n",
    "\n",
    "df['date'] = df['date'].dt.date\n",
    "\n",
    "df['date'].describe()"
   ]
  },
  {
   "cell_type": "code",
   "execution_count": 7,
   "id": "605a6ffa-c2b2-4f69-891d-c3d25a6234cd",
   "metadata": {},
   "outputs": [
    {
     "data": {
      "text/plain": [
       "num_veh          0.000000\n",
       "place            0.000000\n",
       "catu             0.000000\n",
       "grav             0.000000\n",
       "sexe             0.000000\n",
       "an_nais          0.000000\n",
       "trajet           0.000000\n",
       "locp             0.000000\n",
       "actp             0.000000\n",
       "etatp            0.000000\n",
       "an               0.000000\n",
       "mois             0.000000\n",
       "jour             0.000000\n",
       "hrmn             0.000000\n",
       "lum              0.000000\n",
       "agg              0.000000\n",
       "int              0.000000\n",
       "atm              0.000000\n",
       "col              0.000000\n",
       "adr             13.695511\n",
       "lat             42.471816\n",
       "long            42.760428\n",
       "dep              0.000000\n",
       "metropolitan     0.000000\n",
       "catr             0.000000\n",
       "circ             0.000000\n",
       "nbv              0.000000\n",
       "vosp             0.000000\n",
       "prof             0.000000\n",
       "plan             0.000000\n",
       "surf             0.000000\n",
       "infra            0.000000\n",
       "situ             0.000000\n",
       "senc             0.000000\n",
       "catv             0.000000\n",
       "occutc           0.000000\n",
       "obs              0.000000\n",
       "obsm             0.000000\n",
       "choc             0.000000\n",
       "manv             0.000000\n",
       "date             0.000000\n",
       "is_holiday       0.000000\n",
       "holiday         97.749917\n",
       "secu_used        0.000000\n",
       "secu_avail       0.000000\n",
       "fatal            0.000000\n",
       "dtype: float64"
      ]
     },
     "execution_count": 7,
     "metadata": {},
     "output_type": "execute_result"
    }
   ],
   "source": [
    "percent_missing_clean = df.isnull().sum() * 100 / len(df)\n",
    "percent_missing_clean"
   ]
  },
  {
   "cell_type": "markdown",
   "id": "8dec5b48-8a19-4c9b-8429-6ee209689019",
   "metadata": {},
   "source": [
    "## Transform data types\n",
    "### Date and time variables\n",
    "The date and time variables are maybe important as grouping variables or as contrains for time dependent severity of accidents.\n",
    "\n",
    "For the grouping, a timestamp is required for unbiased identification time related accidents.\n",
    "\n",
    "_Problem_:\n",
    "\n",
    "During the transformation of the `hrmn` variable, I got aware, that the string contain integers like `1`,  `801`, or `1300`. Hence, anytime during data conversion, the colon got lost and the values got truncated. Hence `1` should be `00:01` and so on. Therefore, we need an additional transformation of the truncated data to `h:m` format.\n",
    "\n",
    "**Steps:**\n",
    "1. Fixing the truncated values in `hrmn`\n",
    "3. Creation of a `datatime` variable in format y-m-d hh:mm\n",
    "4. Transformation of the datatime varible to a `timestamp` variable\n",
    "\n",
    "\n",
    "In addition, we need to transform the type of `an_nais` to integer and `date` to `date`."
   ]
  },
  {
   "cell_type": "code",
   "execution_count": 8,
   "id": "2b39c78c-4156-4c3e-b80f-005cc2eb6373",
   "metadata": {},
   "outputs": [],
   "source": [
    "# Fixing the hrmn issue:\n",
    "# Remove the colon\n",
    "df['hrmn'] = df.apply(lambda x: re.sub(string=x['hrmn'], pattern=':', repl=''), axis = 1)\n",
    "\n",
    "# Pad the string to four zeros\n",
    "df['hrmn'] = df.apply(lambda x: x['hrmn'].zfill(4), axis = 1)\n",
    "\n",
    "# Transform the variable to 'hh:mm' and split to hours and minutes\n",
    "df = df.assign(hrmn = pd.to_datetime(df['hrmn'], format='%H%M').dt.strftime('%H:%M'))\n",
    "\n",
    "# Create the daytime variable\n",
    "df['datetime'] = df.apply(lambda x: datetime(x['an'], x['mois'], x['jour'], datetime.strptime(x['hrmn'], \"%H:%M\").hour, datetime.strptime(x['hrmn'], \"%H:%M\").minute), axis = 1)\n",
    "\n",
    "# Create the timestamp\n",
    "df['timestamp'] = df.apply(lambda x: datetime.timestamp(x['datetime']), axis = 1)\n",
    "\n",
    "# Transform `an_nais`\n",
    "df['an_nais'] = df['an_nais'].astype('int64')\n",
    "\n",
    "# Transform `date`\n",
    "df = df.assign(date = pd.to_datetime(df['date'], format='mixed'))"
   ]
  },
  {
   "cell_type": "code",
   "execution_count": 9,
   "id": "dd5f7d60",
   "metadata": {},
   "outputs": [],
   "source": [
    "#save data to a new file\n",
    "df.to_csv(\"./data/230921_basic_table_for_analysis_cleaned.csv\", sep = ',', header = True, na_rep = 'n/a', index=True)"
   ]
  }
 ],
 "metadata": {
  "kernelspec": {
   "display_name": "Python 3 (ipykernel)",
   "language": "python",
   "name": "python3"
  },
  "language_info": {
   "codemirror_mode": {
    "name": "ipython",
    "version": 3
   },
   "file_extension": ".py",
   "mimetype": "text/x-python",
   "name": "python",
   "nbconvert_exporter": "python",
   "pygments_lexer": "ipython3",
   "version": "3.11.6"
  }
 },
 "nbformat": 4,
 "nbformat_minor": 5
}
