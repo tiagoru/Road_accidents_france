{
 "cells": [
  {
   "cell_type": "code",
   "execution_count": 3,
   "metadata": {},
   "outputs": [],
   "source": [
    "import pandas as pd\n",
    "import numpy as np\n",
    "import matplotlib.pyplot as plt\n",
    "import seaborn as sns\n",
    "\n",
    "# tryig to set the target variable as the fatal or non fatal accindents in France metropolitan area\n",
    "#Step 2/ Pre-processing and feature engineering : Deadline Friday, 14th of July\n",
    "#Following the observations made in the previous step, you will have to clean your dataset and perform the pre-processing steps.\n",
    "#If necessary, you will have to transform and/or add features and enrich your dataset.\n",
    "#The objective at the end of this step is to have a dataset ready to perform in-depth analysis and/or modeling using Machine (and Deep) Learning."
   ]
  },
  {
   "cell_type": "code",
   "execution_count": 4,
   "metadata": {},
   "outputs": [
    {
     "name": "stdout",
     "output_type": "stream",
     "text": [
      "<class 'pandas.core.frame.DataFrame'>\n",
      "Int64Index: 2509596 entries, 201900000001 to 201800057783\n",
      "Data columns (total 46 columns):\n",
      " #   Column        Dtype  \n",
      "---  ------        -----  \n",
      " 0   num_veh       object \n",
      " 1   place         float64\n",
      " 2   catu          int64  \n",
      " 3   grav          int64  \n",
      " 4   sexe          int64  \n",
      " 5   an_nais       float64\n",
      " 6   trajet        float64\n",
      " 7   locp          float64\n",
      " 8   actp          object \n",
      " 9   etatp         float64\n",
      " 10  an            int64  \n",
      " 11  mois          int64  \n",
      " 12  jour          int64  \n",
      " 13  hrmn          object \n",
      " 14  lum           int64  \n",
      " 15  agg           int64  \n",
      " 16  int           int64  \n",
      " 17  atm           float64\n",
      " 18  col           float64\n",
      " 19  adr           object \n",
      " 20  lat           float64\n",
      " 21  long          float64\n",
      " 22  dep           int64  \n",
      " 23  metropolitan  float64\n",
      " 24  catr          float64\n",
      " 25  circ          float64\n",
      " 26  nbv           float64\n",
      " 27  vosp          float64\n",
      " 28  prof          float64\n",
      " 29  plan          float64\n",
      " 30  surf          float64\n",
      " 31  infra         float64\n",
      " 32  situ          float64\n",
      " 33  senc          float64\n",
      " 34  catv          int64  \n",
      " 35  occutc        float64\n",
      " 36  obs           float64\n",
      " 37  obsm          float64\n",
      " 38  choc          float64\n",
      " 39  manv          float64\n",
      " 40  date          object \n",
      " 41  is_holiday    bool   \n",
      " 42  holiday       object \n",
      " 43  secu_used     int64  \n",
      " 44  secu_avail    int64  \n",
      " 45  fatal         int64  \n",
      "dtypes: bool(1), float64(25), int64(14), object(6)\n",
      "memory usage: 883.1+ MB\n"
     ]
    }
   ],
   "source": [
    "df = pd.read_csv(\"./data/230907_basic_table_for_analysis_cleaned.csv\", index_col=0, low_memory=False)\n",
    "\n",
    "df.info()"
   ]
  },
  {
   "cell_type": "code",
   "execution_count": 5,
   "metadata": {},
   "outputs": [
    {
     "data": {
      "text/html": [
       "<div>\n",
       "<style scoped>\n",
       "    .dataframe tbody tr th:only-of-type {\n",
       "        vertical-align: middle;\n",
       "    }\n",
       "\n",
       "    .dataframe tbody tr th {\n",
       "        vertical-align: top;\n",
       "    }\n",
       "\n",
       "    .dataframe thead th {\n",
       "        text-align: right;\n",
       "    }\n",
       "</style>\n",
       "<table border=\"1\" class=\"dataframe\">\n",
       "  <thead>\n",
       "    <tr style=\"text-align: right;\">\n",
       "      <th></th>\n",
       "      <th>num_veh</th>\n",
       "      <th>place</th>\n",
       "      <th>catu</th>\n",
       "      <th>grav</th>\n",
       "      <th>sexe</th>\n",
       "      <th>an_nais</th>\n",
       "      <th>trajet</th>\n",
       "      <th>locp</th>\n",
       "      <th>actp</th>\n",
       "      <th>etatp</th>\n",
       "      <th>...</th>\n",
       "      <th>obs</th>\n",
       "      <th>obsm</th>\n",
       "      <th>choc</th>\n",
       "      <th>manv</th>\n",
       "      <th>date</th>\n",
       "      <th>is_holiday</th>\n",
       "      <th>holiday</th>\n",
       "      <th>secu_used</th>\n",
       "      <th>secu_avail</th>\n",
       "      <th>fatal</th>\n",
       "    </tr>\n",
       "    <tr>\n",
       "      <th>Num_Acc</th>\n",
       "      <th></th>\n",
       "      <th></th>\n",
       "      <th></th>\n",
       "      <th></th>\n",
       "      <th></th>\n",
       "      <th></th>\n",
       "      <th></th>\n",
       "      <th></th>\n",
       "      <th></th>\n",
       "      <th></th>\n",
       "      <th></th>\n",
       "      <th></th>\n",
       "      <th></th>\n",
       "      <th></th>\n",
       "      <th></th>\n",
       "      <th></th>\n",
       "      <th></th>\n",
       "      <th></th>\n",
       "      <th></th>\n",
       "      <th></th>\n",
       "      <th></th>\n",
       "    </tr>\n",
       "  </thead>\n",
       "  <tbody>\n",
       "    <tr>\n",
       "      <th>201900000001</th>\n",
       "      <td>B01</td>\n",
       "      <td>2.0</td>\n",
       "      <td>2</td>\n",
       "      <td>4</td>\n",
       "      <td>2</td>\n",
       "      <td>2002.0</td>\n",
       "      <td>0.0</td>\n",
       "      <td>-1.0</td>\n",
       "      <td>-1</td>\n",
       "      <td>-1.0</td>\n",
       "      <td>...</td>\n",
       "      <td>0.0</td>\n",
       "      <td>2.0</td>\n",
       "      <td>5.0</td>\n",
       "      <td>23.0</td>\n",
       "      <td>2019-11-30</td>\n",
       "      <td>False</td>\n",
       "      <td>NaN</td>\n",
       "      <td>3</td>\n",
       "      <td>1</td>\n",
       "      <td>0</td>\n",
       "    </tr>\n",
       "    <tr>\n",
       "      <th>201900000001</th>\n",
       "      <td>B01</td>\n",
       "      <td>1.0</td>\n",
       "      <td>1</td>\n",
       "      <td>4</td>\n",
       "      <td>2</td>\n",
       "      <td>1993.0</td>\n",
       "      <td>5.0</td>\n",
       "      <td>-1.0</td>\n",
       "      <td>-1</td>\n",
       "      <td>-1.0</td>\n",
       "      <td>...</td>\n",
       "      <td>0.0</td>\n",
       "      <td>2.0</td>\n",
       "      <td>5.0</td>\n",
       "      <td>23.0</td>\n",
       "      <td>2019-11-30</td>\n",
       "      <td>False</td>\n",
       "      <td>NaN</td>\n",
       "      <td>3</td>\n",
       "      <td>1</td>\n",
       "      <td>0</td>\n",
       "    </tr>\n",
       "    <tr>\n",
       "      <th>201900000001</th>\n",
       "      <td>A01</td>\n",
       "      <td>1.0</td>\n",
       "      <td>1</td>\n",
       "      <td>1</td>\n",
       "      <td>1</td>\n",
       "      <td>1959.0</td>\n",
       "      <td>0.0</td>\n",
       "      <td>-1.0</td>\n",
       "      <td>-1</td>\n",
       "      <td>-1.0</td>\n",
       "      <td>...</td>\n",
       "      <td>1.0</td>\n",
       "      <td>0.0</td>\n",
       "      <td>3.0</td>\n",
       "      <td>11.0</td>\n",
       "      <td>2019-11-30</td>\n",
       "      <td>False</td>\n",
       "      <td>NaN</td>\n",
       "      <td>3</td>\n",
       "      <td>1</td>\n",
       "      <td>0</td>\n",
       "    </tr>\n",
       "    <tr>\n",
       "      <th>201900000002</th>\n",
       "      <td>A01</td>\n",
       "      <td>1.0</td>\n",
       "      <td>1</td>\n",
       "      <td>4</td>\n",
       "      <td>2</td>\n",
       "      <td>1994.0</td>\n",
       "      <td>0.0</td>\n",
       "      <td>-1.0</td>\n",
       "      <td>-1</td>\n",
       "      <td>-1.0</td>\n",
       "      <td>...</td>\n",
       "      <td>4.0</td>\n",
       "      <td>0.0</td>\n",
       "      <td>1.0</td>\n",
       "      <td>0.0</td>\n",
       "      <td>2019-11-30</td>\n",
       "      <td>False</td>\n",
       "      <td>NaN</td>\n",
       "      <td>3</td>\n",
       "      <td>1</td>\n",
       "      <td>0</td>\n",
       "    </tr>\n",
       "    <tr>\n",
       "      <th>201900000003</th>\n",
       "      <td>A01</td>\n",
       "      <td>1.0</td>\n",
       "      <td>1</td>\n",
       "      <td>1</td>\n",
       "      <td>1</td>\n",
       "      <td>1996.0</td>\n",
       "      <td>0.0</td>\n",
       "      <td>-1.0</td>\n",
       "      <td>0</td>\n",
       "      <td>-1.0</td>\n",
       "      <td>...</td>\n",
       "      <td>0.0</td>\n",
       "      <td>2.0</td>\n",
       "      <td>1.0</td>\n",
       "      <td>2.0</td>\n",
       "      <td>2019-11-28</td>\n",
       "      <td>False</td>\n",
       "      <td>NaN</td>\n",
       "      <td>3</td>\n",
       "      <td>1</td>\n",
       "      <td>0</td>\n",
       "    </tr>\n",
       "  </tbody>\n",
       "</table>\n",
       "<p>5 rows × 46 columns</p>\n",
       "</div>"
      ],
      "text/plain": [
       "             num_veh  place  catu  grav  sexe  an_nais  trajet  locp actp  \\\n",
       "Num_Acc                                                                     \n",
       "201900000001     B01    2.0     2     4     2   2002.0     0.0  -1.0   -1   \n",
       "201900000001     B01    1.0     1     4     2   1993.0     5.0  -1.0   -1   \n",
       "201900000001     A01    1.0     1     1     1   1959.0     0.0  -1.0   -1   \n",
       "201900000002     A01    1.0     1     4     2   1994.0     0.0  -1.0   -1   \n",
       "201900000003     A01    1.0     1     1     1   1996.0     0.0  -1.0    0   \n",
       "\n",
       "              etatp  ...  obs  obsm  choc  manv        date  is_holiday  \\\n",
       "Num_Acc              ...                                                  \n",
       "201900000001   -1.0  ...  0.0   2.0   5.0  23.0  2019-11-30       False   \n",
       "201900000001   -1.0  ...  0.0   2.0   5.0  23.0  2019-11-30       False   \n",
       "201900000001   -1.0  ...  1.0   0.0   3.0  11.0  2019-11-30       False   \n",
       "201900000002   -1.0  ...  4.0   0.0   1.0   0.0  2019-11-30       False   \n",
       "201900000003   -1.0  ...  0.0   2.0   1.0   2.0  2019-11-28       False   \n",
       "\n",
       "              holiday  secu_used  secu_avail fatal  \n",
       "Num_Acc                                             \n",
       "201900000001      NaN          3           1     0  \n",
       "201900000001      NaN          3           1     0  \n",
       "201900000001      NaN          3           1     0  \n",
       "201900000002      NaN          3           1     0  \n",
       "201900000003      NaN          3           1     0  \n",
       "\n",
       "[5 rows x 46 columns]"
      ]
     },
     "execution_count": 5,
     "metadata": {},
     "output_type": "execute_result"
    }
   ],
   "source": [
    "df.head(5)"
   ]
  },
  {
   "cell_type": "code",
   "execution_count": 6,
   "metadata": {},
   "outputs": [
    {
     "name": "stdout",
     "output_type": "stream",
     "text": [
      "Columns with missing values: ['adr', 'lat', 'long', 'holiday']\n"
     ]
    }
   ],
   "source": [
    "columns_with_missing_values = df.columns[df.isna().any()].tolist()\n",
    "\n",
    "print(\"Columns with missing values:\", columns_with_missing_values)"
   ]
  },
  {
   "cell_type": "code",
   "execution_count": 7,
   "metadata": {},
   "outputs": [],
   "source": [
    "# cleanning variables that might not be used in the model\n",
    "df['date']= pd.to_datetime(df.date,format='%Y-%m-%d')\n",
    "df['year'] = df['date'].dt.year.astype(int)\n"
   ]
  },
  {
   "cell_type": "code",
   "execution_count": 8,
   "metadata": {},
   "outputs": [],
   "source": [
    "from sklearn.preprocessing import LabelEncoder\n",
    "le = LabelEncoder()\n",
    "\n",
    "df['actp'] = le.fit_transform(df['actp'].astype(str))\n",
    "df['hrmn'] = le.fit_transform(df['hrmn'].astype(str))"
   ]
  },
  {
   "cell_type": "code",
   "execution_count": 9,
   "metadata": {},
   "outputs": [
    {
     "data": {
      "text/html": [
       "<div>\n",
       "<style scoped>\n",
       "    .dataframe tbody tr th:only-of-type {\n",
       "        vertical-align: middle;\n",
       "    }\n",
       "\n",
       "    .dataframe tbody tr th {\n",
       "        vertical-align: top;\n",
       "    }\n",
       "\n",
       "    .dataframe thead th {\n",
       "        text-align: right;\n",
       "    }\n",
       "</style>\n",
       "<table border=\"1\" class=\"dataframe\">\n",
       "  <thead>\n",
       "    <tr style=\"text-align: right;\">\n",
       "      <th></th>\n",
       "      <th>num_veh</th>\n",
       "      <th>place</th>\n",
       "      <th>catu</th>\n",
       "      <th>grav</th>\n",
       "      <th>sexe</th>\n",
       "      <th>an_nais</th>\n",
       "      <th>trajet</th>\n",
       "      <th>locp</th>\n",
       "      <th>actp</th>\n",
       "      <th>etatp</th>\n",
       "      <th>...</th>\n",
       "      <th>obsm</th>\n",
       "      <th>choc</th>\n",
       "      <th>manv</th>\n",
       "      <th>date</th>\n",
       "      <th>is_holiday</th>\n",
       "      <th>holiday</th>\n",
       "      <th>secu_used</th>\n",
       "      <th>secu_avail</th>\n",
       "      <th>fatal</th>\n",
       "      <th>year</th>\n",
       "    </tr>\n",
       "    <tr>\n",
       "      <th>Num_Acc</th>\n",
       "      <th></th>\n",
       "      <th></th>\n",
       "      <th></th>\n",
       "      <th></th>\n",
       "      <th></th>\n",
       "      <th></th>\n",
       "      <th></th>\n",
       "      <th></th>\n",
       "      <th></th>\n",
       "      <th></th>\n",
       "      <th></th>\n",
       "      <th></th>\n",
       "      <th></th>\n",
       "      <th></th>\n",
       "      <th></th>\n",
       "      <th></th>\n",
       "      <th></th>\n",
       "      <th></th>\n",
       "      <th></th>\n",
       "      <th></th>\n",
       "      <th></th>\n",
       "    </tr>\n",
       "  </thead>\n",
       "  <tbody>\n",
       "    <tr>\n",
       "      <th>201900000001</th>\n",
       "      <td>B01</td>\n",
       "      <td>2.0</td>\n",
       "      <td>2</td>\n",
       "      <td>4</td>\n",
       "      <td>2</td>\n",
       "      <td>2002.0</td>\n",
       "      <td>0.0</td>\n",
       "      <td>-1.0</td>\n",
       "      <td>0</td>\n",
       "      <td>-1.0</td>\n",
       "      <td>...</td>\n",
       "      <td>2.0</td>\n",
       "      <td>5.0</td>\n",
       "      <td>23.0</td>\n",
       "      <td>2019-11-30</td>\n",
       "      <td>False</td>\n",
       "      <td>NaN</td>\n",
       "      <td>3</td>\n",
       "      <td>1</td>\n",
       "      <td>0</td>\n",
       "      <td>2019</td>\n",
       "    </tr>\n",
       "    <tr>\n",
       "      <th>201900000001</th>\n",
       "      <td>B01</td>\n",
       "      <td>1.0</td>\n",
       "      <td>1</td>\n",
       "      <td>4</td>\n",
       "      <td>2</td>\n",
       "      <td>1993.0</td>\n",
       "      <td>5.0</td>\n",
       "      <td>-1.0</td>\n",
       "      <td>0</td>\n",
       "      <td>-1.0</td>\n",
       "      <td>...</td>\n",
       "      <td>2.0</td>\n",
       "      <td>5.0</td>\n",
       "      <td>23.0</td>\n",
       "      <td>2019-11-30</td>\n",
       "      <td>False</td>\n",
       "      <td>NaN</td>\n",
       "      <td>3</td>\n",
       "      <td>1</td>\n",
       "      <td>0</td>\n",
       "      <td>2019</td>\n",
       "    </tr>\n",
       "    <tr>\n",
       "      <th>201900000001</th>\n",
       "      <td>A01</td>\n",
       "      <td>1.0</td>\n",
       "      <td>1</td>\n",
       "      <td>1</td>\n",
       "      <td>1</td>\n",
       "      <td>1959.0</td>\n",
       "      <td>0.0</td>\n",
       "      <td>-1.0</td>\n",
       "      <td>0</td>\n",
       "      <td>-1.0</td>\n",
       "      <td>...</td>\n",
       "      <td>0.0</td>\n",
       "      <td>3.0</td>\n",
       "      <td>11.0</td>\n",
       "      <td>2019-11-30</td>\n",
       "      <td>False</td>\n",
       "      <td>NaN</td>\n",
       "      <td>3</td>\n",
       "      <td>1</td>\n",
       "      <td>0</td>\n",
       "      <td>2019</td>\n",
       "    </tr>\n",
       "  </tbody>\n",
       "</table>\n",
       "<p>3 rows × 47 columns</p>\n",
       "</div>"
      ],
      "text/plain": [
       "             num_veh  place  catu  grav  sexe  an_nais  trajet  locp  actp  \\\n",
       "Num_Acc                                                                      \n",
       "201900000001     B01    2.0     2     4     2   2002.0     0.0  -1.0     0   \n",
       "201900000001     B01    1.0     1     4     2   1993.0     5.0  -1.0     0   \n",
       "201900000001     A01    1.0     1     1     1   1959.0     0.0  -1.0     0   \n",
       "\n",
       "              etatp  ...  obsm  choc  manv       date  is_holiday  holiday  \\\n",
       "Num_Acc              ...                                                     \n",
       "201900000001   -1.0  ...   2.0   5.0  23.0 2019-11-30       False      NaN   \n",
       "201900000001   -1.0  ...   2.0   5.0  23.0 2019-11-30       False      NaN   \n",
       "201900000001   -1.0  ...   0.0   3.0  11.0 2019-11-30       False      NaN   \n",
       "\n",
       "              secu_used  secu_avail  fatal  year  \n",
       "Num_Acc                                           \n",
       "201900000001          3           1      0  2019  \n",
       "201900000001          3           1      0  2019  \n",
       "201900000001          3           1      0  2019  \n",
       "\n",
       "[3 rows x 47 columns]"
      ]
     },
     "execution_count": 9,
     "metadata": {},
     "output_type": "execute_result"
    }
   ],
   "source": [
    "# select only teh metropolitan area of France\n",
    "df_M = df[df['metropolitan'] == 1]\n",
    "df_M.head(3)"
   ]
  },
  {
   "cell_type": "code",
   "execution_count": 10,
   "metadata": {},
   "outputs": [],
   "source": [
    "#cleanning variables that might not be used in the model\n",
    "# grav removed because is similar to target variable 'Fatal'\n",
    "df_rf = df_M.drop(['num_veh','adr','date','holiday','lat', 'long','grav'], axis=1) \n"
   ]
  },
  {
   "cell_type": "code",
   "execution_count": 11,
   "metadata": {},
   "outputs": [
    {
     "data": {
      "text/plain": [
       "count    2421738.0\n",
       "mean           1.0\n",
       "std            0.0\n",
       "min            1.0\n",
       "25%            1.0\n",
       "50%            1.0\n",
       "75%            1.0\n",
       "max            1.0\n",
       "Name: metropolitan, dtype: float64"
      ]
     },
     "execution_count": 11,
     "metadata": {},
     "output_type": "execute_result"
    }
   ],
   "source": [
    "#checking if the correct datframe is selected \n",
    "df_rf['metropolitan'].describe()"
   ]
  },
  {
   "cell_type": "code",
   "execution_count": 12,
   "metadata": {},
   "outputs": [],
   "source": [
    "# split the data for modeling\n",
    "# 2005 to 2019 for trainning  and 2020 to 2021 to test\n",
    "\n",
    "# Filter data for the training period (2005-2018)\n",
    "train_data = df_rf[(df_rf['an'] >= 2005) & (df_rf['an'] <= 2019)]\n",
    "\n",
    "# Filter data for the testing period (2019-2021)\n",
    "test_data = df_rf[(df_rf['an'] >= 2020) & (df_rf['an'] <= 2021)]\n",
    "\n"
   ]
  },
  {
   "cell_type": "code",
   "execution_count": 13,
   "metadata": {},
   "outputs": [],
   "source": [
    "# Separate features and target variable\n",
    "X_train = train_data.drop('fatal', axis=1)  # Features for training\n",
    "y_train = train_data['fatal']  # Target variable for training\n",
    "\n",
    "# Separate features and target variable\n",
    "X_test = test_data.drop('fatal', axis=1)  # Features for training\n",
    "y_test = test_data['fatal']  # Target variable for training"
   ]
  },
  {
   "cell_type": "code",
   "execution_count": 14,
   "metadata": {},
   "outputs": [
    {
     "data": {
      "text/plain": [
       "RandomForestRegressor(random_state=42)"
      ]
     },
     "execution_count": 14,
     "metadata": {},
     "output_type": "execute_result"
    }
   ],
   "source": [
    "# modelling the randon forest\n",
    "from sklearn.ensemble import RandomForestRegressor\n",
    "\n",
    "# Create a Random Forest Regressor model\n",
    "rf_model = RandomForestRegressor(n_estimators=100, random_state=42)\n",
    "\n",
    "# Fit the model to the training data\n",
    "rf_model.fit(X_train, y_train)\n",
    "#54 minutes to run"
   ]
  },
  {
   "cell_type": "code",
   "execution_count": 15,
   "metadata": {},
   "outputs": [
    {
     "data": {
      "text/plain": [
       "['random_forest_model.pkl']"
      ]
     },
     "execution_count": 15,
     "metadata": {},
     "output_type": "execute_result"
    }
   ],
   "source": [
    "# Save the trained RandomForestRegressor model to a file to avoid run again \n",
    "import joblib\n",
    "\n",
    "# Save the trained RandomForestRegressor model \n",
    "model_filename = \"random_forest_model.pkl\"\n",
    "joblib.dump(rf_model, model_filename)"
   ]
  },
  {
   "cell_type": "code",
   "execution_count": 11,
   "metadata": {},
   "outputs": [],
   "source": [
    "#load model previus saved model in case you dont wnat to run again the previus trained model\n",
    "# Load the saved RandomForestRegressor model from the file\n",
    "loaded_rf_model = joblib.load(\"random_forest_model.pkl\")\n",
    "\n",
    "# use loaded_rf_model for predictions\n",
    "y_pred_loaded = loaded_rf_model.predict(X_test)"
   ]
  },
  {
   "cell_type": "code",
   "execution_count": 16,
   "metadata": {},
   "outputs": [],
   "source": [
    "# make predictions \n",
    "y_pred = rf_model.predict(X_test)\n"
   ]
  },
  {
   "cell_type": "code",
   "execution_count": 17,
   "metadata": {},
   "outputs": [
    {
     "name": "stdout",
     "output_type": "stream",
     "text": [
      "MAE = 0.05580878694755382\n",
      "MSE = 0.024321590375784685\n",
      "RMSE = 0.15595380846835605\n",
      "R2 = 0.0034856478228472154\n"
     ]
    }
   ],
   "source": [
    "#y_pred = y_pred_loaded ### in case need to load and not run the model again\n",
    "\n",
    "#  calculate evaluation metrics about the model perfomance\n",
    "from sklearn.metrics import mean_absolute_error, mean_squared_error, r2_score\n",
    "\n",
    "mae = mean_absolute_error(y_test, y_pred)\n",
    "mse = mean_squared_error(y_test, y_pred)\n",
    "rmse = mean_squared_error(y_test, y_pred, squared=False)  # Calculate RMSE\n",
    "r2 = r2_score(y_test, y_pred)\n",
    "\n",
    "print( 'MAE =', mae) # lower values indicates better perfomance\n",
    "print( 'MSE =', mse) # lower values indicates better perfomance\n",
    "print( 'RMSE =', rmse) # lower values indicates better perfomance\n",
    "print( 'R2 =', r2) # higher value indicates a better fit "
   ]
  },
  {
   "cell_type": "markdown",
   "metadata": {},
   "source": [
    "test area for the rest of the analysis"
   ]
  },
  {
   "cell_type": "code",
   "execution_count": 18,
   "metadata": {},
   "outputs": [],
   "source": [
    "from sklearn.model_selection import train_test_split\n",
    "from sklearn.model_selection import RandomizedSearchCV\n",
    "# Split the original data into a smaller subset (X_subset, y_subset)\n",
    "X_subset, _, y_subset, _ = train_test_split(X_train, y_train, train_size=10000, random_state=42)\n",
    "\n",
    "# Define a reduced hyperparameter search space\n",
    "param_grid = {\n",
    "    'n_estimators': [50, 100,200],\n",
    "    'max_depth': [None, 10,20,30],\n",
    "    'min_samples_split': [2, 5,10],\n",
    "    'min_samples_leaf': [1, 2,4],\n",
    "    'max_features': ['auto', 'sqrt','log2']\n",
    "}\n",
    "\n",
    "# Reduce the number of iterations\n",
    "n_iter = 50\n",
    "\n",
    "# Limit parallelization to reduce memory usage\n",
    "n_jobs = 2\n",
    "\n",
    "# Create a RandomForestRegressor model\n",
    "rf_model = RandomForestRegressor(random_state=42)\n",
    "\n",
    "# Perform hyperparameter tuning\n",
    "randomized_search = RandomizedSearchCV(\n",
    "    estimator=rf_model,\n",
    "    param_distributions=param_grid,\n",
    "    n_iter=n_iter,\n",
    "    scoring='neg_mean_squared_error',\n",
    "    cv=5,\n",
    "    n_jobs=n_jobs\n",
    ")\n",
    "\n",
    "randomized_search.fit(X_subset, y_subset)\n",
    "\n",
    "# Get the best hyperparameter values\n",
    "best_params = randomized_search.best_params_\n"
   ]
  },
  {
   "cell_type": "code",
   "execution_count": 19,
   "metadata": {},
   "outputs": [
    {
     "data": {
      "text/plain": [
       "RandomForestRegressor(max_depth=20, max_features='log2', min_samples_leaf=4,\n",
       "                      random_state=42)"
      ]
     },
     "execution_count": 19,
     "metadata": {},
     "output_type": "execute_result"
    }
   ],
   "source": [
    "#Train the Model with the Best Hyperparameters\n",
    "best_rf_model = RandomForestRegressor(**best_params, random_state=42)\n",
    "best_rf_model.fit(X_train, y_train)"
   ]
  },
  {
   "cell_type": "code",
   "execution_count": 20,
   "metadata": {},
   "outputs": [
    {
     "name": "stdout",
     "output_type": "stream",
     "text": [
      "MAE = 0.04854317829319329\n",
      "MSE = 0.02200308787574593\n",
      "RMSE = 0.1483343786037004\n",
      "R2 = 0.09848029994672935\n"
     ]
    }
   ],
   "source": [
    "#(max_depth=10, max_features='sqrt', min_samples_leaf=2,min_samples_split=5, random_state=42)\n",
    "#(max_features='log2', min_samples_leaf=4, min_samples_split=10, n_estimators=200, random_state=42)\n",
    "#\n",
    "y_pred = best_rf_model.predict(X_test)\n",
    "# Calculate and print evaluation metrics\n",
    "mae = mean_absolute_error(y_test, y_pred)\n",
    "mse = mean_squared_error(y_test, y_pred)\n",
    "rmse = mean_squared_error(y_test, y_pred, squared=False)  # Calculate RMSE\n",
    "r2 = r2_score(y_test, y_pred)\n",
    "\n",
    "print( 'MAE =', mae) # lower values indicates better perfomance\n",
    "print( 'MSE =', mse) # lower values indicates better perfomance\n",
    "print( 'RMSE =', rmse) # lower values indicates better perfomance\n",
    "print( 'R2 =', r2) # higher value indicates a better fit "
   ]
  },
  {
   "cell_type": "code",
   "execution_count": 22,
   "metadata": {},
   "outputs": [
    {
     "data": {
      "image/png": "[encoded data removed]",
      "text/plain": [
       "<Figure size 800x600 with 1 Axes>"
      ]
     },
     "metadata": {},
     "output_type": "display_data"
    }
   ],
   "source": [
    "# calculate residuals from teste and predictions\n",
    "residuals = y_test - y_pred\n",
    "# Create a histogram of residuals\n",
    "plt.figure(figsize=(8, 6))\n",
    "sns.histplot(residuals, kde=True)\n",
    "plt.xlabel(\"Residuals\")\n",
    "plt.ylabel(\"Frequency\")\n",
    "plt.title(\"Histogram of Residuals\")\n",
    "plt.grid(True)\n",
    "plt.show()"
   ]
  },
  {
   "cell_type": "code",
   "execution_count": 26,
   "metadata": {},
   "outputs": [
    {
     "data": {
      "image/png": "[encoded data removed]",
      "text/plain": [
       "<Figure size 1000x600 with 1 Axes>"
      ]
     },
     "metadata": {},
     "output_type": "display_data"
    }
   ],
   "source": [
    "# tryig to find the best features for this model\n",
    "# Get feature importances from the trained model\n",
    "#feature_importances = loaded_rf_model.feature_importances_\n",
    "feature_importances = best_rf_model.feature_importances_\n",
    "\n",
    "# Get the feature names from X_train\n",
    "feature_names = X_train.columns\n",
    "\n",
    "# Sort feature importances and feature names in ascending order\n",
    "sorted_indices = np.argsort(feature_importances)\n",
    "sorted_feature_importances = feature_importances[sorted_indices]\n",
    "sorted_feature_names = feature_names[sorted_indices]\n",
    "\n",
    "# Create a horizontal bar plot to visualize feature importances\n",
    "plt.figure(figsize=(10, 6))\n",
    "plt.barh(sorted_feature_names, sorted_feature_importances)\n",
    "plt.xlabel('Feature Importance')\n",
    "plt.ylabel('Features')\n",
    "plt.title('Feature Importance Plot (Ascending Order)')\n",
    "plt.show()"
   ]
  },
  {
   "cell_type": "code",
   "execution_count": 27,
   "metadata": {},
   "outputs": [],
   "source": [
    "#this is taking to long I will run again at night.\n",
    "# for now just the upper parts are valid for the model \n",
    "from sklearn.model_selection import RandomizedSearchCV\n",
    "from sklearn.ensemble import RandomForestRegressor\n",
    "\n",
    "# Create the RandomForestRegressor model\n",
    "rf_model = RandomForestRegressor(random_state=42)\n",
    "\n",
    "# Define the extended hyperparameter grid\n",
    "param_grid = {\n",
    "    'n_estimators': [50, 100, 200, 300, 400],\n",
    "    'max_depth': [None, 5, 10, 15, 20],\n",
    "    'min_samples_split': [2, 5, 10, 20],\n",
    "    'min_samples_leaf': [1, 2, 4, 8],\n",
    "    'max_features': ['auto', 'sqrt', 'log2', 0.2, 0.4]\n",
    "}\n",
    "\n",
    "# Increase the number of iterations\n",
    "n_iter = 50\n",
    "\n",
    "# Create the randomized search object\n",
    "randomized_search = RandomizedSearchCV(\n",
    "    estimator=rf_model,\n",
    "    param_distributions=param_grid,\n",
    "    n_iter=n_iter,\n",
    "    scoring='neg_mean_squared_error',\n",
    "    cv=5,\n",
    "    n_jobs=4 ,\n",
    "    random_state=42\n",
    ")\n",
    "\n",
    "# Perform hyperparameter tuning\n",
    "randomized_search.fit(X_train, y_train)\n",
    "\n",
    "# Get the best hyperparameter values\n",
    "best_params = randomized_search.best_params_\n"
   ]
  },
  {
   "cell_type": "code",
   "execution_count": null,
   "metadata": {},
   "outputs": [],
   "source": [
    "\n"
   ]
  }
 ],
 "metadata": {
  "kernelspec": {
   "display_name": "Python 3 (ipykernel)",
   "language": "python",
   "name": "python3"
  },
  "language_info": {
   "codemirror_mode": {
    "name": "ipython",
    "version": 3
   },
   "file_extension": ".py",
   "mimetype": "text/x-python",
   "name": "python",
   "nbconvert_exporter": "python",
   "pygments_lexer": "ipython3",
   "version": "3.9.13"
  }
 },
 "nbformat": 4,
 "nbformat_minor": 2
}
