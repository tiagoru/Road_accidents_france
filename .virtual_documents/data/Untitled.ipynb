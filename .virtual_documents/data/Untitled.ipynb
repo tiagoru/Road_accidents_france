import pandas as pd



data = pd.read_csv('merged_tables.csv', index_col=0, low_memory=False)


data.sort_values(by = 'an_nais', ascending=False)
