{
 "cells": [
  {
   "cell_type": "code",
   "execution_count": 1,
   "metadata": {},
   "outputs": [],
   "source": [
    "import pandas as pd\n",
    "import numpy as np\n",
    "import glob\n",
    "\n",
    "import matplotlib.pyplot as plt\n",
    "import seaborn as sns"
   ]
  },
  {
   "cell_type": "code",
   "execution_count": 2,
   "metadata": {},
   "outputs": [],
   "source": [
    "df = pd.read_csv(\"./data/230907_basic_table_for_analysis_cleaned.csv\", index_col=0, low_memory=False)"
   ]
  },
  {
   "cell_type": "code",
   "execution_count": 3,
   "metadata": {},
   "outputs": [
    {
     "name": "stdout",
     "output_type": "stream",
     "text": [
      "<class 'pandas.core.frame.DataFrame'>\n",
      "Int64Index: 2509596 entries, 201900000001 to 201800057783\n",
      "Data columns (total 46 columns):\n",
      " #   Column        Dtype  \n",
      "---  ------        -----  \n",
      " 0   num_veh       object \n",
      " 1   place         float64\n",
      " 2   catu          int64  \n",
      " 3   grav          int64  \n",
      " 4   sexe          int64  \n",
      " 5   an_nais       float64\n",
      " 6   trajet        float64\n",
      " 7   locp          float64\n",
      " 8   actp          object \n",
      " 9   etatp         float64\n",
      " 10  an            int64  \n",
      " 11  mois          int64  \n",
      " 12  jour          int64  \n",
      " 13  hrmn          object \n",
      " 14  lum           int64  \n",
      " 15  agg           int64  \n",
      " 16  int           int64  \n",
      " 17  atm           float64\n",
      " 18  col           float64\n",
      " 19  adr           object \n",
      " 20  lat           float64\n",
      " 21  long          float64\n",
      " 22  dep           int64  \n",
      " 23  metropolitan  float64\n",
      " 24  catr          float64\n",
      " 25  circ          float64\n",
      " 26  nbv           float64\n",
      " 27  vosp          float64\n",
      " 28  prof          float64\n",
      " 29  plan          float64\n",
      " 30  surf          float64\n",
      " 31  infra         float64\n",
      " 32  situ          float64\n",
      " 33  senc          float64\n",
      " 34  catv          int64  \n",
      " 35  occutc        float64\n",
      " 36  obs           float64\n",
      " 37  obsm          float64\n",
      " 38  choc          float64\n",
      " 39  manv          float64\n",
      " 40  date          object \n",
      " 41  is_holiday    bool   \n",
      " 42  holiday       object \n",
      " 43  secu_used     int64  \n",
      " 44  secu_avail    int64  \n",
      " 45  fatal         int64  \n",
      "dtypes: bool(1), float64(25), int64(14), object(6)\n",
      "memory usage: 883.1+ MB\n"
     ]
    }
   ],
   "source": [
    "df.info()\n"
   ]
  },
  {
   "cell_type": "code",
   "execution_count": 4,
   "metadata": {},
   "outputs": [
    {
     "data": {
      "text/plain": [
       "Num_Acc\n",
       "201900000001    01:30\n",
       "201900000001    01:30\n",
       "201900000001    01:30\n",
       "201900000002    02:50\n",
       "201900000003    15:15\n",
       "                ...  \n",
       "201800057781     2150\n",
       "201800057782     1945\n",
       "201800057782     1945\n",
       "201800057783     1425\n",
       "201800057783     1425\n",
       "Name: hrmn, Length: 2509596, dtype: object"
      ]
     },
     "execution_count": 4,
     "metadata": {},
     "output_type": "execute_result"
    }
   ],
   "source": [
    "df['hrmn']"
   ]
  },
  {
   "cell_type": "code",
   "execution_count": 5,
   "metadata": {},
   "outputs": [],
   "source": [
    "# cleanning variables that might not be used in the model\n",
    "df['date']= pd.to_datetime(df.date,format='%Y-%m-%d')\n",
    "df['year'] = df['date'].dt.year.astype(int)\n",
    "\n",
    "from sklearn.preprocessing import LabelEncoder\n",
    "le = LabelEncoder()\n",
    "\n",
    "df['actp'] = le.fit_transform(df['actp'].astype(str))\n",
    "df['hrmn'] = le.fit_transform(df['hrmn'].astype(str))"
   ]
  },
  {
   "cell_type": "code",
   "execution_count": 6,
   "metadata": {},
   "outputs": [
    {
     "data": {
      "text/html": [
       "<div>\n",
       "<style scoped>\n",
       "    .dataframe tbody tr th:only-of-type {\n",
       "        vertical-align: middle;\n",
       "    }\n",
       "\n",
       "    .dataframe tbody tr th {\n",
       "        vertical-align: top;\n",
       "    }\n",
       "\n",
       "    .dataframe thead th {\n",
       "        text-align: right;\n",
       "    }\n",
       "</style>\n",
       "<table border=\"1\" class=\"dataframe\">\n",
       "  <thead>\n",
       "    <tr style=\"text-align: right;\">\n",
       "      <th></th>\n",
       "      <th>num_veh</th>\n",
       "      <th>place</th>\n",
       "      <th>catu</th>\n",
       "      <th>grav</th>\n",
       "      <th>sexe</th>\n",
       "      <th>an_nais</th>\n",
       "      <th>trajet</th>\n",
       "      <th>locp</th>\n",
       "      <th>actp</th>\n",
       "      <th>etatp</th>\n",
       "      <th>...</th>\n",
       "      <th>obsm</th>\n",
       "      <th>choc</th>\n",
       "      <th>manv</th>\n",
       "      <th>date</th>\n",
       "      <th>is_holiday</th>\n",
       "      <th>holiday</th>\n",
       "      <th>secu_used</th>\n",
       "      <th>secu_avail</th>\n",
       "      <th>fatal</th>\n",
       "      <th>year</th>\n",
       "    </tr>\n",
       "    <tr>\n",
       "      <th>Num_Acc</th>\n",
       "      <th></th>\n",
       "      <th></th>\n",
       "      <th></th>\n",
       "      <th></th>\n",
       "      <th></th>\n",
       "      <th></th>\n",
       "      <th></th>\n",
       "      <th></th>\n",
       "      <th></th>\n",
       "      <th></th>\n",
       "      <th></th>\n",
       "      <th></th>\n",
       "      <th></th>\n",
       "      <th></th>\n",
       "      <th></th>\n",
       "      <th></th>\n",
       "      <th></th>\n",
       "      <th></th>\n",
       "      <th></th>\n",
       "      <th></th>\n",
       "      <th></th>\n",
       "    </tr>\n",
       "  </thead>\n",
       "  <tbody>\n",
       "    <tr>\n",
       "      <th>201900000001</th>\n",
       "      <td>B01</td>\n",
       "      <td>2.0</td>\n",
       "      <td>2</td>\n",
       "      <td>4</td>\n",
       "      <td>2</td>\n",
       "      <td>2002.0</td>\n",
       "      <td>0.0</td>\n",
       "      <td>-1.0</td>\n",
       "      <td>0</td>\n",
       "      <td>-1.0</td>\n",
       "      <td>...</td>\n",
       "      <td>2.0</td>\n",
       "      <td>5.0</td>\n",
       "      <td>23.0</td>\n",
       "      <td>2019-11-30</td>\n",
       "      <td>False</td>\n",
       "      <td>NaN</td>\n",
       "      <td>3</td>\n",
       "      <td>1</td>\n",
       "      <td>0</td>\n",
       "      <td>2019</td>\n",
       "    </tr>\n",
       "    <tr>\n",
       "      <th>201900000001</th>\n",
       "      <td>B01</td>\n",
       "      <td>1.0</td>\n",
       "      <td>1</td>\n",
       "      <td>4</td>\n",
       "      <td>2</td>\n",
       "      <td>1993.0</td>\n",
       "      <td>5.0</td>\n",
       "      <td>-1.0</td>\n",
       "      <td>0</td>\n",
       "      <td>-1.0</td>\n",
       "      <td>...</td>\n",
       "      <td>2.0</td>\n",
       "      <td>5.0</td>\n",
       "      <td>23.0</td>\n",
       "      <td>2019-11-30</td>\n",
       "      <td>False</td>\n",
       "      <td>NaN</td>\n",
       "      <td>3</td>\n",
       "      <td>1</td>\n",
       "      <td>0</td>\n",
       "      <td>2019</td>\n",
       "    </tr>\n",
       "    <tr>\n",
       "      <th>201900000001</th>\n",
       "      <td>A01</td>\n",
       "      <td>1.0</td>\n",
       "      <td>1</td>\n",
       "      <td>1</td>\n",
       "      <td>1</td>\n",
       "      <td>1959.0</td>\n",
       "      <td>0.0</td>\n",
       "      <td>-1.0</td>\n",
       "      <td>0</td>\n",
       "      <td>-1.0</td>\n",
       "      <td>...</td>\n",
       "      <td>0.0</td>\n",
       "      <td>3.0</td>\n",
       "      <td>11.0</td>\n",
       "      <td>2019-11-30</td>\n",
       "      <td>False</td>\n",
       "      <td>NaN</td>\n",
       "      <td>3</td>\n",
       "      <td>1</td>\n",
       "      <td>0</td>\n",
       "      <td>2019</td>\n",
       "    </tr>\n",
       "  </tbody>\n",
       "</table>\n",
       "<p>3 rows × 47 columns</p>\n",
       "</div>"
      ],
      "text/plain": [
       "             num_veh  place  catu  grav  sexe  an_nais  trajet  locp  actp  \\\n",
       "Num_Acc                                                                      \n",
       "201900000001     B01    2.0     2     4     2   2002.0     0.0  -1.0     0   \n",
       "201900000001     B01    1.0     1     4     2   1993.0     5.0  -1.0     0   \n",
       "201900000001     A01    1.0     1     1     1   1959.0     0.0  -1.0     0   \n",
       "\n",
       "              etatp  ...  obsm  choc  manv       date  is_holiday  holiday  \\\n",
       "Num_Acc              ...                                                     \n",
       "201900000001   -1.0  ...   2.0   5.0  23.0 2019-11-30       False      NaN   \n",
       "201900000001   -1.0  ...   2.0   5.0  23.0 2019-11-30       False      NaN   \n",
       "201900000001   -1.0  ...   0.0   3.0  11.0 2019-11-30       False      NaN   \n",
       "\n",
       "              secu_used  secu_avail  fatal  year  \n",
       "Num_Acc                                           \n",
       "201900000001          3           1      0  2019  \n",
       "201900000001          3           1      0  2019  \n",
       "201900000001          3           1      0  2019  \n",
       "\n",
       "[3 rows x 47 columns]"
      ]
     },
     "execution_count": 6,
     "metadata": {},
     "output_type": "execute_result"
    }
   ],
   "source": [
    "df_M = df[df['metropolitan'] == 1]\n",
    "df_M.head(3)"
   ]
  },
  {
   "cell_type": "code",
   "execution_count": 7,
   "metadata": {},
   "outputs": [],
   "source": [
    "#cleanning variables that might not be used in the model\n",
    "df_rf = df_M.drop(['num_veh','adr','date','holiday','lat', 'long','grav'], axis=1) # grav removed because is similat to target "
   ]
  },
  {
   "cell_type": "code",
   "execution_count": 8,
   "metadata": {},
   "outputs": [],
   "source": [
    "#split the data for modeling\n",
    "# 2005 to 2019 for trainning  and 2020 to 2021 to test\n",
    "\n",
    "# Filter data for the training period (2005-2018)\n",
    "train_data = df_rf[(df_rf['an'] >= 2005) & (df_rf['an'] <= 2019)]\n",
    "\n",
    "# Filter data for the testing period (2019-2021)\n",
    "test_data = df_rf[(df_rf['an'] >= 2020) & (df_rf['an'] <= 2021)]\n",
    " #Separate features and target variable\n",
    "X_train = train_data.drop('fatal', axis=1)  # Features for training\n",
    "y_train = train_data['fatal']  # Target variable for training\n",
    "\n",
    "# Separate features and target variable\n",
    "X_test = test_data.drop('fatal', axis=1)  # Features for training\n",
    "y_test = test_data['fatal']  # Target variable for training\n"
   ]
  },
  {
   "cell_type": "code",
   "execution_count": 9,
   "metadata": {},
   "outputs": [
    {
     "data": {
      "text/plain": [
       "0    0.973626\n",
       "1    0.026374\n",
       "Name: fatal, dtype: float64"
      ]
     },
     "execution_count": 9,
     "metadata": {},
     "output_type": "execute_result"
    }
   ],
   "source": [
    "df_rf['fatal'].value_counts(normalize=True)"
   ]
  },
  {
   "cell_type": "code",
   "execution_count": 10,
   "metadata": {},
   "outputs": [],
   "source": [
    "# import classifier\n",
    "from sklearn.ensemble import RandomForestClassifier\n",
    "\n",
    "# import metrics\n",
    "from sklearn.metrics import classification_report, confusion_matrix\n",
    "\n",
    "# import evaluation tools\n",
    "from sklearn.model_selection import KFold, cross_val_score"
   ]
  },
  {
   "cell_type": "code",
   "execution_count": 11,
   "metadata": {},
   "outputs": [
    {
     "name": "stdout",
     "output_type": "stream",
     "text": [
      "Classification Report Random Forest - with Entropy and class_weight Parameter: \n",
      "               precision    recall  f1-score   support\n",
      "\n",
      "           0       0.98      1.00      0.99    215726\n",
      "           1       0.66      0.01      0.02      5539\n",
      "\n",
      "    accuracy                           0.98    221265\n",
      "   macro avg       0.82      0.50      0.50    221265\n",
      "weighted avg       0.97      0.98      0.96    221265\n",
      "\n"
     ]
    }
   ],
   "source": [
    " #instantiate RandomForestClassifier with entropy and class_weight\n",
    "forest_1 = RandomForestClassifier(random_state=4, criterion='entropy', n_jobs=-1, class_weight='balanced')\n",
    "\n",
    "# train\n",
    "forest_1.fit(X_train, y_train)\n",
    "\n",
    "# predict\n",
    "y_test_preds  = forest_1.predict(X_test)\n",
    "\n",
    "# evaluate\n",
    "report = classification_report(y_test, y_test_preds)\n",
    "print('Classification Report Random Forest - with Entropy and class_weight Parameter: \\n', report)"
   ]
  },
  {
   "cell_type": "code",
   "execution_count": 13,
   "metadata": {},
   "outputs": [
    {
     "data": {
      "image/png": "[encoded data removed]",
      "text/plain": [
       "<Figure size 640x480 with 1 Axes>"
      ]
     },
     "metadata": {},
     "output_type": "display_data"
    }
   ],
   "source": [
    "# create confusion matrix# create confusion matrix\n",
    "matrix = confusion_matrix(y_test, y_test_preds)\n",
    "\n",
    "# create dataframe\n",
    "class_names = df_rf.fatal.values\n",
    "dataframe = pd.DataFrame(matrix, index=['non-fatal', 'fatal'], \n",
    "                         columns=['non-fatal', 'fatal'])\n",
    "\n",
    "# create heatmap\n",
    "sns.heatmap(dataframe, annot=True, cbar=None, cmap='Blues')\n",
    "plt.title('Confusion Matrix')\n",
    "plt.tight_layout(), plt.xlabel('True Values'), plt.ylabel('Predicted Values')\n",
    "plt.show()\n",
    "\n"
   ]
  },
  {
   "cell_type": "code",
   "execution_count": 14,
   "metadata": {},
   "outputs": [
    {
     "name": "stdout",
     "output_type": "stream",
     "text": [
      "F1 Scores: [0.50540933 0.51192099 0.51724217 0.50856543 0.50923718]\n"
     ]
    }
   ],
   "source": [
    "from sklearn.model_selection import cross_val_score\n",
    "from sklearn.ensemble import RandomForestClassifier\n",
    "\n",
    "# Create a Random Forest classifier instance (replace with your hyperparameters)\n",
    "forest_1 = RandomForestClassifier(random_state=42)\n",
    "\n",
    "# Perform cross-validation with F1 score\n",
    "f1_scores = cross_val_score(forest_1, X_train, y_train, scoring='f1_macro', n_jobs=2)\n",
    "\n",
    "# Print the F1 scores for each fold\n",
    "print(\"F1 Scores:\", f1_scores)\n",
    "\n",
    "\n"
   ]
  }
 ],
 "metadata": {
  "kernelspec": {
   "display_name": "base",
   "language": "python",
   "name": "python3"
  },
  "language_info": {
   "codemirror_mode": {
    "name": "ipython",
    "version": 3
   },
   "file_extension": ".py",
   "mimetype": "text/x-python",
   "name": "python",
   "nbconvert_exporter": "python",
   "pygments_lexer": "ipython3",
   "version": "3.9.13"
  },
  "orig_nbformat": 4
 },
 "nbformat": 4,
 "nbformat_minor": 2
}
