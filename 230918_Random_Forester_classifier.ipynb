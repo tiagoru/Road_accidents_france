{
 "cells": [
  {
   "cell_type": "code",
   "execution_count": null,
   "metadata": {},
   "outputs": [
    {
     "ename": "",
     "evalue": "",
     "output_type": "error",
     "traceback": [
      "\u001b[1;31mRunning cells with 'd:\\anaconda2\\python.exe' requires the ipykernel package.\n",
      "\u001b[1;31mRun the following command to install 'ipykernel' into the Python environment. \n",
      "\u001b[1;31mCommand: 'conda install -p d:\\anaconda2 ipykernel --update-deps --force-reinstall'"
     ]
    }
   ],
   "source": [
    "import pandas as pd\n",
    "import numpy as np\n",
    "import glob\n",
    "\n",
    "import matplotlib.pyplot as plt\n",
    "import seaborn as sns"
   ]
  },
  {
   "cell_type": "code",
   "execution_count": null,
   "metadata": {},
   "outputs": [
    {
     "ename": "",
     "evalue": "",
     "output_type": "error",
     "traceback": [
      "\u001b[1;31mRunning cells with 'd:\\anaconda2\\python.exe' requires the ipykernel package.\n",
      "\u001b[1;31mRun the following command to install 'ipykernel' into the Python environment. \n",
      "\u001b[1;31mCommand: 'conda install -p d:\\anaconda2 ipykernel --update-deps --force-reinstall'"
     ]
    }
   ],
   "source": [
    "df = pd.read_csv(\"./data/230907_basic_table_for_analysis_cleaned.csv\", index_col=0, low_memory=False)"
   ]
  },
  {
   "cell_type": "code",
   "execution_count": null,
   "metadata": {},
   "outputs": [
    {
     "ename": "",
     "evalue": "",
     "output_type": "error",
     "traceback": [
      "\u001b[1;31mRunning cells with 'd:\\anaconda2\\python.exe' requires the ipykernel package.\n",
      "\u001b[1;31mRun the following command to install 'ipykernel' into the Python environment. \n",
      "\u001b[1;31mCommand: 'conda install -p d:\\anaconda2 ipykernel --update-deps --force-reinstall'"
     ]
    }
   ],
   "source": [
    "df.info()\n"
   ]
  },
  {
   "cell_type": "code",
   "execution_count": null,
   "metadata": {},
   "outputs": [
    {
     "ename": "",
     "evalue": "",
     "output_type": "error",
     "traceback": [
      "\u001b[1;31mRunning cells with 'd:\\anaconda2\\python.exe' requires the ipykernel package.\n",
      "\u001b[1;31mRun the following command to install 'ipykernel' into the Python environment. \n",
      "\u001b[1;31mCommand: 'conda install -p d:\\anaconda2 ipykernel --update-deps --force-reinstall'"
     ]
    }
   ],
   "source": [
    "df['hrmn']"
   ]
  },
  {
   "cell_type": "code",
   "execution_count": null,
   "metadata": {},
   "outputs": [
    {
     "ename": "",
     "evalue": "",
     "output_type": "error",
     "traceback": [
      "\u001b[1;31mRunning cells with 'd:\\anaconda2\\python.exe' requires the ipykernel package.\n",
      "\u001b[1;31mRun the following command to install 'ipykernel' into the Python environment. \n",
      "\u001b[1;31mCommand: 'conda install -p d:\\anaconda2 ipykernel --update-deps --force-reinstall'"
     ]
    }
   ],
   "source": [
    "# cleanning variables that might not be used in the model\n",
    "df['date']= pd.to_datetime(df.date,format='%Y-%m-%d')\n",
    "df['year'] = df['date'].dt.year.astype(int)\n",
    "\n",
    "from sklearn.preprocessing import LabelEncoder\n",
    "le = LabelEncoder()\n",
    "\n",
    "df['actp'] = le.fit_transform(df['actp'].astype(str))\n",
    "df['hrmn'] = le.fit_transform(df['hrmn'].astype(str))"
   ]
  },
  {
   "cell_type": "code",
   "execution_count": null,
   "metadata": {},
   "outputs": [
    {
     "ename": "",
     "evalue": "",
     "output_type": "error",
     "traceback": [
      "\u001b[1;31mRunning cells with 'd:\\anaconda2\\python.exe' requires the ipykernel package.\n",
      "\u001b[1;31mRun the following command to install 'ipykernel' into the Python environment. \n",
      "\u001b[1;31mCommand: 'conda install -p d:\\anaconda2 ipykernel --update-deps --force-reinstall'"
     ]
    }
   ],
   "source": [
    "df_M = df[df['metropolitan'] == 1]\n",
    "df_M.head(3)"
   ]
  },
  {
   "cell_type": "code",
   "execution_count": null,
   "metadata": {},
   "outputs": [
    {
     "ename": "",
     "evalue": "",
     "output_type": "error",
     "traceback": [
      "\u001b[1;31mRunning cells with 'd:\\anaconda2\\python.exe' requires the ipykernel package.\n",
      "\u001b[1;31mRun the following command to install 'ipykernel' into the Python environment. \n",
      "\u001b[1;31mCommand: 'conda install -p d:\\anaconda2 ipykernel --update-deps --force-reinstall'"
     ]
    }
   ],
   "source": [
    "#cleanning variables that might not be used in the model\n",
    "df_rf = df_M.drop(['num_veh','adr','date','holiday','lat', 'long','grav'], axis=1) # grav removed because is similat to target "
   ]
  },
  {
   "cell_type": "code",
   "execution_count": null,
   "metadata": {},
   "outputs": [
    {
     "ename": "",
     "evalue": "",
     "output_type": "error",
     "traceback": [
      "\u001b[1;31mRunning cells with 'd:\\anaconda2\\python.exe' requires the ipykernel package.\n",
      "\u001b[1;31mRun the following command to install 'ipykernel' into the Python environment. \n",
      "\u001b[1;31mCommand: 'conda install -p d:\\anaconda2 ipykernel --update-deps --force-reinstall'"
     ]
    }
   ],
   "source": [
    "#split the data for modeling\n",
    "# 2005 to 2019 for trainning  and 2020 to 2021 to test\n",
    "\n",
    "# Filter data for the training period (2005-2018)\n",
    "train_data = df_rf[(df_rf['an'] >= 2005) & (df_rf['an'] <= 2019)]\n",
    "\n",
    "# Filter data for the testing period (2019-2021)\n",
    "test_data = df_rf[(df_rf['an'] >= 2020) & (df_rf['an'] <= 2021)]\n",
    " #Separate features and target variable\n",
    "X_train = train_data.drop('fatal', axis=1)  # Features for training\n",
    "y_train = train_data['fatal']  # Target variable for training\n",
    "\n",
    "# Separate features and target variable\n",
    "X_test = test_data.drop('fatal', axis=1)  # Features for training\n",
    "y_test = test_data['fatal']  # Target variable for training\n"
   ]
  },
  {
   "cell_type": "code",
   "execution_count": null,
   "metadata": {},
   "outputs": [
    {
     "ename": "",
     "evalue": "",
     "output_type": "error",
     "traceback": [
      "\u001b[1;31mRunning cells with 'd:\\anaconda2\\python.exe' requires the ipykernel package.\n",
      "\u001b[1;31mRun the following command to install 'ipykernel' into the Python environment. \n",
      "\u001b[1;31mCommand: 'conda install -p d:\\anaconda2 ipykernel --update-deps --force-reinstall'"
     ]
    }
   ],
   "source": [
    "df_rf['fatal'].value_counts(normalize=True)"
   ]
  },
  {
   "cell_type": "code",
   "execution_count": null,
   "metadata": {},
   "outputs": [
    {
     "ename": "",
     "evalue": "",
     "output_type": "error",
     "traceback": [
      "\u001b[1;31mRunning cells with 'd:\\anaconda2\\python.exe' requires the ipykernel package.\n",
      "\u001b[1;31mRun the following command to install 'ipykernel' into the Python environment. \n",
      "\u001b[1;31mCommand: 'conda install -p d:\\anaconda2 ipykernel --update-deps --force-reinstall'"
     ]
    }
   ],
   "source": [
    "# import classifier\n",
    "from sklearn.ensemble import RandomForestClassifier\n",
    "\n",
    "# import metrics\n",
    "from sklearn.metrics import classification_report, confusion_matrix\n",
    "\n",
    "# import evaluation tools\n",
    "from sklearn.model_selection import KFold, cross_val_score"
   ]
  },
  {
   "cell_type": "code",
   "execution_count": null,
   "metadata": {},
   "outputs": [
    {
     "ename": "",
     "evalue": "",
     "output_type": "error",
     "traceback": [
      "\u001b[1;31mRunning cells with 'd:\\anaconda2\\python.exe' requires the ipykernel package.\n",
      "\u001b[1;31mRun the following command to install 'ipykernel' into the Python environment. \n",
      "\u001b[1;31mCommand: 'conda install -p d:\\anaconda2 ipykernel --update-deps --force-reinstall'"
     ]
    }
   ],
   "source": [
    " #instantiate RandomForestClassifier with entropy and class_weight\n",
    "forest_1 = RandomForestClassifier(random_state=4, criterion='entropy', n_jobs=-1, class_weight='balanced')\n",
    "\n",
    "# train\n",
    "forest_1.fit(X_train, y_train)\n",
    "\n",
    "# predict\n",
    "y_test_preds  = forest_1.predict(X_test)\n",
    "\n",
    "# evaluate\n",
    "report = classification_report(y_test, y_test_preds)\n",
    "print('Classification Report Random Forest - with Entropy and class_weight Parameter: \\n', report)"
   ]
  },
  {
   "cell_type": "code",
   "execution_count": null,
   "metadata": {},
   "outputs": [
    {
     "ename": "",
     "evalue": "",
     "output_type": "error",
     "traceback": [
      "\u001b[1;31mRunning cells with 'd:\\anaconda2\\python.exe' requires the ipykernel package.\n",
      "\u001b[1;31mRun the following command to install 'ipykernel' into the Python environment. \n",
      "\u001b[1;31mCommand: 'conda install -p d:\\anaconda2 ipykernel --update-deps --force-reinstall'"
     ]
    }
   ],
   "source": [
    "# create confusion matrix# create confusion matrix\n",
    "matrix = confusion_matrix(y_test, y_test_preds)\n",
    "\n",
    "# create dataframe\n",
    "class_names = df_rf.fatal.values\n",
    "dataframe = pd.DataFrame(matrix, index=['non-fatal', 'fatal'], \n",
    "                         columns=['non-fatal', 'fatal'])\n",
    "\n",
    "# create heatmap\n",
    "sns.heatmap(dataframe, annot=True, cbar=None, cmap='Blues')\n",
    "plt.title('Confusion Matrix')\n",
    "plt.tight_layout(), plt.xlabel('True Values'), plt.ylabel('Predicted Values')\n",
    "plt.show()\n",
    "\n"
   ]
  },
  {
   "cell_type": "code",
   "execution_count": null,
   "metadata": {},
   "outputs": [
    {
     "ename": "",
     "evalue": "",
     "output_type": "error",
     "traceback": [
      "\u001b[1;31mRunning cells with 'd:\\anaconda2\\python.exe' requires the ipykernel package.\n",
      "\u001b[1;31mRun the following command to install 'ipykernel' into the Python environment. \n",
      "\u001b[1;31mCommand: 'conda install -p d:\\anaconda2 ipykernel --update-deps --force-reinstall'"
     ]
    }
   ],
   "source": [
    "from sklearn.model_selection import cross_val_score\n",
    "from sklearn.ensemble import RandomForestClassifier\n",
    "\n",
    "# Create a Random Forest classifier instance (replace with your hyperparameters)\n",
    "forest_1 = RandomForestClassifier(random_state=42)\n",
    "\n",
    "# Perform cross-validation with F1 score\n",
    "f1_scores = cross_val_score(forest_1, X_train, y_train, scoring='f1_macro', n_jobs=-1)\n",
    "\n",
    "# Print the F1 scores for each fold\n",
    "print(\"F1 Scores:\", f1_scores)\n",
    "\n",
    "\n"
   ]
  }
 ],
 "metadata": {
  "kernelspec": {
   "display_name": "base",
   "language": "python",
   "name": "python3"
  },
  "language_info": {
   "codemirror_mode": {
    "name": "ipython",
    "version": 3
   },
   "file_extension": ".py",
   "mimetype": "text/x-python",
   "name": "python",
   "nbconvert_exporter": "python",
   "pygments_lexer": "ipython3",
   "version": "3.9.13"
  },
  "orig_nbformat": 4
 },
 "nbformat": 4,
 "nbformat_minor": 2
}
