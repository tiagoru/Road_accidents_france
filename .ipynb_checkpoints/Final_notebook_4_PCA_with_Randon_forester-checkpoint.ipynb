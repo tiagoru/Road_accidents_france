{
 "cells": [
  {
   "cell_type": "markdown",
   "metadata": {},
   "source": [
    "##  PCA Aanlysis to reduce dimensionality\n",
    "the aim is to apply PCA and see if improves the results of our trainning model\n",
    "\n",
    "\n",
    "**Cohort:** mar23_accidents\n",
    "\n",
    "**Author:** Tiago Russomanno\n",
    "\n",
    "**Date:** 25 October 2023\n",
    "\n",
    "### Modelr with target variable severe  *** tested with Random Forest\n",
    "\n",
    "\n",
    "-1 step load cleanning data 231018_clean_table_for_analysis.csv\n",
    "\n",
    "-2 step create variable severe based on  grav\n",
    "\n",
    "-3 clean the data, leaving only numerical variables\n",
    "\n",
    "-4 split the dataset\n",
    "\n",
    "-3 step prepare and run PCA and thest the number of components \n",
    "\n",
    "-4 srun your model and see teh results"
   ]
  },
  {
   "cell_type": "markdown",
   "metadata": {},
   "source": [
    "Load Libraries"
   ]
  },
  {
   "cell_type": "code",
   "execution_count": 44,
   "metadata": {},
   "outputs": [],
   "source": [
    "import pandas as pd\n",
    "import seaborn as sns\n",
    "from sklearn.ensemble import RandomForestClassifier\n",
    "from sklearn.metrics import classification_report\n",
    "from sklearn.model_selection import train_test_split\n",
    "from sklearn.preprocessing import StandardScaler\n",
    "import pandas as pd\n",
    "import numpy as np\n",
    "import matplotlib.pyplot as plt\n",
    "from datetime import datetime, timedelta\n",
    "from sklearn.preprocessing import LabelEncoder, MinMaxScaler, StandardScaler\n",
    "from sklearn.metrics import accuracy_score, confusion_matrix, classification_report\n",
    "from sklearn.decomposition import PCA"
   ]
  },
  {
   "cell_type": "markdown",
   "metadata": {},
   "source": [
    "Load datset"
   ]
  },
  {
   "cell_type": "code",
   "execution_count": 45,
   "metadata": {},
   "outputs": [],
   "source": [
    "df = pd.read_csv('./data/231018_clean_table_for_analysis.csv', low_memory = False, index_col = 0)"
   ]
  },
  {
   "cell_type": "markdown",
   "metadata": {},
   "source": [
    "data description"
   ]
  },
  {
   "cell_type": "code",
   "execution_count": 46,
   "metadata": {},
   "outputs": [
    {
     "data": {
      "text/html": [
       "<div>\n",
       "<style scoped>\n",
       "    .dataframe tbody tr th:only-of-type {\n",
       "        vertical-align: middle;\n",
       "    }\n",
       "\n",
       "    .dataframe tbody tr th {\n",
       "        vertical-align: top;\n",
       "    }\n",
       "\n",
       "    .dataframe thead th {\n",
       "        text-align: right;\n",
       "    }\n",
       "</style>\n",
       "<table border=\"1\" class=\"dataframe\">\n",
       "  <thead>\n",
       "    <tr style=\"text-align: right;\">\n",
       "      <th></th>\n",
       "      <th>place</th>\n",
       "      <th>catu</th>\n",
       "      <th>sexe</th>\n",
       "      <th>an_nais</th>\n",
       "      <th>trajet</th>\n",
       "      <th>locp</th>\n",
       "      <th>an</th>\n",
       "      <th>mois</th>\n",
       "      <th>jour</th>\n",
       "      <th>lum</th>\n",
       "      <th>...</th>\n",
       "      <th>holiday</th>\n",
       "      <th>datetime</th>\n",
       "      <th>timestamp</th>\n",
       "      <th>actp</th>\n",
       "      <th>num_veh</th>\n",
       "      <th>hrmn</th>\n",
       "      <th>grav</th>\n",
       "      <th>etatp</th>\n",
       "      <th>hour_of_day</th>\n",
       "      <th>day_of_week</th>\n",
       "    </tr>\n",
       "    <tr>\n",
       "      <th>Num_Acc</th>\n",
       "      <th></th>\n",
       "      <th></th>\n",
       "      <th></th>\n",
       "      <th></th>\n",
       "      <th></th>\n",
       "      <th></th>\n",
       "      <th></th>\n",
       "      <th></th>\n",
       "      <th></th>\n",
       "      <th></th>\n",
       "      <th></th>\n",
       "      <th></th>\n",
       "      <th></th>\n",
       "      <th></th>\n",
       "      <th></th>\n",
       "      <th></th>\n",
       "      <th></th>\n",
       "      <th></th>\n",
       "      <th></th>\n",
       "      <th></th>\n",
       "      <th></th>\n",
       "    </tr>\n",
       "  </thead>\n",
       "  <tbody>\n",
       "    <tr>\n",
       "      <th>201900000001</th>\n",
       "      <td>2.0</td>\n",
       "      <td>2</td>\n",
       "      <td>2</td>\n",
       "      <td>2002</td>\n",
       "      <td>0.0</td>\n",
       "      <td>-1.0</td>\n",
       "      <td>2019</td>\n",
       "      <td>11</td>\n",
       "      <td>30</td>\n",
       "      <td>4</td>\n",
       "      <td>...</td>\n",
       "      <td>NaN</td>\n",
       "      <td>2019-11-30 01:30:00</td>\n",
       "      <td>1.575074e+09</td>\n",
       "      <td>0</td>\n",
       "      <td>14</td>\n",
       "      <td>90</td>\n",
       "      <td>3</td>\n",
       "      <td>0</td>\n",
       "      <td>1</td>\n",
       "      <td>Saturday</td>\n",
       "    </tr>\n",
       "    <tr>\n",
       "      <th>201900000001</th>\n",
       "      <td>1.0</td>\n",
       "      <td>1</td>\n",
       "      <td>2</td>\n",
       "      <td>1993</td>\n",
       "      <td>5.0</td>\n",
       "      <td>-1.0</td>\n",
       "      <td>2019</td>\n",
       "      <td>11</td>\n",
       "      <td>30</td>\n",
       "      <td>4</td>\n",
       "      <td>...</td>\n",
       "      <td>NaN</td>\n",
       "      <td>2019-11-30 01:30:00</td>\n",
       "      <td>1.575074e+09</td>\n",
       "      <td>0</td>\n",
       "      <td>14</td>\n",
       "      <td>90</td>\n",
       "      <td>3</td>\n",
       "      <td>0</td>\n",
       "      <td>1</td>\n",
       "      <td>Saturday</td>\n",
       "    </tr>\n",
       "    <tr>\n",
       "      <th>201900000001</th>\n",
       "      <td>1.0</td>\n",
       "      <td>1</td>\n",
       "      <td>1</td>\n",
       "      <td>1959</td>\n",
       "      <td>0.0</td>\n",
       "      <td>-1.0</td>\n",
       "      <td>2019</td>\n",
       "      <td>11</td>\n",
       "      <td>30</td>\n",
       "      <td>4</td>\n",
       "      <td>...</td>\n",
       "      <td>NaN</td>\n",
       "      <td>2019-11-30 01:30:00</td>\n",
       "      <td>1.575074e+09</td>\n",
       "      <td>0</td>\n",
       "      <td>0</td>\n",
       "      <td>90</td>\n",
       "      <td>0</td>\n",
       "      <td>0</td>\n",
       "      <td>1</td>\n",
       "      <td>Saturday</td>\n",
       "    </tr>\n",
       "    <tr>\n",
       "      <th>201900000002</th>\n",
       "      <td>1.0</td>\n",
       "      <td>1</td>\n",
       "      <td>2</td>\n",
       "      <td>1994</td>\n",
       "      <td>0.0</td>\n",
       "      <td>-1.0</td>\n",
       "      <td>2019</td>\n",
       "      <td>11</td>\n",
       "      <td>30</td>\n",
       "      <td>3</td>\n",
       "      <td>...</td>\n",
       "      <td>NaN</td>\n",
       "      <td>2019-11-30 02:50:00</td>\n",
       "      <td>1.575079e+09</td>\n",
       "      <td>0</td>\n",
       "      <td>0</td>\n",
       "      <td>170</td>\n",
       "      <td>3</td>\n",
       "      <td>0</td>\n",
       "      <td>2</td>\n",
       "      <td>Saturday</td>\n",
       "    </tr>\n",
       "    <tr>\n",
       "      <th>201900000003</th>\n",
       "      <td>1.0</td>\n",
       "      <td>1</td>\n",
       "      <td>1</td>\n",
       "      <td>1996</td>\n",
       "      <td>0.0</td>\n",
       "      <td>-1.0</td>\n",
       "      <td>2019</td>\n",
       "      <td>11</td>\n",
       "      <td>28</td>\n",
       "      <td>1</td>\n",
       "      <td>...</td>\n",
       "      <td>NaN</td>\n",
       "      <td>2019-11-28 15:15:00</td>\n",
       "      <td>1.574950e+09</td>\n",
       "      <td>1</td>\n",
       "      <td>0</td>\n",
       "      <td>915</td>\n",
       "      <td>0</td>\n",
       "      <td>0</td>\n",
       "      <td>15</td>\n",
       "      <td>Thursday</td>\n",
       "    </tr>\n",
       "  </tbody>\n",
       "</table>\n",
       "<p>5 rows × 43 columns</p>\n",
       "</div>"
      ],
      "text/plain": [
       "              place  catu  sexe  an_nais  trajet  locp    an  mois  jour  lum  \\\n",
       "Num_Acc                                                                         \n",
       "201900000001    2.0     2     2     2002     0.0  -1.0  2019    11    30    4   \n",
       "201900000001    1.0     1     2     1993     5.0  -1.0  2019    11    30    4   \n",
       "201900000001    1.0     1     1     1959     0.0  -1.0  2019    11    30    4   \n",
       "201900000002    1.0     1     2     1994     0.0  -1.0  2019    11    30    3   \n",
       "201900000003    1.0     1     1     1996     0.0  -1.0  2019    11    28    1   \n",
       "\n",
       "              ...  holiday             datetime     timestamp  actp  num_veh  \\\n",
       "Num_Acc       ...                                                              \n",
       "201900000001  ...      NaN  2019-11-30 01:30:00  1.575074e+09     0       14   \n",
       "201900000001  ...      NaN  2019-11-30 01:30:00  1.575074e+09     0       14   \n",
       "201900000001  ...      NaN  2019-11-30 01:30:00  1.575074e+09     0        0   \n",
       "201900000002  ...      NaN  2019-11-30 02:50:00  1.575079e+09     0        0   \n",
       "201900000003  ...      NaN  2019-11-28 15:15:00  1.574950e+09     1        0   \n",
       "\n",
       "              hrmn  grav  etatp  hour_of_day  day_of_week  \n",
       "Num_Acc                                                    \n",
       "201900000001    90     3      0            1     Saturday  \n",
       "201900000001    90     3      0            1     Saturday  \n",
       "201900000001    90     0      0            1     Saturday  \n",
       "201900000002   170     3      0            2     Saturday  \n",
       "201900000003   915     0      0           15     Thursday  \n",
       "\n",
       "[5 rows x 43 columns]"
      ]
     },
     "execution_count": 46,
     "metadata": {},
     "output_type": "execute_result"
    }
   ],
   "source": [
    "df.head(5)"
   ]
  },
  {
   "cell_type": "markdown",
   "metadata": {},
   "source": [
    "Preparing the dataset"
   ]
  },
  {
   "cell_type": "code",
   "execution_count": 47,
   "metadata": {},
   "outputs": [],
   "source": [
    "# Fixing the hrmn issue:\n",
    "# Transform `date`\n",
    "df = df.assign(date = pd.to_datetime(df['date']))\n",
    "df = df.assign(hrmn = pd.to_datetime(df['hrmn']))"
   ]
  },
  {
   "cell_type": "code",
   "execution_count": 48,
   "metadata": {},
   "outputs": [],
   "source": [
    "df['date'] = df.apply(lambda x: int(x['date'].timestamp()), axis = 1)\n",
    "df['hrmn'] = df.apply(lambda x: int(x['hrmn'].timestamp()), axis = 1)"
   ]
  },
  {
   "cell_type": "markdown",
   "metadata": {},
   "source": [
    "Creating the target variable \"severe\""
   ]
  },
  {
   "cell_type": "code",
   "execution_count": 49,
   "metadata": {},
   "outputs": [],
   "source": [
    "df['severe'] = np.where(df['grav'].isin([0, 1]), 0, 1)"
   ]
  },
  {
   "cell_type": "code",
   "execution_count": 50,
   "metadata": {},
   "outputs": [
    {
     "data": {
      "text/plain": [
       "array([1, 0])"
      ]
     },
     "execution_count": 50,
     "metadata": {},
     "output_type": "execute_result"
    }
   ],
   "source": [
    "df.severe.unique()"
   ]
  },
  {
   "cell_type": "markdown",
   "metadata": {},
   "source": [
    "Checking the distribution of the target variable"
   ]
  },
  {
   "cell_type": "code",
   "execution_count": 51,
   "metadata": {},
   "outputs": [
    {
     "data": {
      "image/png": "[encoded data removed]",
      "text/plain": [
       "<Figure size 640x480 with 1 Axes>"
      ]
     },
     "metadata": {},
     "output_type": "display_data"
    }
   ],
   "source": [
    "# checking the variables graphically and their distribution\n",
    "import matplotlib.pyplot as plt\n",
    "# exploring severe cases in % \n",
    "event_counts = df['severe'].value_counts()\n",
    "event_percentages = (event_counts / event_counts.sum()) * 100\n",
    "plt.subplot(2,1,1)\n",
    "event_percentages.plot.bar()\n",
    "labels = ['severe','non-severe']\n",
    "# Add labels and title to the plot\n",
    "plt.xticks(range(len(event_counts)), labels)\n",
    "plt.xlabel('Events')\n",
    "plt.ylabel('Count %')\n",
    "plt.title('Severity France')\n",
    "# Display the plot\n",
    "plt.show()"
   ]
  },
  {
   "cell_type": "markdown",
   "metadata": {},
   "source": [
    "Filtering teh varaibles that will not be used in the model and in the PCA"
   ]
  },
  {
   "cell_type": "code",
   "execution_count": 52,
   "metadata": {},
   "outputs": [],
   "source": [
    "columns_drop = ['holiday', 'grav','datetime','is_holiday','day_of_week']\n",
    "\n",
    "df.drop(columns = columns_drop, inplace = True)"
   ]
  },
  {
   "cell_type": "code",
   "execution_count": 53,
   "metadata": {},
   "outputs": [
    {
     "data": {
      "text/html": [
       "<div>\n",
       "<style scoped>\n",
       "    .dataframe tbody tr th:only-of-type {\n",
       "        vertical-align: middle;\n",
       "    }\n",
       "\n",
       "    .dataframe tbody tr th {\n",
       "        vertical-align: top;\n",
       "    }\n",
       "\n",
       "    .dataframe thead th {\n",
       "        text-align: right;\n",
       "    }\n",
       "</style>\n",
       "<table border=\"1\" class=\"dataframe\">\n",
       "  <thead>\n",
       "    <tr style=\"text-align: right;\">\n",
       "      <th></th>\n",
       "      <th>place</th>\n",
       "      <th>catu</th>\n",
       "      <th>sexe</th>\n",
       "      <th>an_nais</th>\n",
       "      <th>trajet</th>\n",
       "      <th>locp</th>\n",
       "      <th>an</th>\n",
       "      <th>mois</th>\n",
       "      <th>jour</th>\n",
       "      <th>lum</th>\n",
       "      <th>...</th>\n",
       "      <th>choc</th>\n",
       "      <th>manv</th>\n",
       "      <th>date</th>\n",
       "      <th>timestamp</th>\n",
       "      <th>actp</th>\n",
       "      <th>num_veh</th>\n",
       "      <th>hrmn</th>\n",
       "      <th>etatp</th>\n",
       "      <th>hour_of_day</th>\n",
       "      <th>severe</th>\n",
       "    </tr>\n",
       "    <tr>\n",
       "      <th>Num_Acc</th>\n",
       "      <th></th>\n",
       "      <th></th>\n",
       "      <th></th>\n",
       "      <th></th>\n",
       "      <th></th>\n",
       "      <th></th>\n",
       "      <th></th>\n",
       "      <th></th>\n",
       "      <th></th>\n",
       "      <th></th>\n",
       "      <th></th>\n",
       "      <th></th>\n",
       "      <th></th>\n",
       "      <th></th>\n",
       "      <th></th>\n",
       "      <th></th>\n",
       "      <th></th>\n",
       "      <th></th>\n",
       "      <th></th>\n",
       "      <th></th>\n",
       "      <th></th>\n",
       "    </tr>\n",
       "  </thead>\n",
       "  <tbody>\n",
       "    <tr>\n",
       "      <th>201900000001</th>\n",
       "      <td>2.0</td>\n",
       "      <td>2</td>\n",
       "      <td>2</td>\n",
       "      <td>2002</td>\n",
       "      <td>0.0</td>\n",
       "      <td>-1.0</td>\n",
       "      <td>2019</td>\n",
       "      <td>11</td>\n",
       "      <td>30</td>\n",
       "      <td>4</td>\n",
       "      <td>...</td>\n",
       "      <td>5.0</td>\n",
       "      <td>23.0</td>\n",
       "      <td>1575072000</td>\n",
       "      <td>1.575074e+09</td>\n",
       "      <td>0</td>\n",
       "      <td>14</td>\n",
       "      <td>0</td>\n",
       "      <td>0</td>\n",
       "      <td>1</td>\n",
       "      <td>1</td>\n",
       "    </tr>\n",
       "    <tr>\n",
       "      <th>201900000001</th>\n",
       "      <td>1.0</td>\n",
       "      <td>1</td>\n",
       "      <td>2</td>\n",
       "      <td>1993</td>\n",
       "      <td>5.0</td>\n",
       "      <td>-1.0</td>\n",
       "      <td>2019</td>\n",
       "      <td>11</td>\n",
       "      <td>30</td>\n",
       "      <td>4</td>\n",
       "      <td>...</td>\n",
       "      <td>5.0</td>\n",
       "      <td>23.0</td>\n",
       "      <td>1575072000</td>\n",
       "      <td>1.575074e+09</td>\n",
       "      <td>0</td>\n",
       "      <td>14</td>\n",
       "      <td>0</td>\n",
       "      <td>0</td>\n",
       "      <td>1</td>\n",
       "      <td>1</td>\n",
       "    </tr>\n",
       "    <tr>\n",
       "      <th>201900000001</th>\n",
       "      <td>1.0</td>\n",
       "      <td>1</td>\n",
       "      <td>1</td>\n",
       "      <td>1959</td>\n",
       "      <td>0.0</td>\n",
       "      <td>-1.0</td>\n",
       "      <td>2019</td>\n",
       "      <td>11</td>\n",
       "      <td>30</td>\n",
       "      <td>4</td>\n",
       "      <td>...</td>\n",
       "      <td>3.0</td>\n",
       "      <td>11.0</td>\n",
       "      <td>1575072000</td>\n",
       "      <td>1.575074e+09</td>\n",
       "      <td>0</td>\n",
       "      <td>0</td>\n",
       "      <td>0</td>\n",
       "      <td>0</td>\n",
       "      <td>1</td>\n",
       "      <td>0</td>\n",
       "    </tr>\n",
       "    <tr>\n",
       "      <th>201900000002</th>\n",
       "      <td>1.0</td>\n",
       "      <td>1</td>\n",
       "      <td>2</td>\n",
       "      <td>1994</td>\n",
       "      <td>0.0</td>\n",
       "      <td>-1.0</td>\n",
       "      <td>2019</td>\n",
       "      <td>11</td>\n",
       "      <td>30</td>\n",
       "      <td>3</td>\n",
       "      <td>...</td>\n",
       "      <td>1.0</td>\n",
       "      <td>0.0</td>\n",
       "      <td>1575072000</td>\n",
       "      <td>1.575079e+09</td>\n",
       "      <td>0</td>\n",
       "      <td>0</td>\n",
       "      <td>0</td>\n",
       "      <td>0</td>\n",
       "      <td>2</td>\n",
       "      <td>1</td>\n",
       "    </tr>\n",
       "    <tr>\n",
       "      <th>201900000003</th>\n",
       "      <td>1.0</td>\n",
       "      <td>1</td>\n",
       "      <td>1</td>\n",
       "      <td>1996</td>\n",
       "      <td>0.0</td>\n",
       "      <td>-1.0</td>\n",
       "      <td>2019</td>\n",
       "      <td>11</td>\n",
       "      <td>28</td>\n",
       "      <td>1</td>\n",
       "      <td>...</td>\n",
       "      <td>1.0</td>\n",
       "      <td>2.0</td>\n",
       "      <td>1574899200</td>\n",
       "      <td>1.574950e+09</td>\n",
       "      <td>1</td>\n",
       "      <td>0</td>\n",
       "      <td>0</td>\n",
       "      <td>0</td>\n",
       "      <td>15</td>\n",
       "      <td>0</td>\n",
       "    </tr>\n",
       "  </tbody>\n",
       "</table>\n",
       "<p>5 rows × 39 columns</p>\n",
       "</div>"
      ],
      "text/plain": [
       "              place  catu  sexe  an_nais  trajet  locp    an  mois  jour  lum  \\\n",
       "Num_Acc                                                                         \n",
       "201900000001    2.0     2     2     2002     0.0  -1.0  2019    11    30    4   \n",
       "201900000001    1.0     1     2     1993     5.0  -1.0  2019    11    30    4   \n",
       "201900000001    1.0     1     1     1959     0.0  -1.0  2019    11    30    4   \n",
       "201900000002    1.0     1     2     1994     0.0  -1.0  2019    11    30    3   \n",
       "201900000003    1.0     1     1     1996     0.0  -1.0  2019    11    28    1   \n",
       "\n",
       "              ...  choc  manv        date     timestamp  actp  num_veh  hrmn  \\\n",
       "Num_Acc       ...                                                              \n",
       "201900000001  ...   5.0  23.0  1575072000  1.575074e+09     0       14     0   \n",
       "201900000001  ...   5.0  23.0  1575072000  1.575074e+09     0       14     0   \n",
       "201900000001  ...   3.0  11.0  1575072000  1.575074e+09     0        0     0   \n",
       "201900000002  ...   1.0   0.0  1575072000  1.575079e+09     0        0     0   \n",
       "201900000003  ...   1.0   2.0  1574899200  1.574950e+09     1        0     0   \n",
       "\n",
       "              etatp  hour_of_day  severe  \n",
       "Num_Acc                                   \n",
       "201900000001      0            1       1  \n",
       "201900000001      0            1       1  \n",
       "201900000001      0            1       0  \n",
       "201900000002      0            2       1  \n",
       "201900000003      0           15       0  \n",
       "\n",
       "[5 rows x 39 columns]"
      ]
     },
     "execution_count": 53,
     "metadata": {},
     "output_type": "execute_result"
    }
   ],
   "source": [
    "df.head()"
   ]
  },
  {
   "cell_type": "markdown",
   "metadata": {},
   "source": [
    "### Preparation of the training and test datasets\n",
    "#### Split data\n",
    "The dataset is split by year slides. We decided to drop the Covid-19 years 2020-21. The years 2005 to 2017 are selected for the train dataset and the years 2018 and 2019 for the test dataset. Furthermore, the `grav` variable was dropped because it is encoded in `severe`."
   ]
  },
  {
   "cell_type": "code",
   "execution_count": 54,
   "metadata": {},
   "outputs": [],
   "source": [
    "# split the dataset to train and test data\n",
    "X_train = df.loc[df['an'] < 2018]\n",
    "X_train = X_train.drop('severe', axis = 1)\n",
    "\n",
    "X_test = df[(df['an'] >= 2018) & (df['an'] < 2020)]\n",
    "X_test = X_test.drop('severe', axis = 1)\n",
    "\n",
    "y_train = df['severe'].loc[df['an'] < 2018]\n",
    "y_test = df['severe'][(df['an'] >= 2018) & (df['an'] < 2020)]\n",
    "\n",
    "le = LabelEncoder()\n",
    "y_train = le.fit_transform(y_train)\n",
    "y_test = le.fit_transform(y_test)"
   ]
  },
  {
   "cell_type": "code",
   "execution_count": 55,
   "metadata": {},
   "outputs": [],
   "source": [
    "# checkimg for non numeric columns\n",
    "non_numeric_columns = df.select_dtypes(exclude='number')"
   ]
  },
  {
   "cell_type": "code",
   "execution_count": 56,
   "metadata": {},
   "outputs": [
    {
     "data": {
      "text/html": [
       "<div>\n",
       "<style scoped>\n",
       "    .dataframe tbody tr th:only-of-type {\n",
       "        vertical-align: middle;\n",
       "    }\n",
       "\n",
       "    .dataframe tbody tr th {\n",
       "        vertical-align: top;\n",
       "    }\n",
       "\n",
       "    .dataframe thead th {\n",
       "        text-align: right;\n",
       "    }\n",
       "</style>\n",
       "<table border=\"1\" class=\"dataframe\">\n",
       "  <thead>\n",
       "    <tr style=\"text-align: right;\">\n",
       "      <th></th>\n",
       "    </tr>\n",
       "    <tr>\n",
       "      <th>Num_Acc</th>\n",
       "    </tr>\n",
       "  </thead>\n",
       "  <tbody>\n",
       "    <tr>\n",
       "      <th>201900000001</th>\n",
       "    </tr>\n",
       "    <tr>\n",
       "      <th>201900000001</th>\n",
       "    </tr>\n",
       "    <tr>\n",
       "      <th>201900000001</th>\n",
       "    </tr>\n",
       "    <tr>\n",
       "      <th>201900000002</th>\n",
       "    </tr>\n",
       "    <tr>\n",
       "      <th>201900000003</th>\n",
       "    </tr>\n",
       "    <tr>\n",
       "      <th>...</th>\n",
       "    </tr>\n",
       "    <tr>\n",
       "      <th>201800055764</th>\n",
       "    </tr>\n",
       "    <tr>\n",
       "      <th>201800055765</th>\n",
       "    </tr>\n",
       "    <tr>\n",
       "      <th>201800055765</th>\n",
       "    </tr>\n",
       "    <tr>\n",
       "      <th>201800055766</th>\n",
       "    </tr>\n",
       "    <tr>\n",
       "      <th>201800055766</th>\n",
       "    </tr>\n",
       "  </tbody>\n",
       "</table>\n",
       "<p>2421684 rows × 0 columns</p>\n",
       "</div>"
      ],
      "text/plain": [
       "Empty DataFrame\n",
       "Columns: []\n",
       "Index: [201900000001, 201900000001, 201900000001, 201900000002, 201900000003, 201900000003, 201900000003, 201900000003, 201900000004, 201900000004, 201900000004, 201900000004, 201900000005, 201900000005, 201900000005, 201900000006, 201900000006, 201900000007, 201900000007, 201900000008, 201900000009, 201900000009, 201900000009, 201900000010, 201900000010, 201900000011, 201900000011, 201900000012, 201900000016, 201900000016, 201900000018, 201900000018, 201900000018, 201900000019, 201900000019, 201900000020, 201900000020, 201900000021, 201900000021, 201900000022, 201900000023, 201900000023, 201900000024, 201900000024, 201900000025, 201900000025, 201900000026, 201900000026, 201900000026, 201900000027, 201900000027, 201900000028, 201900000028, 201900000029, 201900000029, 201900000030, 201900000030, 201900000031, 201900000031, 201900000031, 201900000032, 201900000032, 201900000032, 201900000032, 201900000033, 201900000033, 201900000034, 201900000034, 201900000035, 201900000036, 201900000036, 201900000036, 201900000036, 201900000036, 201900000037, 201900000037, 201900000038, 201900000038, 201900000039, 201900000039, 201900000040, 201900000041, 201900000041, 201900000042, 201900000042, 201900000043, 201900000043, 201900000044, 201900000044, 201900000045, 201900000046, 201900000046, 201900000047, 201900000048, 201900000048, 201900000049, 201900000050, 201900000050, 201900000050, 201900000050, ...]\n",
       "\n",
       "[2421684 rows x 0 columns]"
      ]
     },
     "execution_count": 56,
     "metadata": {},
     "output_type": "execute_result"
    }
   ],
   "source": [
    "non_numeric_columns"
   ]
  },
  {
   "cell_type": "markdown",
   "metadata": {},
   "source": [
    "## First step to PCA\n",
    "standardize the data"
   ]
  },
  {
   "cell_type": "code",
   "execution_count": 57,
   "metadata": {},
   "outputs": [],
   "source": [
    "# Standardize the data\n",
    "scaler = StandardScaler()\n",
    "X_train_scaled = scaler.fit_transform(X_train)\n",
    "X_test_scaled = scaler.transform(X_test)\n",
    "\n"
   ]
  },
  {
   "cell_type": "markdown",
   "metadata": {},
   "source": [
    "## Second step\n",
    "\n",
    "create a fit model with N number of components and plot and evaluate visually the \"elbow\" of the curve where ate least 90% of the \n",
    "variance is explained"
   ]
  },
  {
   "cell_type": "code",
   "execution_count": 74,
   "metadata": {},
   "outputs": [],
   "source": [
    "# Create and fit the PCA model\n",
    "n_components = 27  # need to test until fnd the right valeu basedon the graphic 27 look like the best value to explain the variance \n",
    "pca = PCA(n_components=n_components)\n",
    "X_train_pca = pca.fit_transform(X_train_scaled)\n",
    "X_test_pca = pca.transform(X_test_scaled)"
   ]
  },
  {
   "cell_type": "code",
   "execution_count": 75,
   "metadata": {},
   "outputs": [
    {
     "data": {
      "image/png": "[encoded data removed]",
      "text/plain": [
       "<Figure size 640x480 with 1 Axes>"
      ]
     },
     "metadata": {},
     "output_type": "display_data"
    }
   ],
   "source": [
    "cumulative_variance = pca.explained_variance_ratio_.cumsum()\n",
    "\n",
    "plt.plot(range(1, n_components + 1), cumulative_variance, marker='o', linestyle='--')\n",
    "plt.xlabel('Number of Principal Components')\n",
    "plt.ylabel('Cumulative Explained Variance')\n",
    "plt.title('Cumulative Explained Variance Plot')\n",
    "\n",
    "# Annotate the last point with the cumulative variance value\n",
    "last_point = (n_components, cumulative_variance[-1])\n",
    "plt.annotate(f'{cumulative_variance[-1]:.2f}', last_point, textcoords=\"offset points\", xytext=(0, 10), ha='center')\n",
    "\n",
    "plt.grid()\n",
    "plt.show()\n",
    "\n"
   ]
  },
  {
   "cell_type": "markdown",
   "metadata": {},
   "source": [
    "# At this point you should include and run your model to test if the PCA improve the results\n",
    " \n",
    "## Modelling the data using a Randon Forest classifier with 100 estimators"
   ]
  },
  {
   "cell_type": "code",
   "execution_count": 76,
   "metadata": {},
   "outputs": [
    {
     "data": {
      "text/plain": [
       "RandomForestClassifier(random_state=42)"
      ]
     },
     "execution_count": 76,
     "metadata": {},
     "output_type": "execute_result"
    }
   ],
   "source": [
    "# Create and train the Random Forest classifier\n",
    "clf = RandomForestClassifier(n_estimators=100, random_state=42)\n",
    "clf.fit(X_train_pca, y_train)"
   ]
  },
  {
   "cell_type": "code",
   "execution_count": 77,
   "metadata": {},
   "outputs": [
    {
     "name": "stdout",
     "output_type": "stream",
     "text": [
      "Accuracy: 70.85%\n",
      "              precision    recall  f1-score   support\n",
      "\n",
      "           0       0.69      0.61      0.65    111446\n",
      "           1       0.72      0.78      0.75    140377\n",
      "\n",
      "    accuracy                           0.71    251823\n",
      "   macro avg       0.71      0.70      0.70    251823\n",
      "weighted avg       0.71      0.71      0.71    251823\n",
      "\n",
      "Confusion Matrix:\n",
      "[[ 68487  42959]\n",
      " [ 30458 109919]]\n"
     ]
    }
   ],
   "source": [
    "# Make predictions\n",
    "y_pred = clf.predict(X_test_pca)\n",
    "\n",
    "# Calculate accuracy\n",
    "accuracy = accuracy_score(y_test, y_pred)\n",
    "print(\"Accuracy: {:.2f}%\".format(accuracy * 100))\n",
    "\n",
    "# Other evaluation metrics\n",
    "print(classification_report(y_test, y_pred))\n",
    "print(\"Confusion Matrix:\")\n",
    "print(confusion_matrix(y_test, y_pred))"
   ]
  },
  {
   "cell_type": "markdown",
   "metadata": {},
   "source": [
    "## results from the model without PCA\n",
    " so far the PCA did not improve the results\n",
    " \n",
    "[Random Forest Algorithm] Accuracy Score: 0.776\n",
    "\n",
    "Classification Report:\n",
    "\n",
    "               precision    recall  f1-score   support\n",
    "\n",
    "           0       0.76      0.73      0.74    111446\n",
    "           1       0.79      0.81      0.80    140377\n",
    "\n",
    "    accuracy                           0.78    251823\n",
    "\n",
    "    macro avg      0.77      0.77      0.77    251823\n",
    "    \n",
    "    weighted avg   0.78      0.78      0.78    251823"
   ]
  },
  {
   "cell_type": "markdown",
   "metadata": {},
   "source": [
    "## conclusion\n",
    " there was no improvemnt on the accuracy of the model using PCA\n",
    " the Random Forest had an accuracy of 77% without PCA and 70% with PCA\n"
   ]
  }
 ],
 "metadata": {
  "kernelspec": {
   "display_name": "base",
   "language": "python",
   "name": "python3"
  },
  "language_info": {
   "codemirror_mode": {
    "name": "ipython",
    "version": 3
   },
   "file_extension": ".py",
   "mimetype": "text/x-python",
   "name": "python",
   "nbconvert_exporter": "python",
   "pygments_lexer": "ipython3",
   "version": "3.9.13"
  }
 },
 "nbformat": 4,
 "nbformat_minor": 2
}
