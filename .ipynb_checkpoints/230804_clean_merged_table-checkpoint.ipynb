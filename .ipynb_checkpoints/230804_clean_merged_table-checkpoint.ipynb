{
 "cells": [
  {
   "cell_type": "code",
   "execution_count": 2,
   "id": "714ee55f-d623-4cbd-9e04-e706d92bd463",
   "metadata": {},
   "outputs": [],
   "source": [
    "import pandas as pd\n",
    "import numpy as np"
   ]
  },
  {
   "cell_type": "markdown",
   "id": "59fc5017-5831-45f4-af27-0f23257b862e",
   "metadata": {},
   "source": [
    "# Final processing of the geolocation\n",
    "The geolocations were processed during import and merging of the files. We did:\n",
    "\n",
    "- removal of all non-metropolitan departments\n",
    "- changed the Corse departments 2a and 2b to one department 2\n",
    "- imputed the geolocation from address, if possible\n",
    "- replaced the weired (0, 40) geolocation by NA\n",
    "- added NA to all missing relocation (e.g. (0, 0) which is not in France)\n",
    "\n",
    "In this notebook, we remove datasets with still missing geolocations and set the `gps` position to `M`."
   ]
  },
  {
   "cell_type": "code",
   "execution_count": 43,
   "id": "e86b4b6d-8164-4058-b4c7-9dd7f9503d79",
   "metadata": {},
   "outputs": [],
   "source": [
    "merged_table = pd.read_csv('./data/merged_tables.csv', low_memory=False, header = 0, index_col=0, na_values='n/a')"
   ]
  },
  {
   "cell_type": "markdown",
   "id": "f5d751aa-3b8e-4c75-8729-378f139ce715",
   "metadata": {},
   "source": [
    "The variables of interest for us are `lat` and `long`. The variables should either have a float value if a geolocation exists or are NA if no geolocation exists.\n",
    "\n",
    "We can remove all datasets with NA"
   ]
  },
  {
   "cell_type": "code",
   "execution_count": 44,
   "id": "ee4a7fd6-1d8c-4a25-b1db-4b531fc4d1e9",
   "metadata": {},
   "outputs": [],
   "source": [
    "merged_table.dropna(subset = ['lat', 'long'], inplace=True)"
   ]
  },
  {
   "cell_type": "markdown",
   "id": "a936d280-5e31-4da3-b590-7fbf9b660bf3",
   "metadata": {},
   "source": [
    "## Change values in `gps'\n",
    "First, check and replace values in `gps`."
   ]
  },
  {
   "cell_type": "code",
   "execution_count": 45,
   "id": "66c7ae23-67e9-4edb-a3b3-218adbf45070",
   "metadata": {},
   "outputs": [
    {
     "data": {
      "text/plain": [
       "array([nan, 'M', 'A'], dtype=object)"
      ]
     },
     "execution_count": 45,
     "metadata": {},
     "output_type": "execute_result"
    }
   ],
   "source": [
    "merged_table['gps'].unique()"
   ]
  },
  {
   "cell_type": "markdown",
   "id": "7dcc2396-6fce-49e0-8493-174896ad4b1b",
   "metadata": {},
   "source": [
    "Still datasets of the Antilles in the dataset..."
   ]
  },
  {
   "cell_type": "code",
   "execution_count": 46,
   "id": "6d8c5c38-45c4-4d68-8e70-cd696479ce4c",
   "metadata": {},
   "outputs": [
    {
     "data": {
      "text/plain": [
       "array([nan, 'M'], dtype=object)"
      ]
     },
     "execution_count": 46,
     "metadata": {},
     "output_type": "execute_result"
    }
   ],
   "source": [
    "merged_table.drop(merged_table[merged_table['gps'] == 'A'].index, inplace = True)\n",
    "merged_table['gps'].unique()"
   ]
  },
  {
   "cell_type": "markdown",
   "id": "9bacdee3-a01a-45a8-81a6-1616d70cba82",
   "metadata": {},
   "source": [
    "Now, fill gaps in `gps`"
   ]
  },
  {
   "cell_type": "code",
   "execution_count": 48,
   "id": "abde3ec4-08a0-4c2d-a731-c30264588e20",
   "metadata": {},
   "outputs": [
    {
     "data": {
      "text/plain": [
       "array(['M'], dtype=object)"
      ]
     },
     "execution_count": 48,
     "metadata": {},
     "output_type": "execute_result"
    }
   ],
   "source": [
    "merged_table['gps'] = merged_table['gps'].fillna('M')\n",
    "merged_table['gps'].unique()"
   ]
  },
  {
   "cell_type": "code",
   "execution_count": 49,
   "id": "681557e3-eab5-475c-90c6-332c5e1ba30c",
   "metadata": {},
   "outputs": [
    {
     "name": "stdout",
     "output_type": "stream",
     "text": [
      "<class 'pandas.core.frame.DataFrame'>\n",
      "Index: 416924 entries, 201900000001 to 201800049520\n",
      "Data columns (total 57 columns):\n",
      " #   Column         Non-Null Count   Dtype  \n",
      "---  ------         --------------   -----  \n",
      " 0   id_vehicule    347617 non-null  float64\n",
      " 1   num_veh        416924 non-null  object \n",
      " 2   place          412775 non-null  float64\n",
      " 3   catu           416924 non-null  int64  \n",
      " 4   grav           416924 non-null  int64  \n",
      " 5   sexe           416924 non-null  int64  \n",
      " 6   an_nais        413902 non-null  float64\n",
      " 7   trajet         416863 non-null  float64\n",
      " 8   secu1          347617 non-null  float64\n",
      " 9   secu2          347617 non-null  float64\n",
      " 10  secu3          347617 non-null  float64\n",
      " 11  locp           414798 non-null  float64\n",
      " 12  actp           414793 non-null  object \n",
      " 13  etatp          414791 non-null  float64\n",
      " 14  secu           67378 non-null   float64\n",
      " 15  an             416924 non-null  int64  \n",
      " 16  mois           416924 non-null  int64  \n",
      " 17  jour           416924 non-null  int64  \n",
      " 18  hrmn           416924 non-null  object \n",
      " 19  lum            416924 non-null  int64  \n",
      " 20  agg            416924 non-null  int64  \n",
      " 21  int            416924 non-null  int64  \n",
      " 22  atm            416924 non-null  float64\n",
      " 23  col            416917 non-null  float64\n",
      " 24  com            416924 non-null  object \n",
      " 25  adr            403371 non-null  object \n",
      " 26  gps            416924 non-null  object \n",
      " 27  lat            416924 non-null  float64\n",
      " 28  long           416924 non-null  float64\n",
      " 29  dep            416924 non-null  int64  \n",
      " 30  adr_retrieved  35644 non-null   float64\n",
      " 31  catr           416924 non-null  float64\n",
      " 32  voie           377084 non-null  object \n",
      " 33  v1             349620 non-null  float64\n",
      " 34  v2             28495 non-null   object \n",
      " 35  circ           416725 non-null  float64\n",
      " 36  nbv            416629 non-null  float64\n",
      " 37  vosp           416492 non-null  float64\n",
      " 38  prof           416591 non-null  float64\n",
      " 39  pr             381286 non-null  object \n",
      " 40  pr1            380927 non-null  object \n",
      " 41  plan           416513 non-null  float64\n",
      " 42  lartpc         63754 non-null   object \n",
      " 43  larrout        284914 non-null  object \n",
      " 44  surf           416589 non-null  float64\n",
      " 45  infra          416073 non-null  float64\n",
      " 46  situ           416143 non-null  float64\n",
      " 47  vma            347617 non-null  float64\n",
      " 48  env1           68517 non-null   float64\n",
      " 49  senc           416902 non-null  float64\n",
      " 50  catv           416924 non-null  int64  \n",
      " 51  occutc         73489 non-null   float64\n",
      " 52  obs            416870 non-null  float64\n",
      " 53  obsm           416576 non-null  float64\n",
      " 54  choc           416908 non-null  float64\n",
      " 55  manv           416912 non-null  float64\n",
      " 56  motor          347617 non-null  float64\n",
      "dtypes: float64(34), int64(11), object(12)\n",
      "memory usage: 184.5+ MB\n"
     ]
    }
   ],
   "source": [
    "merged_table.info()"
   ]
  },
  {
   "cell_type": "code",
   "execution_count": 50,
   "id": "7057e710-219a-4bad-9881-1898a779e9ab",
   "metadata": {},
   "outputs": [],
   "source": [
    "merged_table.to_csv(\"./data/merged_tables.csv\", sep = ',', header = True, na_rep = 'n/a', index=True)"
   ]
  }
 ],
 "metadata": {
  "kernelspec": {
   "display_name": "Python 3 (ipykernel)",
   "language": "python",
   "name": "python3"
  },
  "language_info": {
   "codemirror_mode": {
    "name": "ipython",
    "version": 3
   },
   "file_extension": ".py",
   "mimetype": "text/x-python",
   "name": "python",
   "nbconvert_exporter": "python",
   "pygments_lexer": "ipython3",
   "version": "3.11.4"
  }
 },
 "nbformat": 4,
 "nbformat_minor": 5
}
