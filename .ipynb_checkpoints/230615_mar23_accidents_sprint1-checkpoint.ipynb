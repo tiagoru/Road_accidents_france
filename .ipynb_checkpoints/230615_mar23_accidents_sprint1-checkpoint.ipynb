{
 "cells": [
  {
   "cell_type": "markdown",
   "id": "6d418484-35a0-48fa-a417-85bb46f48007",
   "metadata": {},
   "source": [
    "# Mar23 - Accidents in France project\n",
    "## Step 1: Data mining + DataViz’\n",
    "### Goals\n",
    "- Define the context and understand the scope of the project\n",
    "- Discovering the dataset and exhaustive analysis to highlight structure, difficulties and bias\n",
    "- Create 5 graphics\n",
    "- Analysis of the graphs and providing a business opinion\n",
    "- Validation of data manipulation or a statistical test"
   ]
  },
  {
   "cell_type": "code",
   "execution_count": null,
   "id": "e1250faf-af5c-4cdc-a6b5-16a98b437748",
   "metadata": {},
   "outputs": [],
   "source": []
  }
 ],
 "metadata": {
  "kernelspec": {
   "display_name": "Python 3 (ipykernel)",
   "language": "python",
   "name": "python3"
  },
  "language_info": {
   "codemirror_mode": {
    "name": "ipython",
    "version": 3
   },
   "file_extension": ".py",
   "mimetype": "text/x-python",
   "name": "python",
   "nbconvert_exporter": "python",
   "pygments_lexer": "ipython3",
   "version": "3.10.11"
  }
 },
 "nbformat": 4,
 "nbformat_minor": 5
}
