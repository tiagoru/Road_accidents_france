{
 "cells": [
  {
   "cell_type": "markdown",
   "metadata": {},
   "source": [
    "Decison Tree Model using cross validation\n",
    "Target variables is Severity ( non- severe == 0 and severe == 1) \n",
    "Target created from 'grav'\n",
    "\n",
    "data for trainning from 2005 to 2018\n",
    "test from 2019 to 2021"
   ]
  },
  {
   "cell_type": "code",
   "execution_count": 1,
   "metadata": {},
   "outputs": [],
   "source": [
    "import pandas as pd\n",
    "import seaborn as sns\n",
    "from sklearn.metrics import classification_report\n",
    "from sklearn.model_selection import train_test_split\n",
    "from sklearn.preprocessing import StandardScaler\n",
    "\n",
    "\n",
    "#Following the observations made in the previous step, you will have to clean your dataset and perform the pre-processing steps.\n",
    "#If necessary, you will have to transform and/or add features and enrich your dataset.\n",
    "#The objective at the end of this step is to have a dataset ready to perform in-depth analysis and/or modeling using Randon Forest Classifier "
   ]
  },
  {
   "cell_type": "code",
   "execution_count": 2,
   "metadata": {},
   "outputs": [
    {
     "name": "stderr",
     "output_type": "stream",
     "text": [
      "/Users/johannastarkl/opt/anaconda3/lib/python3.8/site-packages/numpy/lib/arraysetops.py:583: FutureWarning: elementwise comparison failed; returning scalar instead, but in the future will perform elementwise comparison\n",
      "  mask |= (ar1 == a)\n"
     ]
    }
   ],
   "source": [
    "#new data cleaned file to load\n",
    "df = pd.read_csv(\"./data/230921_basic_table_for_analysis_cleaned.csv\", index_col=0, low_memory=False)"
   ]
  },
  {
   "cell_type": "code",
   "execution_count": 3,
   "metadata": {},
   "outputs": [
    {
     "data": {
      "text/plain": [
       "count    2421738.0\n",
       "mean           1.0\n",
       "std            0.0\n",
       "min            1.0\n",
       "25%            1.0\n",
       "50%            1.0\n",
       "75%            1.0\n",
       "max            1.0\n",
       "Name: metropolitan, dtype: float64"
      ]
     },
     "execution_count": 3,
     "metadata": {},
     "output_type": "execute_result"
    }
   ],
   "source": [
    "df_M = df[(df['metropolitan'] == 1)]\n",
    "df_M['metropolitan'].describe()"
   ]
  },
  {
   "cell_type": "code",
   "execution_count": 4,
   "metadata": {},
   "outputs": [
    {
     "name": "stdout",
     "output_type": "stream",
     "text": [
      "<class 'pandas.core.frame.DataFrame'>\n",
      "Int64Index: 2421738 entries, 201900000001 to 201800055766\n",
      "Data columns (total 48 columns):\n",
      " #   Column        Dtype  \n",
      "---  ------        -----  \n",
      " 0   num_veh       object \n",
      " 1   place         float64\n",
      " 2   catu          int64  \n",
      " 3   grav          int64  \n",
      " 4   sexe          int64  \n",
      " 5   an_nais       int64  \n",
      " 6   trajet        float64\n",
      " 7   locp          float64\n",
      " 8   actp          object \n",
      " 9   etatp         float64\n",
      " 10  an            int64  \n",
      " 11  mois          int64  \n",
      " 12  jour          int64  \n",
      " 13  hrmn          object \n",
      " 14  lum           int64  \n",
      " 15  agg           int64  \n",
      " 16  int           int64  \n",
      " 17  atm           float64\n",
      " 18  col           float64\n",
      " 19  adr           object \n",
      " 20  lat           float64\n",
      " 21  long          float64\n",
      " 22  dep           int64  \n",
      " 23  metropolitan  float64\n",
      " 24  catr          float64\n",
      " 25  circ          float64\n",
      " 26  nbv           float64\n",
      " 27  vosp          float64\n",
      " 28  prof          float64\n",
      " 29  plan          float64\n",
      " 30  surf          float64\n",
      " 31  infra         float64\n",
      " 32  situ          float64\n",
      " 33  senc          float64\n",
      " 34  catv          int64  \n",
      " 35  occutc        float64\n",
      " 36  obs           float64\n",
      " 37  obsm          float64\n",
      " 38  choc          float64\n",
      " 39  manv          float64\n",
      " 40  date          object \n",
      " 41  is_holiday    bool   \n",
      " 42  holiday       object \n",
      " 43  secu_used     int64  \n",
      " 44  secu_avail    int64  \n",
      " 45  fatal         int64  \n",
      " 46  datetime      object \n",
      " 47  timestamp     float64\n",
      "dtypes: bool(1), float64(25), int64(15), object(7)\n",
      "memory usage: 889.2+ MB\n"
     ]
    }
   ],
   "source": [
    "df_M.info()"
   ]
  },
  {
   "cell_type": "code",
   "execution_count": 5,
   "metadata": {},
   "outputs": [
    {
     "name": "stdout",
     "output_type": "stream",
     "text": [
      "Number of data points with the value -1 in the 'grav' variable: 54\n"
     ]
    }
   ],
   "source": [
    "# Count the number of data points with the value -1 in the 'grav' variable\n",
    "unknown_count = (df_M['grav'] == -1).sum()\n",
    "\n",
    "# Print the count\n",
    "print(f\"Number of data points with the value -1 in the 'grav' variable: {unknown_count}\")"
   ]
  },
  {
   "cell_type": "code",
   "execution_count": 6,
   "metadata": {},
   "outputs": [],
   "source": [
    "#removing the values of unknow from the data\n",
    "df_M = df_M[df_M['grav'] != -1]"
   ]
  },
  {
   "cell_type": "code",
   "execution_count": 7,
   "metadata": {},
   "outputs": [],
   "source": [
    "import numpy as np\n",
    "# create target variable\n",
    "# create a new variable for the severity ['Grav'] of accidents ( Sereve, non-severe) as a possible target variable\n",
    "#### zero = non severe and one equal to severe\n",
    "df_M['Severe'] = np.where(df_M['grav'].isin([1, 2]), 0, 1)"
   ]
  },
  {
   "cell_type": "code",
   "execution_count": 8,
   "metadata": {},
   "outputs": [
    {
     "name": "stdout",
     "output_type": "stream",
     "text": [
      "Number of severe accidents in category 1 of 'catr': 100511\n"
     ]
    }
   ],
   "source": [
    "severe_accidents_catr_1 = df_M[df_M['catr'] == 1]['grav'].value_counts().get(1, 0)\n",
    "print(\"Number of severe accidents in category 1 of 'catr':\", severe_accidents_catr_1)"
   ]
  },
  {
   "cell_type": "code",
   "execution_count": 9,
   "metadata": {},
   "outputs": [],
   "source": [
    "# cleanning variables that might not be used in the model\n",
    "df_M['date']= pd.to_datetime(df_M.date,format='%Y-%m-%d')\n",
    "df_M['year'] = df_M['date'].dt.year.astype(int)\n",
    "\n"
   ]
  },
  {
   "cell_type": "code",
   "execution_count": 10,
   "metadata": {},
   "outputs": [
    {
     "data": {
      "image/png": "[encoded data removed]",
      "text/plain": [
       "<Figure size 432x288 with 1 Axes>"
      ]
     },
     "metadata": {
      "needs_background": "light"
     },
     "output_type": "display_data"
    }
   ],
   "source": [
    "# Convert the 'datetime' column to a datetime data type\n",
    "from matplotlib import pyplot as plt\n",
    "df_M['datetime'] = pd.to_datetime(df_M['datetime'])\n",
    "\n",
    "# Extract the hour of the day from the 'datetime' column\n",
    "df_M['hour_of_day'] = df_M['datetime'].dt.hour\n",
    "\n",
    "# Plot the distribution of road traffic accidents by the hour of the day\n",
    "df_M['hour_of_day'].plot(kind='hist', bins=24, edgecolor='k')\n",
    "plt.xlabel('Hour of Day')\n",
    "plt.ylabel('Frequency')\n",
    "plt.title('Distribution of Road Traffic Accidents by Hour of Day')\n",
    "plt.show()"
   ]
  },
  {
   "cell_type": "code",
   "execution_count": 11,
   "metadata": {},
   "outputs": [
    {
     "data": {
      "image/png": "[encoded data removed]",
      "text/plain": [
       "<Figure size 864x576 with 2 Axes>"
      ]
     },
     "metadata": {
      "needs_background": "light"
     },
     "output_type": "display_data"
    }
   ],
   "source": [
    "# Convert the 'datetime' column to a datetime data type\n",
    "df_M['datetime'] = pd.to_datetime(df_M['datetime'])\n",
    "\n",
    "# Extract the day of the week and hour of the day\n",
    "df_M['day_of_week'] = df_M['datetime'].dt.day_name()\n",
    "df_M['hour_of_day'] = df_M['datetime'].dt.hour\n",
    "\n",
    "#Filter the DataFrame to include only severe accidents\n",
    "severe_accidents = df_M[df_M['Severe'] == 1]\n",
    "\n",
    "# Create a pivot table\n",
    "pivot_table = severe_accidents.pivot_table(values='Severe', index='day_of_week', columns='hour_of_day', aggfunc='count')\n",
    "\n",
    "# Create a heatmap\n",
    "plt.figure(figsize=(12, 8))\n",
    "sns.heatmap(pivot_table, cmap='YlGnBu', annot=False, fmt='g', cbar=True)\n",
    "plt.title('Heatmap of Severe Road Traffic Accidents by Time of Day')\n",
    "plt.xlabel('Hour of Day')\n",
    "plt.ylabel('Day of Week')\n",
    "plt.show()\n",
    "\n"
   ]
  },
  {
   "cell_type": "code",
   "execution_count": 12,
   "metadata": {},
   "outputs": [],
   "source": [
    "from sklearn.preprocessing import LabelEncoder\n",
    "le = LabelEncoder()\n",
    "\n",
    "df_M['actp'] = le.fit_transform(df_M['actp'].astype(str))\n",
    "df_M['hrmn'] = le.fit_transform(df_M['hrmn'].astype(str))\n",
    "df_M['day_of_week'] = le.fit_transform(df_M['day_of_week'].astype(str))"
   ]
  },
  {
   "cell_type": "code",
   "execution_count": 13,
   "metadata": {},
   "outputs": [],
   "source": [
    "#cleanning variables that might not be used in the model\n",
    "# grav removed because is similat to target \n",
    "df_dt = df_M.drop(['num_veh','adr','date','holiday','lat', 'long','datetime','grav','fatal'], axis=1)"
   ]
  },
  {
   "cell_type": "code",
   "execution_count": 14,
   "metadata": {},
   "outputs": [],
   "source": [
    "#split the data for modeling\n",
    "# 2005 to 2019 for trainning  and 2020 to 2021 to test\n",
    "\n",
    "# Filter data for the training period (2005-2018)\n",
    "train_data = df_dt[(df_dt['an'] >= 2005) & (df_dt['an'] <= 2018)]\n",
    "\n",
    "# Filter data for the testing period (2019-2021)\n",
    "test_data = df_dt[(df_dt['an'] >= 2019) & (df_dt['an'] <= 2021)]\n",
    " #Separate features and target variable9\n",
    "X_train = train_data.drop('Severe', axis=1)  # Features for training\n",
    "y_train = train_data['Severe']  # Target variable for training\n",
    "\n",
    "# Separate features and target variable\n",
    "X_test = test_data.drop('Severe', axis=1)  # Features for training\n",
    "y_test = test_data['Severe']  # Target variable for training\n"
   ]
  },
  {
   "cell_type": "code",
   "execution_count": 15,
   "metadata": {},
   "outputs": [
    {
     "name": "stdout",
     "output_type": "stream",
     "text": [
      "<class 'pandas.core.frame.DataFrame'>\n",
      "Int64Index: 2421684 entries, 201900000001 to 201800055766\n",
      "Data columns (total 43 columns):\n",
      " #   Column        Dtype  \n",
      "---  ------        -----  \n",
      " 0   place         float64\n",
      " 1   catu          int64  \n",
      " 2   sexe          int64  \n",
      " 3   an_nais       int64  \n",
      " 4   trajet        float64\n",
      " 5   locp          float64\n",
      " 6   actp          int64  \n",
      " 7   etatp         float64\n",
      " 8   an            int64  \n",
      " 9   mois          int64  \n",
      " 10  jour          int64  \n",
      " 11  hrmn          int64  \n",
      " 12  lum           int64  \n",
      " 13  agg           int64  \n",
      " 14  int           int64  \n",
      " 15  atm           float64\n",
      " 16  col           float64\n",
      " 17  dep           int64  \n",
      " 18  metropolitan  float64\n",
      " 19  catr          float64\n",
      " 20  circ          float64\n",
      " 21  nbv           float64\n",
      " 22  vosp          float64\n",
      " 23  prof          float64\n",
      " 24  plan          float64\n",
      " 25  surf          float64\n",
      " 26  infra         float64\n",
      " 27  situ          float64\n",
      " 28  senc          float64\n",
      " 29  catv          int64  \n",
      " 30  occutc        float64\n",
      " 31  obs           float64\n",
      " 32  obsm          float64\n",
      " 33  choc          float64\n",
      " 34  manv          float64\n",
      " 35  is_holiday    bool   \n",
      " 36  secu_used     int64  \n",
      " 37  secu_avail    int64  \n",
      " 38  timestamp     float64\n",
      " 39  Severe        int64  \n",
      " 40  year          int64  \n",
      " 41  hour_of_day   int64  \n",
      " 42  day_of_week   int64  \n",
      "dtypes: bool(1), float64(23), int64(19)\n",
      "memory usage: 796.8 MB\n"
     ]
    }
   ],
   "source": [
    "df_dt.info()"
   ]
  },
  {
   "cell_type": "code",
   "execution_count": 16,
   "metadata": {},
   "outputs": [
    {
     "name": "stdout",
     "output_type": "stream",
     "text": [
      "Best Parameters using grid search: \n",
      " {'criterion': 'gini', 'max_depth': 6, 'min_samples_leaf': 1, 'min_samples_split': 2}\n"
     ]
    }
   ],
   "source": [
    "#DecisionTree Classifier\n",
    "from sklearn.tree import DecisionTreeClassifier\n",
    "from sklearn.metrics import precision_score, recall_score, f1_score, roc_auc_score, accuracy_score, classification_report\n",
    "from sklearn.model_selection import GridSearchCV\n",
    "\n",
    "\n",
    "# Tuning the parameters to find the best decision tree model - start params chosen randomly\n",
    "model = DecisionTreeClassifier(criterion = 'gini', random_state=50)\n",
    "\n",
    "param_dist = {'criterion': ['gini', 'entropy'],\n",
    "              'max_depth': [2, 4, 6], \n",
    "              'min_samples_leaf' : [1, 2, 3], \n",
    "              'min_samples_split' : [2, 3, 4]}\n",
    "\n",
    "#'ccp_alpha': [0.1, 0.01]\n",
    "\n",
    "cv_dt = GridSearchCV(model, param_grid=param_dist, n_jobs=-1)\n",
    "\n",
    "cv_dt.fit(X_train, y_train)\n",
    "print('Best Parameters using grid search: \\n', cv_dt.best_params_)"
   ]
  },
  {
   "cell_type": "code",
   "execution_count": 17,
   "metadata": {},
   "outputs": [
    {
     "name": "stdout",
     "output_type": "stream",
     "text": [
      "Accuracy Score:  0.7407520363214727\n"
     ]
    }
   ],
   "source": [
    "# Training with the best parameters\n",
    "\n",
    "tree = DecisionTreeClassifier(criterion='gini', random_state = 50, max_depth=6, min_samples_leaf=1, min_samples_split=2)\n",
    "tree.fit(X_train, y_train)\n",
    "y_pred_gini  = tree.predict(X_test)\n",
    "\n",
    "print('Accuracy Score: ',accuracy_score(y_test, y_pred_gini))\n"
   ]
  },
  {
   "cell_type": "code",
   "execution_count": 29,
   "metadata": {},
   "outputs": [
    {
     "data": {
      "text/html": [
       "<div>\n",
       "<style scoped>\n",
       "    .dataframe tbody tr th:only-of-type {\n",
       "        vertical-align: middle;\n",
       "    }\n",
       "\n",
       "    .dataframe tbody tr th {\n",
       "        vertical-align: top;\n",
       "    }\n",
       "\n",
       "    .dataframe thead th {\n",
       "        text-align: right;\n",
       "    }\n",
       "</style>\n",
       "<table border=\"1\" class=\"dataframe\">\n",
       "  <thead>\n",
       "    <tr style=\"text-align: right;\">\n",
       "      <th>Prediction</th>\n",
       "      <th>0</th>\n",
       "      <th>1</th>\n",
       "    </tr>\n",
       "    <tr>\n",
       "      <th>Reality</th>\n",
       "      <th></th>\n",
       "      <th></th>\n",
       "    </tr>\n",
       "  </thead>\n",
       "  <tbody>\n",
       "    <tr>\n",
       "      <th>0</th>\n",
       "      <td>109418</td>\n",
       "      <td>44820</td>\n",
       "    </tr>\n",
       "    <tr>\n",
       "      <th>1</th>\n",
       "      <td>45285</td>\n",
       "      <td>148040</td>\n",
       "    </tr>\n",
       "  </tbody>\n",
       "</table>\n",
       "</div>"
      ],
      "text/plain": [
       "Prediction       0       1\n",
       "Reality                   \n",
       "0           109418   44820\n",
       "1            45285  148040"
      ]
     },
     "execution_count": 29,
     "metadata": {},
     "output_type": "execute_result"
    }
   ],
   "source": [
    "pd.crosstab(y_test, y_pred_gini, rownames=['Reality'], colnames=['Prediction'])\n",
    "\n"
   ]
  },
  {
   "cell_type": "code",
   "execution_count": 19,
   "metadata": {},
   "outputs": [
    {
     "name": "stdout",
     "output_type": "stream",
     "text": [
      "Classification Report\n",
      "              precision    recall  f1-score   support\n",
      "\n",
      "           0       0.71      0.71      0.71    154238\n",
      "           1       0.77      0.77      0.77    193325\n",
      "\n",
      "    accuracy                           0.74    347563\n",
      "   macro avg       0.74      0.74      0.74    347563\n",
      "weighted avg       0.74      0.74      0.74    347563\n",
      "\n"
     ]
    }
   ],
   "source": [
    "# classification_report\n",
    "\n",
    "print('Classification Report')\n",
    "print(classification_report(y_test, y_pred_gini))\n",
    "\n"
   ]
  },
  {
   "cell_type": "code",
   "execution_count": 20,
   "metadata": {},
   "outputs": [
    {
     "name": "stdout",
     "output_type": "stream",
     "text": [
      "Training-set accuracy score: 0.7655\n"
     ]
    }
   ],
   "source": [
    "#Training set accuracy\n",
    "\n",
    "y_pred_train_gini = tree.predict(X_train)\n",
    "\n",
    "y_pred_train_gini\n",
    "\n",
    "print('Training-set accuracy score: {0:0.4f}'. format(accuracy_score(y_train, y_pred_train_gini)))"
   ]
  },
  {
   "cell_type": "code",
   "execution_count": 36,
   "metadata": {},
   "outputs": [
    {
     "name": "stdout",
     "output_type": "stream",
     "text": [
      "Training set score: 0.7655\n",
      "Test set score: 0.7408\n"
     ]
    }
   ],
   "source": [
    "# print the scores on training and test set\n",
    "\n",
    "print('Training set score: {:.4f}'.format(tree.score(X_train, y_train)))\n",
    "\n",
    "print('Test set score: {:.4f}'.format(tree.score(X_test, y_test)))"
   ]
  },
  {
   "cell_type": "markdown",
   "metadata": {},
   "source": [
    "Here, the training-set accuracy score is 0.7655 while the test-set accuracy to be 0.7408. These two values are quite comparable. So, there is no sign of overfitting."
   ]
  },
  {
   "cell_type": "code",
   "execution_count": 30,
   "metadata": {},
   "outputs": [
    {
     "name": "stdout",
     "output_type": "stream",
     "text": [
      "Confusion Matrix:\n",
      "           non-fatal   fatal\n",
      "non-fatal     109418   44820\n",
      "fatal          45285  148040\n"
     ]
    }
   ],
   "source": [
    "from sklearn import metrics\n",
    "#  confusion matrix\n",
    "matrix = metrics.confusion_matrix(y_test, y_pred_gini)  #y_test_preds\n",
    "\n",
    "# Create a DataFrame from the confusion matrix\n",
    "class_names = df_dt.Severe.values\n",
    "dataframe = pd.DataFrame(matrix, index=['non-fatal', 'fatal'], \n",
    "                         columns=['non-fatal', 'fatal'])\n",
    "\n",
    "# Display the confusion matrix as text\n",
    "print(\"Confusion Matrix:\")\n",
    "print(dataframe)"
   ]
  },
  {
   "cell_type": "code",
   "execution_count": 31,
   "metadata": {},
   "outputs": [
    {
     "name": "stdout",
     "output_type": "stream",
     "text": [
      "Confusion Matrix (Percentages):\n",
      "           non-fatal      fatal\n",
      "non-fatal  31.481487  12.895504\n",
      "fatal      13.029293  42.593717\n"
     ]
    }
   ],
   "source": [
    "total_samples = matrix.sum()\n",
    "\n",
    "# Calculate the percentages\n",
    "percentages = (matrix / total_samples) * 100\n",
    "\n",
    "# Create a DataFrame from the percentages\n",
    "class_names = df_dt.Severe.values\n",
    "dataframe = pd.DataFrame(percentages, index=['non-fatal', 'fatal'], columns=['non-fatal', 'fatal'])\n",
    "\n",
    "# Display the confusion matrix as percentages\n",
    "print(\"Confusion Matrix (Percentages):\")\n",
    "print(dataframe)"
   ]
  },
  {
   "cell_type": "code",
   "execution_count": 35,
   "metadata": {},
   "outputs": [
    {
     "name": "stdout",
     "output_type": "stream",
     "text": [
      "True Negatives: the model correctly predicted 31.48  % as non-fatal\n",
      "False Positives: the model incorrectly predicted 12.9  %  as *fatal\n",
      "False Negatives:the model incorrectly predicted 13.03  %  as *non-fatal\n",
      "True Positives:the model correctly predicted 42.59  %  as fatal\n"
     ]
    }
   ],
   "source": [
    "# etract thh values from DataFrame\n",
    "\n",
    "true_negative = dataframe.loc['non-fatal', 'non-fatal']\n",
    "false_positive = dataframe.loc['non-fatal', 'fatal']\n",
    "false_negative = dataframe.loc['fatal', 'non-fatal']\n",
    "true_positive = dataframe.loc['fatal', 'fatal']\n",
    "\n",
    "# Print the values\n",
    "print(\"True Negatives: the model correctly predicted\", round(true_negative,2), \" % as non-fatal\")\n",
    "print(\"False Positives: the model incorrectly predicted\", round(false_positive,2), \" %  as *fatal\")\n",
    "print(\"False Negatives:the model incorrectly predicted\", round(false_negative,2),\" %  as *non-fatal\")\n",
    "print(\"True Positives:the model correctly predicted\", round(true_positive,2),\" %  as fatal\")\n",
    "\n"
   ]
  },
  {
   "cell_type": "code",
   "execution_count": 37,
   "metadata": {},
   "outputs": [
    {
     "name": "stdout",
     "output_type": "stream",
     "text": [
      "Length of feature_names: 42\n",
      "Length of importances: 42\n"
     ]
    },
    {
     "data": {
      "image/png": "[encoded data removed]",
      "text/plain": [
       "<Figure size 864x576 with 1 Axes>"
      ]
     },
     "metadata": {
      "needs_background": "light"
     },
     "output_type": "display_data"
    }
   ],
   "source": [
    "# estimate the feature impotance for thi model\n",
    "import numpy as np\n",
    "\n",
    "# Access feature importances from the trained model\n",
    "importances = tree.feature_importances_\n",
    "\n",
    "feature_names = df_dt.drop(columns=['Severe']).columns.tolist()\n",
    "\n",
    "# Check the lengths of feature_names and importances\n",
    "print(\"Length of feature_names:\", len(feature_names))\n",
    "print(\"Length of importances:\", len(importances))\n",
    "\n",
    "# Create a DataFrame to hold feature names and their importances\n",
    "feature_importance_df = pd.DataFrame({'Feature': feature_names, 'Importance': importances})\n",
    "\n",
    "# Sort the features by importance in descending order\n",
    "feature_importance_df = feature_importance_df.sort_values(by='Importance', ascending=False)\n",
    "\n",
    "# Create a bar plot to visualize feature importances\n",
    "plt.figure(figsize=(12, 8))\n",
    "sns.barplot(x='Importance', y='Feature', data=feature_importance_df)\n",
    "plt.xlabel('Feature Importance')\n",
    "plt.ylabel('Feature Name')\n",
    "plt.title('Feature Importance for Random Forest Classifier')\n",
    "plt.show()\n",
    "\n",
    "\n",
    "\n"
   ]
  }
 ],
 "metadata": {
  "kernelspec": {
   "display_name": "Python 3",
   "language": "python",
   "name": "python3"
  },
  "language_info": {
   "codemirror_mode": {
    "name": "ipython",
    "version": 3
   },
   "file_extension": ".py",
   "mimetype": "text/x-python",
   "name": "python",
   "nbconvert_exporter": "python",
   "pygments_lexer": "ipython3",
   "version": "3.8.8"
  }
 },
 "nbformat": 4,
 "nbformat_minor": 2
}
