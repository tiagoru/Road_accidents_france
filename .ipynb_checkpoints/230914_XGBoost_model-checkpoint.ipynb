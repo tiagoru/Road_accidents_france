{
 "cells": [
  {
   "cell_type": "markdown",
   "id": "712d9d1c-1eeb-447d-bcfa-f5c3198b7713",
   "metadata": {},
   "source": [
    "# Modelling of France Accidents\n",
    "\n",
    "**Cohort:** mar23_accidents\n",
    "\n",
    "**Author:** Tobias Schulze\n",
    "\n",
    "**Date:** 14 September 2023\n",
    "\n"
   ]
  },
  {
   "cell_type": "markdown",
   "id": "6b6df835-aa14-4775-90df-de5512f881c4",
   "metadata": {},
   "source": [
    "## Loading of required libraries"
   ]
  },
  {
   "cell_type": "code",
   "execution_count": 1,
   "id": "22cfc8cd-2dd7-45e2-bd75-df68ef38c5a3",
   "metadata": {},
   "outputs": [],
   "source": [
    "import pandas as pd\n",
    "import numpy as np\n",
    "import matplotlib.pyplot as plt\n",
    "import seaborn as sns\n",
    "import xgboost as xgb\n",
    "import re\n",
    "import pickle\n",
    "from hyperopt import STATUS_OK, Trials, fmin, hp, tpe\n",
    "from datetime import datetime\n",
    "from sklearn.preprocessing import LabelEncoder, MinMaxScaler, StandardScaler\n",
    "from sklearn.metrics import accuracy_score, confusion_matrix, classification_report\n",
    "from sklearn.model_selection import train_test_split"
   ]
  },
  {
   "cell_type": "markdown",
   "id": "7d12d86a-94ac-4349-b68f-2b8a40e21ebe",
   "metadata": {},
   "source": [
    "## Importing the data"
   ]
  },
  {
   "cell_type": "code",
   "execution_count": 2,
   "id": "3aaa9044-2e16-4821-a259-0e2b8fd2b259",
   "metadata": {},
   "outputs": [],
   "source": [
    "df = pd.read_csv('./data/230907_basic_table_for_analysis_cleaned.csv', low_memory = False, index_col = 0)"
   ]
  },
  {
   "cell_type": "markdown",
   "id": "2552176c-9a85-4ead-ad23-1edfb5c1d448",
   "metadata": {},
   "source": [
    "## Data description\n",
    "### Data"
   ]
  },
  {
   "cell_type": "code",
   "execution_count": 3,
   "id": "9e361f45-f63c-48a3-bc60-777a1d287f7a",
   "metadata": {},
   "outputs": [
    {
     "data": {
      "text/html": [
       "<div>\n",
       "<style scoped>\n",
       "    .dataframe tbody tr th:only-of-type {\n",
       "        vertical-align: middle;\n",
       "    }\n",
       "\n",
       "    .dataframe tbody tr th {\n",
       "        vertical-align: top;\n",
       "    }\n",
       "\n",
       "    .dataframe thead th {\n",
       "        text-align: right;\n",
       "    }\n",
       "</style>\n",
       "<table border=\"1\" class=\"dataframe\">\n",
       "  <thead>\n",
       "    <tr style=\"text-align: right;\">\n",
       "      <th></th>\n",
       "      <th>num_veh</th>\n",
       "      <th>place</th>\n",
       "      <th>catu</th>\n",
       "      <th>grav</th>\n",
       "      <th>sexe</th>\n",
       "      <th>an_nais</th>\n",
       "      <th>trajet</th>\n",
       "      <th>locp</th>\n",
       "      <th>actp</th>\n",
       "      <th>etatp</th>\n",
       "      <th>...</th>\n",
       "      <th>obs</th>\n",
       "      <th>obsm</th>\n",
       "      <th>choc</th>\n",
       "      <th>manv</th>\n",
       "      <th>date</th>\n",
       "      <th>is_holiday</th>\n",
       "      <th>holiday</th>\n",
       "      <th>secu_used</th>\n",
       "      <th>secu_avail</th>\n",
       "      <th>fatal</th>\n",
       "    </tr>\n",
       "    <tr>\n",
       "      <th>Num_Acc</th>\n",
       "      <th></th>\n",
       "      <th></th>\n",
       "      <th></th>\n",
       "      <th></th>\n",
       "      <th></th>\n",
       "      <th></th>\n",
       "      <th></th>\n",
       "      <th></th>\n",
       "      <th></th>\n",
       "      <th></th>\n",
       "      <th></th>\n",
       "      <th></th>\n",
       "      <th></th>\n",
       "      <th></th>\n",
       "      <th></th>\n",
       "      <th></th>\n",
       "      <th></th>\n",
       "      <th></th>\n",
       "      <th></th>\n",
       "      <th></th>\n",
       "      <th></th>\n",
       "    </tr>\n",
       "  </thead>\n",
       "  <tbody>\n",
       "    <tr>\n",
       "      <th>201900000001</th>\n",
       "      <td>B01</td>\n",
       "      <td>2.0</td>\n",
       "      <td>2</td>\n",
       "      <td>4</td>\n",
       "      <td>2</td>\n",
       "      <td>2002.0</td>\n",
       "      <td>0.0</td>\n",
       "      <td>-1.0</td>\n",
       "      <td>-1</td>\n",
       "      <td>-1.0</td>\n",
       "      <td>...</td>\n",
       "      <td>0.0</td>\n",
       "      <td>2.0</td>\n",
       "      <td>5.0</td>\n",
       "      <td>23.0</td>\n",
       "      <td>2019-11-30</td>\n",
       "      <td>False</td>\n",
       "      <td>NaN</td>\n",
       "      <td>3</td>\n",
       "      <td>1</td>\n",
       "      <td>0</td>\n",
       "    </tr>\n",
       "    <tr>\n",
       "      <th>201900000001</th>\n",
       "      <td>B01</td>\n",
       "      <td>1.0</td>\n",
       "      <td>1</td>\n",
       "      <td>4</td>\n",
       "      <td>2</td>\n",
       "      <td>1993.0</td>\n",
       "      <td>5.0</td>\n",
       "      <td>-1.0</td>\n",
       "      <td>-1</td>\n",
       "      <td>-1.0</td>\n",
       "      <td>...</td>\n",
       "      <td>0.0</td>\n",
       "      <td>2.0</td>\n",
       "      <td>5.0</td>\n",
       "      <td>23.0</td>\n",
       "      <td>2019-11-30</td>\n",
       "      <td>False</td>\n",
       "      <td>NaN</td>\n",
       "      <td>3</td>\n",
       "      <td>1</td>\n",
       "      <td>0</td>\n",
       "    </tr>\n",
       "    <tr>\n",
       "      <th>201900000001</th>\n",
       "      <td>A01</td>\n",
       "      <td>1.0</td>\n",
       "      <td>1</td>\n",
       "      <td>1</td>\n",
       "      <td>1</td>\n",
       "      <td>1959.0</td>\n",
       "      <td>0.0</td>\n",
       "      <td>-1.0</td>\n",
       "      <td>-1</td>\n",
       "      <td>-1.0</td>\n",
       "      <td>...</td>\n",
       "      <td>1.0</td>\n",
       "      <td>0.0</td>\n",
       "      <td>3.0</td>\n",
       "      <td>11.0</td>\n",
       "      <td>2019-11-30</td>\n",
       "      <td>False</td>\n",
       "      <td>NaN</td>\n",
       "      <td>3</td>\n",
       "      <td>1</td>\n",
       "      <td>0</td>\n",
       "    </tr>\n",
       "    <tr>\n",
       "      <th>201900000002</th>\n",
       "      <td>A01</td>\n",
       "      <td>1.0</td>\n",
       "      <td>1</td>\n",
       "      <td>4</td>\n",
       "      <td>2</td>\n",
       "      <td>1994.0</td>\n",
       "      <td>0.0</td>\n",
       "      <td>-1.0</td>\n",
       "      <td>-1</td>\n",
       "      <td>-1.0</td>\n",
       "      <td>...</td>\n",
       "      <td>4.0</td>\n",
       "      <td>0.0</td>\n",
       "      <td>1.0</td>\n",
       "      <td>0.0</td>\n",
       "      <td>2019-11-30</td>\n",
       "      <td>False</td>\n",
       "      <td>NaN</td>\n",
       "      <td>3</td>\n",
       "      <td>1</td>\n",
       "      <td>0</td>\n",
       "    </tr>\n",
       "    <tr>\n",
       "      <th>201900000003</th>\n",
       "      <td>A01</td>\n",
       "      <td>1.0</td>\n",
       "      <td>1</td>\n",
       "      <td>1</td>\n",
       "      <td>1</td>\n",
       "      <td>1996.0</td>\n",
       "      <td>0.0</td>\n",
       "      <td>-1.0</td>\n",
       "      <td>0</td>\n",
       "      <td>-1.0</td>\n",
       "      <td>...</td>\n",
       "      <td>0.0</td>\n",
       "      <td>2.0</td>\n",
       "      <td>1.0</td>\n",
       "      <td>2.0</td>\n",
       "      <td>2019-11-28</td>\n",
       "      <td>False</td>\n",
       "      <td>NaN</td>\n",
       "      <td>3</td>\n",
       "      <td>1</td>\n",
       "      <td>0</td>\n",
       "    </tr>\n",
       "  </tbody>\n",
       "</table>\n",
       "<p>5 rows × 46 columns</p>\n",
       "</div>"
      ],
      "text/plain": [
       "             num_veh  place  catu  grav  sexe  an_nais  trajet  locp actp  \\\n",
       "Num_Acc                                                                     \n",
       "201900000001     B01    2.0     2     4     2   2002.0     0.0  -1.0   -1   \n",
       "201900000001     B01    1.0     1     4     2   1993.0     5.0  -1.0   -1   \n",
       "201900000001     A01    1.0     1     1     1   1959.0     0.0  -1.0   -1   \n",
       "201900000002     A01    1.0     1     4     2   1994.0     0.0  -1.0   -1   \n",
       "201900000003     A01    1.0     1     1     1   1996.0     0.0  -1.0    0   \n",
       "\n",
       "              etatp  ...  obs  obsm  choc  manv        date  is_holiday  \\\n",
       "Num_Acc              ...                                                  \n",
       "201900000001   -1.0  ...  0.0   2.0   5.0  23.0  2019-11-30       False   \n",
       "201900000001   -1.0  ...  0.0   2.0   5.0  23.0  2019-11-30       False   \n",
       "201900000001   -1.0  ...  1.0   0.0   3.0  11.0  2019-11-30       False   \n",
       "201900000002   -1.0  ...  4.0   0.0   1.0   0.0  2019-11-30       False   \n",
       "201900000003   -1.0  ...  0.0   2.0   1.0   2.0  2019-11-28       False   \n",
       "\n",
       "              holiday  secu_used  secu_avail fatal  \n",
       "Num_Acc                                             \n",
       "201900000001      NaN          3           1     0  \n",
       "201900000001      NaN          3           1     0  \n",
       "201900000001      NaN          3           1     0  \n",
       "201900000002      NaN          3           1     0  \n",
       "201900000003      NaN          3           1     0  \n",
       "\n",
       "[5 rows x 46 columns]"
      ]
     },
     "execution_count": 3,
     "metadata": {},
     "output_type": "execute_result"
    }
   ],
   "source": [
    "df.head()"
   ]
  },
  {
   "cell_type": "markdown",
   "id": "c3fbf44b-f1ca-4d02-9b27-78827b41985d",
   "metadata": {},
   "source": [
    "### Data types"
   ]
  },
  {
   "cell_type": "code",
   "execution_count": 4,
   "id": "19bb68a0-55d1-461b-87e2-72833557b4fd",
   "metadata": {},
   "outputs": [
    {
     "name": "stdout",
     "output_type": "stream",
     "text": [
      "<class 'pandas.core.frame.DataFrame'>\n",
      "Index: 2509596 entries, 201900000001 to 201800057783\n",
      "Data columns (total 46 columns):\n",
      " #   Column        Dtype  \n",
      "---  ------        -----  \n",
      " 0   num_veh       object \n",
      " 1   place         float64\n",
      " 2   catu          int64  \n",
      " 3   grav          int64  \n",
      " 4   sexe          int64  \n",
      " 5   an_nais       float64\n",
      " 6   trajet        float64\n",
      " 7   locp          float64\n",
      " 8   actp          object \n",
      " 9   etatp         float64\n",
      " 10  an            int64  \n",
      " 11  mois          int64  \n",
      " 12  jour          int64  \n",
      " 13  hrmn          object \n",
      " 14  lum           int64  \n",
      " 15  agg           int64  \n",
      " 16  int           int64  \n",
      " 17  atm           float64\n",
      " 18  col           float64\n",
      " 19  adr           object \n",
      " 20  lat           float64\n",
      " 21  long          float64\n",
      " 22  dep           int64  \n",
      " 23  metropolitan  float64\n",
      " 24  catr          float64\n",
      " 25  circ          float64\n",
      " 26  nbv           float64\n",
      " 27  vosp          float64\n",
      " 28  prof          float64\n",
      " 29  plan          float64\n",
      " 30  surf          float64\n",
      " 31  infra         float64\n",
      " 32  situ          float64\n",
      " 33  senc          float64\n",
      " 34  catv          int64  \n",
      " 35  occutc        float64\n",
      " 36  obs           float64\n",
      " 37  obsm          float64\n",
      " 38  choc          float64\n",
      " 39  manv          float64\n",
      " 40  date          object \n",
      " 41  is_holiday    bool   \n",
      " 42  holiday       object \n",
      " 43  secu_used     int64  \n",
      " 44  secu_avail    int64  \n",
      " 45  fatal         int64  \n",
      "dtypes: bool(1), float64(25), int64(14), object(6)\n",
      "memory usage: 883.1+ MB\n"
     ]
    }
   ],
   "source": [
    "df.info()"
   ]
  },
  {
   "cell_type": "markdown",
   "id": "d258ad30-b0f4-4b86-9322-808ff955593e",
   "metadata": {},
   "source": [
    "### Missing data"
   ]
  },
  {
   "cell_type": "code",
   "execution_count": 5,
   "id": "24315f42-0b75-439c-92a1-ed41d3b2c33a",
   "metadata": {},
   "outputs": [
    {
     "data": {
      "text/plain": [
       "num_veh               0\n",
       "place                 0\n",
       "catu                  0\n",
       "grav                  0\n",
       "sexe                  0\n",
       "an_nais               0\n",
       "trajet                0\n",
       "locp                  0\n",
       "actp                  0\n",
       "etatp                 0\n",
       "an                    0\n",
       "mois                  0\n",
       "jour                  0\n",
       "hrmn                  0\n",
       "lum                   0\n",
       "agg                   0\n",
       "int                   0\n",
       "atm                   0\n",
       "col                   0\n",
       "adr              343702\n",
       "lat             1065871\n",
       "long            1073114\n",
       "dep                   0\n",
       "metropolitan          0\n",
       "catr                  0\n",
       "circ                  0\n",
       "nbv                   0\n",
       "vosp                  0\n",
       "prof                  0\n",
       "plan                  0\n",
       "surf                  0\n",
       "infra                 0\n",
       "situ                  0\n",
       "senc                  0\n",
       "catv                  0\n",
       "occutc                0\n",
       "obs                   0\n",
       "obsm                  0\n",
       "choc                  0\n",
       "manv                  0\n",
       "date                  0\n",
       "is_holiday            0\n",
       "holiday         2453128\n",
       "secu_used             0\n",
       "secu_avail            0\n",
       "fatal                 0\n",
       "dtype: int64"
      ]
     },
     "execution_count": 5,
     "metadata": {},
     "output_type": "execute_result"
    }
   ],
   "source": [
    "df.isna().sum()"
   ]
  },
  {
   "cell_type": "markdown",
   "id": "1e466b8d-e6d7-432a-bcd8-da9e0d60c3c5",
   "metadata": {},
   "source": [
    "## Data preparation\n",
    "### Transform data types\n",
    "#### Date and time variables\n",
    "The date and time variables are maybe important as grouping variables or as contrains for time dependent severity of accidents.\n",
    "\n",
    "For the grouping, a timestamp is required for unbiased identification time related accidents.\n",
    "\n",
    "_Problem_:\n",
    "\n",
    "During the transformation of the `hrmn` variable, I got aware, that the string contain integers like `1`,  `801`, or `1300`. Hence, anytime during data conversion, the colon got lost and the values got truncated. Hence `1` should be `00:01` and so on. Therefore, we need an additional transformation of the truncated data to `h:m` format.\n",
    "\n",
    "**Steps:**\n",
    "1. Fixing the truncated values in `hrmn`\n",
    "3. Creation of a `datatime` variable in format y-m-d hh:mm\n",
    "4. Transformation of the datatime varible to a `timestamp` variable\n",
    "\n",
    "\n",
    "In addition, we need to transform the type of `an_nais` to integer and `date` to `date`."
   ]
  },
  {
   "cell_type": "code",
   "execution_count": 6,
   "id": "f0e905ac-5f4e-4afc-b0e6-f1057093deb3",
   "metadata": {},
   "outputs": [],
   "source": [
    "# Fixing the hrmn issue:\n",
    "# Remove the colon\n",
    "df['hrmn'] = df.apply(lambda x: re.sub(string=x['hrmn'], pattern=':', repl=''), axis = 1)\n",
    "\n",
    "# Pad the string to four zeros\n",
    "df['hrmn'] = df.apply(lambda x: x['hrmn'].zfill(4), axis = 1)\n",
    "\n",
    "# Transform the variable to 'hh:mm' and split to hours and minutes\n",
    "df = df.assign(hrmn = pd.to_datetime(df['hrmn'], format='%H%M').dt.strftime('%H:%M'))\n",
    "\n",
    "# Create the daytime variable\n",
    "df['datetime'] = df.apply(lambda x: datetime(x['an'], x['mois'], x['jour'], datetime.strptime(x['hrmn'], \"%H:%M\").hour, datetime.strptime(x['hrmn'], \"%H:%M\").minute), axis = 1)\n",
    "\n",
    "# Create the timestamp\n",
    "df['timestamp'] = df.apply(lambda x: datetime.timestamp(x['datetime']), axis = 1)\n",
    "\n",
    "# Transform `an_nais`\n",
    "df['an_nais'] = df['an_nais'].astype('int')\n",
    "\n",
    "# Transform `date`\n",
    "df = df.assign(date = pd.to_datetime(df['date'], format='mixed'))"
   ]
  },
  {
   "cell_type": "code",
   "execution_count": 7,
   "id": "d50abfde-c053-45b5-a270-ae9adc390856",
   "metadata": {},
   "outputs": [
    {
     "name": "stdout",
     "output_type": "stream",
     "text": [
      "<class 'pandas.core.frame.DataFrame'>\n",
      "Index: 2509596 entries, 201900000001 to 201800057783\n",
      "Data columns (total 48 columns):\n",
      " #   Column        Dtype         \n",
      "---  ------        -----         \n",
      " 0   num_veh       object        \n",
      " 1   place         float64       \n",
      " 2   catu          int64         \n",
      " 3   grav          int64         \n",
      " 4   sexe          int64         \n",
      " 5   an_nais       int64         \n",
      " 6   trajet        float64       \n",
      " 7   locp          float64       \n",
      " 8   actp          object        \n",
      " 9   etatp         float64       \n",
      " 10  an            int64         \n",
      " 11  mois          int64         \n",
      " 12  jour          int64         \n",
      " 13  hrmn          object        \n",
      " 14  lum           int64         \n",
      " 15  agg           int64         \n",
      " 16  int           int64         \n",
      " 17  atm           float64       \n",
      " 18  col           float64       \n",
      " 19  adr           object        \n",
      " 20  lat           float64       \n",
      " 21  long          float64       \n",
      " 22  dep           int64         \n",
      " 23  metropolitan  float64       \n",
      " 24  catr          float64       \n",
      " 25  circ          float64       \n",
      " 26  nbv           float64       \n",
      " 27  vosp          float64       \n",
      " 28  prof          float64       \n",
      " 29  plan          float64       \n",
      " 30  surf          float64       \n",
      " 31  infra         float64       \n",
      " 32  situ          float64       \n",
      " 33  senc          float64       \n",
      " 34  catv          int64         \n",
      " 35  occutc        float64       \n",
      " 36  obs           float64       \n",
      " 37  obsm          float64       \n",
      " 38  choc          float64       \n",
      " 39  manv          float64       \n",
      " 40  date          datetime64[ns]\n",
      " 41  is_holiday    bool          \n",
      " 42  holiday       object        \n",
      " 43  secu_used     int64         \n",
      " 44  secu_avail    int64         \n",
      " 45  fatal         int64         \n",
      " 46  datetime      datetime64[ns]\n",
      " 47  timestamp     float64       \n",
      "dtypes: bool(1), datetime64[ns](2), float64(25), int64(15), object(5)\n",
      "memory usage: 921.4+ MB\n"
     ]
    }
   ],
   "source": [
    "df.info()"
   ]
  },
  {
   "cell_type": "markdown",
   "id": "c6ee2b4b-2bca-4686-b48f-b0f0d43b4bed",
   "metadata": {},
   "source": [
    "### Drop variables\n",
    "The dataset still contains variables with missing values. Some of them are important for possible mapping or a fine granulated classification.\n",
    "\n",
    "- `adr`: The address variable has missing values and is very fuzzy, so encoding might not be successfully.\n",
    "\n",
    "- `lat` and `lat`: not available for all sites\n",
    "\n",
    "- `holiday`: classifies the holiday, but will be used only, if `is_holiday` is relevant\n",
    "\n",
    "- `grav`: granulated classification of the target `fatal`\n",
    "\n",
    "- `datetime`: encoded in `timestamp`"
   ]
  },
  {
   "cell_type": "code",
   "execution_count": 8,
   "id": "967aff4c-b3a7-4ea6-8e48-80a148b62871",
   "metadata": {},
   "outputs": [],
   "source": [
    "columns_drop = ['adr', 'lat', 'long', 'holiday', 'grav', 'datetime']\n",
    "\n",
    "df.drop(columns = columns_drop, inplace = True)"
   ]
  },
  {
   "cell_type": "code",
   "execution_count": 9,
   "id": "2ab4df31-4a36-442f-a1d7-ed33b603dc96",
   "metadata": {},
   "outputs": [
    {
     "name": "stdout",
     "output_type": "stream",
     "text": [
      "<class 'pandas.core.frame.DataFrame'>\n",
      "Index: 2509596 entries, 201900000001 to 201800057783\n",
      "Data columns (total 42 columns):\n",
      " #   Column        Dtype         \n",
      "---  ------        -----         \n",
      " 0   num_veh       object        \n",
      " 1   place         float64       \n",
      " 2   catu          int64         \n",
      " 3   sexe          int64         \n",
      " 4   an_nais       int64         \n",
      " 5   trajet        float64       \n",
      " 6   locp          float64       \n",
      " 7   actp          object        \n",
      " 8   etatp         float64       \n",
      " 9   an            int64         \n",
      " 10  mois          int64         \n",
      " 11  jour          int64         \n",
      " 12  hrmn          object        \n",
      " 13  lum           int64         \n",
      " 14  agg           int64         \n",
      " 15  int           int64         \n",
      " 16  atm           float64       \n",
      " 17  col           float64       \n",
      " 18  dep           int64         \n",
      " 19  metropolitan  float64       \n",
      " 20  catr          float64       \n",
      " 21  circ          float64       \n",
      " 22  nbv           float64       \n",
      " 23  vosp          float64       \n",
      " 24  prof          float64       \n",
      " 25  plan          float64       \n",
      " 26  surf          float64       \n",
      " 27  infra         float64       \n",
      " 28  situ          float64       \n",
      " 29  senc          float64       \n",
      " 30  catv          int64         \n",
      " 31  occutc        float64       \n",
      " 32  obs           float64       \n",
      " 33  obsm          float64       \n",
      " 34  choc          float64       \n",
      " 35  manv          float64       \n",
      " 36  date          datetime64[ns]\n",
      " 37  is_holiday    bool          \n",
      " 38  secu_used     int64         \n",
      " 39  secu_avail    int64         \n",
      " 40  fatal         int64         \n",
      " 41  timestamp     float64       \n",
      "dtypes: bool(1), datetime64[ns](1), float64(23), int64(14), object(3)\n",
      "memory usage: 806.6+ MB\n"
     ]
    }
   ],
   "source": [
    "df.info()"
   ]
  },
  {
   "cell_type": "markdown",
   "id": "4cbcc7d6-db10-4449-a8c5-d6ed99b16c4d",
   "metadata": {},
   "source": [
    "### Encoding\n",
    "For the first trial, use the `LabelEncoder` to encode categorial values. Then drop the old categorial values and replace them by the encoded."
   ]
  },
  {
   "cell_type": "code",
   "execution_count": 10,
   "id": "6d039f3b-8cfd-4772-9f46-181d823edbda",
   "metadata": {},
   "outputs": [],
   "source": [
    "# Encoding with LabelEncoder\n",
    "encode_columns = ['actp', 'num_veh', 'hrmn', 'date']\n",
    "encoded_df = df[encode_columns]\n",
    "encoded_df = encoded_df.astype('str')\n",
    "encoded_df = encoded_df.apply(LabelEncoder().fit_transform)\n",
    "\n",
    "# Merge encoded values\n",
    "df_encoded = df\n",
    "df_encoded.drop(encode_columns, inplace=True, axis=1)\n",
    "df_encoded = pd.concat([encoded_df, df_encoded], axis=1)\n"
   ]
  },
  {
   "cell_type": "markdown",
   "id": "3f7e9e70-1155-4884-ad0a-14a5ddb2e213",
   "metadata": {},
   "source": [
    "### Filtering\n",
    "It was decided to use only accidents in metropolitan France and Corse.\n",
    "\n",
    "In preprocessing, the varible `metropolitan` with values `[0,1]` was created.\n",
    "\n",
    "Now, the data is fitered by this variable and then it is dropped."
   ]
  },
  {
   "cell_type": "code",
   "execution_count": 11,
   "id": "5b4abde8-b613-4835-9057-dafef5c72d76",
   "metadata": {},
   "outputs": [],
   "source": [
    "df_encoded = df_encoded.loc[df_encoded['metropolitan'] == 1]\n",
    "df_encoded.drop('metropolitan', inplace=True, axis=1)"
   ]
  },
  {
   "cell_type": "code",
   "execution_count": 12,
   "id": "bdaa7642-a212-4ae8-a640-b5cbf603694c",
   "metadata": {},
   "outputs": [
    {
     "data": {
      "text/plain": [
       "actp          0\n",
       "num_veh       0\n",
       "hrmn          0\n",
       "date          0\n",
       "place         0\n",
       "catu          0\n",
       "sexe          0\n",
       "an_nais       0\n",
       "trajet        0\n",
       "locp          0\n",
       "etatp         0\n",
       "an            0\n",
       "mois          0\n",
       "jour          0\n",
       "lum           0\n",
       "agg           0\n",
       "int           0\n",
       "atm           0\n",
       "col           0\n",
       "dep           0\n",
       "catr          0\n",
       "circ          0\n",
       "nbv           0\n",
       "vosp          0\n",
       "prof          0\n",
       "plan          0\n",
       "surf          0\n",
       "infra         0\n",
       "situ          0\n",
       "senc          0\n",
       "catv          0\n",
       "occutc        0\n",
       "obs           0\n",
       "obsm          0\n",
       "choc          0\n",
       "manv          0\n",
       "is_holiday    0\n",
       "secu_used     0\n",
       "secu_avail    0\n",
       "fatal         0\n",
       "timestamp     0\n",
       "dtype: int64"
      ]
     },
     "execution_count": 12,
     "metadata": {},
     "output_type": "execute_result"
    }
   ],
   "source": [
    "df_encoded.isna().sum()"
   ]
  },
  {
   "cell_type": "markdown",
   "id": "4ded7a68-a52c-48e3-9276-33f9f55f132d",
   "metadata": {},
   "source": [
    "## Data analysis\n",
    "### Correlation matrix\n",
    "To get a first glimpse on the possible contrains in the data, a correlation matrix is plotted.\n",
    "\n",
    "The data variables are dropped to remove redundany with `timestamp`."
   ]
  },
  {
   "cell_type": "code",
   "execution_count": 13,
   "id": "1540e6aa-5575-4184-a603-870a2c680265",
   "metadata": {},
   "outputs": [],
   "source": [
    "# Drop date columns for the correlation matrix\n",
    "\n",
    "columns_drop = ['an', 'mois', 'jour', 'date']\n",
    "df_select = df_encoded.drop(columns_drop, axis = 1)"
   ]
  },
  {
   "cell_type": "code",
   "execution_count": 14,
   "id": "9a79448e-c276-43b9-a87e-9d2ea2157253",
   "metadata": {},
   "outputs": [],
   "source": [
    "# Scale the data\n",
    "scaler = MinMaxScaler()\n",
    "df_numeric_scaled = pd.DataFrame(scaler.fit_transform(df_select), columns=df_select.columns)"
   ]
  },
  {
   "cell_type": "code",
   "execution_count": 15,
   "id": "bb88a9ea-8230-4d0e-ae55-77a749dfbc05",
   "metadata": {},
   "outputs": [
    {
     "data": {
      "image/png": "[encoded data removed]",
      "text/plain": [
       "<Figure size 1000x700 with 2 Axes>"
      ]
     },
     "metadata": {},
     "output_type": "display_data"
    }
   ],
   "source": [
    "# Create a correlation matrix\n",
    "correlation_matrix = df_numeric_scaled.corr()\n",
    "plt.figure(figsize=(10, 7))\n",
    "# Generate the heatmap\n",
    "sns.heatmap(correlation_matrix, annot=False, cmap='coolwarm')\n",
    "\n",
    "# Add a title\n",
    "plt.title('Correlation Heatmap')\n",
    "\n",
    "# Display the plot\n",
    "plt.show();"
   ]
  },
  {
   "cell_type": "markdown",
   "id": "2712a786-07c6-4f26-94b5-640f756e2433",
   "metadata": {},
   "source": [
    "The correlation matrix shows some intervariable correlations, but no real importance of variables to predict the target `fatal`. "
   ]
  },
  {
   "cell_type": "markdown",
   "id": "df19180e-4918-4d1f-922a-14525d1a1c29",
   "metadata": {},
   "source": [
    "### Preparation of the training and test datasets\n",
    "#### Split data\n",
    "The dataset is split by year slides. The years 2005 to 2019 are selected for the train dataset and the years 2020 and 2021 for the test dataset.\n",
    "\n",
    "In addition, the test dataset is split to a train and evaluation dataset with an evaluation set of 20% of the testing data."
   ]
  },
  {
   "cell_type": "code",
   "execution_count": 16,
   "id": "ac2bc919-2233-4813-840b-b7b0bd7b582f",
   "metadata": {},
   "outputs": [],
   "source": [
    "# split the dataset to train and test data\n",
    "X_train = df_encoded.loc[df_encoded['an'] < 2020].drop('fatal', axis = 1)\n",
    "X_test = df_encoded.loc[df_encoded['an'] > 2019].drop('fatal', axis = 1)\n",
    "\n",
    "y_train = df_encoded['fatal'].loc[df_encoded['an'] < 2020]\n",
    "y_test = df_encoded['fatal'].loc[df_encoded['an'] > 2019]\n",
    "\n",
    "# split the train dataset to train and eval data\n",
    "X_test, X_eval, y_test, y_eval = train_test_split(X_train, y_train, test_size = 0.2, random_state = 123)"
   ]
  },
  {
   "cell_type": "markdown",
   "id": "eec0cee2-929f-4711-8370-63b1a875f475",
   "metadata": {},
   "source": [
    "#### Create xgboost matrices\n",
    "xgboost requires a specific matrix format."
   ]
  },
  {
   "cell_type": "raw",
   "id": "6da13135-86b0-41fb-a762-15da43fdd821",
   "metadata": {},
   "source": [
    "# Create the xgb matrices\n",
    "train = xgb.DMatrix(data=X_train, label=y_train)\n",
    "test = xgb.DMatrix(data=X_test, label=y_test)\n",
    "eval = xgb.DMatrix(data=X_eval, label=y_eval)"
   ]
  },
  {
   "cell_type": "markdown",
   "id": "935884d9-2884-4e18-a40e-2f6d6d4c6a93",
   "metadata": {},
   "source": [
    "### Modelling the data using a XGBoost Classification Model with Tree-based Parzen Estimators optimisation\n",
    "The Tree-based Parzen Estimator (TPE) [1] optimisation combines a Bayesian Sequential Model Based Optimisation (SMBO) and a random search on the hyperparemeter grid[2]. While the random search is a static approach, the SMBO optimises the model using prior runs to determine future points of exploration.\n",
    "\n",
    "The package `hyperopt` [3] is used for optimisation. The hyperparameter optimisation code is written based on ideas in [4]."
   ]
  },
  {
   "cell_type": "markdown",
   "id": "0899c3a5-71a0-4cc1-8b15-b8f860f89a90",
   "metadata": {},
   "source": [
    "#### The tuning space\n",
    "`hyperopt` uses a specific format of parameters expressions [6]. Hints on the parameter ranges are given in [1,4,6].\n",
    "\n",
    "The `booster` in this first model is `gbtree`. The evaluation metric is `logloss`[7].\n"
   ]
  },
  {
   "cell_type": "code",
   "execution_count": 33,
   "id": "85c2c349-31d2-4b9e-9573-1e69ce36b4c6",
   "metadata": {},
   "outputs": [],
   "source": [
    "# Create the tuning space\n",
    "tuning_space={'eta': hp.uniform('eta', 0.1, 0.5),\n",
    "       'max_depth': hp.quniform('max_depth', 3, 100, 1),\n",
    "       #'max_depth': 6, # tends to overfit, try default\n",
    "       'gamma': hp.uniform ('gamma', 1, 10),\n",
    "       'reg_alpha' : hp.quniform('reg_alpha', 0, 100, 1),\n",
    "       'reg_lambda' : hp.uniform('reg_lambda', 0, 1),\n",
    "       'colsample_bytree' : hp.uniform('colsample_bytree', 0, 1),\n",
    "       'min_child_weight' : hp.quniform('min_child_weight', 0, 10, 1),\n",
    "       'n_estimators': hp.quniform('n_estimators', 10, 100, 1),\n",
    "       'seed': 123,\n",
    "       'booster': 'gbtree',\n",
    "       'eval_metric': 'auc',\n",
    "       'early_stopping_rounds': 10,\n",
    "       'learning_rate': hp.choice('learning_rate', [0.1, 1, 10]),\n",
    "       'objective': 'binary:logistic'\n",
    "    }"
   ]
  },
  {
   "cell_type": "markdown",
   "id": "050b7c6d-e438-43cc-8ec7-2adb7f2e57aa",
   "metadata": {},
   "source": [
    "#### The tuning function"
   ]
  },
  {
   "cell_type": "code",
   "execution_count": 18,
   "id": "144da29f-81b6-4bb8-861c-b990c9c87a27",
   "metadata": {},
   "outputs": [],
   "source": [
    "# Function for the classification\n",
    "def hp_xgbclass(space, X_train = X_train, y_train = y_train, X_eval = X_eval, y_eval = y_eval, X_test = X_test, y_test = y_test):\n",
    "    \"\"\" Function for Bayesian hyperparameter optimisation of XGboost classification model.\n",
    "    Accepts a parameter `space` and the training and testing data set.\n",
    "        :param tuning_space: a catalog containing the parameters used for hyperparameter tuning, ranges given in hp objects\n",
    "        :param X_train: accepts the train data\n",
    "        :param X_test: accepts the test data\n",
    "        :param X_eval: accepts the eval data used for optimisation\n",
    "        :param y_train: accepts the train target\n",
    "        :param y_test: accepts the test target\n",
    "        :param y_eval: accepts the eval data used for optimisation\n",
    "    \"\"\"\n",
    "    clf=xgb.XGBClassifier(\n",
    "        eta = space['eta'],\n",
    "        eval_metric = space['eval_metric'],\n",
    "        booster = space['booster'],\n",
    "        n_estimators = np.int64(space['n_estimators']),\n",
    "        max_depth = np.int64(space['max_depth']),\n",
    "        gamma = space['gamma'],\n",
    "        reg_alpha = space['reg_alpha'],\n",
    "        min_child_weight=np.int64(space['min_child_weight']),\n",
    "        colsample_bytree=space['colsample_bytree'],\n",
    "        early_stopping_rounds = space['early_stopping_rounds'],\n",
    "        learning_rate = space['learning_rate'],\n",
    "        objective = space['objective']\n",
    "    )\n",
    "\n",
    "    evaluation = [(X_train, y_train), (X_eval, y_eval)]\n",
    "    \n",
    "    clf.fit(X_train,\n",
    "            y_train,\n",
    "            eval_set = evaluation,\n",
    "            verbose=False)\n",
    "        \n",
    "    pred = clf.predict(X_test)\n",
    "    accuracy = accuracy_score(y_test, pred > 0.5)\n",
    "    print (\"SCORE:\", accuracy)\n",
    "    return {'loss': accuracy, 'status': STATUS_OK}"
   ]
  },
  {
   "cell_type": "code",
   "execution_count": 34,
   "id": "36c54e61-8338-450f-9d02-8e932ed27244",
   "metadata": {},
   "outputs": [
    {
     "name": "stdout",
     "output_type": "stream",
     "text": [
      "SCORE:                                                                                                                                                                                        \n",
      "0.9736312314741493                                                                                                                                                                            \n",
      "SCORE:                                                                                                                                                                                        \n",
      "0.9734710386064811                                                                                                                                                                            \n",
      "SCORE:                                                                                                                                                                                        \n",
      "0.9728990023733539                                                                                                                                                                            \n",
      "SCORE:                                                                                                                                                                                        \n",
      "0.9734307063596569                                                                                                                                                                            \n",
      "SCORE:                                                                                                                                                                                        \n",
      "0.9736993986518805                                                                                                                                                                            \n",
      "SCORE:                                                                                                                                                                                        \n",
      "0.973756204633323                                                                                                                                                                             \n",
      "SCORE:                                                                                                                                                                                        \n",
      "0.9644604738300524                                                                                                                                                                            \n",
      "SCORE:                                                                                                                                                                                        \n",
      "0.9733704920193277                                                                                                                                                                            \n",
      "SCORE:                                                                                                                                                                                        \n",
      "0.9632226714944176                                                                                                                                                                            \n",
      "SCORE:                                                                                                                                                                                        \n",
      "0.9737988091194051                                                                                                                                                                            \n",
      "SCORE:                                                                                                                                                                                        \n",
      "0.9737420031379624                                                                                                                                                                            \n",
      "SCORE:                                                                                                                                                                                        \n",
      "0.973486944281285                                                                                                                                                                             \n",
      "SCORE:                                                                                                                                                                                        \n",
      "0.9735596559375316                                                                                                                                                                            \n",
      "SCORE:                                                                                                                                                                                        \n",
      "0.9732284770657211                                                                                                                                                                            \n",
      "SCORE:                                                                                                                                                                                        \n",
      "0.973486944281285                                                                                                                                                                             \n",
      "SCORE:                                                                                                                                                                                        \n",
      "0.9739510491496712                                                                                                                                                                            \n",
      "SCORE:                                                                                                                                                                                        \n",
      "0.9735284126477382                                                                                                                                                                            \n",
      "SCORE:                                                                                                                                                                                        \n",
      "0.9736198702778608                                                                                                                                                                            \n",
      "SCORE:                                                                                                                                                                                        \n",
      "0.9736471371489532                                                                                                                                                                            \n",
      "SCORE:                                                                                                                                                                                        \n",
      "0.9734170729241106                                                                                                                                                                            \n",
      "100%|███████████████████████████████████████████████████████████████████████████████████████████████████████████████████████| 20/20 [04:11<00:00, 12.59s/trial, best loss: 0.9632226714944176]\n"
     ]
    }
   ],
   "source": [
    "# Running the crossvalidation or load stored parameters\n",
    "\n",
    "# Rerun or get stored parameters\n",
    "cv_rerun = True\n",
    "\n",
    "# define the stored files\n",
    "if (tuning_space['eval_metric'] == 'auc'):\n",
    "    out_file_trial = './data/XGboost_model/160923_XGboost_gbtree_auc_trial_db'\n",
    "    out_file_params = './data/XGboost_model/160923_XGboost_gbtree_auc_hyperparameters'\n",
    "else:\n",
    "    out_file_trial = './data/XGboost_model/160923_XGboost_gbtree_lossless_trial_db'\n",
    "    out_file_params = './data/XGboost_model/160923_XGboost_gbtree_lossles_hyperparameters'\n",
    "        \n",
    "\n",
    "# rerun the crossvalidation\n",
    "if (cv_rerun == True):\n",
    "    trials = Trials()\n",
    "    best_hyperparams = fmin(fn = hp_xgbclass,\n",
    "                       space = tuning_space,\n",
    "                       algo = tpe.suggest,\n",
    "                       max_evals = 20,\n",
    "                       trials = trials)\n",
    "    # save the best parameters and the trials database\n",
    "    with open(out_file_trial, 'wb') as f:\n",
    "        pickle.dump(trials, f)\n",
    "\n",
    "    with open(out_file_params, 'wb') as f:\n",
    "        pickle.dump(best_hyperparams, f)\n",
    "\n",
    "# get the stored hyperparameters\n",
    "else:\n",
    "    read_file = open('./data/XGboost_model/160923_XGboost_gbtree_best_hyperparameters.txt', 'r')\n",
    "    best_hyperparams = read_file.readlines()"
   ]
  },
  {
   "cell_type": "code",
   "execution_count": 35,
   "id": "b8684917-11ae-4664-819c-2d87f36c34d8",
   "metadata": {},
   "outputs": [
    {
     "name": "stdout",
     "output_type": "stream",
     "text": [
      "The best hyperparameters are :  \n",
      "\n",
      "{'colsample_bytree': 0.8244298608080923, 'eta': 0.2659940974853262, 'gamma': 6.489299289026461, 'learning_rate': 2, 'max_depth': 32.0, 'min_child_weight': 1.0, 'n_estimators': 92.0, 'reg_alpha': 44.0, 'reg_lambda': 0.43025401014409137}\n"
     ]
    }
   ],
   "source": [
    "print(\"The best hyperparameters are : \",\"\\n\")\n",
    "print(best_hyperparams)"
   ]
  },
  {
   "cell_type": "code",
   "execution_count": 36,
   "id": "05242bdd-d2ca-4447-bf23-ec396d4b99c2",
   "metadata": {},
   "outputs": [],
   "source": [
    "xgb_1 = xgb.XGBClassifier(\n",
    "    booster = tuning_space['booster'],\n",
    "    colsample_bytree = best_hyperparams['colsample_bytree'],\n",
    "    eta = best_hyperparams['eta'],\n",
    "    gamma = best_hyperparams['gamma'],\n",
    "    max_depth = np.int64(best_hyperparams['max_depth']),\n",
    "    min_child_weight = np.int64(best_hyperparams['min_child_weight']),\n",
    "    reg_alpha = best_hyperparams['reg_alpha'],\n",
    "    reg_lambda = best_hyperparams['reg_lambda'],\n",
    "    learning_rate = best_hyperparams['learning_rate'],\n",
    "    eval_metric = tuning_space['eval_metric'],\n",
    "    objective = tuning_space['objective'],\n",
    "    seed = tuning_space['seed'],\n",
    "    early_stopping_rounds = tuning_space['early_stopping_rounds'],\n",
    "    n_estimators = np.int64(best_hyperparams['n_estimators'])\n",
    ")\n",
    "\n",
    "evaluation = [(X_train, y_train), (X_eval, y_eval)]\n",
    "    \n",
    "xgb_1 = xgb_1.fit(X_train,\n",
    "          y_train,\n",
    "          eval_set = evaluation, \n",
    "          verbose = False)\n"
   ]
  },
  {
   "cell_type": "raw",
   "id": "ea5e82b0-abc2-4bd1-8178-97436d6920c4",
   "metadata": {},
   "source": [
    "# run the optimised model\n",
    "params = {'booster': tuning_space['booster'],\n",
    "          'colsample_bytree': best_hyperparams['colsample_bytree'],\n",
    "          'eta': best_hyperparams['eta'],\n",
    "          'gamma': best_hyperparams['gamma'],\n",
    "          'max_depth': 3,\n",
    "          'min_child_weight': np.int64(best_hyperparams['min_child_weight']),\n",
    "          'reg_alpha': best_hyperparams['reg_alpha'],\n",
    "          'reg_lambda': best_hyperparams['reg_lambda'],\n",
    "          'learning_rate': best_hyperparams['learning_rate'],\n",
    "          'eval_metric': tuning_space['eval_metric'],\n",
    "          'objective': tuning_space['objective'],\n",
    "          'seed': tuning_space['seed']\n",
    "         }\n",
    "\n",
    "xgb_1 = xgb.train(params = params,\n",
    "                  dtrain = train,\n",
    "                  num_boost_round = 100,\n",
    "                  evals = [(eval, 'eval')],\n",
    "                  early_stopping_rounds = space['early_stopping_rounds'])\n",
    "\n",
    "# save the model\n",
    "with open('./data/XGboost_model/160923_XGboost_gbtree_model', 'wb') as f:\n",
    "    pickle.dump(xgb_1, f)"
   ]
  },
  {
   "cell_type": "code",
   "execution_count": 37,
   "id": "78936a52-21c8-443a-80b6-a19289ecccc2",
   "metadata": {},
   "outputs": [
    {
     "data": {
      "image/png": "[encoded data removed]",
      "text/plain": [
       "<Figure size 640x480 with 1 Axes>"
      ]
     },
     "metadata": {},
     "output_type": "display_data"
    },
    {
     "data": {
      "text/plain": [
       "<Figure size 1600x1200 with 0 Axes>"
      ]
     },
     "metadata": {},
     "output_type": "display_data"
    }
   ],
   "source": [
    "xgb.plot_importance(xgb_1)\n",
    "plt.figure(figsize = (16, 12))\n",
    "plt.show();"
   ]
  },
  {
   "cell_type": "code",
   "execution_count": 38,
   "id": "e4e9b563-5fcd-4744-adca-129cbf69342a",
   "metadata": {},
   "outputs": [
    {
     "name": "stdout",
     "output_type": "stream",
     "text": [
      "              precision    recall  f1-score   support\n",
      "\n",
      "           0       0.99      0.98      0.98   1727189\n",
      "           1       0.17      0.24      0.20     33189\n",
      "\n",
      "    accuracy                           0.96   1760378\n",
      "   macro avg       0.58      0.61      0.59   1760378\n",
      "weighted avg       0.97      0.96      0.97   1760378\n",
      "\n",
      "fatal        0      1\n",
      "row_0                \n",
      "0      1688528  38661\n",
      "1        25177   8012\n"
     ]
    }
   ],
   "source": [
    "y_pred = xgb_1.predict(X_test)\n",
    "y_pred = [round(value) for value in y_pred]\n",
    "\n",
    "print(classification_report(y_pred, y_test))\n",
    "\n",
    "print(pd.crosstab(y_pred, y_test))"
   ]
  },
  {
   "cell_type": "code",
   "execution_count": 30,
   "id": "aee44902-9a6d-495b-a3cf-74eb43dc3aff",
   "metadata": {},
   "outputs": [
    {
     "data": {
      "image/png": "[encoded data removed]",
      "text/plain": [
       "<Figure size 500x400 with 2 Axes>"
      ]
     },
     "metadata": {},
     "output_type": "display_data"
    }
   ],
   "source": [
    "cm = confusion_matrix(y_test, y_pred)\n",
    "\n",
    "plt.figure(figsize = (5, 4))\n",
    "sns.set(font_scale=1)\n",
    "sns.heatmap(cm, annot=True);"
   ]
  },
  {
   "cell_type": "code",
   "execution_count": 31,
   "id": "92d48575-2c42-43a1-b9b9-46ff382dd1bc",
   "metadata": {},
   "outputs": [
    {
     "data": {
      "text/plain": [
       "fatal\n",
       "0    1713705\n",
       "1      46673\n",
       "Name: count, dtype: int64"
      ]
     },
     "execution_count": 31,
     "metadata": {},
     "output_type": "execute_result"
    }
   ],
   "source": [
    "pd.Series(y_test).value_counts()"
   ]
  },
  {
   "cell_type": "markdown",
   "id": "03aef1fc-ee62-4552-92ab-7710fe24b9f1",
   "metadata": {},
   "source": [
    "## References\n",
    "[1] [Bergstra, J., Yamins, D., Cox, D. D. (2013) Making a Science of Model Search: Hyperparameter Optimization in Hundreds of Dimensions for Vision Architectures. TProc. of the 30th International Conference on Machine Learning (ICML 2013), June 2013, pp. I-115 to I-23.](https://proceedings.neurips.cc/paper_files/paper/2011/file/86e8f7ab32cfd12577bc2619bc635690-Paper.pdf)\n",
    "\n",
    "[2] https://towardsdatascience.com/hyperopt-demystified-3e14006eb6fa\n",
    "\n",
    "[3] https://github.com/hyperopt/hyperopt\n",
    "\n",
    "[4] https://www.kaggle.com/code/prashant111/a-guide-on-xgboost-hyperparameters-tuning\n",
    "\n",
    "[5] https://github.com/hyperopt/hyperopt/wiki/FMin\n",
    "\n",
    "[6] https://xgboost.readthedocs.io/en/stable/tutorials/param_tuning.html\n",
    "\n",
    "[7] https://www.datamachines.io/blog/auc-vs-log-loss"
   ]
  }
 ],
 "metadata": {
  "kernelspec": {
   "display_name": "Python 3 (ipykernel)",
   "language": "python",
   "name": "python3"
  },
  "language_info": {
   "codemirror_mode": {
    "name": "ipython",
    "version": 3
   },
   "file_extension": ".py",
   "mimetype": "text/x-python",
   "name": "python",
   "nbconvert_exporter": "python",
   "pygments_lexer": "ipython3",
   "version": "3.11.4"
  }
 },
 "nbformat": 4,
 "nbformat_minor": 5
}
