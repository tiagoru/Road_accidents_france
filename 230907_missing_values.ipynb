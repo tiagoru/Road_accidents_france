{
 "cells": [
  {
   "cell_type": "code",
   "execution_count": 1,
   "id": "8f0eeed9",
   "metadata": {},
   "outputs": [
    {
     "name": "stderr",
     "output_type": "stream",
     "text": [
      "/Users/johannastarkl/opt/anaconda3/lib/python3.8/site-packages/numpy/lib/arraysetops.py:583: FutureWarning: elementwise comparison failed; returning scalar instead, but in the future will perform elementwise comparison\n",
      "  mask |= (ar1 == a)\n"
     ]
    },
    {
     "data": {
      "text/plain": [
       "(2509598, 63)"
      ]
     },
     "execution_count": 1,
     "metadata": {},
     "output_type": "execute_result"
    }
   ],
   "source": [
    "import pandas as pd\n",
    "import numpy as np\n",
    "\n",
    "df=pd.read_csv(\"./data/230901_basic_table_for_analysis.csv\", index_col=0, low_memory=False)\n",
    "\n",
    "df.head()\n",
    "\n",
    "df.shape"
   ]
  },
  {
   "cell_type": "code",
   "execution_count": 2,
   "id": "d7326ff8",
   "metadata": {},
   "outputs": [
    {
     "data": {
      "text/plain": [
       "id_vehicule    85.359209\n",
       "num_veh         0.000000\n",
       "place           4.906284\n",
       "catu            0.000000\n",
       "grav            0.000000\n",
       "                 ...    \n",
       "is_holiday      0.000000\n",
       "holiday        97.749919\n",
       "secu_used       0.000000\n",
       "secu_avail      0.000000\n",
       "fatal           0.000000\n",
       "Length: 63, dtype: float64"
      ]
     },
     "execution_count": 2,
     "metadata": {},
     "output_type": "execute_result"
    }
   ],
   "source": [
    "#calculate missing values of each colum\n",
    "percent_missing = df.isnull().sum() * 100 / len(df)\n",
    "missing_value_df = pd.DataFrame({'column_name': df.columns,\n",
    "                                 'percent_missing': percent_missing})\n",
    "percent_missing"
   ]
  },
  {
   "cell_type": "code",
   "execution_count": 3,
   "id": "8889a8c8",
   "metadata": {},
   "outputs": [],
   "source": [
    "#cleaning of the dataset regarding missing values\n",
    "\n",
    "#delete columns id_vehicule, com, gps, voie, v1, v2, pr, pr1, lartpc, larrout, vma, env1, motor, secu1, \n",
    "#secu2, secu3, secu\n",
    "\n",
    "df.drop(['id_vehicule', 'com', 'gps', 'voie', 'v1', 'v2',\n",
    "         'pr', 'pr1', 'lartpc', 'larrout', 'vma', 'env1', 'motor', \n",
    "         'secu', 'secu1', 'secu2', 'secu3'], axis=1, inplace=True)\n",
    "\n",
    "\n"
   ]
  },
  {
   "cell_type": "code",
   "execution_count": 4,
   "id": "20759162",
   "metadata": {},
   "outputs": [],
   "source": [
    "#replace NaN with -1 (coded as no information) in columns\n",
    "#place, an_nais, trajet, locp, actp, etatp ,atm, col, circ, nbv, vosp, prof, plan, surf, infra\n",
    "#situ, senc, occutc, obs, obsm, choc, manv\n",
    "\n",
    "df.fillna({'place':'-1', 'an_nais':'-1', 'trajet':'-1', 'locp':'-1', 'actp':'-1', \n",
    "           'etatp':'-1', 'atm':'-1', 'col':'-1', 'circ':'-1', \n",
    "           'nbv':'-1', 'vosp':'-1', 'prof':'-1', 'plan':'-1', \n",
    "           'surf':'-1', 'infra':'-1', 'situ':'-1', 'senc':'-1', 'occutc':'-1', \n",
    "           'obs':'-1', 'obsm':'-1', 'choc':'-1', 'manv':'-1'}, inplace=True)"
   ]
  },
  {
   "cell_type": "code",
   "execution_count": 5,
   "id": "4550030a",
   "metadata": {},
   "outputs": [],
   "source": [
    "#remove lines with NaN in column catr\n",
    "\n",
    "df.dropna(subset=['catr'], inplace=True)\n"
   ]
  },
  {
   "cell_type": "code",
   "execution_count": 6,
   "id": "b8e13b4d",
   "metadata": {},
   "outputs": [
    {
     "data": {
      "text/plain": [
       "count        2509596\n",
       "unique          6209\n",
       "top       2005-12-16\n",
       "freq             832\n",
       "Name: date, dtype: object"
      ]
     },
     "execution_count": 6,
     "metadata": {},
     "output_type": "execute_result"
    }
   ],
   "source": [
    "#transform date to datetime\n",
    "df['date'] =  pd.to_datetime(df['date'], format=\"%Y-%m-%d\")\n",
    "\n",
    "df['date'] = df['date'].dt.date\n",
    "\n",
    "df['date'].describe()"
   ]
  },
  {
   "cell_type": "code",
   "execution_count": 7,
   "id": "605a6ffa-c2b2-4f69-891d-c3d25a6234cd",
   "metadata": {},
   "outputs": [
    {
     "data": {
      "text/plain": [
       "num_veh          0.000000\n",
       "place            0.000000\n",
       "catu             0.000000\n",
       "grav             0.000000\n",
       "sexe             0.000000\n",
       "an_nais          0.000000\n",
       "trajet           0.000000\n",
       "locp             0.000000\n",
       "actp             0.000000\n",
       "etatp            0.000000\n",
       "an               0.000000\n",
       "mois             0.000000\n",
       "jour             0.000000\n",
       "hrmn             0.000000\n",
       "lum              0.000000\n",
       "agg              0.000000\n",
       "int              0.000000\n",
       "atm              0.000000\n",
       "col              0.000000\n",
       "adr             13.695511\n",
       "lat             42.471816\n",
       "long            42.760428\n",
       "dep              0.000000\n",
       "metropolitan     0.000000\n",
       "catr             0.000000\n",
       "circ             0.000000\n",
       "nbv              0.000000\n",
       "vosp             0.000000\n",
       "prof             0.000000\n",
       "plan             0.000000\n",
       "surf             0.000000\n",
       "infra            0.000000\n",
       "situ             0.000000\n",
       "senc             0.000000\n",
       "catv             0.000000\n",
       "occutc           0.000000\n",
       "obs              0.000000\n",
       "obsm             0.000000\n",
       "choc             0.000000\n",
       "manv             0.000000\n",
       "date             0.000000\n",
       "is_holiday       0.000000\n",
       "holiday         97.749917\n",
       "secu_used        0.000000\n",
       "secu_avail       0.000000\n",
       "fatal            0.000000\n",
       "dtype: float64"
      ]
     },
     "execution_count": 7,
     "metadata": {},
     "output_type": "execute_result"
    }
   ],
   "source": [
    "percent_missing_clean = df.isnull().sum() * 100 / len(df)\n",
    "percent_missing_clean"
   ]
  },
  {
   "cell_type": "code",
   "execution_count": 8,
   "id": "dd5f7d60",
   "metadata": {},
   "outputs": [],
   "source": [
    "#save data to a new file\n",
    "df.to_csv(\"./data/230907_basic_table_for_analysis_cleaned.csv\", sep = ',', header = True, na_rep = 'n/a', index=True)"
   ]
  }
 ],
 "metadata": {
  "kernelspec": {
   "display_name": "Python 3",
   "language": "python",
   "name": "python3"
  },
  "language_info": {
   "codemirror_mode": {
    "name": "ipython",
    "version": 3
   },
   "file_extension": ".py",
   "mimetype": "text/x-python",
   "name": "python",
   "nbconvert_exporter": "python",
   "pygments_lexer": "ipython3",
   "version": "3.8.8"
  }
 },
 "nbformat": 4,
 "nbformat_minor": 5
}
