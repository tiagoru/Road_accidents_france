{
 "cells": [
  {
   "cell_type": "code",
   "execution_count": 1,
   "metadata": {},
   "outputs": [],
   "source": [
    "import pandas as pd\n",
    "import numpy as np\n",
    "import matplotlib.pyplot as plt\n",
    "import seaborn as sns\n",
    "\n",
    "# tryig to set the target variable as the fatal or non fatal accindents in France metropolitan area\n",
    "#Step 2/ Pre-processing and feature engineering : Deadline Friday, 14th of July\n",
    "#Following the observations made in the previous step, you will have to clean your dataset and perform the pre-processing steps.\n",
    "#If necessary, you will have to transform and/or add features and enrich your dataset.\n",
    "#The objective at the end of this step is to have a dataset ready to perform in-depth analysis and/or modeling using Machine (and Deep) Learning."
   ]
  },
  {
   "cell_type": "code",
   "execution_count": 22,
   "metadata": {},
   "outputs": [
    {
     "name": "stdout",
     "output_type": "stream",
     "text": [
      "<class 'pandas.core.frame.DataFrame'>\n",
      "Index: 2509598 entries, 201900000001 to 201800057783\n",
      "Data columns (total 60 columns):\n",
      " #   Column        Dtype  \n",
      "---  ------        -----  \n",
      " 0   id_vehicule   float64\n",
      " 1   num_veh       object \n",
      " 2   place         float64\n",
      " 3   catu          int64  \n",
      " 4   grav          int64  \n",
      " 5   sexe          int64  \n",
      " 6   an_nais       float64\n",
      " 7   trajet        float64\n",
      " 8   secu1         float64\n",
      " 9   secu2         float64\n",
      " 10  secu3         float64\n",
      " 11  locp          float64\n",
      " 12  actp          object \n",
      " 13  etatp         float64\n",
      " 14  secu          float64\n",
      " 15  an            int64  \n",
      " 16  mois          int64  \n",
      " 17  jour          int64  \n",
      " 18  hrmn          object \n",
      " 19  lum           int64  \n",
      " 20  agg           int64  \n",
      " 21  int           int64  \n",
      " 22  atm           float64\n",
      " 23  col           float64\n",
      " 24  com           object \n",
      " 25  adr           object \n",
      " 26  gps           object \n",
      " 27  lat           float64\n",
      " 28  long          float64\n",
      " 29  dep           int64  \n",
      " 30  metropolitan  float64\n",
      " 31  catr          float64\n",
      " 32  voie          object \n",
      " 33  v1            float64\n",
      " 34  v2            object \n",
      " 35  circ          float64\n",
      " 36  nbv           float64\n",
      " 37  vosp          float64\n",
      " 38  prof          float64\n",
      " 39  pr            object \n",
      " 40  pr1           object \n",
      " 41  plan          float64\n",
      " 42  lartpc        object \n",
      " 43  larrout       object \n",
      " 44  surf          float64\n",
      " 45  infra         float64\n",
      " 46  situ          float64\n",
      " 47  vma           float64\n",
      " 48  env1          float64\n",
      " 49  senc          float64\n",
      " 50  catv          int64  \n",
      " 51  occutc        float64\n",
      " 52  obs           float64\n",
      " 53  obsm          float64\n",
      " 54  choc          float64\n",
      " 55  manv          float64\n",
      " 56  motor         float64\n",
      " 57  date          object \n",
      " 58  is_holiday    bool   \n",
      " 59  holiday       object \n",
      "dtypes: bool(1), float64(34), int64(11), object(14)\n",
      "memory usage: 1.1+ GB\n"
     ]
    }
   ],
   "source": [
    "df = pd.read_csv(\"./data/230819_basic_table_for_analysis.csv\", index_col=0, low_memory=False)\n",
    "\n",
    "df.info()\n"
   ]
  },
  {
   "cell_type": "code",
   "execution_count": 44,
   "metadata": {},
   "outputs": [
    {
     "data": {
      "text/html": [
       "<div>\n",
       "<style scoped>\n",
       "    .dataframe tbody tr th:only-of-type {\n",
       "        vertical-align: middle;\n",
       "    }\n",
       "\n",
       "    .dataframe tbody tr th {\n",
       "        vertical-align: top;\n",
       "    }\n",
       "\n",
       "    .dataframe thead th {\n",
       "        text-align: right;\n",
       "    }\n",
       "</style>\n",
       "<table border=\"1\" class=\"dataframe\">\n",
       "  <thead>\n",
       "    <tr style=\"text-align: right;\">\n",
       "      <th></th>\n",
       "      <th>id_vehicule</th>\n",
       "      <th>num_veh</th>\n",
       "      <th>place</th>\n",
       "      <th>catu</th>\n",
       "      <th>grav</th>\n",
       "      <th>sexe</th>\n",
       "      <th>an_nais</th>\n",
       "      <th>trajet</th>\n",
       "      <th>secu1</th>\n",
       "      <th>secu2</th>\n",
       "      <th>...</th>\n",
       "      <th>catv</th>\n",
       "      <th>occutc</th>\n",
       "      <th>obs</th>\n",
       "      <th>obsm</th>\n",
       "      <th>choc</th>\n",
       "      <th>manv</th>\n",
       "      <th>motor</th>\n",
       "      <th>date</th>\n",
       "      <th>is_holiday</th>\n",
       "      <th>holiday</th>\n",
       "    </tr>\n",
       "    <tr>\n",
       "      <th>Num_Acc</th>\n",
       "      <th></th>\n",
       "      <th></th>\n",
       "      <th></th>\n",
       "      <th></th>\n",
       "      <th></th>\n",
       "      <th></th>\n",
       "      <th></th>\n",
       "      <th></th>\n",
       "      <th></th>\n",
       "      <th></th>\n",
       "      <th></th>\n",
       "      <th></th>\n",
       "      <th></th>\n",
       "      <th></th>\n",
       "      <th></th>\n",
       "      <th></th>\n",
       "      <th></th>\n",
       "      <th></th>\n",
       "      <th></th>\n",
       "      <th></th>\n",
       "      <th></th>\n",
       "    </tr>\n",
       "  </thead>\n",
       "  <tbody>\n",
       "    <tr>\n",
       "      <th>201900000001</th>\n",
       "      <td>138306524.0</td>\n",
       "      <td>B01</td>\n",
       "      <td>2.0</td>\n",
       "      <td>2</td>\n",
       "      <td>4</td>\n",
       "      <td>2</td>\n",
       "      <td>2002.0</td>\n",
       "      <td>0.0</td>\n",
       "      <td>1.0</td>\n",
       "      <td>0.0</td>\n",
       "      <td>...</td>\n",
       "      <td>7</td>\n",
       "      <td>NaN</td>\n",
       "      <td>0.0</td>\n",
       "      <td>2.0</td>\n",
       "      <td>5.0</td>\n",
       "      <td>23.0</td>\n",
       "      <td>1.0</td>\n",
       "      <td>2019-11-30</td>\n",
       "      <td>False</td>\n",
       "      <td>NaN</td>\n",
       "    </tr>\n",
       "    <tr>\n",
       "      <th>201900000001</th>\n",
       "      <td>138306524.0</td>\n",
       "      <td>B01</td>\n",
       "      <td>1.0</td>\n",
       "      <td>1</td>\n",
       "      <td>4</td>\n",
       "      <td>2</td>\n",
       "      <td>1993.0</td>\n",
       "      <td>5.0</td>\n",
       "      <td>1.0</td>\n",
       "      <td>0.0</td>\n",
       "      <td>...</td>\n",
       "      <td>7</td>\n",
       "      <td>NaN</td>\n",
       "      <td>0.0</td>\n",
       "      <td>2.0</td>\n",
       "      <td>5.0</td>\n",
       "      <td>23.0</td>\n",
       "      <td>1.0</td>\n",
       "      <td>2019-11-30</td>\n",
       "      <td>False</td>\n",
       "      <td>NaN</td>\n",
       "    </tr>\n",
       "    <tr>\n",
       "      <th>201900000001</th>\n",
       "      <td>138306525.0</td>\n",
       "      <td>A01</td>\n",
       "      <td>1.0</td>\n",
       "      <td>1</td>\n",
       "      <td>1</td>\n",
       "      <td>1</td>\n",
       "      <td>1959.0</td>\n",
       "      <td>0.0</td>\n",
       "      <td>1.0</td>\n",
       "      <td>0.0</td>\n",
       "      <td>...</td>\n",
       "      <td>17</td>\n",
       "      <td>NaN</td>\n",
       "      <td>1.0</td>\n",
       "      <td>0.0</td>\n",
       "      <td>3.0</td>\n",
       "      <td>11.0</td>\n",
       "      <td>1.0</td>\n",
       "      <td>2019-11-30</td>\n",
       "      <td>False</td>\n",
       "      <td>NaN</td>\n",
       "    </tr>\n",
       "    <tr>\n",
       "      <th>201900000002</th>\n",
       "      <td>138306523.0</td>\n",
       "      <td>A01</td>\n",
       "      <td>1.0</td>\n",
       "      <td>1</td>\n",
       "      <td>4</td>\n",
       "      <td>2</td>\n",
       "      <td>1994.0</td>\n",
       "      <td>0.0</td>\n",
       "      <td>1.0</td>\n",
       "      <td>0.0</td>\n",
       "      <td>...</td>\n",
       "      <td>7</td>\n",
       "      <td>NaN</td>\n",
       "      <td>4.0</td>\n",
       "      <td>0.0</td>\n",
       "      <td>1.0</td>\n",
       "      <td>0.0</td>\n",
       "      <td>1.0</td>\n",
       "      <td>2019-11-30</td>\n",
       "      <td>False</td>\n",
       "      <td>NaN</td>\n",
       "    </tr>\n",
       "    <tr>\n",
       "      <th>201900000003</th>\n",
       "      <td>138306520.0</td>\n",
       "      <td>A01</td>\n",
       "      <td>1.0</td>\n",
       "      <td>1</td>\n",
       "      <td>1</td>\n",
       "      <td>1</td>\n",
       "      <td>1996.0</td>\n",
       "      <td>0.0</td>\n",
       "      <td>1.0</td>\n",
       "      <td>0.0</td>\n",
       "      <td>...</td>\n",
       "      <td>7</td>\n",
       "      <td>NaN</td>\n",
       "      <td>0.0</td>\n",
       "      <td>2.0</td>\n",
       "      <td>1.0</td>\n",
       "      <td>2.0</td>\n",
       "      <td>1.0</td>\n",
       "      <td>2019-11-28</td>\n",
       "      <td>False</td>\n",
       "      <td>NaN</td>\n",
       "    </tr>\n",
       "    <tr>\n",
       "      <th>...</th>\n",
       "      <td>...</td>\n",
       "      <td>...</td>\n",
       "      <td>...</td>\n",
       "      <td>...</td>\n",
       "      <td>...</td>\n",
       "      <td>...</td>\n",
       "      <td>...</td>\n",
       "      <td>...</td>\n",
       "      <td>...</td>\n",
       "      <td>...</td>\n",
       "      <td>...</td>\n",
       "      <td>...</td>\n",
       "      <td>...</td>\n",
       "      <td>...</td>\n",
       "      <td>...</td>\n",
       "      <td>...</td>\n",
       "      <td>...</td>\n",
       "      <td>...</td>\n",
       "      <td>...</td>\n",
       "      <td>...</td>\n",
       "      <td>...</td>\n",
       "    </tr>\n",
       "    <tr>\n",
       "      <th>201800055764</th>\n",
       "      <td>NaN</td>\n",
       "      <td>B01</td>\n",
       "      <td>1.0</td>\n",
       "      <td>1</td>\n",
       "      <td>1</td>\n",
       "      <td>1</td>\n",
       "      <td>1988.0</td>\n",
       "      <td>5.0</td>\n",
       "      <td>NaN</td>\n",
       "      <td>NaN</td>\n",
       "      <td>...</td>\n",
       "      <td>7</td>\n",
       "      <td>0.0</td>\n",
       "      <td>0.0</td>\n",
       "      <td>2.0</td>\n",
       "      <td>6.0</td>\n",
       "      <td>2.0</td>\n",
       "      <td>NaN</td>\n",
       "      <td>2018-12-28</td>\n",
       "      <td>False</td>\n",
       "      <td>NaN</td>\n",
       "    </tr>\n",
       "    <tr>\n",
       "      <th>201800055765</th>\n",
       "      <td>NaN</td>\n",
       "      <td>A01</td>\n",
       "      <td>1.0</td>\n",
       "      <td>1</td>\n",
       "      <td>4</td>\n",
       "      <td>1</td>\n",
       "      <td>1989.0</td>\n",
       "      <td>1.0</td>\n",
       "      <td>NaN</td>\n",
       "      <td>NaN</td>\n",
       "      <td>...</td>\n",
       "      <td>2</td>\n",
       "      <td>0.0</td>\n",
       "      <td>0.0</td>\n",
       "      <td>2.0</td>\n",
       "      <td>3.0</td>\n",
       "      <td>11.0</td>\n",
       "      <td>NaN</td>\n",
       "      <td>2018-12-29</td>\n",
       "      <td>False</td>\n",
       "      <td>NaN</td>\n",
       "    </tr>\n",
       "    <tr>\n",
       "      <th>201800055765</th>\n",
       "      <td>NaN</td>\n",
       "      <td>B01</td>\n",
       "      <td>1.0</td>\n",
       "      <td>1</td>\n",
       "      <td>1</td>\n",
       "      <td>1</td>\n",
       "      <td>1998.0</td>\n",
       "      <td>5.0</td>\n",
       "      <td>NaN</td>\n",
       "      <td>NaN</td>\n",
       "      <td>...</td>\n",
       "      <td>7</td>\n",
       "      <td>0.0</td>\n",
       "      <td>0.0</td>\n",
       "      <td>2.0</td>\n",
       "      <td>7.0</td>\n",
       "      <td>1.0</td>\n",
       "      <td>NaN</td>\n",
       "      <td>2018-12-29</td>\n",
       "      <td>False</td>\n",
       "      <td>NaN</td>\n",
       "    </tr>\n",
       "    <tr>\n",
       "      <th>201800055766</th>\n",
       "      <td>NaN</td>\n",
       "      <td>B01</td>\n",
       "      <td>1.0</td>\n",
       "      <td>1</td>\n",
       "      <td>1</td>\n",
       "      <td>1</td>\n",
       "      <td>1992.0</td>\n",
       "      <td>5.0</td>\n",
       "      <td>NaN</td>\n",
       "      <td>NaN</td>\n",
       "      <td>...</td>\n",
       "      <td>7</td>\n",
       "      <td>0.0</td>\n",
       "      <td>0.0</td>\n",
       "      <td>2.0</td>\n",
       "      <td>4.0</td>\n",
       "      <td>23.0</td>\n",
       "      <td>NaN</td>\n",
       "      <td>2018-12-31</td>\n",
       "      <td>False</td>\n",
       "      <td>NaN</td>\n",
       "    </tr>\n",
       "    <tr>\n",
       "      <th>201800055766</th>\n",
       "      <td>NaN</td>\n",
       "      <td>A01</td>\n",
       "      <td>1.0</td>\n",
       "      <td>1</td>\n",
       "      <td>4</td>\n",
       "      <td>1</td>\n",
       "      <td>1997.0</td>\n",
       "      <td>5.0</td>\n",
       "      <td>NaN</td>\n",
       "      <td>NaN</td>\n",
       "      <td>...</td>\n",
       "      <td>33</td>\n",
       "      <td>0.0</td>\n",
       "      <td>0.0</td>\n",
       "      <td>2.0</td>\n",
       "      <td>1.0</td>\n",
       "      <td>2.0</td>\n",
       "      <td>NaN</td>\n",
       "      <td>2018-12-31</td>\n",
       "      <td>False</td>\n",
       "      <td>NaN</td>\n",
       "    </tr>\n",
       "  </tbody>\n",
       "</table>\n",
       "<p>2421740 rows × 60 columns</p>\n",
       "</div>"
      ],
      "text/plain": [
       "              id_vehicule num_veh  place  catu  grav  sexe  an_nais  trajet  \\\n",
       "Num_Acc                                                                       \n",
       "201900000001  138306524.0     B01    2.0     2     4     2   2002.0     0.0   \n",
       "201900000001  138306524.0     B01    1.0     1     4     2   1993.0     5.0   \n",
       "201900000001  138306525.0     A01    1.0     1     1     1   1959.0     0.0   \n",
       "201900000002  138306523.0     A01    1.0     1     4     2   1994.0     0.0   \n",
       "201900000003  138306520.0     A01    1.0     1     1     1   1996.0     0.0   \n",
       "...                   ...     ...    ...   ...   ...   ...      ...     ...   \n",
       "201800055764          NaN     B01    1.0     1     1     1   1988.0     5.0   \n",
       "201800055765          NaN     A01    1.0     1     4     1   1989.0     1.0   \n",
       "201800055765          NaN     B01    1.0     1     1     1   1998.0     5.0   \n",
       "201800055766          NaN     B01    1.0     1     1     1   1992.0     5.0   \n",
       "201800055766          NaN     A01    1.0     1     4     1   1997.0     5.0   \n",
       "\n",
       "              secu1  secu2  ...  catv  occutc  obs  obsm  choc  manv  motor  \\\n",
       "Num_Acc                     ...                                               \n",
       "201900000001    1.0    0.0  ...     7     NaN  0.0   2.0   5.0  23.0    1.0   \n",
       "201900000001    1.0    0.0  ...     7     NaN  0.0   2.0   5.0  23.0    1.0   \n",
       "201900000001    1.0    0.0  ...    17     NaN  1.0   0.0   3.0  11.0    1.0   \n",
       "201900000002    1.0    0.0  ...     7     NaN  4.0   0.0   1.0   0.0    1.0   \n",
       "201900000003    1.0    0.0  ...     7     NaN  0.0   2.0   1.0   2.0    1.0   \n",
       "...             ...    ...  ...   ...     ...  ...   ...   ...   ...    ...   \n",
       "201800055764    NaN    NaN  ...     7     0.0  0.0   2.0   6.0   2.0    NaN   \n",
       "201800055765    NaN    NaN  ...     2     0.0  0.0   2.0   3.0  11.0    NaN   \n",
       "201800055765    NaN    NaN  ...     7     0.0  0.0   2.0   7.0   1.0    NaN   \n",
       "201800055766    NaN    NaN  ...     7     0.0  0.0   2.0   4.0  23.0    NaN   \n",
       "201800055766    NaN    NaN  ...    33     0.0  0.0   2.0   1.0   2.0    NaN   \n",
       "\n",
       "                    date is_holiday  holiday  \n",
       "Num_Acc                                       \n",
       "201900000001  2019-11-30      False      NaN  \n",
       "201900000001  2019-11-30      False      NaN  \n",
       "201900000001  2019-11-30      False      NaN  \n",
       "201900000002  2019-11-30      False      NaN  \n",
       "201900000003  2019-11-28      False      NaN  \n",
       "...                  ...        ...      ...  \n",
       "201800055764  2018-12-28      False      NaN  \n",
       "201800055765  2018-12-29      False      NaN  \n",
       "201800055765  2018-12-29      False      NaN  \n",
       "201800055766  2018-12-31      False      NaN  \n",
       "201800055766  2018-12-31      False      NaN  \n",
       "\n",
       "[2421740 rows x 60 columns]"
      ]
     },
     "execution_count": 44,
     "metadata": {},
     "output_type": "execute_result"
    }
   ],
   "source": [
    "df[df['metropolitan'] == 1]"
   ]
  },
  {
   "cell_type": "code",
   "execution_count": 52,
   "metadata": {},
   "outputs": [
    {
     "name": "stdout",
     "output_type": "stream",
     "text": [
      "              percentage_full  metropolitan_only  non_metropolitan\n",
      "id_vehicule             85.36              85.65             77.45\n",
      "num_veh                  0.00               0.00              0.00\n",
      "place                    4.91               4.91              4.67\n",
      "catu                     0.00               0.00              0.00\n",
      "grav                     0.00               0.00              0.00\n",
      "sexe                     0.00               0.00              0.00\n",
      "an_nais                  0.22               0.22              0.30\n",
      "trajet                   0.02               0.02              0.01\n",
      "secu1                   85.36              85.65             77.45\n",
      "secu2                   85.36              85.65             77.45\n",
      "secu3                   85.36              85.65             77.45\n",
      "locp                     2.25               2.24              2.30\n",
      "actp                     2.25               2.25              2.30\n",
      "etatp                    2.25               2.25              2.30\n",
      "secu                    16.89              16.62             24.55\n",
      "an                       0.00               0.00              0.00\n",
      "mois                     0.00               0.00              0.00\n",
      "jour                     0.00               0.00              0.00\n",
      "hrmn                     0.00               0.00              0.00\n",
      "lum                      0.00               0.00              0.00\n",
      "agg                      0.00               0.00              0.00\n",
      "int                      0.00               0.00              0.00\n",
      "atm                      0.01               0.00              0.09\n",
      "col                      0.00               0.00              0.02\n",
      "com                      0.00               0.00              0.00\n",
      "adr                     13.70              13.64             15.21\n",
      "gps                     56.30              56.36             54.79\n",
      "lat                     42.47              42.65             37.69\n",
      "long                    42.76              42.94             37.69\n",
      "dep                      0.00               0.00              0.00\n",
      "metropolitan             0.00               0.00              0.00\n",
      "catr                     0.00               0.00              0.00\n",
      "voie                     8.95               9.03              6.95\n",
      "v1                      56.45              56.69             49.69\n",
      "v2                      95.25              95.19             96.92\n",
      "circ                     0.14               0.15              0.06\n",
      "nbv                      0.25               0.25              0.18\n",
      "vosp                     0.25               0.26              0.09\n",
      "prof                     0.18               0.18              0.07\n",
      "pr                      40.67              40.98             32.17\n",
      "pr1                     40.82              41.11             32.94\n",
      "plan                     0.22               0.22              0.11\n",
      "lartpc                  19.69              19.41             27.36\n",
      "larrout                 10.18              10.10             12.31\n",
      "surf                     0.18               0.18              0.07\n",
      "infra                    0.50               0.50              0.62\n",
      "situ                     0.46               0.46              0.60\n",
      "vma                     85.36              85.65             77.45\n",
      "env1                    15.15              14.86             23.16\n",
      "senc                     0.01               0.01              0.00\n",
      "catv                     0.00               0.00              0.00\n",
      "occutc                  14.46              14.18             22.28\n",
      "obs                      0.04               0.04              0.01\n",
      "obsm                     0.03               0.03              0.01\n",
      "choc                     0.01               0.01              0.01\n",
      "manv                     0.02               0.02              0.01\n",
      "motor                   85.36              85.65             77.45\n",
      "date                     0.00               0.00              0.00\n",
      "is_holiday               0.00               0.00              0.00\n",
      "holiday                 97.75              97.77             97.10\n"
     ]
    }
   ],
   "source": [
    "#Look for percentage of missing values\n",
    "counts = pd.DataFrame()\n",
    "counts['percentage_full'] = 100 - round(df.count()/len(df)*100, 2)\n",
    "counts['metropolitan_only'] = 100 - round(df[df['metropolitan'] == 1].count()/len(df[df['metropolitan'] == 1])*100,2)\n",
    "counts['non_metropolitan'] = 100 - round(df[df['metropolitan'] == 0].count()/len(df[df['metropolitan'] == 0])*100,2)\n",
    "print(counts)\n",
    "counts.to_csv('./data/230827_percentage.csv')"
   ]
  },
  {
   "cell_type": "code",
   "execution_count": 3,
   "metadata": {},
   "outputs": [
    {
     "data": {
      "text/plain": [
       "count    2.509598e+06\n",
       "mean     2.012251e+03\n",
       "std      4.959530e+00\n",
       "min      2.005000e+03\n",
       "25%      2.008000e+03\n",
       "50%      2.012000e+03\n",
       "75%      2.017000e+03\n",
       "max      2.021000e+03\n",
       "Name: an, dtype: float64"
      ]
     },
     "execution_count": 3,
     "metadata": {},
     "output_type": "execute_result"
    }
   ],
   "source": [
    "df['an'].describe()"
   ]
  },
  {
   "cell_type": "code",
   "execution_count": 4,
   "metadata": {},
   "outputs": [],
   "source": [
    "# TS: The following code is not necessary. We have only M and NaN, while we cannot impute reliable impute data in the NaNs"
   ]
  },
  {
   "cell_type": "raw",
   "metadata": {},
   "source": [
    "# checking the reigions in France available \n",
    "event_counts = df['gps'].value_counts()\n",
    "event_percentages = (event_counts / event_counts.sum()) * 100\n",
    "plt.subplot(2,1,1)\n",
    "event_percentages.plot.bar()\n",
    "#\n",
    "plt.xticks(range(len(event_percentages)))\n",
    "plt.xlabel('Events')\n",
    "plt.ylabel('Count %')\n",
    "plt.title('France regions')\n",
    "# Display the plot\n",
    "plt.show()"
   ]
  },
  {
   "cell_type": "code",
   "execution_count": 5,
   "metadata": {},
   "outputs": [
    {
     "data": {
      "image/png": "[encoded data removed]",
      "text/plain": [
       "<Figure size 640x480 with 1 Axes>"
      ]
     },
     "metadata": {},
     "output_type": "display_data"
    },
    {
     "data": {
      "image/png": "[encoded data removed]",
      "text/plain": [
       "<Figure size 640x480 with 1 Axes>"
      ]
     },
     "metadata": {},
     "output_type": "display_data"
    }
   ],
   "source": [
    "# exploring a possible target variable\n",
    "#severity\n",
    "event_counts = df['grav'].value_counts()\n",
    "event_percentages = (event_counts / event_counts.sum()) * 100\n",
    "plt.subplot(2,1,1)\n",
    "event_percentages.plot.bar()\n",
    "labels = ['unscathed','Killed','Hospitalized','light injury','unknow']\n",
    "# Add labels and title to the plot\n",
    "plt.xticks(range(len(event_percentages)), labels)\n",
    "plt.xlabel('Events')\n",
    "plt.ylabel('Count %')\n",
    "plt.title('Severity France all')\n",
    "# Display the plot\n",
    "plt.show()\n",
    "\n",
    "\n",
    "\n",
    "event_counts_M = df['grav'].value_counts()\n",
    "event_percentages_M = (event_counts_M / event_counts_M.sum()) * 100\n",
    "plt.subplot(2,1,2)\n",
    "event_percentages.plot.bar()\n",
    "#labels = ['unscathed','Killed','Hospitalized','light injury']\n",
    "labels = ['unscathed','Killed','Hospitalized','light injury','unknow']\n",
    "# Add labels and title to the plot\n",
    "plt.xticks(range(len(event_percentages_M)), labels)\n",
    "plt.xlabel('Events')\n",
    "plt.ylabel('Count %')\n",
    "plt.title('Severity Metropolitan France')\n",
    "# Display the plot\n",
    "plt.show()\n"
   ]
  },
  {
   "cell_type": "code",
   "execution_count": 6,
   "metadata": {},
   "outputs": [],
   "source": [
    "# create a new variable for the severity ['Grav'] of accidents ( fatal, non-fatal) as a possible target variable\n",
    "# a new binary variable 'fatality' based on 'severity' named fatal\n",
    "df['fatal'] = np.where(df['grav'].isin([1, 3, 4]), 0, 1)\n",
    "\n"
   ]
  },
  {
   "cell_type": "code",
   "execution_count": 7,
   "metadata": {},
   "outputs": [
    {
     "data": {
      "image/png": "[encoded data removed]",
      "text/plain": [
       "<Figure size 640x480 with 1 Axes>"
      ]
     },
     "metadata": {},
     "output_type": "display_data"
    }
   ],
   "source": [
    "# explorig the new variable \n",
    "percentage_distribution = df['fatal'].value_counts(normalize=True) * 100\n",
    "\n",
    "# Create a bar plot\n",
    "plt.bar(percentage_distribution.index, percentage_distribution.values)\n",
    "\n",
    "# Set the x-axis tick labels\n",
    "plt.xticks(percentage_distribution.index)\n",
    "plt.xticks(percentage_distribution.index, ['Non-Fatal', 'Fatal'])\n",
    "plt.title('Distribution of Fatal Accidents (%) Metropolitan France')\n",
    "# Show labels on top of bars\n",
    "for i, v in enumerate(percentage_distribution.values):\n",
    "    plt.text(i, v, f\"{v:.1f}%\", ha='center', va='bottom')\n",
    "\n",
    "plt.show()"
   ]
  },
  {
   "cell_type": "raw",
   "metadata": {},
   "source": [
    "# TS: Please never overwrite the basic table. Better write a new table, best with version or date like yymmdd_xyz.csv, please.\n",
    "4\n",
    "df.to_csv('Merged_tables_target.csv')"
   ]
  },
  {
   "cell_type": "code",
   "execution_count": 8,
   "metadata": {},
   "outputs": [
    {
     "data": {
      "image/png": "[encoded data removed]",
      "text/plain": [
       "<Figure size 2000x1200 with 1 Axes>"
      ]
     },
     "metadata": {},
     "output_type": "display_data"
    }
   ],
   "source": [
    "plt.figure(figsize=(20,12))\n",
    "event_counts = df['dep'].value_counts()\n",
    "event_counts_filtered = event_counts[event_counts > 3000]\n",
    "\n",
    "event_counts_filtered.plot.bar()\n",
    "\n",
    "plt.xticks(rotation=90)\n",
    "plt.xlabel('Events')\n",
    "plt.ylabel('Count')\n",
    "plt.title('commune')\n",
    "# Display the plot\n",
    "plt.show()"
   ]
  },
  {
   "cell_type": "code",
   "execution_count": 9,
   "metadata": {},
   "outputs": [
    {
     "data": {
      "text/plain": [
       "count    2.509598e+06\n",
       "mean     1.562212e+01\n",
       "std      8.752002e+00\n",
       "min      1.000000e+00\n",
       "25%      8.000000e+00\n",
       "50%      1.600000e+01\n",
       "75%      2.300000e+01\n",
       "max      3.100000e+01\n",
       "Name: jour, dtype: float64"
      ]
     },
     "execution_count": 9,
     "metadata": {},
     "output_type": "execute_result"
    }
   ],
   "source": [
    "df['jour'].describe()"
   ]
  },
  {
   "cell_type": "code",
   "execution_count": 10,
   "metadata": {},
   "outputs": [
    {
     "name": "stdout",
     "output_type": "stream",
     "text": [
      "<class 'pandas.core.frame.DataFrame'>\n",
      "Index: 2509598 entries, 201900000001 to 201800057783\n",
      "Data columns (total 61 columns):\n",
      " #   Column        Dtype  \n",
      "---  ------        -----  \n",
      " 0   id_vehicule   float64\n",
      " 1   num_veh       object \n",
      " 2   place         float64\n",
      " 3   catu          int64  \n",
      " 4   grav          int64  \n",
      " 5   sexe          int64  \n",
      " 6   an_nais       float64\n",
      " 7   trajet        float64\n",
      " 8   secu1         float64\n",
      " 9   secu2         float64\n",
      " 10  secu3         float64\n",
      " 11  locp          float64\n",
      " 12  actp          object \n",
      " 13  etatp         float64\n",
      " 14  secu          float64\n",
      " 15  an            int64  \n",
      " 16  mois          int64  \n",
      " 17  jour          int64  \n",
      " 18  hrmn          object \n",
      " 19  lum           int64  \n",
      " 20  agg           int64  \n",
      " 21  int           int64  \n",
      " 22  atm           float64\n",
      " 23  col           float64\n",
      " 24  com           object \n",
      " 25  adr           object \n",
      " 26  gps           object \n",
      " 27  lat           float64\n",
      " 28  long          float64\n",
      " 29  dep           int64  \n",
      " 30  metropolitan  float64\n",
      " 31  catr          float64\n",
      " 32  voie          object \n",
      " 33  v1            float64\n",
      " 34  v2            object \n",
      " 35  circ          float64\n",
      " 36  nbv           float64\n",
      " 37  vosp          float64\n",
      " 38  prof          float64\n",
      " 39  pr            object \n",
      " 40  pr1           object \n",
      " 41  plan          float64\n",
      " 42  lartpc        object \n",
      " 43  larrout       object \n",
      " 44  surf          float64\n",
      " 45  infra         float64\n",
      " 46  situ          float64\n",
      " 47  vma           float64\n",
      " 48  env1          float64\n",
      " 49  senc          float64\n",
      " 50  catv          int64  \n",
      " 51  occutc        float64\n",
      " 52  obs           float64\n",
      " 53  obsm          float64\n",
      " 54  choc          float64\n",
      " 55  manv          float64\n",
      " 56  motor         float64\n",
      " 57  date          object \n",
      " 58  is_holiday    bool   \n",
      " 59  holiday       object \n",
      " 60  fatal         int64  \n",
      "dtypes: bool(1), float64(34), int64(12), object(14)\n",
      "memory usage: 1.1+ GB\n"
     ]
    }
   ],
   "source": [
    "df.info()\n",
    "#new\n",
    "\n"
   ]
  },
  {
   "cell_type": "code",
   "execution_count": 11,
   "metadata": {},
   "outputs": [
    {
     "data": {
      "text/plain": [
       "Num_Acc\n",
       "201900000001    2019-11-30\n",
       "201900000001    2019-11-30\n",
       "201900000001    2019-11-30\n",
       "201900000002    2019-11-30\n",
       "201900000003    2019-11-28\n",
       "                   ...    \n",
       "201800057781    2018-12-22\n",
       "201800057782    2018-12-23\n",
       "201800057782    2018-12-23\n",
       "201800057783    2018-12-28\n",
       "201800057783    2018-12-28\n",
       "Name: date, Length: 2509598, dtype: object"
      ]
     },
     "execution_count": 11,
     "metadata": {},
     "output_type": "execute_result"
    }
   ],
   "source": [
    "df['date']"
   ]
  },
  {
   "cell_type": "raw",
   "metadata": {},
   "source": [
    "# TS: I transformed the type in the basic table\n",
    "df['date_1'] = pd.to_datetime(df['date'])"
   ]
  },
  {
   "cell_type": "raw",
   "metadata": {},
   "source": [
    "# TS is not necessary, just copy 'an'\n",
    "df['year'] = df['date_1'].dt.year # new"
   ]
  },
  {
   "cell_type": "code",
   "execution_count": 12,
   "metadata": {},
   "outputs": [],
   "source": [
    "df['year'] = df['an']"
   ]
  },
  {
   "cell_type": "code",
   "execution_count": 13,
   "metadata": {},
   "outputs": [
    {
     "data": {
      "text/plain": [
       "Index([201900000001, 201900000001, 201900000001, 201900000002, 201900000003,\n",
       "       201900000003, 201900000003, 201900000003, 201900000004, 201900000004,\n",
       "       ...\n",
       "       201800057778, 201800057779, 201800057779, 201800057780, 201800057781,\n",
       "       201800057781, 201800057782, 201800057782, 201800057783, 201800057783],\n",
       "      dtype='int64', name='Num_Acc', length=2509598)"
      ]
     },
     "execution_count": 13,
     "metadata": {},
     "output_type": "execute_result"
    }
   ],
   "source": [
    "df.index"
   ]
  },
  {
   "cell_type": "code",
   "execution_count": 14,
   "metadata": {},
   "outputs": [
    {
     "data": {
      "image/png": "[encoded data removed]",
      "text/plain": [
       "<Figure size 1000x600 with 1 Axes>"
      ]
     },
     "metadata": {},
     "output_type": "display_data"
    }
   ],
   "source": [
    "# We need to aggregate the index first\n",
    "accidents_per_year = pd.DataFrame(df['year'].groupby(df.index).value_counts()).index.get_level_values(1).value_counts().sort_index()\n",
    "plt.figure(figsize=(10, 6))\n",
    "plt.bar(accidents_per_year.index, accidents_per_year.values)\n",
    "plt.xlabel('Year')\n",
    "plt.ylabel('Number of Accidents')\n",
    "plt.title('Number of Accidents per Year')\n",
    "plt.grid(True)\n",
    "plt.show()"
   ]
  },
  {
   "cell_type": "code",
   "execution_count": 15,
   "metadata": {},
   "outputs": [
    {
     "data": {
      "text/plain": [
       "year\n",
       "2005    87026\n",
       "2006    82993\n",
       "2007    83850\n",
       "2008    76767\n",
       "2009    74409\n",
       "2010    69379\n",
       "2011    66974\n",
       "2012    62250\n",
       "2013    58397\n",
       "2014    59854\n",
       "2015    58654\n",
       "2016    59432\n",
       "2017    60701\n",
       "2018    57783\n",
       "2019    58840\n",
       "2020    47744\n",
       "2021    56518\n",
       "Name: count, dtype: int64"
      ]
     },
     "execution_count": 15,
     "metadata": {},
     "output_type": "execute_result"
    }
   ],
   "source": [
    "accidents_per_year"
   ]
  },
  {
   "cell_type": "markdown",
   "metadata": {},
   "source": [
    "The next cell is a wrong aggregation, because the index is multiple and not unequivocal."
   ]
  },
  {
   "cell_type": "code",
   "execution_count": 16,
   "metadata": {},
   "outputs": [
    {
     "data": {
      "image/png": "[encoded data removed]",
      "text/plain": [
       "<Figure size 1000x600 with 1 Axes>"
      ]
     },
     "metadata": {},
     "output_type": "display_data"
    }
   ],
   "source": [
    "accidents_per_year = df['year'].value_counts().sort_index()\n",
    "plt.figure(figsize=(10, 6))\n",
    "plt.bar(accidents_per_year.index, accidents_per_year.values)\n",
    "plt.xlabel('Year')\n",
    "plt.ylabel('Number of Accidents')\n",
    "plt.title('Number of Accidents per Year')\n",
    "plt.grid(True)\n",
    "plt.show()"
   ]
  },
  {
   "cell_type": "code",
   "execution_count": 17,
   "metadata": {},
   "outputs": [
    {
     "data": {
      "text/plain": [
       "year\n",
       "2005    197496\n",
       "2006    187080\n",
       "2007    188446\n",
       "2008    170956\n",
       "2009    165962\n",
       "2010    154192\n",
       "2011    148543\n",
       "2012    138628\n",
       "2013    128694\n",
       "2014    132186\n",
       "2015    130378\n",
       "2016    133422\n",
       "2017    136021\n",
       "2018    130169\n",
       "2019    132977\n",
       "2020    105295\n",
       "2021    129153\n",
       "Name: count, dtype: int64"
      ]
     },
     "execution_count": 17,
     "metadata": {},
     "output_type": "execute_result"
    }
   ],
   "source": [
    "accidents_per_year"
   ]
  },
  {
   "cell_type": "code",
   "execution_count": 18,
   "metadata": {},
   "outputs": [
    {
     "ename": "KeyError",
     "evalue": "'date_1'",
     "output_type": "error",
     "traceback": [
      "\u001b[0;31m---------------------------------------------------------------------------\u001b[0m",
      "\u001b[0;31mKeyError\u001b[0m                                  Traceback (most recent call last)",
      "File \u001b[0;32m~/miniconda3/lib/python3.11/site-packages/pandas/core/indexes/base.py:3653\u001b[0m, in \u001b[0;36mIndex.get_loc\u001b[0;34m(self, key)\u001b[0m\n\u001b[1;32m   3652\u001b[0m \u001b[38;5;28;01mtry\u001b[39;00m:\n\u001b[0;32m-> 3653\u001b[0m     \u001b[38;5;28;01mreturn\u001b[39;00m \u001b[38;5;28;43mself\u001b[39;49m\u001b[38;5;241;43m.\u001b[39;49m\u001b[43m_engine\u001b[49m\u001b[38;5;241;43m.\u001b[39;49m\u001b[43mget_loc\u001b[49m\u001b[43m(\u001b[49m\u001b[43mcasted_key\u001b[49m\u001b[43m)\u001b[49m\n\u001b[1;32m   3654\u001b[0m \u001b[38;5;28;01mexcept\u001b[39;00m \u001b[38;5;167;01mKeyError\u001b[39;00m \u001b[38;5;28;01mas\u001b[39;00m err:\n",
      "File \u001b[0;32m~/miniconda3/lib/python3.11/site-packages/pandas/_libs/index.pyx:147\u001b[0m, in \u001b[0;36mpandas._libs.index.IndexEngine.get_loc\u001b[0;34m()\u001b[0m\n",
      "File \u001b[0;32m~/miniconda3/lib/python3.11/site-packages/pandas/_libs/index.pyx:176\u001b[0m, in \u001b[0;36mpandas._libs.index.IndexEngine.get_loc\u001b[0;34m()\u001b[0m\n",
      "File \u001b[0;32mpandas/_libs/hashtable_class_helper.pxi:7080\u001b[0m, in \u001b[0;36mpandas._libs.hashtable.PyObjectHashTable.get_item\u001b[0;34m()\u001b[0m\n",
      "File \u001b[0;32mpandas/_libs/hashtable_class_helper.pxi:7088\u001b[0m, in \u001b[0;36mpandas._libs.hashtable.PyObjectHashTable.get_item\u001b[0;34m()\u001b[0m\n",
      "\u001b[0;31mKeyError\u001b[0m: 'date_1'",
      "\nThe above exception was the direct cause of the following exception:\n",
      "\u001b[0;31mKeyError\u001b[0m                                  Traceback (most recent call last)",
      "Cell \u001b[0;32mIn[18], line 1\u001b[0m\n\u001b[0;32m----> 1\u001b[0m df[\u001b[38;5;124m'\u001b[39m\u001b[38;5;124myear\u001b[39m\u001b[38;5;124m'\u001b[39m] \u001b[38;5;241m=\u001b[39m \u001b[43mdf\u001b[49m\u001b[43m[\u001b[49m\u001b[38;5;124;43m'\u001b[39;49m\u001b[38;5;124;43mdate_1\u001b[39;49m\u001b[38;5;124;43m'\u001b[39;49m\u001b[43m]\u001b[49m\u001b[38;5;241m.\u001b[39mdt\u001b[38;5;241m.\u001b[39myear \u001b[38;5;66;03m# new\u001b[39;00m\n\u001b[1;32m      3\u001b[0m \u001b[38;5;66;03m# Group the data by year and count the occurrences\u001b[39;00m\n\u001b[1;32m      4\u001b[0m accidents_per_year \u001b[38;5;241m=\u001b[39m df[\u001b[38;5;124m'\u001b[39m\u001b[38;5;124myear\u001b[39m\u001b[38;5;124m'\u001b[39m]\u001b[38;5;241m.\u001b[39mvalue_counts()\u001b[38;5;241m.\u001b[39msort_index()\n",
      "File \u001b[0;32m~/miniconda3/lib/python3.11/site-packages/pandas/core/frame.py:3761\u001b[0m, in \u001b[0;36mDataFrame.__getitem__\u001b[0;34m(self, key)\u001b[0m\n\u001b[1;32m   3759\u001b[0m \u001b[38;5;28;01mif\u001b[39;00m \u001b[38;5;28mself\u001b[39m\u001b[38;5;241m.\u001b[39mcolumns\u001b[38;5;241m.\u001b[39mnlevels \u001b[38;5;241m>\u001b[39m \u001b[38;5;241m1\u001b[39m:\n\u001b[1;32m   3760\u001b[0m     \u001b[38;5;28;01mreturn\u001b[39;00m \u001b[38;5;28mself\u001b[39m\u001b[38;5;241m.\u001b[39m_getitem_multilevel(key)\n\u001b[0;32m-> 3761\u001b[0m indexer \u001b[38;5;241m=\u001b[39m \u001b[38;5;28;43mself\u001b[39;49m\u001b[38;5;241;43m.\u001b[39;49m\u001b[43mcolumns\u001b[49m\u001b[38;5;241;43m.\u001b[39;49m\u001b[43mget_loc\u001b[49m\u001b[43m(\u001b[49m\u001b[43mkey\u001b[49m\u001b[43m)\u001b[49m\n\u001b[1;32m   3762\u001b[0m \u001b[38;5;28;01mif\u001b[39;00m is_integer(indexer):\n\u001b[1;32m   3763\u001b[0m     indexer \u001b[38;5;241m=\u001b[39m [indexer]\n",
      "File \u001b[0;32m~/miniconda3/lib/python3.11/site-packages/pandas/core/indexes/base.py:3655\u001b[0m, in \u001b[0;36mIndex.get_loc\u001b[0;34m(self, key)\u001b[0m\n\u001b[1;32m   3653\u001b[0m     \u001b[38;5;28;01mreturn\u001b[39;00m \u001b[38;5;28mself\u001b[39m\u001b[38;5;241m.\u001b[39m_engine\u001b[38;5;241m.\u001b[39mget_loc(casted_key)\n\u001b[1;32m   3654\u001b[0m \u001b[38;5;28;01mexcept\u001b[39;00m \u001b[38;5;167;01mKeyError\u001b[39;00m \u001b[38;5;28;01mas\u001b[39;00m err:\n\u001b[0;32m-> 3655\u001b[0m     \u001b[38;5;28;01mraise\u001b[39;00m \u001b[38;5;167;01mKeyError\u001b[39;00m(key) \u001b[38;5;28;01mfrom\u001b[39;00m \u001b[38;5;21;01merr\u001b[39;00m\n\u001b[1;32m   3656\u001b[0m \u001b[38;5;28;01mexcept\u001b[39;00m \u001b[38;5;167;01mTypeError\u001b[39;00m:\n\u001b[1;32m   3657\u001b[0m     \u001b[38;5;66;03m# If we have a listlike key, _check_indexing_error will raise\u001b[39;00m\n\u001b[1;32m   3658\u001b[0m     \u001b[38;5;66;03m#  InvalidIndexError. Otherwise we fall through and re-raise\u001b[39;00m\n\u001b[1;32m   3659\u001b[0m     \u001b[38;5;66;03m#  the TypeError.\u001b[39;00m\n\u001b[1;32m   3660\u001b[0m     \u001b[38;5;28mself\u001b[39m\u001b[38;5;241m.\u001b[39m_check_indexing_error(key)\n",
      "\u001b[0;31mKeyError\u001b[0m: 'date_1'"
     ]
    }
   ],
   "source": [
    "df['year'] = df['date_1'].dt.year # new\n",
    "\n",
    "# Group the data by year and count the occurrences\n",
    "accidents_per_year = df['year'].value_counts().sort_index()\n",
    "\n",
    "# Plot the number of accidents per year\n",
    "plt.figure(figsize=(10, 6))\n",
    "plt.bar(accidents_per_year.index, accidents_per_year.values)\n",
    "plt.xlabel('Year')\n",
    "plt.ylabel('Number of Accidents')\n",
    "plt.title('Number of Accidents per Year')\n",
    "plt.grid(True)\n",
    "plt.show()"
   ]
  },
  {
   "cell_type": "code",
   "execution_count": null,
   "metadata": {},
   "outputs": [],
   "source": [
    "accidents_per_year\n",
    "# this is strange for 2019,2020 and 2021\n"
   ]
  },
  {
   "cell_type": "code",
   "execution_count": null,
   "metadata": {},
   "outputs": [],
   "source": []
  },
  {
   "cell_type": "code",
   "execution_count": null,
   "metadata": {},
   "outputs": [],
   "source": [
    "fatal_counts = df[df['fatal'] == 1]['year'].value_counts().sort_index()\n",
    "\n",
    "# Group the data by year and count the occurrences for non-fatal accidents\n",
    "non_fatal_counts = df[df['fatal'] == 0]['year'].value_counts().sort_index()\n",
    "\n",
    "# Create subplots for fatal and non-fatal accidents\n",
    "fig, (ax1, ax2) = plt.subplots(2, 1, figsize=(10, 8))\n",
    "\n",
    "# Plot the number of fatal accidents per year\n",
    "ax1.bar(fatal_counts.index, fatal_counts.values)\n",
    "ax1.set_xlabel('Year')\n",
    "ax1.set_ylabel('Number of Fatal Accidents')\n",
    "ax1.set_title('Number of Fatal Accidents per Year')\n",
    "\n",
    "# Plot the number of non-fatal accidents per year\n",
    "ax2.bar(non_fatal_counts.index, non_fatal_counts.values)\n",
    "ax2.set_xlabel('Year')\n",
    "ax2.set_ylabel('Number of Non-Fatal Accidents')\n",
    "ax2.set_title('Number of Non-Fatal Accidents per Year')\n",
    "\n",
    "# Adjust the spacing between subplots\n",
    "plt.tight_layout()\n",
    "\n",
    "# Show the plots\n",
    "plt.show()\n",
    "\n"
   ]
  },
  {
   "cell_type": "code",
   "execution_count": null,
   "metadata": {},
   "outputs": [],
   "source": [
    "fatal_counts = df[df['fatal'] == 1]['year'].value_counts().sort_index()\n",
    "\n",
    "# Plot the time series of fatal accidents per year\n",
    "plt.figure(figsize=(10, 6))\n",
    "plt.plot(fatal_counts.index, fatal_counts.values, marker='o')\n",
    "plt.xlabel('Year')\n",
    "plt.ylabel('Number of Fatal Accidents')\n",
    "plt.title('Time Series of Fatal Accidents per Year')\n",
    "plt.grid(True)\n",
    "plt.show()"
   ]
  },
  {
   "cell_type": "code",
   "execution_count": null,
   "metadata": {},
   "outputs": [],
   "source": [
    "fatal_counts = df[df['fatal'] == 0]['year'].value_counts().sort_index()\n",
    "\n",
    "# Plot the time series of fatal accidents per year\n",
    "plt.figure(figsize=(10, 6))\n",
    "plt.plot(fatal_counts.index, fatal_counts.values, marker='o')\n",
    "plt.xlabel('Year')\n",
    "plt.ylabel('Number of non Fatal Accidents')\n",
    "plt.title('Time Series of non Fatal Accidents per Year')\n",
    "plt.grid(True)\n",
    "plt.show()"
   ]
  },
  {
   "cell_type": "code",
   "execution_count": null,
   "metadata": {},
   "outputs": [],
   "source": [
    "#time series of fatal accidents\n",
    "\n",
    "fatal_counts = df[df['fatal'] == 1]['date_1'].value_counts().sort_index()\n",
    "\n",
    "# Plot the time series\n",
    "plt.figure(figsize=(10, 6))\n",
    "plt.plot(fatal_counts.index, fatal_counts.values, marker='o')\n",
    "plt.xlabel('Datetime')\n",
    "plt.ylabel('Number of Fatal Accidents')\n",
    "plt.title('Time Series of Fatal Accidents')\n",
    "plt.grid(True)\n",
    "plt.show()"
   ]
  },
  {
   "cell_type": "code",
   "execution_count": null,
   "metadata": {},
   "outputs": [],
   "source": [
    "#time series of non fatal accidents\n",
    "fatal_counts = df[df['fatal'] == 0]['date_1'].value_counts().sort_index()\n",
    "\n",
    "# Plot the time series\n",
    "plt.figure(figsize=(10, 6))\n",
    "plt.plot(fatal_counts.index, fatal_counts.values, marker='o')\n",
    "plt.xlabel('Datetime')\n",
    "plt.ylabel('Number of non Fatal Accidents')\n",
    "plt.title('Time Series of non Fatal Accidents')\n",
    "plt.grid(True)\n",
    "plt.show()\n",
    "\n"
   ]
  },
  {
   "cell_type": "code",
   "execution_count": null,
   "metadata": {},
   "outputs": [],
   "source": [
    "#Filter the DataFrame for fatal accidents\n",
    "non_fatal_counts = df[df['fatal'] == 1]['date_1'].value_counts().sort_index()\n",
    "\n",
    "# Calculate the moving average with a window size =  12 months\n",
    "moving_average = non_fatal_counts.rolling(window=12).mean()\n",
    "\n",
    "# Plot the time series and the moving average\n",
    "plt.figure(figsize=(10, 6))\n",
    "plt.plot(non_fatal_counts.index, non_fatal_counts.values, marker='o', label='Non-Fatal Accidents')\n",
    "plt.plot(moving_average.index, moving_average.values, label='Moving Average (12 months)')\n",
    "plt.xlabel('Datetime')\n",
    "plt.ylabel('Number of Fatal Accidents')\n",
    "plt.title('Time Series of Fatal Accidents with Moving Average')\n",
    "plt.grid(True)\n",
    "plt.legend()\n",
    "plt.show()"
   ]
  },
  {
   "cell_type": "code",
   "execution_count": null,
   "metadata": {},
   "outputs": [],
   "source": [
    "#Filter the DataFrame for non-fatal accidents\n",
    "non_fatal_counts = df[df['fatal'] == 0]['date_1'].value_counts().sort_index()\n",
    "\n",
    "# Calculate the moving average with a window size of your choice (e.g., 12 months)\n",
    "moving_average = non_fatal_counts.rolling(window=12).mean()\n",
    "\n",
    "# Plot the time series and the moving average\n",
    "plt.figure(figsize=(10, 6))\n",
    "plt.plot(non_fatal_counts.index, non_fatal_counts.values, marker='o', label='Non-Fatal Accidents')\n",
    "plt.plot(moving_average.index, moving_average.values, label='Moving Average (12 months)')\n",
    "plt.xlabel('Datetime')\n",
    "plt.ylabel('Number of Non-Fatal Accidents')\n",
    "plt.title('Time Series of Non-Fatal Accidents with Moving Average')\n",
    "plt.grid(True)\n",
    "plt.legend()\n",
    "plt.show()\n",
    "# strange increase"
   ]
  }
 ],
 "metadata": {
  "kernelspec": {
   "display_name": "Python 3 (ipykernel)",
   "language": "python",
   "name": "python3"
  },
  "language_info": {
   "codemirror_mode": {
    "name": "ipython",
    "version": 3
   },
   "file_extension": ".py",
   "mimetype": "text/x-python",
   "name": "python",
   "nbconvert_exporter": "python",
   "pygments_lexer": "ipython3",
   "version": "3.11.4"
  }
 },
 "nbformat": 4,
 "nbformat_minor": 4
}
