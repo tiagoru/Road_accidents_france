{
 "cells": [
  {
   "cell_type": "markdown",
   "id": "712d9d1c-1eeb-447d-bcfa-f5c3198b7713",
   "metadata": {},
   "source": [
    "# Modelling of France Accidents\n",
    "\n",
    "**Cohort:** mar23_accidents\n",
    "\n",
    "**Author:** Johanna Starkl\n",
    "\n",
    "**Date:** 29 October 2023\n",
    "\n",
    "### Decision Tree with target variable severe\n",
    "\n"
   ]
  },
  {
   "cell_type": "markdown",
   "id": "6b6df835-aa14-4775-90df-de5512f881c4",
   "metadata": {},
   "source": [
    "## Loading of required libraries"
   ]
  },
  {
   "cell_type": "code",
   "execution_count": 31,
   "id": "22cfc8cd-2dd7-45e2-bd75-df68ef38c5a3",
   "metadata": {},
   "outputs": [
    {
     "ename": "ImportError",
     "evalue": "cannot import name 'pca' from 'sklearn.decomposition' (/Users/johannastarkl/anaconda3/lib/python3.11/site-packages/sklearn/decomposition/__init__.py)",
     "output_type": "error",
     "traceback": [
      "\u001b[0;31m---------------------------------------------------------------------------\u001b[0m",
      "\u001b[0;31mImportError\u001b[0m                               Traceback (most recent call last)",
      "Cell \u001b[0;32mIn[31], line 15\u001b[0m\n\u001b[1;32m     13\u001b[0m \u001b[38;5;28;01mfrom\u001b[39;00m \u001b[38;5;21;01msklearn\u001b[39;00m\u001b[38;5;21;01m.\u001b[39;00m\u001b[38;5;21;01mmetrics\u001b[39;00m \u001b[38;5;28;01mimport\u001b[39;00m precision_score, recall_score, f1_score, roc_auc_score, accuracy_score, classification_report\n\u001b[1;32m     14\u001b[0m \u001b[38;5;28;01mfrom\u001b[39;00m \u001b[38;5;21;01msklearn\u001b[39;00m\u001b[38;5;21;01m.\u001b[39;00m\u001b[38;5;21;01mmodel_selection\u001b[39;00m \u001b[38;5;28;01mimport\u001b[39;00m GridSearchCV\n\u001b[0;32m---> 15\u001b[0m \u001b[38;5;28;01mfrom\u001b[39;00m \u001b[38;5;21;01msklearn\u001b[39;00m\u001b[38;5;21;01m.\u001b[39;00m\u001b[38;5;21;01mdecomposition\u001b[39;00m \u001b[38;5;28;01mimport\u001b[39;00m PCA, pca\n",
      "\u001b[0;31mImportError\u001b[0m: cannot import name 'pca' from 'sklearn.decomposition' (/Users/johannastarkl/anaconda3/lib/python3.11/site-packages/sklearn/decomposition/__init__.py)"
     ]
    }
   ],
   "source": [
    "import pandas as pd\n",
    "import numpy as np\n",
    "import seaborn as sns\n",
    "import matplotlib.pyplot as plt\n",
    "import sklearn.metrics as metrics\n",
    "from sklearn.preprocessing import LabelEncoder, MinMaxScaler, StandardScaler\n",
    "from sklearn.metrics import mean_absolute_error\n",
    "from sklearn.metrics import classification_report\n",
    "from sklearn.model_selection import KFold, cross_val_score\n",
    "from sklearn.model_selection import train_test_split\n",
    "from sklearn.preprocessing import StandardScaler\n",
    "from sklearn.tree import DecisionTreeClassifier\n",
    "from sklearn.metrics import precision_score, recall_score, f1_score, roc_auc_score, accuracy_score, classification_report\n",
    "from sklearn.model_selection import GridSearchCV\n",
    "from sklearn.decomposition import PCA\n",
    "\n"
   ]
  },
  {
   "cell_type": "markdown",
   "id": "7d12d86a-94ac-4349-b68f-2b8a40e21ebe",
   "metadata": {},
   "source": [
    "## Importing the data"
   ]
  },
  {
   "cell_type": "code",
   "execution_count": 2,
   "id": "3aaa9044-2e16-4821-a259-0e2b8fd2b259",
   "metadata": {},
   "outputs": [],
   "source": [
    "df = pd.read_csv('./data/231030_clean_table_for_analysis.csv', low_memory = False, index_col = 0)"
   ]
  },
  {
   "cell_type": "markdown",
   "id": "2552176c-9a85-4ead-ad23-1edfb5c1d448",
   "metadata": {},
   "source": [
    "## Data description\n",
    "### Data"
   ]
  },
  {
   "cell_type": "code",
   "execution_count": 3,
   "id": "9e361f45-f63c-48a3-bc60-777a1d287f7a",
   "metadata": {},
   "outputs": [
    {
     "data": {
      "text/html": [
       "<div>\n",
       "<style scoped>\n",
       "    .dataframe tbody tr th:only-of-type {\n",
       "        vertical-align: middle;\n",
       "    }\n",
       "\n",
       "    .dataframe tbody tr th {\n",
       "        vertical-align: top;\n",
       "    }\n",
       "\n",
       "    .dataframe thead th {\n",
       "        text-align: right;\n",
       "    }\n",
       "</style>\n",
       "<table border=\"1\" class=\"dataframe\">\n",
       "  <thead>\n",
       "    <tr style=\"text-align: right;\">\n",
       "      <th></th>\n",
       "      <th>place</th>\n",
       "      <th>catu</th>\n",
       "      <th>grav</th>\n",
       "      <th>sexe</th>\n",
       "      <th>an_nais</th>\n",
       "      <th>trajet</th>\n",
       "      <th>locp</th>\n",
       "      <th>an</th>\n",
       "      <th>mois</th>\n",
       "      <th>jour</th>\n",
       "      <th>...</th>\n",
       "      <th>manv</th>\n",
       "      <th>date</th>\n",
       "      <th>is_holiday</th>\n",
       "      <th>holiday</th>\n",
       "      <th>datetime</th>\n",
       "      <th>actp</th>\n",
       "      <th>num_veh</th>\n",
       "      <th>etatp</th>\n",
       "      <th>day_of_week</th>\n",
       "      <th>hour_of_day</th>\n",
       "    </tr>\n",
       "    <tr>\n",
       "      <th>Num_Acc</th>\n",
       "      <th></th>\n",
       "      <th></th>\n",
       "      <th></th>\n",
       "      <th></th>\n",
       "      <th></th>\n",
       "      <th></th>\n",
       "      <th></th>\n",
       "      <th></th>\n",
       "      <th></th>\n",
       "      <th></th>\n",
       "      <th></th>\n",
       "      <th></th>\n",
       "      <th></th>\n",
       "      <th></th>\n",
       "      <th></th>\n",
       "      <th></th>\n",
       "      <th></th>\n",
       "      <th></th>\n",
       "      <th></th>\n",
       "      <th></th>\n",
       "      <th></th>\n",
       "    </tr>\n",
       "  </thead>\n",
       "  <tbody>\n",
       "    <tr>\n",
       "      <th>201900000001</th>\n",
       "      <td>2.0</td>\n",
       "      <td>2</td>\n",
       "      <td>4</td>\n",
       "      <td>2</td>\n",
       "      <td>2002</td>\n",
       "      <td>0.0</td>\n",
       "      <td>-1.0</td>\n",
       "      <td>2019</td>\n",
       "      <td>11</td>\n",
       "      <td>30</td>\n",
       "      <td>...</td>\n",
       "      <td>23.0</td>\n",
       "      <td>2019-11-30</td>\n",
       "      <td>False</td>\n",
       "      <td>NaN</td>\n",
       "      <td>2019-11-30 01:30:00</td>\n",
       "      <td>0</td>\n",
       "      <td>14</td>\n",
       "      <td>0</td>\n",
       "      <td>5</td>\n",
       "      <td>1</td>\n",
       "    </tr>\n",
       "    <tr>\n",
       "      <th>201900000001</th>\n",
       "      <td>1.0</td>\n",
       "      <td>1</td>\n",
       "      <td>4</td>\n",
       "      <td>2</td>\n",
       "      <td>1993</td>\n",
       "      <td>5.0</td>\n",
       "      <td>-1.0</td>\n",
       "      <td>2019</td>\n",
       "      <td>11</td>\n",
       "      <td>30</td>\n",
       "      <td>...</td>\n",
       "      <td>23.0</td>\n",
       "      <td>2019-11-30</td>\n",
       "      <td>False</td>\n",
       "      <td>NaN</td>\n",
       "      <td>2019-11-30 01:30:00</td>\n",
       "      <td>0</td>\n",
       "      <td>14</td>\n",
       "      <td>0</td>\n",
       "      <td>5</td>\n",
       "      <td>1</td>\n",
       "    </tr>\n",
       "    <tr>\n",
       "      <th>201900000001</th>\n",
       "      <td>1.0</td>\n",
       "      <td>1</td>\n",
       "      <td>1</td>\n",
       "      <td>1</td>\n",
       "      <td>1959</td>\n",
       "      <td>0.0</td>\n",
       "      <td>-1.0</td>\n",
       "      <td>2019</td>\n",
       "      <td>11</td>\n",
       "      <td>30</td>\n",
       "      <td>...</td>\n",
       "      <td>11.0</td>\n",
       "      <td>2019-11-30</td>\n",
       "      <td>False</td>\n",
       "      <td>NaN</td>\n",
       "      <td>2019-11-30 01:30:00</td>\n",
       "      <td>0</td>\n",
       "      <td>0</td>\n",
       "      <td>0</td>\n",
       "      <td>5</td>\n",
       "      <td>1</td>\n",
       "    </tr>\n",
       "    <tr>\n",
       "      <th>201900000002</th>\n",
       "      <td>1.0</td>\n",
       "      <td>1</td>\n",
       "      <td>4</td>\n",
       "      <td>2</td>\n",
       "      <td>1994</td>\n",
       "      <td>0.0</td>\n",
       "      <td>-1.0</td>\n",
       "      <td>2019</td>\n",
       "      <td>11</td>\n",
       "      <td>30</td>\n",
       "      <td>...</td>\n",
       "      <td>0.0</td>\n",
       "      <td>2019-11-30</td>\n",
       "      <td>False</td>\n",
       "      <td>NaN</td>\n",
       "      <td>2019-11-30 02:50:00</td>\n",
       "      <td>0</td>\n",
       "      <td>0</td>\n",
       "      <td>0</td>\n",
       "      <td>5</td>\n",
       "      <td>2</td>\n",
       "    </tr>\n",
       "    <tr>\n",
       "      <th>201900000003</th>\n",
       "      <td>1.0</td>\n",
       "      <td>1</td>\n",
       "      <td>1</td>\n",
       "      <td>1</td>\n",
       "      <td>1996</td>\n",
       "      <td>0.0</td>\n",
       "      <td>-1.0</td>\n",
       "      <td>2019</td>\n",
       "      <td>11</td>\n",
       "      <td>28</td>\n",
       "      <td>...</td>\n",
       "      <td>2.0</td>\n",
       "      <td>2019-11-28</td>\n",
       "      <td>False</td>\n",
       "      <td>NaN</td>\n",
       "      <td>2019-11-28 15:15:00</td>\n",
       "      <td>1</td>\n",
       "      <td>0</td>\n",
       "      <td>0</td>\n",
       "      <td>3</td>\n",
       "      <td>15</td>\n",
       "    </tr>\n",
       "  </tbody>\n",
       "</table>\n",
       "<p>5 rows × 42 columns</p>\n",
       "</div>"
      ],
      "text/plain": [
       "              place  catu  grav  sexe  an_nais  trajet  locp    an  mois  \\\n",
       "Num_Acc                                                                    \n",
       "201900000001    2.0     2     4     2     2002     0.0  -1.0  2019    11   \n",
       "201900000001    1.0     1     4     2     1993     5.0  -1.0  2019    11   \n",
       "201900000001    1.0     1     1     1     1959     0.0  -1.0  2019    11   \n",
       "201900000002    1.0     1     4     2     1994     0.0  -1.0  2019    11   \n",
       "201900000003    1.0     1     1     1     1996     0.0  -1.0  2019    11   \n",
       "\n",
       "              jour  ...  manv        date  is_holiday  holiday  \\\n",
       "Num_Acc             ...                                          \n",
       "201900000001    30  ...  23.0  2019-11-30       False      NaN   \n",
       "201900000001    30  ...  23.0  2019-11-30       False      NaN   \n",
       "201900000001    30  ...  11.0  2019-11-30       False      NaN   \n",
       "201900000002    30  ...   0.0  2019-11-30       False      NaN   \n",
       "201900000003    28  ...   2.0  2019-11-28       False      NaN   \n",
       "\n",
       "                         datetime  actp  num_veh  etatp  day_of_week  \\\n",
       "Num_Acc                                                                \n",
       "201900000001  2019-11-30 01:30:00     0       14      0            5   \n",
       "201900000001  2019-11-30 01:30:00     0       14      0            5   \n",
       "201900000001  2019-11-30 01:30:00     0        0      0            5   \n",
       "201900000002  2019-11-30 02:50:00     0        0      0            5   \n",
       "201900000003  2019-11-28 15:15:00     1        0      0            3   \n",
       "\n",
       "              hour_of_day  \n",
       "Num_Acc                    \n",
       "201900000001            1  \n",
       "201900000001            1  \n",
       "201900000001            1  \n",
       "201900000002            2  \n",
       "201900000003           15  \n",
       "\n",
       "[5 rows x 42 columns]"
      ]
     },
     "execution_count": 3,
     "metadata": {},
     "output_type": "execute_result"
    }
   ],
   "source": [
    "df.head()"
   ]
  },
  {
   "cell_type": "markdown",
   "id": "c3fbf44b-f1ca-4d02-9b27-78827b41985d",
   "metadata": {},
   "source": [
    "### Data types"
   ]
  },
  {
   "cell_type": "code",
   "execution_count": 4,
   "id": "19bb68a0-55d1-461b-87e2-72833557b4fd",
   "metadata": {},
   "outputs": [
    {
     "name": "stdout",
     "output_type": "stream",
     "text": [
      "<class 'pandas.core.frame.DataFrame'>\n",
      "Index: 2421684 entries, 201900000001 to 201800055766\n",
      "Data columns (total 42 columns):\n",
      " #   Column       Dtype  \n",
      "---  ------       -----  \n",
      " 0   place        float64\n",
      " 1   catu         int64  \n",
      " 2   grav         int64  \n",
      " 3   sexe         int64  \n",
      " 4   an_nais      int64  \n",
      " 5   trajet       float64\n",
      " 6   locp         float64\n",
      " 7   an           int64  \n",
      " 8   mois         int64  \n",
      " 9   jour         int64  \n",
      " 10  hrmn         object \n",
      " 11  lum          int64  \n",
      " 12  agg          int64  \n",
      " 13  int          int64  \n",
      " 14  atm          float64\n",
      " 15  col          float64\n",
      " 16  dep          int64  \n",
      " 17  catr         float64\n",
      " 18  circ         float64\n",
      " 19  nbv          float64\n",
      " 20  vosp         float64\n",
      " 21  prof         float64\n",
      " 22  plan         float64\n",
      " 23  surf         float64\n",
      " 24  infra        float64\n",
      " 25  situ         float64\n",
      " 26  senc         float64\n",
      " 27  catv         int64  \n",
      " 28  occutc       float64\n",
      " 29  obs          float64\n",
      " 30  obsm         float64\n",
      " 31  choc         float64\n",
      " 32  manv         float64\n",
      " 33  date         object \n",
      " 34  is_holiday   bool   \n",
      " 35  holiday      object \n",
      " 36  datetime     object \n",
      " 37  actp         int64  \n",
      " 38  num_veh      int64  \n",
      " 39  etatp        int64  \n",
      " 40  day_of_week  int64  \n",
      " 41  hour_of_day  int64  \n",
      "dtypes: bool(1), float64(20), int64(17), object(4)\n",
      "memory usage: 778.3+ MB\n"
     ]
    }
   ],
   "source": [
    "df.info()"
   ]
  },
  {
   "cell_type": "markdown",
   "id": "d258ad30-b0f4-4b86-9322-808ff955593e",
   "metadata": {},
   "source": [
    "### Missing data"
   ]
  },
  {
   "cell_type": "code",
   "execution_count": 5,
   "id": "24315f42-0b75-439c-92a1-ed41d3b2c33a",
   "metadata": {},
   "outputs": [
    {
     "data": {
      "text/plain": [
       "place                0\n",
       "catu                 0\n",
       "grav                 0\n",
       "sexe                 0\n",
       "an_nais              0\n",
       "trajet               0\n",
       "locp                 0\n",
       "an                   0\n",
       "mois                 0\n",
       "jour                 0\n",
       "hrmn                 0\n",
       "lum                  0\n",
       "agg                  0\n",
       "int                  0\n",
       "atm                  0\n",
       "col                  0\n",
       "dep                  0\n",
       "catr                 0\n",
       "circ                 0\n",
       "nbv                  0\n",
       "vosp                 0\n",
       "prof                 0\n",
       "plan                 0\n",
       "surf                 0\n",
       "infra                0\n",
       "situ                 0\n",
       "senc                 0\n",
       "catv                 0\n",
       "occutc               0\n",
       "obs                  0\n",
       "obsm                 0\n",
       "choc                 0\n",
       "manv                 0\n",
       "date                 0\n",
       "is_holiday           0\n",
       "holiday        2367768\n",
       "datetime             0\n",
       "actp                 0\n",
       "num_veh              0\n",
       "etatp                0\n",
       "day_of_week          0\n",
       "hour_of_day          0\n",
       "dtype: int64"
      ]
     },
     "execution_count": 5,
     "metadata": {},
     "output_type": "execute_result"
    }
   ],
   "source": [
    "df.isna().sum()"
   ]
  },
  {
   "cell_type": "markdown",
   "id": "2f54ae8d-7ed1-413e-81cf-04079aa3cec0",
   "metadata": {},
   "source": [
    "This data has no missing values, accept the `holiday` variable which contains the name of the holiday or NaN."
   ]
  },
  {
   "cell_type": "markdown",
   "id": "33446340",
   "metadata": {},
   "source": [
    "### Drop variables\n",
    "The dataset contains still some variables that represent information represented by other variables or are a finer granulation. The latter might be added later, if the primary variable is relevant.\n",
    "\n",
    "- `holiday`: classifies the holiday, but will be used only, if `is_holiday` is relevant\n",
    "- `datetime`: was required to create other datetime variables\n",
    "- `hrmn`: was required to create time related variables"
   ]
  },
  {
   "cell_type": "code",
   "execution_count": 6,
   "id": "967aff4c-b3a7-4ea6-8e48-80a148b62871",
   "metadata": {},
   "outputs": [],
   "source": [
    "columns_drop = ['holiday', 'hrmn', 'datetime']\n",
    "\n",
    "df.drop(columns = columns_drop, inplace = True)"
   ]
  },
  {
   "cell_type": "code",
   "execution_count": 7,
   "id": "d50abfde-c053-45b5-a270-ae9adc390856",
   "metadata": {},
   "outputs": [
    {
     "name": "stdout",
     "output_type": "stream",
     "text": [
      "<class 'pandas.core.frame.DataFrame'>\n",
      "Index: 2421684 entries, 201900000001 to 201800055766\n",
      "Data columns (total 39 columns):\n",
      " #   Column       Dtype  \n",
      "---  ------       -----  \n",
      " 0   place        float64\n",
      " 1   catu         int64  \n",
      " 2   grav         int64  \n",
      " 3   sexe         int64  \n",
      " 4   an_nais      int64  \n",
      " 5   trajet       float64\n",
      " 6   locp         float64\n",
      " 7   an           int64  \n",
      " 8   mois         int64  \n",
      " 9   jour         int64  \n",
      " 10  lum          int64  \n",
      " 11  agg          int64  \n",
      " 12  int          int64  \n",
      " 13  atm          float64\n",
      " 14  col          float64\n",
      " 15  dep          int64  \n",
      " 16  catr         float64\n",
      " 17  circ         float64\n",
      " 18  nbv          float64\n",
      " 19  vosp         float64\n",
      " 20  prof         float64\n",
      " 21  plan         float64\n",
      " 22  surf         float64\n",
      " 23  infra        float64\n",
      " 24  situ         float64\n",
      " 25  senc         float64\n",
      " 26  catv         int64  \n",
      " 27  occutc       float64\n",
      " 28  obs          float64\n",
      " 29  obsm         float64\n",
      " 30  choc         float64\n",
      " 31  manv         float64\n",
      " 32  date         object \n",
      " 33  is_holiday   bool   \n",
      " 34  actp         int64  \n",
      " 35  num_veh      int64  \n",
      " 36  etatp        int64  \n",
      " 37  day_of_week  int64  \n",
      " 38  hour_of_day  int64  \n",
      "dtypes: bool(1), float64(20), int64(17), object(1)\n",
      "memory usage: 722.9+ MB\n"
     ]
    }
   ],
   "source": [
    "df.info()"
   ]
  },
  {
   "cell_type": "markdown",
   "id": "b4af2998",
   "metadata": {},
   "source": [
    "## Data preparation\n",
    "### Encode or drop date variables\n",
    "The date and time variables are maybe important as grouping variables or as contrains for time dependent severity of accidents.\n",
    "\n",
    "_Problem_:\n",
    "\n",
    "Due to the export to `csv`, the `datatime` data time is lost and thus, it is required to assign it again.\n",
    "\n",
    "**Steps:**\n",
    "1. Fix `date` variable and transform to `integer`."
   ]
  },
  {
   "cell_type": "code",
   "execution_count": 8,
   "id": "2e2ce0e6-281d-4d3e-86e7-b8b7f7b768f4",
   "metadata": {},
   "outputs": [],
   "source": [
    "df = df.assign(date = pd.to_datetime(df['date']))\n",
    "df['date'] = df.apply(lambda x: int(x['date'].timestamp()), axis = 1)"
   ]
  },
  {
   "cell_type": "code",
   "execution_count": 9,
   "id": "2ab4df31-4a36-442f-a1d7-ed33b603dc96",
   "metadata": {},
   "outputs": [
    {
     "name": "stdout",
     "output_type": "stream",
     "text": [
      "<class 'pandas.core.frame.DataFrame'>\n",
      "Index: 2421684 entries, 201900000001 to 201800055766\n",
      "Data columns (total 39 columns):\n",
      " #   Column       Dtype  \n",
      "---  ------       -----  \n",
      " 0   place        float64\n",
      " 1   catu         int64  \n",
      " 2   grav         int64  \n",
      " 3   sexe         int64  \n",
      " 4   an_nais      int64  \n",
      " 5   trajet       float64\n",
      " 6   locp         float64\n",
      " 7   an           int64  \n",
      " 8   mois         int64  \n",
      " 9   jour         int64  \n",
      " 10  lum          int64  \n",
      " 11  agg          int64  \n",
      " 12  int          int64  \n",
      " 13  atm          float64\n",
      " 14  col          float64\n",
      " 15  dep          int64  \n",
      " 16  catr         float64\n",
      " 17  circ         float64\n",
      " 18  nbv          float64\n",
      " 19  vosp         float64\n",
      " 20  prof         float64\n",
      " 21  plan         float64\n",
      " 22  surf         float64\n",
      " 23  infra        float64\n",
      " 24  situ         float64\n",
      " 25  senc         float64\n",
      " 26  catv         int64  \n",
      " 27  occutc       float64\n",
      " 28  obs          float64\n",
      " 29  obsm         float64\n",
      " 30  choc         float64\n",
      " 31  manv         float64\n",
      " 32  date         int64  \n",
      " 33  is_holiday   bool   \n",
      " 34  actp         int64  \n",
      " 35  num_veh      int64  \n",
      " 36  etatp        int64  \n",
      " 37  day_of_week  int64  \n",
      " 38  hour_of_day  int64  \n",
      "dtypes: bool(1), float64(20), int64(18)\n",
      "memory usage: 722.9 MB\n"
     ]
    }
   ],
   "source": [
    "df.info()"
   ]
  },
  {
   "cell_type": "markdown",
   "id": "2ccae598",
   "metadata": {},
   "source": [
    "The correlation matrix shows some intervariable correlations, but no real importance of variables to predict the target `fatal`. "
   ]
  },
  {
   "cell_type": "markdown",
   "id": "370fbf79-9a9a-40f3-844d-ebeb2bcb391d",
   "metadata": {},
   "source": [
    "#### Aggregation and encoding of the target variable\n",
    "In the previous notebook, we used the `grav` variable as is without any further processing. The modelling result was not satisfying. Therefore, it was decided to aggregate the four classes into two classes \"severe\" and \"non-severe\" encoded in `[1,0]`."
   ]
  },
  {
   "cell_type": "code",
   "execution_count": 10,
   "id": "972d0876-3174-4436-934d-67ee90d0ecce",
   "metadata": {},
   "outputs": [],
   "source": [
    "# Encoding\n",
    "df['severe'] = np.where(df['grav'].isin([1, 2]), 0, 1)"
   ]
  },
  {
   "cell_type": "code",
   "execution_count": 11,
   "id": "75398e99-75d5-4188-b8e8-e2c7a28830a8",
   "metadata": {},
   "outputs": [
    {
     "data": {
      "text/plain": [
       "array([1, 0])"
      ]
     },
     "execution_count": 11,
     "metadata": {},
     "output_type": "execute_result"
    }
   ],
   "source": [
    "df.severe.unique()"
   ]
  },
  {
   "cell_type": "markdown",
   "id": "eb6e8e7f-5fd1-4759-ba8f-49d0151662fd",
   "metadata": {},
   "source": [
    "The following visualisation shows the balance between the two classes. The dataset is much more balanced now compared to the four classes `grav`."
   ]
  },
  {
   "cell_type": "code",
   "execution_count": 12,
   "id": "a7474412-4426-428f-99f9-d7487ad299d7",
   "metadata": {},
   "outputs": [
    {
     "data": {
      "image/png": "[encoded data removed]",
      "text/plain": [
       "<Figure size 640x480 with 1 Axes>"
      ]
     },
     "metadata": {},
     "output_type": "display_data"
    }
   ],
   "source": [
    "# checking the variables graphically and their distribution\n",
    "\n",
    "# exploring severe cases in % \n",
    "event_counts = df['severe'].value_counts()\n",
    "event_percentages = (event_counts / event_counts.sum()) * 100\n",
    "plt.subplot(2,1,1)\n",
    "event_percentages.plot.bar()\n",
    "labels = ['severe','non-severe']\n",
    "# Add labels and title to the plot\n",
    "plt.xticks(range(len(event_counts)), labels)\n",
    "plt.xlabel('Events')\n",
    "plt.ylabel('Count %')\n",
    "plt.title('Severity France')\n",
    "# Display the plot\n",
    "plt.show()"
   ]
  },
  {
   "cell_type": "markdown",
   "id": "c3c00b5d",
   "metadata": {},
   "source": [
    "## Data analysis\n",
    "### Correlation matrix\n",
    "To get a first glimpse on the possible contrains in the data, a correlation matrix is plotted."
   ]
  },
  {
   "cell_type": "code",
   "execution_count": 13,
   "id": "50455667",
   "metadata": {},
   "outputs": [],
   "source": [
    "# Sort columns\n",
    "columns = df.columns.sort_values()\n",
    "df = df[columns]"
   ]
  },
  {
   "cell_type": "code",
   "execution_count": 14,
   "id": "a0359d9b",
   "metadata": {},
   "outputs": [],
   "source": [
    "# Scale the data\n",
    "scaler = MinMaxScaler()\n",
    "df_numeric_scaled = pd.DataFrame(scaler.fit_transform(df), columns=df.columns)"
   ]
  },
  {
   "cell_type": "code",
   "execution_count": 15,
   "id": "b56a919e",
   "metadata": {},
   "outputs": [
    {
     "data": {
      "image/png": "[encoded data removed]",
      "text/plain": [
       "<Figure size 1000x800 with 2 Axes>"
      ]
     },
     "metadata": {},
     "output_type": "display_data"
    }
   ],
   "source": [
    "# Create a correlation matrix\n",
    "correlation_matrix = df_numeric_scaled.corr()\n",
    "plt.figure(figsize=(10, 8))\n",
    "# Generate the heatmap\n",
    "sns.heatmap(correlation_matrix, annot=False, cmap='coolwarm')\n",
    "\n",
    "# Add a title\n",
    "plt.title('Correlation Heatmap')\n",
    "\n",
    "# Display the plot\n",
    "plt.show();"
   ]
  },
  {
   "cell_type": "markdown",
   "id": "5b9a9b31",
   "metadata": {},
   "source": [
    "### Preparation of the training and test datasets\n",
    "#### Split data\n",
    "The dataset is split by year slides. We decided to drop the Covid-19 years 2020-21. The years 2005 to 2017 are selected for the train dataset and the years 2018 and 2019 for the test dataset. Furthermore, the `grav` variable is dropped because it is encoded in `severe`.\n"
   ]
  },
  {
   "cell_type": "code",
   "execution_count": 16,
   "id": "91c8d87f-d44e-4eff-8c4d-26745cc8dbfe",
   "metadata": {},
   "outputs": [],
   "source": [
    "df.drop('grav', axis = 1, inplace = True)"
   ]
  },
  {
   "cell_type": "code",
   "execution_count": 17,
   "id": "ac2bc919-2233-4813-840b-b7b0bd7b582f",
   "metadata": {},
   "outputs": [],
   "source": [
    "# split the dataset to train and test data\n",
    "X_train = df.loc[df['an'] < 2018]\n",
    "X_train = X_train.drop('severe', axis = 1)\n",
    "\n",
    "X_test = df[(df['an'] >= 2018) & (df['an'] < 2020)]\n",
    "X_test = X_test.drop('severe', axis = 1)\n",
    "\n",
    "y_train = df['severe'].loc[df['an'] < 2018]\n",
    "y_test = df['severe'][(df['an'] >= 2018) & (df['an'] < 2020)]\n",
    "\n",
    "\n",
    "\n",
    "#y_train = LabelEncoder.fit_transform(y_train)\n",
    "#y_test = LabelEncoder.fit_transform(y_test)\n"
   ]
  },
  {
   "cell_type": "markdown",
   "id": "3c8f0c9f",
   "metadata": {},
   "source": [
    "#### Data scaling\n",
    "Decision trees are not sensitive to different scales and thus scaling is not required."
   ]
  },
  {
   "cell_type": "markdown",
   "id": "89a2132f",
   "metadata": {},
   "source": [
    "### Modelling the data using a Decision Tree Model"
   ]
  },
  {
   "cell_type": "code",
   "execution_count": 18,
   "id": "2036e6fa",
   "metadata": {},
   "outputs": [
    {
     "name": "stdout",
     "output_type": "stream",
     "text": [
      "Best Parameters using grid search: \n",
      "\n",
      "{'ccp_alpha': 0.001, 'criterion': 'entropy', 'max_depth': 10, 'min_samples_leaf': 1, 'min_samples_split': 2}\n"
     ]
    }
   ],
   "source": [
    "#DecisionTree Classifier\n",
    "\n",
    "# Tuning the parameters to find the best decision tree model - start params chosen randomly\n",
    "model = DecisionTreeClassifier(random_state=50)\n",
    "\n",
    "param_dist = {'criterion': ['gini', 'entropy'],\n",
    "              'max_depth': [2, 4, 6, 8, 10], \n",
    "              'min_samples_leaf' : [1, 2, 3], \n",
    "              'min_samples_split' : [2, 3, 4], \n",
    "              'ccp_alpha': [0.1, 0.01, 0.001]}\n",
    "            \n",
    "\n",
    "cv_dt = GridSearchCV(model, param_grid=param_dist, n_jobs=-1)\n",
    "\n",
    "cv_dt.fit(X_train, y_train)\n",
    "print('Best Parameters using grid search: \\n')\n",
    "print(cv_dt.best_params_)"
   ]
  },
  {
   "cell_type": "markdown",
   "id": "f7906e95",
   "metadata": {},
   "source": [
    "### Find optimal parameter for max_depth\n",
    "Since the best parameter for max_depth is always the maximum of the predefined range, i.e. 10 for 'max_depth': [2, 4, 6, 8, 10] or 8 for 'max_depth': [2, 4, 6, 8], i want to find out, at which point the accuracy doesn't improve further. \n",
    "Therefore i've chosen the evaluation metric AUC (Area Under Curve). AUC provides an aggregate measure of performance across all possible classification thresholds."
   ]
  },
  {
   "cell_type": "code",
   "execution_count": 19,
   "id": "6f090206",
   "metadata": {},
   "outputs": [
    {
     "data": {
      "image/png": "[encoded data removed]",
      "text/plain": [
       "<Figure size 640x480 with 1 Axes>"
      ]
     },
     "metadata": {},
     "output_type": "display_data"
    }
   ],
   "source": [
    "\n",
    "max_depths = range(1, 20, 1)\n",
    "train_results = []\n",
    "test_results = []\n",
    "for max_depth in max_depths:\n",
    "    dt = DecisionTreeClassifier(criterion='entropy', random_state = 50, max_depth=max_depth, min_samples_leaf=1, min_samples_split=2, ccp_alpha=0.001)\n",
    "    dt.fit(X_train, y_train)\n",
    "    train_pred = dt.predict(X_train)\n",
    "    false_positive_rate, true_positive_rate, thresholds = metrics.roc_curve(y_train, train_pred)\n",
    "    roc_auc = metrics.auc(false_positive_rate, true_positive_rate)\n",
    "   # Add auc score to previous train results\n",
    "    train_results.append(roc_auc)\n",
    "    y_pred = dt.predict(X_test)\n",
    "    false_positive_rate, true_positive_rate, thresholds = metrics.roc_curve(y_test, y_pred)\n",
    "    roc_auc = metrics.auc(false_positive_rate, true_positive_rate)\n",
    "   # Add auc score to previous test results\n",
    "    test_results.append(roc_auc)\n",
    "from matplotlib.legend_handler import HandlerLine2D\n",
    "line1, = plt.plot(max_depths, train_results, 'b', label=\"Train AUC\")\n",
    "line2, = plt.plot(max_depths, test_results, 'r', label=\"Test AUC\")\n",
    "plt.legend(handler_map={line1: HandlerLine2D(numpoints=2)})\n",
    "plt.ylabel('AUC score')\n",
    "plt.xlabel('Tree depth')\n",
    "plt.show()"
   ]
  },
  {
   "cell_type": "markdown",
   "id": "82022b81",
   "metadata": {},
   "source": [
    "### Train with best parameters"
   ]
  },
  {
   "cell_type": "code",
   "execution_count": 20,
   "id": "2b98a9b4",
   "metadata": {},
   "outputs": [
    {
     "name": "stdout",
     "output_type": "stream",
     "text": [
      "Accuracy Score:  0.7517502372698284\n"
     ]
    }
   ],
   "source": [
    "# Training with the best parameters\n",
    "\n",
    "tree = DecisionTreeClassifier(criterion='entropy', random_state = 50, max_depth=10, min_samples_leaf=1, min_samples_split=2, ccp_alpha=0.001)\n",
    "\n",
    "tree.fit(X_train, y_train)\n",
    "\n",
    "# Predict the target variable on the test set\n",
    "y_pred = tree.predict(X_test)\n",
    "\n",
    "\n",
    "# Get the accuracy score\n",
    "print('Accuracy Score: ',accuracy_score(y_test, y_pred))"
   ]
  },
  {
   "cell_type": "markdown",
   "id": "86381735",
   "metadata": {},
   "source": [
    "### Classification Report"
   ]
  },
  {
   "cell_type": "code",
   "execution_count": 21,
   "id": "3f000405",
   "metadata": {},
   "outputs": [
    {
     "name": "stdout",
     "output_type": "stream",
     "text": [
      "Classification Report\n",
      "              precision    recall  f1-score   support\n",
      "\n",
      "           0       0.74      0.67      0.71    111446\n",
      "           1       0.76      0.82      0.79    140377\n",
      "\n",
      "    accuracy                           0.75    251823\n",
      "   macro avg       0.75      0.74      0.75    251823\n",
      "weighted avg       0.75      0.75      0.75    251823\n",
      "\n"
     ]
    }
   ],
   "source": [
    "print('Classification Report')\n",
    "print(classification_report(y_test, y_pred))\n",
    "\n"
   ]
  },
  {
   "cell_type": "markdown",
   "id": "605032d4",
   "metadata": {},
   "source": [
    "### Confusion Matrix"
   ]
  },
  {
   "cell_type": "code",
   "execution_count": 22,
   "id": "bec7f46f",
   "metadata": {},
   "outputs": [
    {
     "data": {
      "text/html": [
       "<div>\n",
       "<style scoped>\n",
       "    .dataframe tbody tr th:only-of-type {\n",
       "        vertical-align: middle;\n",
       "    }\n",
       "\n",
       "    .dataframe tbody tr th {\n",
       "        vertical-align: top;\n",
       "    }\n",
       "\n",
       "    .dataframe thead th {\n",
       "        text-align: right;\n",
       "    }\n",
       "</style>\n",
       "<table border=\"1\" class=\"dataframe\">\n",
       "  <thead>\n",
       "    <tr style=\"text-align: right;\">\n",
       "      <th>Prediction</th>\n",
       "      <th>0</th>\n",
       "      <th>1</th>\n",
       "    </tr>\n",
       "    <tr>\n",
       "      <th>Reality</th>\n",
       "      <th></th>\n",
       "      <th></th>\n",
       "    </tr>\n",
       "  </thead>\n",
       "  <tbody>\n",
       "    <tr>\n",
       "      <th>0</th>\n",
       "      <td>74724</td>\n",
       "      <td>36722</td>\n",
       "    </tr>\n",
       "    <tr>\n",
       "      <th>1</th>\n",
       "      <td>25793</td>\n",
       "      <td>114584</td>\n",
       "    </tr>\n",
       "  </tbody>\n",
       "</table>\n",
       "</div>"
      ],
      "text/plain": [
       "Prediction      0       1\n",
       "Reality                  \n",
       "0           74724   36722\n",
       "1           25793  114584"
      ]
     },
     "execution_count": 22,
     "metadata": {},
     "output_type": "execute_result"
    }
   ],
   "source": [
    "pd.crosstab(y_test, y_pred, rownames=['Reality'], colnames=['Prediction'])\n"
   ]
  },
  {
   "cell_type": "markdown",
   "id": "25b0eb6e",
   "metadata": {},
   "source": [
    "### Accuracy"
   ]
  },
  {
   "cell_type": "code",
   "execution_count": 23,
   "id": "3275e2dc",
   "metadata": {},
   "outputs": [
    {
     "name": "stdout",
     "output_type": "stream",
     "text": [
      "Training-set accuracy score: 0.7677\n"
     ]
    }
   ],
   "source": [
    "#Training set accuracy\n",
    "\n",
    "y_pred_train = tree.predict(X_train)\n",
    "\n",
    "y_pred_train\n",
    "\n",
    "print('Training-set accuracy score: {0:0.4f}'. format(accuracy_score(y_train, y_pred_train)))"
   ]
  },
  {
   "cell_type": "code",
   "execution_count": 24,
   "id": "6532cabf",
   "metadata": {},
   "outputs": [
    {
     "name": "stdout",
     "output_type": "stream",
     "text": [
      "Training set score: 0.7677\n",
      "Test set score: 0.7518\n"
     ]
    }
   ],
   "source": [
    "# print the scores on training and test set\n",
    "\n",
    "print('Training set score: {:.4f}'.format(tree.score(X_train, y_train)))\n",
    "\n",
    "print('Test set score: {:.4f}'.format(tree.score(X_test, y_test)))"
   ]
  },
  {
   "cell_type": "code",
   "execution_count": 25,
   "id": "3771b1ac",
   "metadata": {},
   "outputs": [
    {
     "name": "stdout",
     "output_type": "stream",
     "text": [
      "Training MAE is: 0.23227105945141507\n",
      "Testing MAE is: 0.2482497627301716\n"
     ]
    }
   ],
   "source": [
    "\n",
    "\n",
    "train_mae = mean_absolute_error(y_pred_train, y_train)\n",
    "\n",
    "test_mae = mean_absolute_error(y_pred, y_test)\n",
    "\n",
    "print('Training MAE is:', train_mae)\n",
    "print('Testing MAE is:', test_mae)"
   ]
  },
  {
   "cell_type": "markdown",
   "id": "04e86e5b",
   "metadata": {},
   "source": [
    "#### Since the accuracy and the MAE of the test set and training data set only differ marginally from each other, there is no oversampling. "
   ]
  },
  {
   "cell_type": "markdown",
   "id": "062765bc",
   "metadata": {},
   "source": [
    "### Feature Importance"
   ]
  },
  {
   "cell_type": "code",
   "execution_count": 26,
   "id": "c6fbab80",
   "metadata": {},
   "outputs": [
    {
     "name": "stdout",
     "output_type": "stream",
     "text": [
      "Length of feature_names: 38\n",
      "Length of importances: 38\n"
     ]
    },
    {
     "data": {
      "image/png": "[encoded data removed]",
      "text/plain": [
       "<Figure size 1200x800 with 1 Axes>"
      ]
     },
     "metadata": {},
     "output_type": "display_data"
    }
   ],
   "source": [
    "# estimate the feature importance for the model\n",
    "\n",
    "# Access feature importances from the trained model\n",
    "importances = tree.feature_importances_\n",
    "\n",
    "feature_names = df.drop(columns=['severe']).columns.tolist()\n",
    "\n",
    "# Check the lengths of feature_names and importances\n",
    "print(\"Length of feature_names:\", len(feature_names))\n",
    "print(\"Length of importances:\", len(importances))\n",
    "\n",
    "# Create a DataFrame to hold feature names and their importances\n",
    "feature_importance_df = pd.DataFrame({'Feature': feature_names, 'Importance': importances})\n",
    "\n",
    "# Sort the features by importance in descending order\n",
    "feature_importance_df = feature_importance_df.sort_values(by='Importance', ascending=False)\n",
    "\n",
    "# Create a bar plot to visualize feature importances\n",
    "plt.figure(figsize=(12, 8))\n",
    "sns.barplot(x='Importance', y='Feature', data=feature_importance_df)\n",
    "plt.xlabel('Feature Importance')\n",
    "plt.ylabel('Feature Name')\n",
    "plt.title('Feature Importance for Decision Tree')\n",
    "plt.show()\n",
    "\n",
    "\n",
    "\n"
   ]
  },
  {
   "cell_type": "code",
   "execution_count": 27,
   "id": "35ae6033",
   "metadata": {},
   "outputs": [
    {
     "name": "stdout",
     "output_type": "stream",
     "text": [
      "F1 Scores (Cross-Validation): [0.76285987 0.76119739 0.76230944 0.76544354 0.75820382]\n",
      "Mean F1 Score (Cross-Validation): 0.7620028118157416\n"
     ]
    }
   ],
   "source": [
    "# Perform cross-validation with F1 score\n",
    "f1_scores = cross_val_score(tree, X_train, y_train, scoring='f1_macro', cv=5, n_jobs=2)\n",
    "\n",
    "# Print the F1 scores for each fold\n",
    "print(\"F1 Scores (Cross-Validation):\", f1_scores)\n",
    "\n",
    "# Calculate and print the mean F1 score\n",
    "mean_f1_score = f1_scores.mean()\n",
    "print(\"Mean F1 Score (Cross-Validation):\", mean_f1_score)"
   ]
  },
  {
   "cell_type": "markdown",
   "id": "2ff4de77",
   "metadata": {},
   "source": [
    "## PCA"
   ]
  },
  {
   "cell_type": "code",
   "execution_count": 28,
   "id": "a8ddf689",
   "metadata": {},
   "outputs": [],
   "source": [
    "# Standardize the data\n",
    "scaler = StandardScaler()\n",
    "X_train_scaled = scaler.fit_transform(X_train)\n",
    "X_test_scaled = scaler.transform(X_test)\n",
    "\n"
   ]
  },
  {
   "cell_type": "markdown",
   "id": "f71c9def",
   "metadata": {},
   "source": [
    "###### Create a fit model with N number of components and plot and evaluate visually the \"elbow\" of the curve where at least 90% of the variance is explained"
   ]
  },
  {
   "cell_type": "code",
   "execution_count": 32,
   "id": "c93423d2",
   "metadata": {},
   "outputs": [],
   "source": [
    "# Create and fit the PCA model\n",
    "\n",
    "n_components = 30  # need to test until the right value is found based on the graphic beyond look like the best value to explain the variance \n",
    "pca = PCA(n_components=n_components)\n",
    "X_train_pca = pca.fit_transform(X_train_scaled)\n",
    "X_test_pca = pca.transform(X_test_scaled)"
   ]
  },
  {
   "cell_type": "code",
   "execution_count": 33,
   "id": "1faa8ee4",
   "metadata": {},
   "outputs": [
    {
     "data": {
      "image/png": "[encoded data removed]",
      "text/plain": [
       "<Figure size 640x480 with 1 Axes>"
      ]
     },
     "metadata": {},
     "output_type": "display_data"
    }
   ],
   "source": [
    "cumulative_variance = pca.explained_variance_ratio_.cumsum()\n",
    "\n",
    "plt.plot(range(1, n_components + 1), cumulative_variance, marker='o', linestyle='--')\n",
    "plt.xlabel('Number of Principal Components')\n",
    "plt.ylabel('Cumulative Explained Variance')\n",
    "plt.title('Cumulative Explained Variance Plot')\n",
    "\n",
    "# Annotate the last point with the cumulative variance value\n",
    "last_point = (n_components, cumulative_variance[-1])\n",
    "plt.annotate(f'{cumulative_variance[-1]:.2f}', last_point, textcoords=\"offset points\", xytext=(0, 10), ha='center')\n",
    "\n",
    "plt.grid()\n",
    "plt.show()\n",
    "\n"
   ]
  },
  {
   "cell_type": "markdown",
   "id": "f70f349e",
   "metadata": {},
   "source": [
    "### Decision Tree with PCA"
   ]
  },
  {
   "cell_type": "code",
   "execution_count": 34,
   "id": "4a620250",
   "metadata": {},
   "outputs": [
    {
     "name": "stdout",
     "output_type": "stream",
     "text": [
      "Accuracy Score:  0.6220758230979696\n"
     ]
    }
   ],
   "source": [
    "# Training with the best parameters\n",
    "\n",
    "tree_pca = DecisionTreeClassifier(criterion='entropy', random_state = 50, max_depth=10, min_samples_leaf=1, min_samples_split=2, ccp_alpha=0.001)\n",
    "\n",
    "tree_pca.fit(X_train_pca, y_train)\n",
    "\n",
    "# Make predictions\n",
    "y_pred_pca = tree_pca.predict(X_test_pca)\n",
    "\n",
    "\n",
    "# Get the accuracy score\n",
    "print('Accuracy Score: ',accuracy_score(y_test, y_pred_pca))"
   ]
  },
  {
   "cell_type": "code",
   "execution_count": 35,
   "id": "c02591b7",
   "metadata": {},
   "outputs": [
    {
     "data": {
      "text/html": [
       "<div>\n",
       "<style scoped>\n",
       "    .dataframe tbody tr th:only-of-type {\n",
       "        vertical-align: middle;\n",
       "    }\n",
       "\n",
       "    .dataframe tbody tr th {\n",
       "        vertical-align: top;\n",
       "    }\n",
       "\n",
       "    .dataframe thead th {\n",
       "        text-align: right;\n",
       "    }\n",
       "</style>\n",
       "<table border=\"1\" class=\"dataframe\">\n",
       "  <thead>\n",
       "    <tr style=\"text-align: right;\">\n",
       "      <th>Prediction</th>\n",
       "      <th>0</th>\n",
       "      <th>1</th>\n",
       "    </tr>\n",
       "    <tr>\n",
       "      <th>Reality</th>\n",
       "      <th></th>\n",
       "      <th></th>\n",
       "    </tr>\n",
       "  </thead>\n",
       "  <tbody>\n",
       "    <tr>\n",
       "      <th>0</th>\n",
       "      <td>71761</td>\n",
       "      <td>39685</td>\n",
       "    </tr>\n",
       "    <tr>\n",
       "      <th>1</th>\n",
       "      <td>55485</td>\n",
       "      <td>84892</td>\n",
       "    </tr>\n",
       "  </tbody>\n",
       "</table>\n",
       "</div>"
      ],
      "text/plain": [
       "Prediction      0      1\n",
       "Reality                 \n",
       "0           71761  39685\n",
       "1           55485  84892"
      ]
     },
     "execution_count": 35,
     "metadata": {},
     "output_type": "execute_result"
    }
   ],
   "source": [
    "# Confusion Matrix\n",
    "pd.crosstab(y_test, y_pred_pca, rownames=['Reality'], colnames=['Prediction'])\n"
   ]
  },
  {
   "cell_type": "code",
   "execution_count": 36,
   "id": "18f1bf12",
   "metadata": {},
   "outputs": [
    {
     "name": "stdout",
     "output_type": "stream",
     "text": [
      "Classification Report\n",
      "              precision    recall  f1-score   support\n",
      "\n",
      "           0       0.56      0.64      0.60    111446\n",
      "           1       0.68      0.60      0.64    140377\n",
      "\n",
      "    accuracy                           0.62    251823\n",
      "   macro avg       0.62      0.62      0.62    251823\n",
      "weighted avg       0.63      0.62      0.62    251823\n",
      "\n"
     ]
    }
   ],
   "source": [
    "#Classification Report\n",
    "\n",
    "print('Classification Report')\n",
    "print(classification_report(y_test, y_pred_pca))\n",
    "\n"
   ]
  },
  {
   "cell_type": "markdown",
   "id": "188c9325",
   "metadata": {},
   "source": [
    "#### Accuracy without PCA: 75% \n",
    "\n",
    "#### Accuracy with PCA: 62%\n",
    "\n",
    "### No improvement with PCA!"
   ]
  }
 ],
 "metadata": {
  "kernelspec": {
   "display_name": "Python 3 (ipykernel)",
   "language": "python",
   "name": "python3"
  },
  "language_info": {
   "codemirror_mode": {
    "name": "ipython",
    "version": 3
   },
   "file_extension": ".py",
   "mimetype": "text/x-python",
   "name": "python",
   "nbconvert_exporter": "python",
   "pygments_lexer": "ipython3",
   "version": "3.11.5"
  }
 },
 "nbformat": 4,
 "nbformat_minor": 5
}
