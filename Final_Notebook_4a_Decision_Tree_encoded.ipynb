{
 "cells": [
  {
   "cell_type": "markdown",
   "id": "712d9d1c-1eeb-447d-bcfa-f5c3198b7713",
   "metadata": {},
   "source": [
    "# Modelling of France Accidents\n",
    "\n",
    "**Cohort:** mar23_accidents\n",
    "\n",
    "**Author:** Johanna Starkl\n",
    "\n",
    "**Date:** 29 October 2023\n",
    "\n",
    "### Decision Tree with target variable severe\n",
    "\n"
   ]
  },
  {
   "cell_type": "markdown",
   "id": "6b6df835-aa14-4775-90df-de5512f881c4",
   "metadata": {},
   "source": [
    "## Loading of required libraries"
   ]
  },
  {
   "cell_type": "code",
   "execution_count": 1,
   "id": "22cfc8cd-2dd7-45e2-bd75-df68ef38c5a3",
   "metadata": {},
   "outputs": [],
   "source": [
    "import pandas as pd\n",
    "import numpy as np\n",
    "import seaborn as sns\n",
    "from sklearn.metrics import classification_report\n",
    "from sklearn.model_selection import train_test_split\n",
    "from sklearn.preprocessing import StandardScaler"
   ]
  },
  {
   "cell_type": "markdown",
   "id": "7d12d86a-94ac-4349-b68f-2b8a40e21ebe",
   "metadata": {},
   "source": [
    "## Importing the data"
   ]
  },
  {
   "cell_type": "code",
   "execution_count": 2,
   "id": "3aaa9044-2e16-4821-a259-0e2b8fd2b259",
   "metadata": {},
   "outputs": [],
   "source": [
    "df = pd.read_csv('./data/231018_clean_table_for_analysis.csv', low_memory = False, index_col = 0)"
   ]
  },
  {
   "cell_type": "markdown",
   "id": "2552176c-9a85-4ead-ad23-1edfb5c1d448",
   "metadata": {},
   "source": [
    "## Data description\n",
    "### Data"
   ]
  },
  {
   "cell_type": "code",
   "execution_count": 3,
   "id": "9e361f45-f63c-48a3-bc60-777a1d287f7a",
   "metadata": {},
   "outputs": [
    {
     "data": {
      "text/html": [
       "<div>\n",
       "<style scoped>\n",
       "    .dataframe tbody tr th:only-of-type {\n",
       "        vertical-align: middle;\n",
       "    }\n",
       "\n",
       "    .dataframe tbody tr th {\n",
       "        vertical-align: top;\n",
       "    }\n",
       "\n",
       "    .dataframe thead th {\n",
       "        text-align: right;\n",
       "    }\n",
       "</style>\n",
       "<table border=\"1\" class=\"dataframe\">\n",
       "  <thead>\n",
       "    <tr style=\"text-align: right;\">\n",
       "      <th></th>\n",
       "      <th>place</th>\n",
       "      <th>catu</th>\n",
       "      <th>sexe</th>\n",
       "      <th>an_nais</th>\n",
       "      <th>trajet</th>\n",
       "      <th>locp</th>\n",
       "      <th>an</th>\n",
       "      <th>mois</th>\n",
       "      <th>jour</th>\n",
       "      <th>lum</th>\n",
       "      <th>...</th>\n",
       "      <th>holiday</th>\n",
       "      <th>datetime</th>\n",
       "      <th>timestamp</th>\n",
       "      <th>actp</th>\n",
       "      <th>num_veh</th>\n",
       "      <th>hrmn</th>\n",
       "      <th>grav</th>\n",
       "      <th>etatp</th>\n",
       "      <th>hour_of_day</th>\n",
       "      <th>day_of_week</th>\n",
       "    </tr>\n",
       "    <tr>\n",
       "      <th>Num_Acc</th>\n",
       "      <th></th>\n",
       "      <th></th>\n",
       "      <th></th>\n",
       "      <th></th>\n",
       "      <th></th>\n",
       "      <th></th>\n",
       "      <th></th>\n",
       "      <th></th>\n",
       "      <th></th>\n",
       "      <th></th>\n",
       "      <th></th>\n",
       "      <th></th>\n",
       "      <th></th>\n",
       "      <th></th>\n",
       "      <th></th>\n",
       "      <th></th>\n",
       "      <th></th>\n",
       "      <th></th>\n",
       "      <th></th>\n",
       "      <th></th>\n",
       "      <th></th>\n",
       "    </tr>\n",
       "  </thead>\n",
       "  <tbody>\n",
       "    <tr>\n",
       "      <th>201900000001</th>\n",
       "      <td>2.0</td>\n",
       "      <td>2</td>\n",
       "      <td>2</td>\n",
       "      <td>2002</td>\n",
       "      <td>0.0</td>\n",
       "      <td>-1.0</td>\n",
       "      <td>2019</td>\n",
       "      <td>11</td>\n",
       "      <td>30</td>\n",
       "      <td>4</td>\n",
       "      <td>...</td>\n",
       "      <td>NaN</td>\n",
       "      <td>2019-11-30 01:30:00</td>\n",
       "      <td>1.575074e+09</td>\n",
       "      <td>0</td>\n",
       "      <td>14</td>\n",
       "      <td>90</td>\n",
       "      <td>3</td>\n",
       "      <td>0</td>\n",
       "      <td>1</td>\n",
       "      <td>Saturday</td>\n",
       "    </tr>\n",
       "    <tr>\n",
       "      <th>201900000001</th>\n",
       "      <td>1.0</td>\n",
       "      <td>1</td>\n",
       "      <td>2</td>\n",
       "      <td>1993</td>\n",
       "      <td>5.0</td>\n",
       "      <td>-1.0</td>\n",
       "      <td>2019</td>\n",
       "      <td>11</td>\n",
       "      <td>30</td>\n",
       "      <td>4</td>\n",
       "      <td>...</td>\n",
       "      <td>NaN</td>\n",
       "      <td>2019-11-30 01:30:00</td>\n",
       "      <td>1.575074e+09</td>\n",
       "      <td>0</td>\n",
       "      <td>14</td>\n",
       "      <td>90</td>\n",
       "      <td>3</td>\n",
       "      <td>0</td>\n",
       "      <td>1</td>\n",
       "      <td>Saturday</td>\n",
       "    </tr>\n",
       "    <tr>\n",
       "      <th>201900000001</th>\n",
       "      <td>1.0</td>\n",
       "      <td>1</td>\n",
       "      <td>1</td>\n",
       "      <td>1959</td>\n",
       "      <td>0.0</td>\n",
       "      <td>-1.0</td>\n",
       "      <td>2019</td>\n",
       "      <td>11</td>\n",
       "      <td>30</td>\n",
       "      <td>4</td>\n",
       "      <td>...</td>\n",
       "      <td>NaN</td>\n",
       "      <td>2019-11-30 01:30:00</td>\n",
       "      <td>1.575074e+09</td>\n",
       "      <td>0</td>\n",
       "      <td>0</td>\n",
       "      <td>90</td>\n",
       "      <td>0</td>\n",
       "      <td>0</td>\n",
       "      <td>1</td>\n",
       "      <td>Saturday</td>\n",
       "    </tr>\n",
       "    <tr>\n",
       "      <th>201900000002</th>\n",
       "      <td>1.0</td>\n",
       "      <td>1</td>\n",
       "      <td>2</td>\n",
       "      <td>1994</td>\n",
       "      <td>0.0</td>\n",
       "      <td>-1.0</td>\n",
       "      <td>2019</td>\n",
       "      <td>11</td>\n",
       "      <td>30</td>\n",
       "      <td>3</td>\n",
       "      <td>...</td>\n",
       "      <td>NaN</td>\n",
       "      <td>2019-11-30 02:50:00</td>\n",
       "      <td>1.575079e+09</td>\n",
       "      <td>0</td>\n",
       "      <td>0</td>\n",
       "      <td>170</td>\n",
       "      <td>3</td>\n",
       "      <td>0</td>\n",
       "      <td>2</td>\n",
       "      <td>Saturday</td>\n",
       "    </tr>\n",
       "    <tr>\n",
       "      <th>201900000003</th>\n",
       "      <td>1.0</td>\n",
       "      <td>1</td>\n",
       "      <td>1</td>\n",
       "      <td>1996</td>\n",
       "      <td>0.0</td>\n",
       "      <td>-1.0</td>\n",
       "      <td>2019</td>\n",
       "      <td>11</td>\n",
       "      <td>28</td>\n",
       "      <td>1</td>\n",
       "      <td>...</td>\n",
       "      <td>NaN</td>\n",
       "      <td>2019-11-28 15:15:00</td>\n",
       "      <td>1.574950e+09</td>\n",
       "      <td>1</td>\n",
       "      <td>0</td>\n",
       "      <td>915</td>\n",
       "      <td>0</td>\n",
       "      <td>0</td>\n",
       "      <td>15</td>\n",
       "      <td>Thursday</td>\n",
       "    </tr>\n",
       "  </tbody>\n",
       "</table>\n",
       "<p>5 rows × 43 columns</p>\n",
       "</div>"
      ],
      "text/plain": [
       "              place  catu  sexe  an_nais  trajet  locp    an  mois  jour  lum  \\\n",
       "Num_Acc                                                                         \n",
       "201900000001    2.0     2     2     2002     0.0  -1.0  2019    11    30    4   \n",
       "201900000001    1.0     1     2     1993     5.0  -1.0  2019    11    30    4   \n",
       "201900000001    1.0     1     1     1959     0.0  -1.0  2019    11    30    4   \n",
       "201900000002    1.0     1     2     1994     0.0  -1.0  2019    11    30    3   \n",
       "201900000003    1.0     1     1     1996     0.0  -1.0  2019    11    28    1   \n",
       "\n",
       "              ...  holiday             datetime     timestamp  actp  num_veh  \\\n",
       "Num_Acc       ...                                                              \n",
       "201900000001  ...      NaN  2019-11-30 01:30:00  1.575074e+09     0       14   \n",
       "201900000001  ...      NaN  2019-11-30 01:30:00  1.575074e+09     0       14   \n",
       "201900000001  ...      NaN  2019-11-30 01:30:00  1.575074e+09     0        0   \n",
       "201900000002  ...      NaN  2019-11-30 02:50:00  1.575079e+09     0        0   \n",
       "201900000003  ...      NaN  2019-11-28 15:15:00  1.574950e+09     1        0   \n",
       "\n",
       "              hrmn  grav  etatp  hour_of_day  day_of_week  \n",
       "Num_Acc                                                    \n",
       "201900000001    90     3      0            1     Saturday  \n",
       "201900000001    90     3      0            1     Saturday  \n",
       "201900000001    90     0      0            1     Saturday  \n",
       "201900000002   170     3      0            2     Saturday  \n",
       "201900000003   915     0      0           15     Thursday  \n",
       "\n",
       "[5 rows x 43 columns]"
      ]
     },
     "execution_count": 3,
     "metadata": {},
     "output_type": "execute_result"
    }
   ],
   "source": [
    "df.head()"
   ]
  },
  {
   "cell_type": "markdown",
   "id": "c3fbf44b-f1ca-4d02-9b27-78827b41985d",
   "metadata": {},
   "source": [
    "### Data types"
   ]
  },
  {
   "cell_type": "code",
   "execution_count": 4,
   "id": "19bb68a0-55d1-461b-87e2-72833557b4fd",
   "metadata": {},
   "outputs": [
    {
     "name": "stdout",
     "output_type": "stream",
     "text": [
      "<class 'pandas.core.frame.DataFrame'>\n",
      "Index: 2421684 entries, 201900000001 to 201800055766\n",
      "Data columns (total 43 columns):\n",
      " #   Column       Dtype  \n",
      "---  ------       -----  \n",
      " 0   place        float64\n",
      " 1   catu         int64  \n",
      " 2   sexe         int64  \n",
      " 3   an_nais      int64  \n",
      " 4   trajet       float64\n",
      " 5   locp         float64\n",
      " 6   an           int64  \n",
      " 7   mois         int64  \n",
      " 8   jour         int64  \n",
      " 9   lum          int64  \n",
      " 10  agg          int64  \n",
      " 11  int          int64  \n",
      " 12  atm          float64\n",
      " 13  col          float64\n",
      " 14  dep          int64  \n",
      " 15  catr         float64\n",
      " 16  circ         float64\n",
      " 17  nbv          float64\n",
      " 18  vosp         float64\n",
      " 19  prof         float64\n",
      " 20  plan         float64\n",
      " 21  surf         float64\n",
      " 22  infra        float64\n",
      " 23  situ         float64\n",
      " 24  senc         float64\n",
      " 25  catv         int64  \n",
      " 26  occutc       float64\n",
      " 27  obs          float64\n",
      " 28  obsm         float64\n",
      " 29  choc         float64\n",
      " 30  manv         float64\n",
      " 31  date         object \n",
      " 32  is_holiday   bool   \n",
      " 33  holiday      object \n",
      " 34  datetime     object \n",
      " 35  timestamp    float64\n",
      " 36  actp         int64  \n",
      " 37  num_veh      int64  \n",
      " 38  hrmn         int64  \n",
      " 39  grav         int64  \n",
      " 40  etatp        int64  \n",
      " 41  hour_of_day  int64  \n",
      " 42  day_of_week  object \n",
      "dtypes: bool(1), float64(21), int64(17), object(4)\n",
      "memory usage: 796.8+ MB\n"
     ]
    }
   ],
   "source": [
    "df.info()"
   ]
  },
  {
   "cell_type": "markdown",
   "id": "d258ad30-b0f4-4b86-9322-808ff955593e",
   "metadata": {},
   "source": [
    "### Missing data"
   ]
  },
  {
   "cell_type": "code",
   "execution_count": 5,
   "id": "24315f42-0b75-439c-92a1-ed41d3b2c33a",
   "metadata": {},
   "outputs": [
    {
     "data": {
      "text/plain": [
       "place                0\n",
       "catu                 0\n",
       "sexe                 0\n",
       "an_nais              0\n",
       "trajet               0\n",
       "locp                 0\n",
       "an                   0\n",
       "mois                 0\n",
       "jour                 0\n",
       "lum                  0\n",
       "agg                  0\n",
       "int                  0\n",
       "atm                  0\n",
       "col                  0\n",
       "dep                  0\n",
       "catr                 0\n",
       "circ                 0\n",
       "nbv                  0\n",
       "vosp                 0\n",
       "prof                 0\n",
       "plan                 0\n",
       "surf                 0\n",
       "infra                0\n",
       "situ                 0\n",
       "senc                 0\n",
       "catv                 0\n",
       "occutc               0\n",
       "obs                  0\n",
       "obsm                 0\n",
       "choc                 0\n",
       "manv                 0\n",
       "date                 0\n",
       "is_holiday           0\n",
       "holiday        2367768\n",
       "datetime             0\n",
       "timestamp            0\n",
       "actp                 0\n",
       "num_veh              0\n",
       "hrmn                 0\n",
       "grav                 0\n",
       "etatp                0\n",
       "hour_of_day          0\n",
       "day_of_week          0\n",
       "dtype: int64"
      ]
     },
     "execution_count": 5,
     "metadata": {},
     "output_type": "execute_result"
    }
   ],
   "source": [
    "df.isna().sum()"
   ]
  },
  {
   "cell_type": "markdown",
   "id": "2f54ae8d-7ed1-413e-81cf-04079aa3cec0",
   "metadata": {},
   "source": [
    "This data has no missing values, accept the `holiday` variable which contains the name of the holiday or NaN."
   ]
  },
  {
   "cell_type": "markdown",
   "id": "c6ee2b4b-2bca-4686-b48f-b0f0d43b4bed",
   "metadata": {},
   "source": [
    "### Drop variables\n",
    "The dataset contains still some variables that represent information represented by other variables or are a finer granulation. The latter might be added later, if the primary variable is relevant.\n",
    "\n",
    "- `holiday`: classifies the holiday, but will be used only, if `is_holiday` is relevant"
   ]
  },
  {
   "cell_type": "code",
   "execution_count": 6,
   "id": "967aff4c-b3a7-4ea6-8e48-80a148b62871",
   "metadata": {},
   "outputs": [],
   "source": [
    "columns_drop = ['holiday', 'datetime']\n",
    "\n",
    "df.drop(columns = columns_drop, inplace = True)"
   ]
  },
  {
   "cell_type": "code",
   "execution_count": 7,
   "id": "d50abfde-c053-45b5-a270-ae9adc390856",
   "metadata": {},
   "outputs": [
    {
     "name": "stdout",
     "output_type": "stream",
     "text": [
      "<class 'pandas.core.frame.DataFrame'>\n",
      "Index: 2421684 entries, 201900000001 to 201800055766\n",
      "Data columns (total 41 columns):\n",
      " #   Column       Dtype  \n",
      "---  ------       -----  \n",
      " 0   place        float64\n",
      " 1   catu         int64  \n",
      " 2   sexe         int64  \n",
      " 3   an_nais      int64  \n",
      " 4   trajet       float64\n",
      " 5   locp         float64\n",
      " 6   an           int64  \n",
      " 7   mois         int64  \n",
      " 8   jour         int64  \n",
      " 9   lum          int64  \n",
      " 10  agg          int64  \n",
      " 11  int          int64  \n",
      " 12  atm          float64\n",
      " 13  col          float64\n",
      " 14  dep          int64  \n",
      " 15  catr         float64\n",
      " 16  circ         float64\n",
      " 17  nbv          float64\n",
      " 18  vosp         float64\n",
      " 19  prof         float64\n",
      " 20  plan         float64\n",
      " 21  surf         float64\n",
      " 22  infra        float64\n",
      " 23  situ         float64\n",
      " 24  senc         float64\n",
      " 25  catv         int64  \n",
      " 26  occutc       float64\n",
      " 27  obs          float64\n",
      " 28  obsm         float64\n",
      " 29  choc         float64\n",
      " 30  manv         float64\n",
      " 31  date         object \n",
      " 32  is_holiday   bool   \n",
      " 33  timestamp    float64\n",
      " 34  actp         int64  \n",
      " 35  num_veh      int64  \n",
      " 36  hrmn         int64  \n",
      " 37  grav         int64  \n",
      " 38  etatp        int64  \n",
      " 39  hour_of_day  int64  \n",
      " 40  day_of_week  object \n",
      "dtypes: bool(1), float64(21), int64(17), object(2)\n",
      "memory usage: 759.8+ MB\n"
     ]
    }
   ],
   "source": [
    "df.info()"
   ]
  },
  {
   "cell_type": "markdown",
   "id": "1e466b8d-e6d7-432a-bcd8-da9e0d60c3c5",
   "metadata": {},
   "source": [
    "## Data preparation\n",
    "### Transform data types\n",
    "#### Date and time variables\n",
    "The date and time variables are maybe important as grouping variables or as contrains for time dependent severity of accidents.\n",
    "\n",
    "_Problem_:\n",
    "\n",
    "Due to the export to `csv`, the `datatime` data time is lost and thus, it is required to assign it again.\n",
    "\n",
    "**Steps:**\n",
    "1. Transform `date` and `hrmn` to `datetime` type.nais` to integer and `date` to `date`."
   ]
  },
  {
   "cell_type": "code",
   "execution_count": 8,
   "id": "c175109c-ec79-4bf1-970a-7c6203b99538",
   "metadata": {},
   "outputs": [],
   "source": [
    "# Fixing the hrmn issue:\n",
    "# Transform `date`\n",
    "df = df.assign(date = pd.to_datetime(df['date']))\n",
    "df = df.assign(hrmn = pd.to_datetime(df['hrmn']))"
   ]
  },
  {
   "cell_type": "code",
   "execution_count": 9,
   "id": "2e2ce0e6-281d-4d3e-86e7-b8b7f7b768f4",
   "metadata": {},
   "outputs": [],
   "source": [
    "df['date'] = df.apply(lambda x: int(x['date'].timestamp()), axis = 1)\n",
    "df['hrmn'] = df.apply(lambda x: int(x['hrmn'].timestamp()), axis = 1)"
   ]
  },
  {
   "cell_type": "code",
   "execution_count": 10,
   "id": "3ee6d413",
   "metadata": {},
   "outputs": [],
   "source": [
    "# Encoding the variables datetime and day_of_week with Label Encoder\n",
    "\n",
    "from sklearn.preprocessing import LabelEncoder\n",
    "le = LabelEncoder()\n",
    "\n",
    "df['day_of_week']=le.fit_transform(df['day_of_week'])"
   ]
  },
  {
   "cell_type": "code",
   "execution_count": 11,
   "id": "5c3a4564",
   "metadata": {},
   "outputs": [
    {
     "data": {
      "text/html": [
       "<div>\n",
       "<style scoped>\n",
       "    .dataframe tbody tr th:only-of-type {\n",
       "        vertical-align: middle;\n",
       "    }\n",
       "\n",
       "    .dataframe tbody tr th {\n",
       "        vertical-align: top;\n",
       "    }\n",
       "\n",
       "    .dataframe thead th {\n",
       "        text-align: right;\n",
       "    }\n",
       "</style>\n",
       "<table border=\"1\" class=\"dataframe\">\n",
       "  <thead>\n",
       "    <tr style=\"text-align: right;\">\n",
       "      <th></th>\n",
       "      <th>place</th>\n",
       "      <th>catu</th>\n",
       "      <th>sexe</th>\n",
       "      <th>an_nais</th>\n",
       "      <th>trajet</th>\n",
       "      <th>locp</th>\n",
       "      <th>an</th>\n",
       "      <th>mois</th>\n",
       "      <th>jour</th>\n",
       "      <th>lum</th>\n",
       "      <th>...</th>\n",
       "      <th>date</th>\n",
       "      <th>is_holiday</th>\n",
       "      <th>timestamp</th>\n",
       "      <th>actp</th>\n",
       "      <th>num_veh</th>\n",
       "      <th>hrmn</th>\n",
       "      <th>grav</th>\n",
       "      <th>etatp</th>\n",
       "      <th>hour_of_day</th>\n",
       "      <th>day_of_week</th>\n",
       "    </tr>\n",
       "    <tr>\n",
       "      <th>Num_Acc</th>\n",
       "      <th></th>\n",
       "      <th></th>\n",
       "      <th></th>\n",
       "      <th></th>\n",
       "      <th></th>\n",
       "      <th></th>\n",
       "      <th></th>\n",
       "      <th></th>\n",
       "      <th></th>\n",
       "      <th></th>\n",
       "      <th></th>\n",
       "      <th></th>\n",
       "      <th></th>\n",
       "      <th></th>\n",
       "      <th></th>\n",
       "      <th></th>\n",
       "      <th></th>\n",
       "      <th></th>\n",
       "      <th></th>\n",
       "      <th></th>\n",
       "      <th></th>\n",
       "    </tr>\n",
       "  </thead>\n",
       "  <tbody>\n",
       "    <tr>\n",
       "      <th>201900000001</th>\n",
       "      <td>2.0</td>\n",
       "      <td>2</td>\n",
       "      <td>2</td>\n",
       "      <td>2002</td>\n",
       "      <td>0.0</td>\n",
       "      <td>-1.0</td>\n",
       "      <td>2019</td>\n",
       "      <td>11</td>\n",
       "      <td>30</td>\n",
       "      <td>4</td>\n",
       "      <td>...</td>\n",
       "      <td>1575072000</td>\n",
       "      <td>False</td>\n",
       "      <td>1.575074e+09</td>\n",
       "      <td>0</td>\n",
       "      <td>14</td>\n",
       "      <td>0</td>\n",
       "      <td>3</td>\n",
       "      <td>0</td>\n",
       "      <td>1</td>\n",
       "      <td>2</td>\n",
       "    </tr>\n",
       "    <tr>\n",
       "      <th>201900000001</th>\n",
       "      <td>1.0</td>\n",
       "      <td>1</td>\n",
       "      <td>2</td>\n",
       "      <td>1993</td>\n",
       "      <td>5.0</td>\n",
       "      <td>-1.0</td>\n",
       "      <td>2019</td>\n",
       "      <td>11</td>\n",
       "      <td>30</td>\n",
       "      <td>4</td>\n",
       "      <td>...</td>\n",
       "      <td>1575072000</td>\n",
       "      <td>False</td>\n",
       "      <td>1.575074e+09</td>\n",
       "      <td>0</td>\n",
       "      <td>14</td>\n",
       "      <td>0</td>\n",
       "      <td>3</td>\n",
       "      <td>0</td>\n",
       "      <td>1</td>\n",
       "      <td>2</td>\n",
       "    </tr>\n",
       "    <tr>\n",
       "      <th>201900000001</th>\n",
       "      <td>1.0</td>\n",
       "      <td>1</td>\n",
       "      <td>1</td>\n",
       "      <td>1959</td>\n",
       "      <td>0.0</td>\n",
       "      <td>-1.0</td>\n",
       "      <td>2019</td>\n",
       "      <td>11</td>\n",
       "      <td>30</td>\n",
       "      <td>4</td>\n",
       "      <td>...</td>\n",
       "      <td>1575072000</td>\n",
       "      <td>False</td>\n",
       "      <td>1.575074e+09</td>\n",
       "      <td>0</td>\n",
       "      <td>0</td>\n",
       "      <td>0</td>\n",
       "      <td>0</td>\n",
       "      <td>0</td>\n",
       "      <td>1</td>\n",
       "      <td>2</td>\n",
       "    </tr>\n",
       "    <tr>\n",
       "      <th>201900000002</th>\n",
       "      <td>1.0</td>\n",
       "      <td>1</td>\n",
       "      <td>2</td>\n",
       "      <td>1994</td>\n",
       "      <td>0.0</td>\n",
       "      <td>-1.0</td>\n",
       "      <td>2019</td>\n",
       "      <td>11</td>\n",
       "      <td>30</td>\n",
       "      <td>3</td>\n",
       "      <td>...</td>\n",
       "      <td>1575072000</td>\n",
       "      <td>False</td>\n",
       "      <td>1.575079e+09</td>\n",
       "      <td>0</td>\n",
       "      <td>0</td>\n",
       "      <td>0</td>\n",
       "      <td>3</td>\n",
       "      <td>0</td>\n",
       "      <td>2</td>\n",
       "      <td>2</td>\n",
       "    </tr>\n",
       "    <tr>\n",
       "      <th>201900000003</th>\n",
       "      <td>1.0</td>\n",
       "      <td>1</td>\n",
       "      <td>1</td>\n",
       "      <td>1996</td>\n",
       "      <td>0.0</td>\n",
       "      <td>-1.0</td>\n",
       "      <td>2019</td>\n",
       "      <td>11</td>\n",
       "      <td>28</td>\n",
       "      <td>1</td>\n",
       "      <td>...</td>\n",
       "      <td>1574899200</td>\n",
       "      <td>False</td>\n",
       "      <td>1.574950e+09</td>\n",
       "      <td>1</td>\n",
       "      <td>0</td>\n",
       "      <td>0</td>\n",
       "      <td>0</td>\n",
       "      <td>0</td>\n",
       "      <td>15</td>\n",
       "      <td>4</td>\n",
       "    </tr>\n",
       "  </tbody>\n",
       "</table>\n",
       "<p>5 rows × 41 columns</p>\n",
       "</div>"
      ],
      "text/plain": [
       "              place  catu  sexe  an_nais  trajet  locp    an  mois  jour  lum  \\\n",
       "Num_Acc                                                                         \n",
       "201900000001    2.0     2     2     2002     0.0  -1.0  2019    11    30    4   \n",
       "201900000001    1.0     1     2     1993     5.0  -1.0  2019    11    30    4   \n",
       "201900000001    1.0     1     1     1959     0.0  -1.0  2019    11    30    4   \n",
       "201900000002    1.0     1     2     1994     0.0  -1.0  2019    11    30    3   \n",
       "201900000003    1.0     1     1     1996     0.0  -1.0  2019    11    28    1   \n",
       "\n",
       "              ...        date  is_holiday     timestamp  actp  num_veh  hrmn  \\\n",
       "Num_Acc       ...                                                              \n",
       "201900000001  ...  1575072000       False  1.575074e+09     0       14     0   \n",
       "201900000001  ...  1575072000       False  1.575074e+09     0       14     0   \n",
       "201900000001  ...  1575072000       False  1.575074e+09     0        0     0   \n",
       "201900000002  ...  1575072000       False  1.575079e+09     0        0     0   \n",
       "201900000003  ...  1574899200       False  1.574950e+09     1        0     0   \n",
       "\n",
       "              grav  etatp  hour_of_day  day_of_week  \n",
       "Num_Acc                                              \n",
       "201900000001     3      0            1            2  \n",
       "201900000001     3      0            1            2  \n",
       "201900000001     0      0            1            2  \n",
       "201900000002     3      0            2            2  \n",
       "201900000003     0      0           15            4  \n",
       "\n",
       "[5 rows x 41 columns]"
      ]
     },
     "execution_count": 11,
     "metadata": {},
     "output_type": "execute_result"
    }
   ],
   "source": [
    "df.head()"
   ]
  },
  {
   "cell_type": "code",
   "execution_count": 12,
   "id": "2ab4df31-4a36-442f-a1d7-ed33b603dc96",
   "metadata": {},
   "outputs": [
    {
     "name": "stdout",
     "output_type": "stream",
     "text": [
      "<class 'pandas.core.frame.DataFrame'>\n",
      "Index: 2421684 entries, 201900000001 to 201800055766\n",
      "Data columns (total 41 columns):\n",
      " #   Column       Dtype  \n",
      "---  ------       -----  \n",
      " 0   place        float64\n",
      " 1   catu         int64  \n",
      " 2   sexe         int64  \n",
      " 3   an_nais      int64  \n",
      " 4   trajet       float64\n",
      " 5   locp         float64\n",
      " 6   an           int64  \n",
      " 7   mois         int64  \n",
      " 8   jour         int64  \n",
      " 9   lum          int64  \n",
      " 10  agg          int64  \n",
      " 11  int          int64  \n",
      " 12  atm          float64\n",
      " 13  col          float64\n",
      " 14  dep          int64  \n",
      " 15  catr         float64\n",
      " 16  circ         float64\n",
      " 17  nbv          float64\n",
      " 18  vosp         float64\n",
      " 19  prof         float64\n",
      " 20  plan         float64\n",
      " 21  surf         float64\n",
      " 22  infra        float64\n",
      " 23  situ         float64\n",
      " 24  senc         float64\n",
      " 25  catv         int64  \n",
      " 26  occutc       float64\n",
      " 27  obs          float64\n",
      " 28  obsm         float64\n",
      " 29  choc         float64\n",
      " 30  manv         float64\n",
      " 31  date         int64  \n",
      " 32  is_holiday   bool   \n",
      " 33  timestamp    float64\n",
      " 34  actp         int64  \n",
      " 35  num_veh      int64  \n",
      " 36  hrmn         int64  \n",
      " 37  grav         int64  \n",
      " 38  etatp        int64  \n",
      " 39  hour_of_day  int64  \n",
      " 40  day_of_week  int64  \n",
      "dtypes: bool(1), float64(21), int64(19)\n",
      "memory usage: 759.8 MB\n"
     ]
    }
   ],
   "source": [
    "df.info()"
   ]
  },
  {
   "cell_type": "markdown",
   "id": "370fbf79-9a9a-40f3-844d-ebeb2bcb391d",
   "metadata": {},
   "source": [
    "#### Aggregation and encoding of the target variable\n",
    "In the previous notebook, we used the `grav` variable as is without any further processing. The modelling result was not satisfying. Therefore, it was decided to aggregate the four classes into two classes \"severe\" and \"non-severe\" encoded in `[1,0]`."
   ]
  },
  {
   "cell_type": "code",
   "execution_count": 13,
   "id": "972d0876-3174-4436-934d-67ee90d0ecce",
   "metadata": {},
   "outputs": [],
   "source": [
    "# Encoding\n",
    "df['severe'] = np.where(df['grav'].isin([0, 1]), 0, 1)"
   ]
  },
  {
   "cell_type": "code",
   "execution_count": 14,
   "id": "75398e99-75d5-4188-b8e8-e2c7a28830a8",
   "metadata": {},
   "outputs": [
    {
     "data": {
      "text/plain": [
       "array([1, 0])"
      ]
     },
     "execution_count": 14,
     "metadata": {},
     "output_type": "execute_result"
    }
   ],
   "source": [
    "df.severe.unique()"
   ]
  },
  {
   "cell_type": "markdown",
   "id": "eb6e8e7f-5fd1-4759-ba8f-49d0151662fd",
   "metadata": {},
   "source": [
    "The following visualisation shows the balance between the two classes. The dataset is much more balanced now compared to the four classes `grav`."
   ]
  },
  {
   "cell_type": "code",
   "execution_count": 15,
   "id": "a7474412-4426-428f-99f9-d7487ad299d7",
   "metadata": {},
   "outputs": [
    {
     "data": {
      "image/png": "[encoded data removed]",
      "text/plain": [
       "<Figure size 640x480 with 1 Axes>"
      ]
     },
     "metadata": {},
     "output_type": "display_data"
    }
   ],
   "source": [
    "# checking the variables graphically and their distribution\n",
    "import matplotlib.pyplot as plt\n",
    "# exploring severe cases in % \n",
    "event_counts = df['severe'].value_counts()\n",
    "event_percentages = (event_counts / event_counts.sum()) * 100\n",
    "plt.subplot(2,1,1)\n",
    "event_percentages.plot.bar()\n",
    "labels = ['severe','non-severe']\n",
    "# Add labels and title to the plot\n",
    "plt.xticks(range(len(event_counts)), labels)\n",
    "plt.xlabel('Events')\n",
    "plt.ylabel('Count %')\n",
    "plt.title('Severity France')\n",
    "# Display the plot\n",
    "plt.show()"
   ]
  },
  {
   "cell_type": "markdown",
   "id": "df19180e-4918-4d1f-922a-14525d1a1c29",
   "metadata": {},
   "source": [
    "### Preparation of the training and test datasets\n",
    "#### Split data\n",
    "The dataset is split by year slides. We decided to drop the Covid-19 years 2020-21. The years 2005 to 2017 are selected for the train dataset and the years 2018 and 2019 for the test dataset. Furthermore, the `grav` variable is dropped because it is encoded in `severe`.\n"
   ]
  },
  {
   "cell_type": "code",
   "execution_count": 16,
   "id": "91c8d87f-d44e-4eff-8c4d-26745cc8dbfe",
   "metadata": {},
   "outputs": [],
   "source": [
    "df.drop('grav', axis = 1, inplace = True)"
   ]
  },
  {
   "cell_type": "code",
   "execution_count": 17,
   "id": "ac2bc919-2233-4813-840b-b7b0bd7b582f",
   "metadata": {},
   "outputs": [],
   "source": [
    "# split the dataset to train and test data\n",
    "X_train = df.loc[df['an'] < 2018]\n",
    "X_train = X_train.drop('severe', axis = 1)\n",
    "\n",
    "X_test = df[(df['an'] >= 2018) & (df['an'] < 2020)]\n",
    "X_test = X_test.drop('severe', axis = 1)\n",
    "\n",
    "y_train = df['severe'].loc[df['an'] < 2018]\n",
    "y_test = df['severe'][(df['an'] >= 2018) & (df['an'] < 2020)]\n",
    "\n",
    "\n",
    "\n",
    "y_train = le.fit_transform(y_train)\n",
    "y_test = le.fit_transform(y_test)\n"
   ]
  },
  {
   "cell_type": "markdown",
   "id": "89a2132f",
   "metadata": {},
   "source": [
    "### Modelling the data using a Randon Forest classifier with 100 estimators"
   ]
  },
  {
   "cell_type": "code",
   "execution_count": 19,
   "id": "2036e6fa",
   "metadata": {},
   "outputs": [
    {
     "name": "stdout",
     "output_type": "stream",
     "text": [
      "Best Parameters using grid search: \n",
      "\n",
      "{'ccp_alpha': 0.001, 'criterion': 'entropy', 'max_depth': 10, 'min_samples_leaf': 1, 'min_samples_split': 2}\n"
     ]
    }
   ],
   "source": [
    "#DecisionTree Classifier\n",
    "from sklearn.tree import DecisionTreeClassifier\n",
    "from sklearn.metrics import precision_score, recall_score, f1_score, roc_auc_score, accuracy_score, classification_report\n",
    "from sklearn.model_selection import GridSearchCV\n",
    "\n",
    "\n",
    "# Tuning the parameters to find the best decision tree model - start params chosen randomly\n",
    "model = DecisionTreeClassifier(random_state=50)\n",
    "\n",
    "param_dist = {'criterion': ['gini', 'entropy'],\n",
    "              'max_depth': [2, 4, 6, 8, 10], \n",
    "              'min_samples_leaf' : [1, 2, 3], \n",
    "              'min_samples_split' : [2, 3, 4], \n",
    "              'ccp_alpha': [0.1, 0.01, 0.001]}\n",
    "            \n",
    "\n",
    "cv_dt = GridSearchCV(model, param_grid=param_dist, n_jobs=-1)\n",
    "\n",
    "cv_dt.fit(X_train, y_train)\n",
    "print('Best Parameters using grid search: \\n')\n",
    "print(cv_dt.best_params_)"
   ]
  },
  {
   "cell_type": "markdown",
   "id": "82022b81",
   "metadata": {},
   "source": [
    "### Train with best parameters"
   ]
  },
  {
   "cell_type": "code",
   "execution_count": 30,
   "id": "2b98a9b4",
   "metadata": {},
   "outputs": [
    {
     "name": "stdout",
     "output_type": "stream",
     "text": [
      "Accuracy Score:  0.7517502372698284\n"
     ]
    }
   ],
   "source": [
    "# Training with the best parameters\n",
    "\n",
    "tree = DecisionTreeClassifier(criterion='entropy', random_state = 50, max_depth=10, min_samples_leaf=1, min_samples_split=2, ccp_alpha=0.001)\n",
    "tree.fit(X_train, y_train)\n",
    "y_pred = tree.predict(X_test)\n",
    "\n",
    "print('Accuracy Score: ',accuracy_score(y_test, y_pred))"
   ]
  },
  {
   "cell_type": "markdown",
   "id": "86381735",
   "metadata": {},
   "source": [
    "### Classification Report"
   ]
  },
  {
   "cell_type": "code",
   "execution_count": 38,
   "id": "3f000405",
   "metadata": {},
   "outputs": [
    {
     "name": "stdout",
     "output_type": "stream",
     "text": [
      "Classification Report\n",
      "              precision    recall  f1-score   support\n",
      "\n",
      "           0       0.74      0.67      0.71    111446\n",
      "           1       0.76      0.82      0.79    140377\n",
      "\n",
      "    accuracy                           0.75    251823\n",
      "   macro avg       0.75      0.74      0.75    251823\n",
      "weighted avg       0.75      0.75      0.75    251823\n",
      "\n"
     ]
    }
   ],
   "source": [
    "print('Classification Report')\n",
    "print(classification_report(y_test, y_pred))\n",
    "\n"
   ]
  },
  {
   "cell_type": "markdown",
   "id": "605032d4",
   "metadata": {},
   "source": [
    "### Confusion Matrix"
   ]
  },
  {
   "cell_type": "code",
   "execution_count": 39,
   "id": "bec7f46f",
   "metadata": {},
   "outputs": [
    {
     "data": {
      "text/html": [
       "<div>\n",
       "<style scoped>\n",
       "    .dataframe tbody tr th:only-of-type {\n",
       "        vertical-align: middle;\n",
       "    }\n",
       "\n",
       "    .dataframe tbody tr th {\n",
       "        vertical-align: top;\n",
       "    }\n",
       "\n",
       "    .dataframe thead th {\n",
       "        text-align: right;\n",
       "    }\n",
       "</style>\n",
       "<table border=\"1\" class=\"dataframe\">\n",
       "  <thead>\n",
       "    <tr style=\"text-align: right;\">\n",
       "      <th>Prediction</th>\n",
       "      <th>0</th>\n",
       "      <th>1</th>\n",
       "    </tr>\n",
       "    <tr>\n",
       "      <th>Reality</th>\n",
       "      <th></th>\n",
       "      <th></th>\n",
       "    </tr>\n",
       "  </thead>\n",
       "  <tbody>\n",
       "    <tr>\n",
       "      <th>0</th>\n",
       "      <td>74724</td>\n",
       "      <td>36722</td>\n",
       "    </tr>\n",
       "    <tr>\n",
       "      <th>1</th>\n",
       "      <td>25793</td>\n",
       "      <td>114584</td>\n",
       "    </tr>\n",
       "  </tbody>\n",
       "</table>\n",
       "</div>"
      ],
      "text/plain": [
       "Prediction      0       1\n",
       "Reality                  \n",
       "0           74724   36722\n",
       "1           25793  114584"
      ]
     },
     "execution_count": 39,
     "metadata": {},
     "output_type": "execute_result"
    }
   ],
   "source": [
    "pd.crosstab(y_test, y_pred, rownames=['Reality'], colnames=['Prediction'])\n"
   ]
  },
  {
   "cell_type": "code",
   "execution_count": 40,
   "id": "a2b64c41",
   "metadata": {},
   "outputs": [
    {
     "name": "stdout",
     "output_type": "stream",
     "text": [
      "Confusion Matrix (Percentages):\n",
      "           non-fatal      fatal\n",
      "non-fatal  29.673223  14.582465\n",
      "fatal      10.242512  45.501801\n"
     ]
    }
   ],
   "source": [
    "total_samples = matrix.sum()\n",
    "\n",
    "# Calculate the percentages\n",
    "percentages = (matrix / total_samples) * 100\n",
    "\n",
    "# Create a DataFrame from the percentages\n",
    "class_names = df.severe.values\n",
    "dataframe = pd.DataFrame(percentages, index=['non-fatal', 'fatal'], columns=['non-fatal', 'fatal'])\n",
    "\n",
    "# Display the confusion matrix as percentages\n",
    "print(\"Confusion Matrix (Percentages):\")\n",
    "print(dataframe)"
   ]
  },
  {
   "cell_type": "markdown",
   "id": "25b0eb6e",
   "metadata": {},
   "source": [
    "### Accuracy"
   ]
  },
  {
   "cell_type": "code",
   "execution_count": 41,
   "id": "3275e2dc",
   "metadata": {},
   "outputs": [
    {
     "name": "stdout",
     "output_type": "stream",
     "text": [
      "Training-set accuracy score: 0.7677\n"
     ]
    }
   ],
   "source": [
    "#Training set accuracy\n",
    "\n",
    "y_pred_train = tree.predict(X_train)\n",
    "\n",
    "y_pred_train\n",
    "\n",
    "print('Training-set accuracy score: {0:0.4f}'. format(accuracy_score(y_train, y_pred_train)))"
   ]
  },
  {
   "cell_type": "code",
   "execution_count": 42,
   "id": "6532cabf",
   "metadata": {},
   "outputs": [
    {
     "name": "stdout",
     "output_type": "stream",
     "text": [
      "Training set score: 0.7677\n",
      "Test set score: 0.7518\n"
     ]
    }
   ],
   "source": [
    "# print the scores on training and test set\n",
    "\n",
    "print('Training set score: {:.4f}'.format(tree.score(X_train, y_train)))\n",
    "\n",
    "print('Test set score: {:.4f}'.format(tree.score(X_test, y_test)))"
   ]
  },
  {
   "cell_type": "code",
   "execution_count": 53,
   "id": "3771b1ac",
   "metadata": {},
   "outputs": [
    {
     "name": "stdout",
     "output_type": "stream",
     "text": [
      "Training MAE is: 0.23227105945141507\n",
      "Testing MAE is: 0.2482497627301716\n"
     ]
    }
   ],
   "source": [
    "from sklearn.metrics import mean_absolute_error\n",
    "\n",
    "train_mae = mean_absolute_error(y_pred_train, y_train)\n",
    "\n",
    "test_mae = mean_absolute_error(y_pred, y_test)\n",
    "\n",
    "print('Training MAE is:', train_mae)\n",
    "print('Testing MAE is:', test_mae)"
   ]
  },
  {
   "cell_type": "markdown",
   "id": "04e86e5b",
   "metadata": {},
   "source": [
    "#### Since neither the accuracy nor the MAE of the test set and training data set only differ marginally from each other, there is no oversampling. "
   ]
  },
  {
   "cell_type": "markdown",
   "id": "062765bc",
   "metadata": {},
   "source": [
    "### Feature Importance"
   ]
  },
  {
   "cell_type": "code",
   "execution_count": 51,
   "id": "c6fbab80",
   "metadata": {},
   "outputs": [
    {
     "name": "stdout",
     "output_type": "stream",
     "text": [
      "Length of feature_names: 40\n",
      "Length of importances: 40\n"
     ]
    },
    {
     "data": {
      "image/png": "[encoded data removed]",
      "text/plain": [
       "<Figure size 1200x800 with 1 Axes>"
      ]
     },
     "metadata": {},
     "output_type": "display_data"
    }
   ],
   "source": [
    "# estimate the feature importance for the model\n",
    "import numpy as np\n",
    "\n",
    "# Access feature importances from the trained model\n",
    "importances = tree.feature_importances_\n",
    "\n",
    "feature_names = df.drop(columns=['severe']).columns.tolist()\n",
    "\n",
    "# Check the lengths of feature_names and importances\n",
    "print(\"Length of feature_names:\", len(feature_names))\n",
    "print(\"Length of importances:\", len(importances))\n",
    "\n",
    "# Create a DataFrame to hold feature names and their importances\n",
    "feature_importance_df = pd.DataFrame({'Feature': feature_names, 'Importance': importances})\n",
    "\n",
    "# Sort the features by importance in descending order\n",
    "feature_importance_df = feature_importance_df.sort_values(by='Importance', ascending=False)\n",
    "\n",
    "# Create a bar plot to visualize feature importances\n",
    "plt.figure(figsize=(12, 8))\n",
    "sns.barplot(x='Importance', y='Feature', data=feature_importance_df)\n",
    "plt.xlabel('Feature Importance')\n",
    "plt.ylabel('Feature Name')\n",
    "plt.title('Feature Importance for Decision Tree')\n",
    "plt.show()\n",
    "\n",
    "\n",
    "\n"
   ]
  },
  {
   "cell_type": "code",
   "execution_count": 45,
   "id": "35ae6033",
   "metadata": {},
   "outputs": [
    {
     "name": "stdout",
     "output_type": "stream",
     "text": [
      "F1 Scores (Cross-Validation): [0.76285987 0.76119739 0.76230944 0.76544354 0.75820382]\n",
      "Mean F1 Score (Cross-Validation): 0.7620028118157416\n"
     ]
    }
   ],
   "source": [
    "from sklearn.model_selection import KFold, cross_val_score\n",
    "# Perform cross-validation with F1 score\n",
    "f1_scores = cross_val_score(tree, X_train, y_train, scoring='f1_macro', cv=5, n_jobs=2)\n",
    "\n",
    "# Print the F1 scores for each fold\n",
    "print(\"F1 Scores (Cross-Validation):\", f1_scores)\n",
    "\n",
    "# Calculate and print the mean F1 score\n",
    "mean_f1_score = f1_scores.mean()\n",
    "print(\"Mean F1 Score (Cross-Validation):\", mean_f1_score)"
   ]
  }
 ],
 "metadata": {
  "kernelspec": {
   "display_name": "Python 3 (ipykernel)",
   "language": "python",
   "name": "python3"
  },
  "language_info": {
   "codemirror_mode": {
    "name": "ipython",
    "version": 3
   },
   "file_extension": ".py",
   "mimetype": "text/x-python",
   "name": "python",
   "nbconvert_exporter": "python",
   "pygments_lexer": "ipython3",
   "version": "3.11.5"
  }
 },
 "nbformat": 4,
 "nbformat_minor": 5
}
